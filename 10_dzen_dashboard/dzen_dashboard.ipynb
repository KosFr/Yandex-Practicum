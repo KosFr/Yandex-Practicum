{
 "cells": [
  {
   "cell_type": "markdown",
   "source": [
    "# Проект \"Дашборд для Яндекс.Дзен\""
   ],
   "metadata": {
    "collapsed": false
   }
  },
  {
   "cell_type": "markdown",
   "source": [
    "Содержание проекта:\n",
    "* [Описание проекта -- ТЗ](#task_definition)\n",
    "* [Получение данных](#data_acquisition)\n",
    "* [Предобработка данных](#data_preprocessing)\n",
    "* [Экспорт в csv](#csv_creation)\n",
    "* [Дашборд и презентация](#results)"
   ],
   "metadata": {
    "collapsed": false
   }
  },
  {
   "cell_type": "markdown",
   "source": [
    "# Описание проекта <a class=\"anchor\" id=\"task_definition\"></a>"
   ],
   "metadata": {
    "collapsed": false
   }
  },
  {
   "cell_type": "markdown",
   "source": [
    "В данном проекте мы будем помогать менеджерам Яндекс.Дзен отвечать на вопросы про карточки. Нас будет интересовать пользовательское взаимодействие с карточками статей.\n",
    "\n",
    "Пообщавшись с менеджерами и администраторами баз данных, мы составили **краткое ТЗ**.\n",
    "\n",
    "- Бизнес-задача: анализ взаимодействия пользователей с карточками Яндекс.Дзен;\n",
    "- Насколько часто предполагается пользоваться дашбордом: не реже, чем раз в неделю;\n",
    "- Кто будет основным пользователем дашборда: менеджеры по анализу контента;\n",
    "- Состав данных для дашборда:\n",
    "    - История событий по темам карточек (два графика - абсолютные числа и процентное соотношение);\n",
    "    - Разбивка событий по темам источников;\n",
    "    - Таблица соответствия тем источников темам карточек;\n",
    "- По каким параметрам данные должны группироваться:\n",
    "    - Дата и время;\n",
    "    - Тема карточки;\n",
    "    - Тема источника;\n",
    "    - Возрастная группа;\n",
    "- Характер данных:\n",
    "    - История событий по темам карточек — абсолютные величины с разбивкой по минутам;\n",
    "    - Разбивка событий по темам источников — относительные величины (% событий);\n",
    "    - Соответствия тем источников темам карточек - абсолютные величины;\n",
    "- Важность: все графики имеют равную важность;\n",
    "- Источники данных для дашборда: дата-инженеры обещали подготовить для вас агрегирующую таблицу dash_visits. Вот её структура:\n",
    "    - `record_id` — первичный ключ,\n",
    "    - `item_topic` — тема карточки,\n",
    "    - `source_topic` — тема источника,\n",
    "    - `age_segment` — возрастной сегмент,\n",
    "    - `dt` — дата и время,\n",
    "    - `visits` — количество событий.\n",
    "- Таблица хранится в специально подготовленной для вас базе данных `zen`;\n",
    "- Частота обновления данных: один раз в сутки, в полночь по UTC;\n",
    "- Какие графики должны отображаться и в каком порядке, какие элементы управления должны быть на дашборде (макет дашборда):"
   ],
   "metadata": {
    "collapsed": false
   }
  },
  {
   "cell_type": "markdown",
   "source": [
    "## Получение данных <a class=\"anchor\" id=\"data_acquisition\"></a>"
   ],
   "metadata": {
    "collapsed": false
   }
  },
  {
   "cell_type": "code",
   "execution_count": 1,
   "outputs": [],
   "source": [
    "# импортируем библиотеки\n",
    "import pandas as pd\n",
    "from sqlalchemy import create_engine"
   ],
   "metadata": {
    "collapsed": false
   }
  },
  {
   "cell_type": "code",
   "execution_count": 2,
   "outputs": [],
   "source": [
    "db_config = {'user': 'praktikum_student', # имя пользователя\n",
    "            'pwd': 'Sdf4$2;d-d30pp', # пароль\n",
    "            'host': 'rc1b-wcoijxj3yxfsf3fs.mdb.yandexcloud.net',\n",
    "            'port': 6432, # порт подключения\n",
    "            'db': 'data-analyst-zen-project-db'} # название базы данных\n",
    "\n",
    "connection_string = 'postgresql://{}:{}@{}:{}/{}'.format(db_config['user'],\n",
    "                                                db_config['pwd'],\n",
    "                                                db_config['host'],\n",
    "                                                db_config['port'],\n",
    "                                                db_config['db'])\n",
    "\n",
    "engine = create_engine(connection_string)"
   ],
   "metadata": {
    "collapsed": false
   }
  },
  {
   "cell_type": "code",
   "execution_count": 3,
   "outputs": [],
   "source": [
    "query = ''' SELECT *\n",
    "            FROM dash_visits\n",
    "        '''"
   ],
   "metadata": {
    "collapsed": false
   }
  },
  {
   "cell_type": "code",
   "execution_count": 4,
   "outputs": [
    {
     "data": {
      "text/plain": "   record_id item_topic source_topic age_segment                  dt  visits\n0    1040597     Деньги         Авто       18-25 2019-09-24 18:32:00       3\n1    1040598     Деньги         Авто       18-25 2019-09-24 18:35:00       1\n2    1040599     Деньги         Авто       18-25 2019-09-24 18:54:00       4\n3    1040600     Деньги         Авто       18-25 2019-09-24 18:55:00      17\n4    1040601     Деньги         Авто       18-25 2019-09-24 18:56:00      27",
      "text/html": "<div>\n<style scoped>\n    .dataframe tbody tr th:only-of-type {\n        vertical-align: middle;\n    }\n\n    .dataframe tbody tr th {\n        vertical-align: top;\n    }\n\n    .dataframe thead th {\n        text-align: right;\n    }\n</style>\n<table border=\"1\" class=\"dataframe\">\n  <thead>\n    <tr style=\"text-align: right;\">\n      <th></th>\n      <th>record_id</th>\n      <th>item_topic</th>\n      <th>source_topic</th>\n      <th>age_segment</th>\n      <th>dt</th>\n      <th>visits</th>\n    </tr>\n  </thead>\n  <tbody>\n    <tr>\n      <th>0</th>\n      <td>1040597</td>\n      <td>Деньги</td>\n      <td>Авто</td>\n      <td>18-25</td>\n      <td>2019-09-24 18:32:00</td>\n      <td>3</td>\n    </tr>\n    <tr>\n      <th>1</th>\n      <td>1040598</td>\n      <td>Деньги</td>\n      <td>Авто</td>\n      <td>18-25</td>\n      <td>2019-09-24 18:35:00</td>\n      <td>1</td>\n    </tr>\n    <tr>\n      <th>2</th>\n      <td>1040599</td>\n      <td>Деньги</td>\n      <td>Авто</td>\n      <td>18-25</td>\n      <td>2019-09-24 18:54:00</td>\n      <td>4</td>\n    </tr>\n    <tr>\n      <th>3</th>\n      <td>1040600</td>\n      <td>Деньги</td>\n      <td>Авто</td>\n      <td>18-25</td>\n      <td>2019-09-24 18:55:00</td>\n      <td>17</td>\n    </tr>\n    <tr>\n      <th>4</th>\n      <td>1040601</td>\n      <td>Деньги</td>\n      <td>Авто</td>\n      <td>18-25</td>\n      <td>2019-09-24 18:56:00</td>\n      <td>27</td>\n    </tr>\n  </tbody>\n</table>\n</div>"
     },
     "execution_count": 4,
     "metadata": {},
     "output_type": "execute_result"
    }
   ],
   "source": [
    "df = pd.io.sql.read_sql(query, con = engine)\n",
    "df.head()"
   ],
   "metadata": {
    "collapsed": false
   }
  },
  {
   "cell_type": "markdown",
   "source": [
    "## Предобработка данных <a class=\"anchor\" id=\"data_preprocessing\"></a>"
   ],
   "metadata": {
    "collapsed": false
   }
  },
  {
   "cell_type": "code",
   "execution_count": 5,
   "outputs": [
    {
     "name": "stdout",
     "output_type": "stream",
     "text": [
      "<class 'pandas.core.frame.DataFrame'>\n",
      "RangeIndex: 30745 entries, 0 to 30744\n",
      "Data columns (total 6 columns):\n",
      " #   Column        Non-Null Count  Dtype         \n",
      "---  ------        --------------  -----         \n",
      " 0   record_id     30745 non-null  int64         \n",
      " 1   item_topic    30745 non-null  object        \n",
      " 2   source_topic  30745 non-null  object        \n",
      " 3   age_segment   30745 non-null  object        \n",
      " 4   dt            30745 non-null  datetime64[ns]\n",
      " 5   visits        30745 non-null  int64         \n",
      "dtypes: datetime64[ns](1), int64(2), object(3)\n",
      "memory usage: 1.4+ MB\n"
     ]
    }
   ],
   "source": [
    "df.info()"
   ],
   "metadata": {
    "collapsed": false
   }
  },
  {
   "cell_type": "code",
   "execution_count": 6,
   "outputs": [
    {
     "name": "stdout",
     "output_type": "stream",
     "text": [
      "Всего карточек в датасете: 30745\n"
     ]
    }
   ],
   "source": [
    "print('Всего карточек в датасете:', df['record_id'].nunique())"
   ],
   "metadata": {
    "collapsed": false
   }
  },
  {
   "cell_type": "code",
   "execution_count": 7,
   "outputs": [
    {
     "name": "stdout",
     "output_type": "stream",
     "text": [
      "Всего событий в датасете: 310207\n"
     ]
    }
   ],
   "source": [
    "print('Всего событий в датасете:', df['visits'].sum())"
   ],
   "metadata": {
    "collapsed": false
   }
  },
  {
   "cell_type": "code",
   "execution_count": 8,
   "outputs": [
    {
     "data": {
      "text/plain": "count    30745.000000\nmean        10.089673\nstd         19.727601\nmin          1.000000\n25%          1.000000\n50%          3.000000\n75%         10.000000\nmax        371.000000\nName: visits, dtype: float64"
     },
     "execution_count": 8,
     "metadata": {},
     "output_type": "execute_result"
    }
   ],
   "source": [
    "# проверяем столбец с количественными данными\n",
    "df['visits'].describe()"
   ],
   "metadata": {
    "collapsed": false
   }
  },
  {
   "cell_type": "code",
   "execution_count": 9,
   "outputs": [
    {
     "name": "stdout",
     "output_type": "stream",
     "text": [
      "['Деньги' 'Дети' 'Женская психология' 'Женщины' 'Здоровье' 'Знаменитости'\n",
      " 'Интересные факты' 'Искусство' 'История' 'Красота' 'Культура' 'Наука'\n",
      " 'Общество' 'Отношения' 'Подборки' 'Полезные советы' 'Психология'\n",
      " 'Путешествия' 'Рассказы' 'Россия' 'Семья' 'Скандалы' 'Туризм' 'Шоу'\n",
      " 'Юмор']\n",
      "['Авто' 'Деньги' 'Дети' 'Еда' 'Здоровье' 'Знаменитости' 'Интерьеры'\n",
      " 'Искусство' 'История' 'Кино' 'Музыка' 'Одежда' 'Полезные советы'\n",
      " 'Политика' 'Психология' 'Путешествия' 'Ремонт' 'Россия' 'Сад и дача'\n",
      " 'Сделай сам' 'Семейные отношения' 'Семья' 'Спорт' 'Строительство'\n",
      " 'Технологии' 'Финансы']\n",
      "['18-25' '26-30' '31-35' '36-40' '41-45' '45+']\n"
     ]
    }
   ],
   "source": [
    "# проверяем содержание категориальных данных\n",
    "print(df['item_topic'].unique())\n",
    "print(df['source_topic'].unique())\n",
    "print(df['age_segment'].unique())"
   ],
   "metadata": {
    "collapsed": false
   }
  },
  {
   "cell_type": "code",
   "execution_count": 14,
   "outputs": [
    {
     "name": "stdout",
     "output_type": "stream",
     "text": [
      "Данные представлены с 2019-09-24 18:28 по 2019-09-24 19:00\n"
     ]
    }
   ],
   "source": [
    "print('Данные представлены с', df['dt'].dt.strftime(\"%Y-%m-%d %H:%M\").min(), 'по', df['dt'].dt.strftime(\"%Y-%m-%d %H:%M\").max())"
   ],
   "metadata": {
    "collapsed": false
   }
  },
  {
   "cell_type": "code",
   "execution_count": null,
   "outputs": [],
   "source": [
    "print('Количество явных дубликатов:', df.duplicated().sum())"
   ],
   "metadata": {
    "collapsed": false
   }
  },
  {
   "cell_type": "markdown",
   "source": [
    "**Вывод по предобработке**: Мы видим, что таблица имеет рабочий вид: названия корректные, пропусков нет, формат столбцов соответствуют содержанию, дубликатов и ошибок в категориях данных также нет. Можно перейти к выгрузке файла и продолжению работы."
   ],
   "metadata": {
    "collapsed": false
   }
  },
  {
   "cell_type": "markdown",
   "source": [
    "## Экспорт в csv <a class=\"anchor\" id=\"csv_creation\"></a>"
   ],
   "metadata": {
    "collapsed": false
   }
  },
  {
   "cell_type": "code",
   "execution_count": null,
   "outputs": [],
   "source": [
    "df.to_csv('dash_visits.csv', index = False, sep = '\\t')"
   ],
   "metadata": {
    "collapsed": false
   }
  },
  {
   "cell_type": "markdown",
   "source": [
    "## Дашборд и презентация <a class=\"anchor\" id=\"results\"></a>"
   ],
   "metadata": {
    "collapsed": false
   }
  },
  {
   "cell_type": "markdown",
   "source": [
    "Результаты работы:\n",
    "\n",
    "* [Дашборд](https://public.tableau.com/views/tableau_project_frolov_da56/Dashboard1?:language=en-US&publish=yes&:display_count=n&:origin=viz_share_link)\n",
    "* [Презентация](https://drive.google.com/file/d/1d6CSzdwC12Kq8s037I50fp1YZW_IaMoK/view?usp=share_link)"
   ],
   "metadata": {
    "collapsed": false
   }
  }
 ],
 "metadata": {
  "kernelspec": {
   "display_name": "Python 3",
   "language": "python",
   "name": "python3"
  },
  "language_info": {
   "codemirror_mode": {
    "name": "ipython",
    "version": 2
   },
   "file_extension": ".py",
   "mimetype": "text/x-python",
   "name": "python",
   "nbconvert_exporter": "python",
   "pygments_lexer": "ipython2",
   "version": "2.7.6"
  }
 },
 "nbformat": 4,
 "nbformat_minor": 0
}
