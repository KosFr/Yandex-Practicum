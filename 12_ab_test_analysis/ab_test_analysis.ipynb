{
  "cells": [
    {
      "cell_type": "markdown",
      "metadata": {
        "id": "R1HRQMkee6Pz"
      },
      "source": [
        "# Проект. A/B-тестирование"
      ]
    },
    {
      "cell_type": "markdown",
      "metadata": {
        "id": "rfXJ9-NoHvz8"
      },
      "source": [
        "**Оглавление**:\n",
        "1. [Описание проект](#task_definition)\n",
        "2. [Предобработка данных](#data_preprocessing)\n",
        "3. [Оценка корректности проведения теста](#correctness)\n",
        "4. [Исследовательский анализ данных](#analysis)\n",
        "5. [Оценка результатов теста](#ab_test)\n",
        "6. [Выводы](#sum_up)"
      ]
    },
    {
      "cell_type": "markdown",
      "metadata": {
        "id": "e_-jhTT4Hvz9"
      },
      "source": [
        "<a id=\"task_definition\"></a>"
      ]
    },
    {
      "cell_type": "markdown",
      "metadata": {
        "id": "DKlKIkEue_6c"
      },
      "source": [
        "## Описание проекта"
      ]
    },
    {
      "cell_type": "markdown",
      "metadata": {
        "id": "j_bvBLoLfXcN"
      },
      "source": [
        "**Цели исследования** — провести оценку результатов A/B-теста:\n",
        "- Оценить корректность проведения теста:\n",
        "  - проверить пересечение тестовой аудитории с конкурирующим тестом,\n",
        "  - проверить совпадение теста и маркетинговых событий,\n",
        "  - определить другие проблемы временных границ теста.\n",
        "- Проанализировать результаты теста\n",
        "\n",
        "**Техническое задание**\n",
        "\n",
        "- Название теста: `recommender_system_test`;\n",
        "- группы: А — контрольная, B — новая платёжная воронка;\n",
        "- дата запуска: 2020-12-07;\n",
        "- дата остановки набора новых пользователей: 2020-12-21;\n",
        "- дата остановки: 2021-01-04;\n",
        "- аудитория: 15% новых пользователей из региона EU;\n",
        "- назначение теста: тестирование изменений, связанных с внедрением улучшенной рекомендательной системы;\n",
        "- ожидаемое количество участников теста: 6000.\n",
        "- ожидаемый эффект: за 14 дней с момента регистрации пользователи покажут улучшение каждой метрики не менее, чем на 10%:\n",
        "    - конверсии в просмотр карточек товаров — событие `product_page`,\n",
        "    - просмотры корзины — `product_cart`,\n",
        "    - покупки — `purchase`.\n",
        "\n",
        "**Описание данных**\n",
        "\n",
        "`ab_project_marketing_events.csv` — календарь маркетинговых событий на 2020 год.\n",
        "\n",
        "Структура файла:\n",
        "\n",
        "- `name` — название маркетингового события;\n",
        "- `regions` — регионы, в которых будет проводиться рекламная кампания;\n",
        "- `start_dt` — дата начала кампании;\n",
        "- `finish_dt` — дата завершения кампании.\n",
        "\n",
        "`final_ab_new_users.csv` — пользователи, зарегистрировавшиеся с 7 по 21 декабря 2020 года.\n",
        "\n",
        "Структура файла:\n",
        "\n",
        "- `user_id` — идентификатор пользователя;\n",
        "- `first_date` — дата регистрации;\n",
        "- `region` — регион пользователя;\n",
        "- `device` — устройство, с которого происходила регистрация.\n",
        "\n",
        "`final_ab_events.csv` — действия новых пользователей в период с 7 декабря 2020 по 4 января 2021 года.\n",
        "\n",
        "Структура файла:\n",
        "\n",
        "- `user_id` — идентификатор пользователя;\n",
        "- `event_dt` — дата и время события;\n",
        "- `event_name` — тип события;\n",
        "- `details` — дополнительные данные о событии. Например, для покупок, `purchase,` в этом поле хранится стоимость покупки в долларах.\n",
        "\n",
        "`final_ab_participants.csv` — таблица участников тестов.\n",
        "\n",
        "Структура файла:\n",
        "\n",
        "- `user_id` — идентификатор пользователя;\n",
        "- `ab_test` — название теста;\n",
        "- `group` — группа пользователя."
      ]
    },
    {
      "cell_type": "markdown",
      "metadata": {
        "id": "kDrRUvFlHvz-"
      },
      "source": [
        "<a id=\"data_preprocessing\"></a>"
      ]
    },
    {
      "cell_type": "markdown",
      "metadata": {
        "id": "VhP-zVWOfDOI"
      },
      "source": [
        "## Предобработка данных"
      ]
    },
    {
      "cell_type": "markdown",
      "metadata": {
        "id": "EM987ITnf_Ii"
      },
      "source": [
        "### Получение данных"
      ]
    },
    {
      "cell_type": "code",
      "execution_count": 1,
      "metadata": {
        "id": "w_T2tv8egDUA"
      },
      "outputs": [],
      "source": [
        "import pandas as pd\n",
        "import numpy as np\n",
        "import seaborn as sns\n",
        "import matplotlib.pyplot as plt\n",
        "import plotly.graph_objects as go\n",
        "import plotly.express as px\n",
        "import math as mth\n",
        "from scipy import stats as st"
      ]
    },
    {
      "cell_type": "code",
      "execution_count": 2,
      "metadata": {
        "id": "AE3pTNiggFsf"
      },
      "outputs": [],
      "source": [
        "try:\n",
        "    test_participants = pd.read_csv('https://code.s3.yandex.net/datasets/final_ab_participants.csv')\n",
        "    users = pd.read_csv('https://code.s3.yandex.net/datasets/final_ab_new_users.csv')\n",
        "    events = pd.read_csv('https://code.s3.yandex.net/datasets/final_ab_events.csv')\n",
        "    marketing_events = pd.read_csv('https://code.s3.yandex.net/datasets/ab_project_marketing_events.csv')\n",
        "\n",
        "except FileNotFoundError:\n",
        "    print('Файл не найден')\n",
        "except FilePathError:\n",
        "    print('Ошибка в названии пути')"
      ]
    },
    {
      "cell_type": "code",
      "execution_count": 3,
      "metadata": {
        "colab": {
          "base_uri": "https://localhost:8080/"
        },
        "id": "exUgXaNtgOVO",
        "outputId": "408a4e9e-4ad3-423c-d09e-955f4c333f21"
      },
      "outputs": [
        {
          "output_type": "stream",
          "name": "stdout",
          "text": [
            "Название датасета: test_participants\n",
            "\n",
            "<class 'pandas.core.frame.DataFrame'>\n",
            "RangeIndex: 18268 entries, 0 to 18267\n",
            "Data columns (total 3 columns):\n",
            " #   Column   Non-Null Count  Dtype \n",
            "---  ------   --------------  ----- \n",
            " 0   user_id  18268 non-null  object\n",
            " 1   group    18268 non-null  object\n",
            " 2   ab_test  18268 non-null  object\n",
            "dtypes: object(3)\n",
            "memory usage: 428.3+ KB\n",
            "None\n",
            "            user_id group                  ab_test\n",
            "0  D1ABA3E2887B6A73     A  recommender_system_test\n",
            "1  A7A3664BD6242119     A  recommender_system_test\n",
            "2  DABC14FDDFADD29E     A  recommender_system_test\n",
            "3  04988C5DF189632E     A  recommender_system_test\n",
            "4  482F14783456D21B     B  recommender_system_test\n",
            "\n",
            "Название датасета: users\n",
            "\n",
            "<class 'pandas.core.frame.DataFrame'>\n",
            "RangeIndex: 61733 entries, 0 to 61732\n",
            "Data columns (total 4 columns):\n",
            " #   Column      Non-Null Count  Dtype \n",
            "---  ------      --------------  ----- \n",
            " 0   user_id     61733 non-null  object\n",
            " 1   first_date  61733 non-null  object\n",
            " 2   region      61733 non-null  object\n",
            " 3   device      61733 non-null  object\n",
            "dtypes: object(4)\n",
            "memory usage: 1.9+ MB\n",
            "None\n",
            "            user_id  first_date     region   device\n",
            "0  D72A72121175D8BE  2020-12-07         EU       PC\n",
            "1  F1C668619DFE6E65  2020-12-07  N.America  Android\n",
            "2  2E1BF1D4C37EA01F  2020-12-07         EU       PC\n",
            "3  50734A22C0C63768  2020-12-07         EU   iPhone\n",
            "4  E1BDDCE0DAFA2679  2020-12-07  N.America   iPhone\n",
            "\n",
            "Название датасета: events\n",
            "\n",
            "<class 'pandas.core.frame.DataFrame'>\n",
            "RangeIndex: 440317 entries, 0 to 440316\n",
            "Data columns (total 4 columns):\n",
            " #   Column      Non-Null Count   Dtype  \n",
            "---  ------      --------------   -----  \n",
            " 0   user_id     440317 non-null  object \n",
            " 1   event_dt    440317 non-null  object \n",
            " 2   event_name  440317 non-null  object \n",
            " 3   details     62740 non-null   float64\n",
            "dtypes: float64(1), object(3)\n",
            "memory usage: 13.4+ MB\n",
            "None\n",
            "            user_id             event_dt event_name  details\n",
            "0  E1BDDCE0DAFA2679  2020-12-07 20:22:03   purchase    99.99\n",
            "1  7B6452F081F49504  2020-12-07 09:22:53   purchase     9.99\n",
            "2  9CD9F34546DF254C  2020-12-07 12:59:29   purchase     4.99\n",
            "3  96F27A054B191457  2020-12-07 04:02:40   purchase     4.99\n",
            "4  1FD7660FDF94CA1F  2020-12-07 10:15:09   purchase     4.99\n",
            "\n",
            "Название датасета: marketing_events\n",
            "\n",
            "<class 'pandas.core.frame.DataFrame'>\n",
            "RangeIndex: 14 entries, 0 to 13\n",
            "Data columns (total 4 columns):\n",
            " #   Column     Non-Null Count  Dtype \n",
            "---  ------     --------------  ----- \n",
            " 0   name       14 non-null     object\n",
            " 1   regions    14 non-null     object\n",
            " 2   start_dt   14 non-null     object\n",
            " 3   finish_dt  14 non-null     object\n",
            "dtypes: object(4)\n",
            "memory usage: 576.0+ bytes\n",
            "None\n",
            "                           name                   regions    start_dt  \\\n",
            "0      Christmas&New Year Promo             EU, N.America  2020-12-25   \n",
            "1  St. Valentine's Day Giveaway  EU, CIS, APAC, N.America  2020-02-14   \n",
            "2        St. Patric's Day Promo             EU, N.America  2020-03-17   \n",
            "3                  Easter Promo  EU, CIS, APAC, N.America  2020-04-12   \n",
            "4             4th of July Promo                 N.America  2020-07-04   \n",
            "\n",
            "    finish_dt  \n",
            "0  2021-01-03  \n",
            "1  2020-02-16  \n",
            "2  2020-03-19  \n",
            "3  2020-04-19  \n",
            "4  2020-07-11  \n",
            "\n"
          ]
        }
      ],
      "source": [
        "k = 0\n",
        "for i in (test_participants, users, events, marketing_events):\n",
        "  names = ['test_participants', 'users', 'events', 'marketing_events']\n",
        "  print('Название датасета:', names[k])\n",
        "  print()\n",
        "  print(i.info())\n",
        "  print(i.head())\n",
        "  print()\n",
        "  k += 1"
      ]
    },
    {
      "cell_type": "markdown",
      "metadata": {
        "id": "2WxEHwdDt-Sk"
      },
      "source": [
        "### Типы данных"
      ]
    },
    {
      "cell_type": "markdown",
      "metadata": {
        "id": "q7hQEzC-uAGC"
      },
      "source": [
        "В нескольких датасетах мы видим столбцы, которые указывают на дату, но имеют неспецифичный тип - исправим эту неполадку. В остальных столбцах проблем нет."
      ]
    },
    {
      "cell_type": "code",
      "execution_count": 4,
      "metadata": {
        "id": "_OosjuXDuSZ0"
      },
      "outputs": [],
      "source": [
        "users['first_date'] = pd.to_datetime(users['first_date'], format='%Y-%m-%d')\n",
        "events['event_dt'] = pd.to_datetime(events['event_dt'], format='%Y-%m-%dT%H:%M:%S')\n",
        "marketing_events['start_dt'] = pd.to_datetime(marketing_events['start_dt'], format='%Y-%m-%d')\n",
        "marketing_events['finish_dt'] = pd.to_datetime(marketing_events['finish_dt'], format='%Y-%m-%d')"
      ]
    },
    {
      "cell_type": "markdown",
      "metadata": {
        "id": "NlvGEGZDz4gD"
      },
      "source": [
        "### Пропуски"
      ]
    },
    {
      "cell_type": "markdown",
      "metadata": {
        "id": "fTaAoriWz9Ih"
      },
      "source": [
        "Проверим данные на наличие пропусков."
      ]
    },
    {
      "cell_type": "code",
      "execution_count": 5,
      "metadata": {
        "colab": {
          "base_uri": "https://localhost:8080/"
        },
        "id": "xga2ibf_0Bn6",
        "outputId": "f7687122-22ce-4147-ee8f-b291a9afc24c"
      },
      "outputs": [
        {
          "output_type": "stream",
          "name": "stdout",
          "text": [
            "Название датасета: test_participants\n",
            "\n",
            "user_id    0\n",
            "group      0\n",
            "ab_test    0\n",
            "dtype: int64\n",
            "\n",
            "Название датасета: users\n",
            "\n",
            "user_id       0\n",
            "first_date    0\n",
            "region        0\n",
            "device        0\n",
            "dtype: int64\n",
            "\n",
            "Название датасета: events\n",
            "\n",
            "user_id            0\n",
            "event_dt           0\n",
            "event_name         0\n",
            "details       377577\n",
            "dtype: int64\n",
            "\n",
            "Название датасета: marketing_events\n",
            "\n",
            "name         0\n",
            "regions      0\n",
            "start_dt     0\n",
            "finish_dt    0\n",
            "dtype: int64\n",
            "\n"
          ]
        }
      ],
      "source": [
        "k = 0\n",
        "for i in (test_participants, users, events, marketing_events):\n",
        "  names = ['test_participants', 'users', 'events', 'marketing_events']\n",
        "  print('Название датасета:', names[k])\n",
        "  print()\n",
        "  print(i.isna().sum())\n",
        "  print()\n",
        "  k += 1"
      ]
    },
    {
      "cell_type": "markdown",
      "metadata": {
        "id": "ZT26JxiS2zrY"
      },
      "source": [
        "Итак, пропуски обнаружились в столбце `details` датасета `events`. Стоит разобраться в их природе, возможно, их не стоит устранять."
      ]
    },
    {
      "cell_type": "code",
      "execution_count": 6,
      "metadata": {
        "colab": {
          "base_uri": "https://localhost:8080/"
        },
        "id": "q8b9crI90a91",
        "outputId": "82a9f1b2-be27-439c-c741-620fbef93bb6"
      },
      "outputs": [
        {
          "output_type": "execute_result",
          "data": {
            "text/plain": [
              "4.99      46362\n",
              "9.99       9530\n",
              "99.99      5631\n",
              "499.99     1217\n",
              "Name: details, dtype: int64"
            ]
          },
          "metadata": {},
          "execution_count": 6
        }
      ],
      "source": [
        "events['details'].value_counts()"
      ]
    },
    {
      "cell_type": "code",
      "execution_count": 7,
      "metadata": {
        "colab": {
          "base_uri": "https://localhost:8080/"
        },
        "id": "3dsh7FRR2ixB",
        "outputId": "61a8255b-8998-48d2-8efc-5efae5efabb5"
      },
      "outputs": [
        {
          "output_type": "execute_result",
          "data": {
            "text/plain": [
              "array(['purchase'], dtype=object)"
            ]
          },
          "metadata": {},
          "execution_count": 7
        }
      ],
      "source": [
        "events[~events['details'].isna()]['event_name'].unique()"
      ]
    },
    {
      "cell_type": "code",
      "execution_count": 8,
      "metadata": {
        "colab": {
          "base_uri": "https://localhost:8080/"
        },
        "id": "TKzX3Evg2PJr",
        "outputId": "07a7a5f8-04cd-44e5-b59b-364e25c17d62"
      },
      "outputs": [
        {
          "output_type": "execute_result",
          "data": {
            "text/plain": [
              "array(['product_cart', 'product_page', 'login'], dtype=object)"
            ]
          },
          "metadata": {},
          "execution_count": 8
        }
      ],
      "source": [
        "events[events['details'].isna()]['event_name'].unique()"
      ]
    },
    {
      "cell_type": "markdown",
      "metadata": {
        "id": "QCjzj4SP3Aun"
      },
      "source": [
        "Мы видим, что пропуски имеются только в тех случаях, когда `event_name` не является `purchase` (покупкой). Как мы знаем из описания, в столбце `details` хранится стоимость покупки в долларах, а значит природа всех остальных пропусков совершенно безобидна."
      ]
    },
    {
      "cell_type": "markdown",
      "metadata": {
        "id": "kIZa439Q4ZmE"
      },
      "source": [
        "### Дубликаты"
      ]
    },
    {
      "cell_type": "markdown",
      "metadata": {
        "id": "8mUZDuxL4b1o"
      },
      "source": [
        "Проверим наши данные на явные дубликаты. Содержимое отдельных колонок выглядит единообразно и ручной ввод отсутствует, поэтому нет смысла переводить всё к единому регистру."
      ]
    },
    {
      "cell_type": "code",
      "execution_count": 9,
      "metadata": {
        "colab": {
          "base_uri": "https://localhost:8080/"
        },
        "id": "uAcNfAl04fSO",
        "outputId": "4a5a6b13-a4da-4927-b86d-48649e6d0054"
      },
      "outputs": [
        {
          "output_type": "stream",
          "name": "stdout",
          "text": [
            "Название датасета: test_participants\n",
            "\n",
            "0\n",
            "\n",
            "Название датасета: users\n",
            "\n",
            "0\n",
            "\n",
            "Название датасета: events\n",
            "\n",
            "0\n",
            "\n",
            "Название датасета: marketing_events\n",
            "\n",
            "0\n",
            "\n"
          ]
        }
      ],
      "source": [
        "k = 0\n",
        "for i in (test_participants, users, events, marketing_events):\n",
        "  names = ['test_participants', 'users', 'events', 'marketing_events']\n",
        "  print('Название датасета:', names[k])\n",
        "  print()\n",
        "  print(i.duplicated().sum())\n",
        "  print()\n",
        "  k += 1"
      ]
    },
    {
      "cell_type": "markdown",
      "metadata": {
        "id": "udaWoW3V50l4"
      },
      "source": [
        "Дубликатов не обнаружено."
      ]
    },
    {
      "cell_type": "markdown",
      "metadata": {
        "id": "Ew_AZ1I1Hv0E"
      },
      "source": [
        "### Категориальные данные"
      ]
    },
    {
      "cell_type": "code",
      "execution_count": 10,
      "metadata": {
        "colab": {
          "base_uri": "https://localhost:8080/"
        },
        "id": "SkfIklcOHv0E",
        "outputId": "f6c7ef51-8c33-4483-cf5a-e9606507d47b"
      },
      "outputs": [
        {
          "output_type": "execute_result",
          "data": {
            "text/plain": [
              "array(['recommender_system_test', 'interface_eu_test'], dtype=object)"
            ]
          },
          "metadata": {},
          "execution_count": 10
        }
      ],
      "source": [
        "test_participants[test_participants['group'] != 'C']['ab_test'].unique()"
      ]
    },
    {
      "cell_type": "markdown",
      "metadata": {
        "id": "kZHQDc0qHv0E"
      },
      "source": [
        "В нашем датасете есть информация о 2 тестах: 'recommender_system_test' и 'interface_eu_test'."
      ]
    },
    {
      "cell_type": "code",
      "execution_count": 11,
      "metadata": {
        "colab": {
          "base_uri": "https://localhost:8080/"
        },
        "id": "8eD0gHRMHv0F",
        "outputId": "517fad11-f079-4279-b665-7035c6f66d79"
      },
      "outputs": [
        {
          "output_type": "execute_result",
          "data": {
            "text/plain": [
              "EU           46270\n",
              "N.America     9155\n",
              "CIS           3155\n",
              "APAC          3153\n",
              "Name: region, dtype: int64"
            ]
          },
          "metadata": {},
          "execution_count": 11
        }
      ],
      "source": [
        "users['region'].value_counts()"
      ]
    },
    {
      "cell_type": "markdown",
      "metadata": {
        "id": "ibV3X8H9Hv0F"
      },
      "source": [
        "В датасете есть информация о пользователях из 4 регионов: EU (Европа), N.America (Северная Америка), CIS (СНГ) и APAC (Азиатско-Тихоокеанский регион)."
      ]
    },
    {
      "cell_type": "code",
      "execution_count": 12,
      "metadata": {
        "scrolled": true,
        "colab": {
          "base_uri": "https://localhost:8080/"
        },
        "id": "L0VvS86DHv0F",
        "outputId": "97497027-3412-43e5-9f71-cc6fe768a8b6"
      },
      "outputs": [
        {
          "output_type": "execute_result",
          "data": {
            "text/plain": [
              "array(['PC', 'Android', 'iPhone', 'Mac'], dtype=object)"
            ]
          },
          "metadata": {},
          "execution_count": 12
        }
      ],
      "source": [
        "users['device'].unique()"
      ]
    },
    {
      "cell_type": "markdown",
      "metadata": {
        "id": "b8rCMYEiHv0F"
      },
      "source": [
        "Есть информация об устройствах пользователей, их всего 4: PC, Android, iPhone, Mac."
      ]
    },
    {
      "cell_type": "code",
      "execution_count": 13,
      "metadata": {
        "scrolled": true,
        "colab": {
          "base_uri": "https://localhost:8080/"
        },
        "id": "I3zZL9RLHv0F",
        "outputId": "f79746ad-b6d7-4e6a-8b0a-efefc355775e"
      },
      "outputs": [
        {
          "output_type": "stream",
          "name": "stdout",
          "text": [
            "Общее количество праздников в датасете marketing_events: 14\n"
          ]
        }
      ],
      "source": [
        "print('Общее количество праздников в датасете marketing_events:', marketing_events['name'].nunique())"
      ]
    },
    {
      "cell_type": "code",
      "execution_count": 14,
      "metadata": {
        "colab": {
          "base_uri": "https://localhost:8080/"
        },
        "id": "2r-vpSIOHv0F",
        "outputId": "bb9c769e-4a73-46f7-d519-ba7cdb5e4f71"
      },
      "outputs": [
        {
          "output_type": "stream",
          "name": "stdout",
          "text": [
            "\n",
            " Christmas&New Year Promo\n",
            "\n",
            " St. Valentine's Day Giveaway\n",
            "\n",
            " St. Patric's Day Promo\n",
            "\n",
            " Easter Promo\n",
            "\n",
            " 4th of July Promo\n",
            "\n",
            " Black Friday Ads Campaign\n",
            "\n",
            " Chinese New Year Promo\n",
            "\n",
            " Labor day (May 1st) Ads Campaign\n",
            "\n",
            " International Women's Day Promo\n",
            "\n",
            " Victory Day CIS (May 9th) Event\n",
            "\n",
            " CIS New Year Gift Lottery\n",
            "\n",
            " Dragon Boat Festival Giveaway\n",
            "\n",
            " Single's Day Gift Promo\n",
            "\n",
            " Chinese Moon Festival\n"
          ]
        }
      ],
      "source": [
        "for i in marketing_events['name'].unique(): print('\\n', i)"
      ]
    },
    {
      "cell_type": "markdown",
      "metadata": {
        "id": "l7Vb3nKypnYn"
      },
      "source": [
        "### Выводы по главе"
      ]
    },
    {
      "cell_type": "markdown",
      "metadata": {
        "id": "xBJoXKcgQItl"
      },
      "source": [
        "Мы описали и подготовили данные к анализу. Выяснилось, что у нас нет пропусков и дубликатов. Потребовалось изменить типы данных в столбцах со временем для их корректной работы.\n",
        "\n",
        "Категориальные данные:\n",
        "* В нашем датасете есть информация о 2 тестах: 'recommender_system_test' и 'interface_eu_test'.\n",
        "* Все пользователи распределены между 4 регионами: EU (Европа), N.America (Северная Америка), CIS (СНГ) и APAC (Азиатско-Тихоокеанский регион).\n",
        "* Есть информация об устройствах пользователей, их всего 4: PC, Android, iPhone, Mac.\n",
        "* Маркетинговые мероприятия включают в себя 14 позиций, приуроченных к важным культурным и национальным событиям."
      ]
    },
    {
      "cell_type": "markdown",
      "metadata": {
        "id": "uuwP3mU0Hv0G"
      },
      "source": [
        "<a id=\"correctness\"></a>"
      ]
    },
    {
      "cell_type": "markdown",
      "metadata": {
        "id": "Hx3Y7LPMhfVx"
      },
      "source": [
        "## Оценка корректности проведения теста"
      ]
    },
    {
      "cell_type": "markdown",
      "metadata": {
        "id": "e4WP01Gf6JDO"
      },
      "source": [
        "### Проверка данных на соответствие ТЗ"
      ]
    },
    {
      "cell_type": "markdown",
      "metadata": {
        "id": "9s4vtw5F6vCz"
      },
      "source": [
        "Название теста: recommender_system_test ✅\n",
        "\n",
        "**Примечание**: пользователи участвуют в двух тестах: 'recommender_system_test' и 'interface_eu_test'. Причем, о втором тесте нам ничего не известно, кроме количества участников -- их больше почти в два раза."
      ]
    },
    {
      "cell_type": "code",
      "execution_count": 15,
      "metadata": {
        "colab": {
          "base_uri": "https://localhost:8080/"
        },
        "id": "yvW3_GeE67hB",
        "outputId": "3e521b7b-37ee-4535-aa84-aac8b41f4686"
      },
      "outputs": [
        {
          "output_type": "execute_result",
          "data": {
            "text/plain": [
              "array(['recommender_system_test', 'interface_eu_test'], dtype=object)"
            ]
          },
          "metadata": {},
          "execution_count": 15
        }
      ],
      "source": [
        "test_participants[test_participants['group'] != 'C']['ab_test'].unique()"
      ]
    },
    {
      "cell_type": "code",
      "execution_count": 16,
      "metadata": {
        "colab": {
          "base_uri": "https://localhost:8080/"
        },
        "id": "GYuSpxSEk6rM",
        "outputId": "89bd7d98-6f00-4542-d6f4-8e4285a96851"
      },
      "outputs": [
        {
          "output_type": "execute_result",
          "data": {
            "text/plain": [
              "interface_eu_test          11567\n",
              "recommender_system_test     6701\n",
              "Name: ab_test, dtype: int64"
            ]
          },
          "metadata": {},
          "execution_count": 16
        }
      ],
      "source": [
        "test_participants['ab_test'].value_counts()"
      ]
    },
    {
      "cell_type": "markdown",
      "metadata": {
        "id": "GEgJw-RU6zNF"
      },
      "source": [
        "Группы: А — контрольная, B — новая платёжная воронка ✅"
      ]
    },
    {
      "cell_type": "markdown",
      "metadata": {
        "id": "ktthu3Td8J8U"
      },
      "source": [
        "Дата запуска: 2020-12-07 ✅"
      ]
    },
    {
      "cell_type": "code",
      "execution_count": 17,
      "metadata": {
        "colab": {
          "base_uri": "https://localhost:8080/"
        },
        "id": "lSQbayO3_lWE",
        "outputId": "3302b4a3-67ec-416a-e36c-969b82d6db0c"
      },
      "outputs": [
        {
          "output_type": "execute_result",
          "data": {
            "text/plain": [
              "Timestamp('2020-12-07 00:00:33')"
            ]
          },
          "metadata": {},
          "execution_count": 17
        }
      ],
      "source": [
        "events['event_dt'].min()"
      ]
    },
    {
      "cell_type": "markdown",
      "metadata": {
        "id": "g0wiNrAu863E"
      },
      "source": [
        "Дата остановки набора новых пользователей: 2020-12-21 ✅\n",
        "\n",
        "**Примечание**: мы видим, что набор новых пользователей проводился 14 дней. Последний пользователь присоединился 21 декабря."
      ]
    },
    {
      "cell_type": "code",
      "execution_count": 18,
      "metadata": {
        "colab": {
          "base_uri": "https://localhost:8080/"
        },
        "id": "CopUalRJHv0I",
        "outputId": "d68afdf4-06e1-4290-8abb-9561f6509556"
      },
      "outputs": [
        {
          "output_type": "stream",
          "name": "stdout",
          "text": [
            "Дата начала набора пользователей: 2020-12-07 00:00:00\n",
            "Дата окончания набора пользователей: 2020-12-21 00:00:00\n"
          ]
        }
      ],
      "source": [
        "print('Дата начала набора пользователей:', users[users['user_id'].isin(test_participants[test_participants['ab_test'] == 'recommender_system_test']['user_id'])]['first_date'].min())\n",
        "print('Дата окончания набора пользователей:',users[users['user_id'].isin(test_participants[test_participants['ab_test'] == 'recommender_system_test']['user_id'])]['first_date'].max())"
      ]
    },
    {
      "cell_type": "markdown",
      "metadata": {
        "id": "kMErO2DL_ORv"
      },
      "source": [
        "Дата остановки: 2021-01-04 ❌\n",
        "\n",
        "**Примечание**: тест проводился до 30 декабря, что на 5 дней раньше, чем требовалось по ТЗ."
      ]
    },
    {
      "cell_type": "code",
      "execution_count": 19,
      "metadata": {
        "colab": {
          "base_uri": "https://localhost:8080/"
        },
        "id": "0vTvwLHY9Sdf",
        "outputId": "f48f95f9-f21b-4fe9-e960-40dc5f098521"
      },
      "outputs": [
        {
          "output_type": "stream",
          "name": "stdout",
          "text": [
            "2020-12-30 23:36:33\n",
            "23 days 23:36:00\n"
          ]
        }
      ],
      "source": [
        "print(events['event_dt'].max())\n",
        "print(events['event_dt'].max() - events['event_dt'].min())"
      ]
    },
    {
      "cell_type": "markdown",
      "metadata": {
        "id": "NhLDAttgAMXq"
      },
      "source": [
        "Аудитория: 15% новых пользователей из региона EU ✅\n",
        "\n",
        "**Примечание**: в датасете чуть ровно 15% новых пользователей из региона EU"
      ]
    },
    {
      "cell_type": "code",
      "execution_count": 20,
      "metadata": {
        "colab": {
          "base_uri": "https://localhost:8080/",
          "height": 206
        },
        "id": "ubuAUfvgHv0J",
        "outputId": "ff9df45c-c8b0-4b91-90a4-d3a4720283c9"
      },
      "outputs": [
        {
          "output_type": "execute_result",
          "data": {
            "text/plain": [
              "            user_id first_date region   device\n",
              "0  D72A72121175D8BE 2020-12-07     EU       PC\n",
              "2  2E1BF1D4C37EA01F 2020-12-07     EU       PC\n",
              "3  50734A22C0C63768 2020-12-07     EU   iPhone\n",
              "7  8942E64218C9A1ED 2020-12-07     EU       PC\n",
              "9  FFCEA1179C253104 2020-12-07     EU  Android"
            ],
            "text/html": [
              "\n",
              "\n",
              "  <div id=\"df-4d9bc626-e8ba-4e48-93ed-6cbb1c86089c\">\n",
              "    <div class=\"colab-df-container\">\n",
              "      <div>\n",
              "<style scoped>\n",
              "    .dataframe tbody tr th:only-of-type {\n",
              "        vertical-align: middle;\n",
              "    }\n",
              "\n",
              "    .dataframe tbody tr th {\n",
              "        vertical-align: top;\n",
              "    }\n",
              "\n",
              "    .dataframe thead th {\n",
              "        text-align: right;\n",
              "    }\n",
              "</style>\n",
              "<table border=\"1\" class=\"dataframe\">\n",
              "  <thead>\n",
              "    <tr style=\"text-align: right;\">\n",
              "      <th></th>\n",
              "      <th>user_id</th>\n",
              "      <th>first_date</th>\n",
              "      <th>region</th>\n",
              "      <th>device</th>\n",
              "    </tr>\n",
              "  </thead>\n",
              "  <tbody>\n",
              "    <tr>\n",
              "      <th>0</th>\n",
              "      <td>D72A72121175D8BE</td>\n",
              "      <td>2020-12-07</td>\n",
              "      <td>EU</td>\n",
              "      <td>PC</td>\n",
              "    </tr>\n",
              "    <tr>\n",
              "      <th>2</th>\n",
              "      <td>2E1BF1D4C37EA01F</td>\n",
              "      <td>2020-12-07</td>\n",
              "      <td>EU</td>\n",
              "      <td>PC</td>\n",
              "    </tr>\n",
              "    <tr>\n",
              "      <th>3</th>\n",
              "      <td>50734A22C0C63768</td>\n",
              "      <td>2020-12-07</td>\n",
              "      <td>EU</td>\n",
              "      <td>iPhone</td>\n",
              "    </tr>\n",
              "    <tr>\n",
              "      <th>7</th>\n",
              "      <td>8942E64218C9A1ED</td>\n",
              "      <td>2020-12-07</td>\n",
              "      <td>EU</td>\n",
              "      <td>PC</td>\n",
              "    </tr>\n",
              "    <tr>\n",
              "      <th>9</th>\n",
              "      <td>FFCEA1179C253104</td>\n",
              "      <td>2020-12-07</td>\n",
              "      <td>EU</td>\n",
              "      <td>Android</td>\n",
              "    </tr>\n",
              "  </tbody>\n",
              "</table>\n",
              "</div>\n",
              "      <button class=\"colab-df-convert\" onclick=\"convertToInteractive('df-4d9bc626-e8ba-4e48-93ed-6cbb1c86089c')\"\n",
              "              title=\"Convert this dataframe to an interactive table.\"\n",
              "              style=\"display:none;\">\n",
              "\n",
              "  <svg xmlns=\"http://www.w3.org/2000/svg\" height=\"24px\"viewBox=\"0 0 24 24\"\n",
              "       width=\"24px\">\n",
              "    <path d=\"M0 0h24v24H0V0z\" fill=\"none\"/>\n",
              "    <path d=\"M18.56 5.44l.94 2.06.94-2.06 2.06-.94-2.06-.94-.94-2.06-.94 2.06-2.06.94zm-11 1L8.5 8.5l.94-2.06 2.06-.94-2.06-.94L8.5 2.5l-.94 2.06-2.06.94zm10 10l.94 2.06.94-2.06 2.06-.94-2.06-.94-.94-2.06-.94 2.06-2.06.94z\"/><path d=\"M17.41 7.96l-1.37-1.37c-.4-.4-.92-.59-1.43-.59-.52 0-1.04.2-1.43.59L10.3 9.45l-7.72 7.72c-.78.78-.78 2.05 0 2.83L4 21.41c.39.39.9.59 1.41.59.51 0 1.02-.2 1.41-.59l7.78-7.78 2.81-2.81c.8-.78.8-2.07 0-2.86zM5.41 20L4 18.59l7.72-7.72 1.47 1.35L5.41 20z\"/>\n",
              "  </svg>\n",
              "      </button>\n",
              "\n",
              "\n",
              "\n",
              "    <div id=\"df-69dd1160-af23-483d-9122-e7dd7cc1c3c9\">\n",
              "      <button class=\"colab-df-quickchart\" onclick=\"quickchart('df-69dd1160-af23-483d-9122-e7dd7cc1c3c9')\"\n",
              "              title=\"Suggest charts.\"\n",
              "              style=\"display:none;\">\n",
              "\n",
              "<svg xmlns=\"http://www.w3.org/2000/svg\" height=\"24px\"viewBox=\"0 0 24 24\"\n",
              "     width=\"24px\">\n",
              "    <g>\n",
              "        <path d=\"M19 3H5c-1.1 0-2 .9-2 2v14c0 1.1.9 2 2 2h14c1.1 0 2-.9 2-2V5c0-1.1-.9-2-2-2zM9 17H7v-7h2v7zm4 0h-2V7h2v10zm4 0h-2v-4h2v4z\"/>\n",
              "    </g>\n",
              "</svg>\n",
              "      </button>\n",
              "    </div>\n",
              "\n",
              "<style>\n",
              "  .colab-df-quickchart {\n",
              "    background-color: #E8F0FE;\n",
              "    border: none;\n",
              "    border-radius: 50%;\n",
              "    cursor: pointer;\n",
              "    display: none;\n",
              "    fill: #1967D2;\n",
              "    height: 32px;\n",
              "    padding: 0 0 0 0;\n",
              "    width: 32px;\n",
              "  }\n",
              "\n",
              "  .colab-df-quickchart:hover {\n",
              "    background-color: #E2EBFA;\n",
              "    box-shadow: 0px 1px 2px rgba(60, 64, 67, 0.3), 0px 1px 3px 1px rgba(60, 64, 67, 0.15);\n",
              "    fill: #174EA6;\n",
              "  }\n",
              "\n",
              "  [theme=dark] .colab-df-quickchart {\n",
              "    background-color: #3B4455;\n",
              "    fill: #D2E3FC;\n",
              "  }\n",
              "\n",
              "  [theme=dark] .colab-df-quickchart:hover {\n",
              "    background-color: #434B5C;\n",
              "    box-shadow: 0px 1px 3px 1px rgba(0, 0, 0, 0.15);\n",
              "    filter: drop-shadow(0px 1px 2px rgba(0, 0, 0, 0.3));\n",
              "    fill: #FFFFFF;\n",
              "  }\n",
              "</style>\n",
              "\n",
              "    <script>\n",
              "      async function quickchart(key) {\n",
              "        const containerElement = document.querySelector('#' + key);\n",
              "        const charts = await google.colab.kernel.invokeFunction(\n",
              "            'suggestCharts', [key], {});\n",
              "      }\n",
              "    </script>\n",
              "\n",
              "      <script>\n",
              "\n",
              "function displayQuickchartButton(domScope) {\n",
              "  let quickchartButtonEl =\n",
              "    domScope.querySelector('#df-69dd1160-af23-483d-9122-e7dd7cc1c3c9 button.colab-df-quickchart');\n",
              "  quickchartButtonEl.style.display =\n",
              "    google.colab.kernel.accessAllowed ? 'block' : 'none';\n",
              "}\n",
              "\n",
              "        displayQuickchartButton(document);\n",
              "      </script>\n",
              "      <style>\n",
              "    .colab-df-container {\n",
              "      display:flex;\n",
              "      flex-wrap:wrap;\n",
              "      gap: 12px;\n",
              "    }\n",
              "\n",
              "    .colab-df-convert {\n",
              "      background-color: #E8F0FE;\n",
              "      border: none;\n",
              "      border-radius: 50%;\n",
              "      cursor: pointer;\n",
              "      display: none;\n",
              "      fill: #1967D2;\n",
              "      height: 32px;\n",
              "      padding: 0 0 0 0;\n",
              "      width: 32px;\n",
              "    }\n",
              "\n",
              "    .colab-df-convert:hover {\n",
              "      background-color: #E2EBFA;\n",
              "      box-shadow: 0px 1px 2px rgba(60, 64, 67, 0.3), 0px 1px 3px 1px rgba(60, 64, 67, 0.15);\n",
              "      fill: #174EA6;\n",
              "    }\n",
              "\n",
              "    [theme=dark] .colab-df-convert {\n",
              "      background-color: #3B4455;\n",
              "      fill: #D2E3FC;\n",
              "    }\n",
              "\n",
              "    [theme=dark] .colab-df-convert:hover {\n",
              "      background-color: #434B5C;\n",
              "      box-shadow: 0px 1px 3px 1px rgba(0, 0, 0, 0.15);\n",
              "      filter: drop-shadow(0px 1px 2px rgba(0, 0, 0, 0.3));\n",
              "      fill: #FFFFFF;\n",
              "    }\n",
              "  </style>\n",
              "\n",
              "      <script>\n",
              "        const buttonEl =\n",
              "          document.querySelector('#df-4d9bc626-e8ba-4e48-93ed-6cbb1c86089c button.colab-df-convert');\n",
              "        buttonEl.style.display =\n",
              "          google.colab.kernel.accessAllowed ? 'block' : 'none';\n",
              "\n",
              "        async function convertToInteractive(key) {\n",
              "          const element = document.querySelector('#df-4d9bc626-e8ba-4e48-93ed-6cbb1c86089c');\n",
              "          const dataTable =\n",
              "            await google.colab.kernel.invokeFunction('convertToInteractive',\n",
              "                                                     [key], {});\n",
              "          if (!dataTable) return;\n",
              "\n",
              "          const docLinkHtml = 'Like what you see? Visit the ' +\n",
              "            '<a target=\"_blank\" href=https://colab.research.google.com/notebooks/data_table.ipynb>data table notebook</a>'\n",
              "            + ' to learn more about interactive tables.';\n",
              "          element.innerHTML = '';\n",
              "          dataTable['output_type'] = 'display_data';\n",
              "          await google.colab.output.renderOutput(dataTable, element);\n",
              "          const docLink = document.createElement('div');\n",
              "          docLink.innerHTML = docLinkHtml;\n",
              "          element.appendChild(docLink);\n",
              "        }\n",
              "      </script>\n",
              "    </div>\n",
              "  </div>\n"
            ]
          },
          "metadata": {},
          "execution_count": 20
        }
      ],
      "source": [
        "eu_users = users[users['region'] == 'EU'].query('\"2020-12-07\" <= first_date <= \"2020-12-21\"')\n",
        "eu_users.head()"
      ]
    },
    {
      "cell_type": "code",
      "execution_count": 21,
      "metadata": {
        "id": "JY84agObkJQx"
      },
      "outputs": [],
      "source": [
        "eu_users_in_test = eu_users.merge(test_participants, on='user_id', how='inner')"
      ]
    },
    {
      "cell_type": "code",
      "execution_count": 22,
      "metadata": {
        "scrolled": true,
        "colab": {
          "base_uri": "https://localhost:8080/"
        },
        "id": "YtHcktsPHv0J",
        "outputId": "e49c5259-ea98-4a64-cce3-0a11d9e094ad"
      },
      "outputs": [
        {
          "output_type": "execute_result",
          "data": {
            "text/plain": [
              "interface_eu_test          10565\n",
              "recommender_system_test     6351\n",
              "Name: ab_test, dtype: int64"
            ]
          },
          "metadata": {},
          "execution_count": 22
        }
      ],
      "source": [
        "eu_users_in_test['ab_test'].value_counts()"
      ]
    },
    {
      "cell_type": "code",
      "execution_count": 23,
      "metadata": {
        "colab": {
          "base_uri": "https://localhost:8080/",
          "height": 424
        },
        "id": "giDalF0WHv0J",
        "outputId": "a96137fe-47b0-4b2b-d2f8-ed510c52ae5a"
      },
      "outputs": [
        {
          "output_type": "execute_result",
          "data": {
            "text/plain": [
              "                user_id first_date region   device group  \\\n",
              "0      D72A72121175D8BE 2020-12-07     EU       PC     A   \n",
              "1      2E1BF1D4C37EA01F 2020-12-07     EU       PC     A   \n",
              "2      50734A22C0C63768 2020-12-07     EU   iPhone     B   \n",
              "3      E6DE857AFBDC6102 2020-12-07     EU       PC     B   \n",
              "4      E6DE857AFBDC6102 2020-12-07     EU       PC     B   \n",
              "...                 ...        ...    ...      ...   ...   \n",
              "16911  27007FC1A9B62FC5 2020-12-20     EU   iPhone     B   \n",
              "16912  89CB0BFBC3F35126 2020-12-20     EU       PC     B   \n",
              "16913  75F25D4DADA37ABB 2020-12-20     EU  Android     B   \n",
              "16914  2C29721DDDA76B2A 2020-12-20     EU   iPhone     B   \n",
              "16915  1C7D23927835213F 2020-12-20     EU   iPhone     B   \n",
              "\n",
              "                       ab_test  \n",
              "0      recommender_system_test  \n",
              "1            interface_eu_test  \n",
              "2            interface_eu_test  \n",
              "3      recommender_system_test  \n",
              "4            interface_eu_test  \n",
              "...                        ...  \n",
              "16911        interface_eu_test  \n",
              "16912  recommender_system_test  \n",
              "16913        interface_eu_test  \n",
              "16914        interface_eu_test  \n",
              "16915        interface_eu_test  \n",
              "\n",
              "[16916 rows x 6 columns]"
            ],
            "text/html": [
              "\n",
              "\n",
              "  <div id=\"df-f990dff2-f806-42c3-988c-7c439a07d34d\">\n",
              "    <div class=\"colab-df-container\">\n",
              "      <div>\n",
              "<style scoped>\n",
              "    .dataframe tbody tr th:only-of-type {\n",
              "        vertical-align: middle;\n",
              "    }\n",
              "\n",
              "    .dataframe tbody tr th {\n",
              "        vertical-align: top;\n",
              "    }\n",
              "\n",
              "    .dataframe thead th {\n",
              "        text-align: right;\n",
              "    }\n",
              "</style>\n",
              "<table border=\"1\" class=\"dataframe\">\n",
              "  <thead>\n",
              "    <tr style=\"text-align: right;\">\n",
              "      <th></th>\n",
              "      <th>user_id</th>\n",
              "      <th>first_date</th>\n",
              "      <th>region</th>\n",
              "      <th>device</th>\n",
              "      <th>group</th>\n",
              "      <th>ab_test</th>\n",
              "    </tr>\n",
              "  </thead>\n",
              "  <tbody>\n",
              "    <tr>\n",
              "      <th>0</th>\n",
              "      <td>D72A72121175D8BE</td>\n",
              "      <td>2020-12-07</td>\n",
              "      <td>EU</td>\n",
              "      <td>PC</td>\n",
              "      <td>A</td>\n",
              "      <td>recommender_system_test</td>\n",
              "    </tr>\n",
              "    <tr>\n",
              "      <th>1</th>\n",
              "      <td>2E1BF1D4C37EA01F</td>\n",
              "      <td>2020-12-07</td>\n",
              "      <td>EU</td>\n",
              "      <td>PC</td>\n",
              "      <td>A</td>\n",
              "      <td>interface_eu_test</td>\n",
              "    </tr>\n",
              "    <tr>\n",
              "      <th>2</th>\n",
              "      <td>50734A22C0C63768</td>\n",
              "      <td>2020-12-07</td>\n",
              "      <td>EU</td>\n",
              "      <td>iPhone</td>\n",
              "      <td>B</td>\n",
              "      <td>interface_eu_test</td>\n",
              "    </tr>\n",
              "    <tr>\n",
              "      <th>3</th>\n",
              "      <td>E6DE857AFBDC6102</td>\n",
              "      <td>2020-12-07</td>\n",
              "      <td>EU</td>\n",
              "      <td>PC</td>\n",
              "      <td>B</td>\n",
              "      <td>recommender_system_test</td>\n",
              "    </tr>\n",
              "    <tr>\n",
              "      <th>4</th>\n",
              "      <td>E6DE857AFBDC6102</td>\n",
              "      <td>2020-12-07</td>\n",
              "      <td>EU</td>\n",
              "      <td>PC</td>\n",
              "      <td>B</td>\n",
              "      <td>interface_eu_test</td>\n",
              "    </tr>\n",
              "    <tr>\n",
              "      <th>...</th>\n",
              "      <td>...</td>\n",
              "      <td>...</td>\n",
              "      <td>...</td>\n",
              "      <td>...</td>\n",
              "      <td>...</td>\n",
              "      <td>...</td>\n",
              "    </tr>\n",
              "    <tr>\n",
              "      <th>16911</th>\n",
              "      <td>27007FC1A9B62FC5</td>\n",
              "      <td>2020-12-20</td>\n",
              "      <td>EU</td>\n",
              "      <td>iPhone</td>\n",
              "      <td>B</td>\n",
              "      <td>interface_eu_test</td>\n",
              "    </tr>\n",
              "    <tr>\n",
              "      <th>16912</th>\n",
              "      <td>89CB0BFBC3F35126</td>\n",
              "      <td>2020-12-20</td>\n",
              "      <td>EU</td>\n",
              "      <td>PC</td>\n",
              "      <td>B</td>\n",
              "      <td>recommender_system_test</td>\n",
              "    </tr>\n",
              "    <tr>\n",
              "      <th>16913</th>\n",
              "      <td>75F25D4DADA37ABB</td>\n",
              "      <td>2020-12-20</td>\n",
              "      <td>EU</td>\n",
              "      <td>Android</td>\n",
              "      <td>B</td>\n",
              "      <td>interface_eu_test</td>\n",
              "    </tr>\n",
              "    <tr>\n",
              "      <th>16914</th>\n",
              "      <td>2C29721DDDA76B2A</td>\n",
              "      <td>2020-12-20</td>\n",
              "      <td>EU</td>\n",
              "      <td>iPhone</td>\n",
              "      <td>B</td>\n",
              "      <td>interface_eu_test</td>\n",
              "    </tr>\n",
              "    <tr>\n",
              "      <th>16915</th>\n",
              "      <td>1C7D23927835213F</td>\n",
              "      <td>2020-12-20</td>\n",
              "      <td>EU</td>\n",
              "      <td>iPhone</td>\n",
              "      <td>B</td>\n",
              "      <td>interface_eu_test</td>\n",
              "    </tr>\n",
              "  </tbody>\n",
              "</table>\n",
              "<p>16916 rows × 6 columns</p>\n",
              "</div>\n",
              "      <button class=\"colab-df-convert\" onclick=\"convertToInteractive('df-f990dff2-f806-42c3-988c-7c439a07d34d')\"\n",
              "              title=\"Convert this dataframe to an interactive table.\"\n",
              "              style=\"display:none;\">\n",
              "\n",
              "  <svg xmlns=\"http://www.w3.org/2000/svg\" height=\"24px\"viewBox=\"0 0 24 24\"\n",
              "       width=\"24px\">\n",
              "    <path d=\"M0 0h24v24H0V0z\" fill=\"none\"/>\n",
              "    <path d=\"M18.56 5.44l.94 2.06.94-2.06 2.06-.94-2.06-.94-.94-2.06-.94 2.06-2.06.94zm-11 1L8.5 8.5l.94-2.06 2.06-.94-2.06-.94L8.5 2.5l-.94 2.06-2.06.94zm10 10l.94 2.06.94-2.06 2.06-.94-2.06-.94-.94-2.06-.94 2.06-2.06.94z\"/><path d=\"M17.41 7.96l-1.37-1.37c-.4-.4-.92-.59-1.43-.59-.52 0-1.04.2-1.43.59L10.3 9.45l-7.72 7.72c-.78.78-.78 2.05 0 2.83L4 21.41c.39.39.9.59 1.41.59.51 0 1.02-.2 1.41-.59l7.78-7.78 2.81-2.81c.8-.78.8-2.07 0-2.86zM5.41 20L4 18.59l7.72-7.72 1.47 1.35L5.41 20z\"/>\n",
              "  </svg>\n",
              "      </button>\n",
              "\n",
              "\n",
              "\n",
              "    <div id=\"df-d123c6b6-8d22-40cf-9179-7835f8b121ba\">\n",
              "      <button class=\"colab-df-quickchart\" onclick=\"quickchart('df-d123c6b6-8d22-40cf-9179-7835f8b121ba')\"\n",
              "              title=\"Suggest charts.\"\n",
              "              style=\"display:none;\">\n",
              "\n",
              "<svg xmlns=\"http://www.w3.org/2000/svg\" height=\"24px\"viewBox=\"0 0 24 24\"\n",
              "     width=\"24px\">\n",
              "    <g>\n",
              "        <path d=\"M19 3H5c-1.1 0-2 .9-2 2v14c0 1.1.9 2 2 2h14c1.1 0 2-.9 2-2V5c0-1.1-.9-2-2-2zM9 17H7v-7h2v7zm4 0h-2V7h2v10zm4 0h-2v-4h2v4z\"/>\n",
              "    </g>\n",
              "</svg>\n",
              "      </button>\n",
              "    </div>\n",
              "\n",
              "<style>\n",
              "  .colab-df-quickchart {\n",
              "    background-color: #E8F0FE;\n",
              "    border: none;\n",
              "    border-radius: 50%;\n",
              "    cursor: pointer;\n",
              "    display: none;\n",
              "    fill: #1967D2;\n",
              "    height: 32px;\n",
              "    padding: 0 0 0 0;\n",
              "    width: 32px;\n",
              "  }\n",
              "\n",
              "  .colab-df-quickchart:hover {\n",
              "    background-color: #E2EBFA;\n",
              "    box-shadow: 0px 1px 2px rgba(60, 64, 67, 0.3), 0px 1px 3px 1px rgba(60, 64, 67, 0.15);\n",
              "    fill: #174EA6;\n",
              "  }\n",
              "\n",
              "  [theme=dark] .colab-df-quickchart {\n",
              "    background-color: #3B4455;\n",
              "    fill: #D2E3FC;\n",
              "  }\n",
              "\n",
              "  [theme=dark] .colab-df-quickchart:hover {\n",
              "    background-color: #434B5C;\n",
              "    box-shadow: 0px 1px 3px 1px rgba(0, 0, 0, 0.15);\n",
              "    filter: drop-shadow(0px 1px 2px rgba(0, 0, 0, 0.3));\n",
              "    fill: #FFFFFF;\n",
              "  }\n",
              "</style>\n",
              "\n",
              "    <script>\n",
              "      async function quickchart(key) {\n",
              "        const containerElement = document.querySelector('#' + key);\n",
              "        const charts = await google.colab.kernel.invokeFunction(\n",
              "            'suggestCharts', [key], {});\n",
              "      }\n",
              "    </script>\n",
              "\n",
              "      <script>\n",
              "\n",
              "function displayQuickchartButton(domScope) {\n",
              "  let quickchartButtonEl =\n",
              "    domScope.querySelector('#df-d123c6b6-8d22-40cf-9179-7835f8b121ba button.colab-df-quickchart');\n",
              "  quickchartButtonEl.style.display =\n",
              "    google.colab.kernel.accessAllowed ? 'block' : 'none';\n",
              "}\n",
              "\n",
              "        displayQuickchartButton(document);\n",
              "      </script>\n",
              "      <style>\n",
              "    .colab-df-container {\n",
              "      display:flex;\n",
              "      flex-wrap:wrap;\n",
              "      gap: 12px;\n",
              "    }\n",
              "\n",
              "    .colab-df-convert {\n",
              "      background-color: #E8F0FE;\n",
              "      border: none;\n",
              "      border-radius: 50%;\n",
              "      cursor: pointer;\n",
              "      display: none;\n",
              "      fill: #1967D2;\n",
              "      height: 32px;\n",
              "      padding: 0 0 0 0;\n",
              "      width: 32px;\n",
              "    }\n",
              "\n",
              "    .colab-df-convert:hover {\n",
              "      background-color: #E2EBFA;\n",
              "      box-shadow: 0px 1px 2px rgba(60, 64, 67, 0.3), 0px 1px 3px 1px rgba(60, 64, 67, 0.15);\n",
              "      fill: #174EA6;\n",
              "    }\n",
              "\n",
              "    [theme=dark] .colab-df-convert {\n",
              "      background-color: #3B4455;\n",
              "      fill: #D2E3FC;\n",
              "    }\n",
              "\n",
              "    [theme=dark] .colab-df-convert:hover {\n",
              "      background-color: #434B5C;\n",
              "      box-shadow: 0px 1px 3px 1px rgba(0, 0, 0, 0.15);\n",
              "      filter: drop-shadow(0px 1px 2px rgba(0, 0, 0, 0.3));\n",
              "      fill: #FFFFFF;\n",
              "    }\n",
              "  </style>\n",
              "\n",
              "      <script>\n",
              "        const buttonEl =\n",
              "          document.querySelector('#df-f990dff2-f806-42c3-988c-7c439a07d34d button.colab-df-convert');\n",
              "        buttonEl.style.display =\n",
              "          google.colab.kernel.accessAllowed ? 'block' : 'none';\n",
              "\n",
              "        async function convertToInteractive(key) {\n",
              "          const element = document.querySelector('#df-f990dff2-f806-42c3-988c-7c439a07d34d');\n",
              "          const dataTable =\n",
              "            await google.colab.kernel.invokeFunction('convertToInteractive',\n",
              "                                                     [key], {});\n",
              "          if (!dataTable) return;\n",
              "\n",
              "          const docLinkHtml = 'Like what you see? Visit the ' +\n",
              "            '<a target=\"_blank\" href=https://colab.research.google.com/notebooks/data_table.ipynb>data table notebook</a>'\n",
              "            + ' to learn more about interactive tables.';\n",
              "          element.innerHTML = '';\n",
              "          dataTable['output_type'] = 'display_data';\n",
              "          await google.colab.output.renderOutput(dataTable, element);\n",
              "          const docLink = document.createElement('div');\n",
              "          docLink.innerHTML = docLinkHtml;\n",
              "          element.appendChild(docLink);\n",
              "        }\n",
              "      </script>\n",
              "    </div>\n",
              "  </div>\n"
            ]
          },
          "metadata": {},
          "execution_count": 23
        }
      ],
      "source": [
        "eu_users_in_test"
      ]
    },
    {
      "cell_type": "code",
      "execution_count": 24,
      "metadata": {
        "colab": {
          "base_uri": "https://localhost:8080/"
        },
        "id": "w1H4BGWMU_SL",
        "outputId": "31393b22-aa54-4f2e-ab4e-32cd8dbd21e7",
        "scrolled": true
      },
      "outputs": [
        {
          "output_type": "stream",
          "name": "stdout",
          "text": [
            "Количество пользователей из EU: 42340\n",
            "Количество новых пользователей из EU: 6351\n",
            "Количество пользователей из EU от общего числа: 15.0 %\n"
          ]
        }
      ],
      "source": [
        "print('Количество пользователей из EU:', eu_users['user_id'].nunique())\n",
        "print('Количество новых пользователей из EU:', eu_users_in_test[eu_users_in_test['ab_test'] == 'recommender_system_test']['user_id'].nunique())\n",
        "print('Количество пользователей из EU от общего числа:', round(eu_users_in_test[eu_users_in_test['ab_test'] == 'recommender_system_test']['user_id'].nunique() / eu_users['user_id'].nunique() * 100, 2), '%')"
      ]
    },
    {
      "cell_type": "markdown",
      "metadata": {
        "id": "aqD3lMb5k6_-"
      },
      "source": [
        "Назначение теста: тестирование изменений, связанных с внедрением улучшенной рекомендательной системы ✅"
      ]
    },
    {
      "cell_type": "markdown",
      "metadata": {
        "id": "vg66Cya-lqza"
      },
      "source": [
        "Ожидаемое количество участников теста: 6000 ❌\n",
        "\n",
        "**Примечание**: в тесте участвует чуть больше пользователей (6351)"
      ]
    },
    {
      "cell_type": "code",
      "execution_count": 25,
      "metadata": {
        "colab": {
          "base_uri": "https://localhost:8080/"
        },
        "id": "NYjzAcd7Hv0L",
        "outputId": "bfa61b3f-3bf7-45ad-d86f-7642596c0a30"
      },
      "outputs": [
        {
          "output_type": "execute_result",
          "data": {
            "text/plain": [
              "interface_eu_test          10565\n",
              "recommender_system_test     6351\n",
              "Name: ab_test, dtype: int64"
            ]
          },
          "metadata": {},
          "execution_count": 25
        }
      ],
      "source": [
        "eu_users_in_test['ab_test'].value_counts()"
      ]
    },
    {
      "cell_type": "markdown",
      "metadata": {
        "id": "JG0u7DYSmDPx"
      },
      "source": [
        "Ожидаемый эффект: за 14 дней с момента регистрации пользователи покажут улучшение каждой метрики не менее, чем на 10%:\n",
        "* конверсии в просмотр карточек товаров — событие product_page,\n",
        "* просмотры корзины — product_cart,\n",
        "* покупки — purchase."
      ]
    },
    {
      "cell_type": "markdown",
      "metadata": {
        "id": "dvHBFk-KHv0L"
      },
      "source": [
        "Создадим **фильтр для событий согласно лайфтайму**."
      ]
    },
    {
      "cell_type": "code",
      "execution_count": 26,
      "metadata": {
        "id": "4QS8Ej30Hv0L"
      },
      "outputs": [],
      "source": [
        "recommender_test_users = test_participants[test_participants['ab_test'] == 'recommender_system_test']\n",
        "recommender_test_users = recommender_test_users.merge(eu_users_in_test, on='user_id', how='inner')"
      ]
    },
    {
      "cell_type": "code",
      "execution_count": 27,
      "metadata": {
        "id": "c0yYssQoHv0L"
      },
      "outputs": [],
      "source": [
        "recommender_test_users = recommender_test_users.merge(events, on='user_id', how='inner')"
      ]
    },
    {
      "cell_type": "code",
      "execution_count": 28,
      "metadata": {
        "colab": {
          "base_uri": "https://localhost:8080/"
        },
        "id": "wIc-V-9cHv0L",
        "outputId": "3a5a10ad-1929-43a1-d252-ed34c8531553"
      },
      "outputs": [
        {
          "output_type": "execute_result",
          "data": {
            "text/plain": [
              "3481"
            ]
          },
          "metadata": {},
          "execution_count": 28
        }
      ],
      "source": [
        "recommender_test_users['user_id'].nunique()"
      ]
    },
    {
      "cell_type": "code",
      "execution_count": 29,
      "metadata": {
        "id": "MS-52JGRHv0L"
      },
      "outputs": [],
      "source": [
        "lifetime_14days = recommender_test_users.groupby(['user_id', 'first_date']).agg({'event_dt':'last'}).reset_index()"
      ]
    },
    {
      "cell_type": "code",
      "execution_count": 30,
      "metadata": {
        "id": "UHByhldmHv0L"
      },
      "outputs": [],
      "source": [
        "lifetime_14days = lifetime_14days[(lifetime_14days['event_dt'] - lifetime_14days['first_date']) < pd.to_timedelta(15, unit='D')]"
      ]
    },
    {
      "cell_type": "code",
      "execution_count": 31,
      "metadata": {
        "id": "p5Y3gDlIHv0M"
      },
      "outputs": [],
      "source": [
        "recommender_test_users = recommender_test_users.merge(lifetime_14days, on='user_id', how='inner')"
      ]
    },
    {
      "cell_type": "code",
      "execution_count": 32,
      "metadata": {
        "colab": {
          "base_uri": "https://localhost:8080/"
        },
        "id": "azqpnbEsHv0M",
        "outputId": "a562b3bf-ba4a-46b3-a2bb-f41f3869c8fb"
      },
      "outputs": [
        {
          "output_type": "execute_result",
          "data": {
            "text/plain": [
              "3226"
            ]
          },
          "metadata": {},
          "execution_count": 32
        }
      ],
      "source": [
        "recommender_test_users['user_id'].nunique()"
      ]
    },
    {
      "cell_type": "markdown",
      "metadata": {
        "id": "IHi_yaHpqdGT"
      },
      "source": [
        "### Время проведения теста"
      ]
    },
    {
      "cell_type": "markdown",
      "metadata": {
        "id": "E7h6sK4EqvZJ"
      },
      "source": [
        "Проверим, не совпадает ли время тестирования с маркетинговыми и другими активностями."
      ]
    },
    {
      "cell_type": "code",
      "execution_count": 33,
      "metadata": {
        "colab": {
          "base_uri": "https://localhost:8080/"
        },
        "id": "K6JBrHWOqgHC",
        "outputId": "793835c7-8e3e-4f49-dd7f-78faf1e0aa8f"
      },
      "outputs": [
        {
          "output_type": "stream",
          "name": "stdout",
          "text": [
            "2020-12-07 00:00:33\n",
            "2020-12-30 23:36:33\n"
          ]
        }
      ],
      "source": [
        "print(events['event_dt'].min())\n",
        "print(events['event_dt'].max())"
      ]
    },
    {
      "cell_type": "code",
      "execution_count": 34,
      "metadata": {
        "colab": {
          "base_uri": "https://localhost:8080/",
          "height": 112
        },
        "id": "Tdkd8aSQq1JH",
        "outputId": "234c96a8-c4f3-489c-8777-bdd1b8d6baa7"
      },
      "outputs": [
        {
          "output_type": "execute_result",
          "data": {
            "text/plain": [
              "                         name        regions   start_dt  finish_dt\n",
              "0    Christmas&New Year Promo  EU, N.America 2020-12-25 2021-01-03\n",
              "10  CIS New Year Gift Lottery            CIS 2020-12-30 2021-01-07"
            ],
            "text/html": [
              "\n",
              "\n",
              "  <div id=\"df-6e70377a-c84d-4aa3-b625-be3da9073f7e\">\n",
              "    <div class=\"colab-df-container\">\n",
              "      <div>\n",
              "<style scoped>\n",
              "    .dataframe tbody tr th:only-of-type {\n",
              "        vertical-align: middle;\n",
              "    }\n",
              "\n",
              "    .dataframe tbody tr th {\n",
              "        vertical-align: top;\n",
              "    }\n",
              "\n",
              "    .dataframe thead th {\n",
              "        text-align: right;\n",
              "    }\n",
              "</style>\n",
              "<table border=\"1\" class=\"dataframe\">\n",
              "  <thead>\n",
              "    <tr style=\"text-align: right;\">\n",
              "      <th></th>\n",
              "      <th>name</th>\n",
              "      <th>regions</th>\n",
              "      <th>start_dt</th>\n",
              "      <th>finish_dt</th>\n",
              "    </tr>\n",
              "  </thead>\n",
              "  <tbody>\n",
              "    <tr>\n",
              "      <th>0</th>\n",
              "      <td>Christmas&amp;New Year Promo</td>\n",
              "      <td>EU, N.America</td>\n",
              "      <td>2020-12-25</td>\n",
              "      <td>2021-01-03</td>\n",
              "    </tr>\n",
              "    <tr>\n",
              "      <th>10</th>\n",
              "      <td>CIS New Year Gift Lottery</td>\n",
              "      <td>CIS</td>\n",
              "      <td>2020-12-30</td>\n",
              "      <td>2021-01-07</td>\n",
              "    </tr>\n",
              "  </tbody>\n",
              "</table>\n",
              "</div>\n",
              "      <button class=\"colab-df-convert\" onclick=\"convertToInteractive('df-6e70377a-c84d-4aa3-b625-be3da9073f7e')\"\n",
              "              title=\"Convert this dataframe to an interactive table.\"\n",
              "              style=\"display:none;\">\n",
              "\n",
              "  <svg xmlns=\"http://www.w3.org/2000/svg\" height=\"24px\"viewBox=\"0 0 24 24\"\n",
              "       width=\"24px\">\n",
              "    <path d=\"M0 0h24v24H0V0z\" fill=\"none\"/>\n",
              "    <path d=\"M18.56 5.44l.94 2.06.94-2.06 2.06-.94-2.06-.94-.94-2.06-.94 2.06-2.06.94zm-11 1L8.5 8.5l.94-2.06 2.06-.94-2.06-.94L8.5 2.5l-.94 2.06-2.06.94zm10 10l.94 2.06.94-2.06 2.06-.94-2.06-.94-.94-2.06-.94 2.06-2.06.94z\"/><path d=\"M17.41 7.96l-1.37-1.37c-.4-.4-.92-.59-1.43-.59-.52 0-1.04.2-1.43.59L10.3 9.45l-7.72 7.72c-.78.78-.78 2.05 0 2.83L4 21.41c.39.39.9.59 1.41.59.51 0 1.02-.2 1.41-.59l7.78-7.78 2.81-2.81c.8-.78.8-2.07 0-2.86zM5.41 20L4 18.59l7.72-7.72 1.47 1.35L5.41 20z\"/>\n",
              "  </svg>\n",
              "      </button>\n",
              "\n",
              "\n",
              "\n",
              "    <div id=\"df-1d65ae83-2c0e-44d6-85d3-47d6d1ac3502\">\n",
              "      <button class=\"colab-df-quickchart\" onclick=\"quickchart('df-1d65ae83-2c0e-44d6-85d3-47d6d1ac3502')\"\n",
              "              title=\"Suggest charts.\"\n",
              "              style=\"display:none;\">\n",
              "\n",
              "<svg xmlns=\"http://www.w3.org/2000/svg\" height=\"24px\"viewBox=\"0 0 24 24\"\n",
              "     width=\"24px\">\n",
              "    <g>\n",
              "        <path d=\"M19 3H5c-1.1 0-2 .9-2 2v14c0 1.1.9 2 2 2h14c1.1 0 2-.9 2-2V5c0-1.1-.9-2-2-2zM9 17H7v-7h2v7zm4 0h-2V7h2v10zm4 0h-2v-4h2v4z\"/>\n",
              "    </g>\n",
              "</svg>\n",
              "      </button>\n",
              "    </div>\n",
              "\n",
              "<style>\n",
              "  .colab-df-quickchart {\n",
              "    background-color: #E8F0FE;\n",
              "    border: none;\n",
              "    border-radius: 50%;\n",
              "    cursor: pointer;\n",
              "    display: none;\n",
              "    fill: #1967D2;\n",
              "    height: 32px;\n",
              "    padding: 0 0 0 0;\n",
              "    width: 32px;\n",
              "  }\n",
              "\n",
              "  .colab-df-quickchart:hover {\n",
              "    background-color: #E2EBFA;\n",
              "    box-shadow: 0px 1px 2px rgba(60, 64, 67, 0.3), 0px 1px 3px 1px rgba(60, 64, 67, 0.15);\n",
              "    fill: #174EA6;\n",
              "  }\n",
              "\n",
              "  [theme=dark] .colab-df-quickchart {\n",
              "    background-color: #3B4455;\n",
              "    fill: #D2E3FC;\n",
              "  }\n",
              "\n",
              "  [theme=dark] .colab-df-quickchart:hover {\n",
              "    background-color: #434B5C;\n",
              "    box-shadow: 0px 1px 3px 1px rgba(0, 0, 0, 0.15);\n",
              "    filter: drop-shadow(0px 1px 2px rgba(0, 0, 0, 0.3));\n",
              "    fill: #FFFFFF;\n",
              "  }\n",
              "</style>\n",
              "\n",
              "    <script>\n",
              "      async function quickchart(key) {\n",
              "        const containerElement = document.querySelector('#' + key);\n",
              "        const charts = await google.colab.kernel.invokeFunction(\n",
              "            'suggestCharts', [key], {});\n",
              "      }\n",
              "    </script>\n",
              "\n",
              "      <script>\n",
              "\n",
              "function displayQuickchartButton(domScope) {\n",
              "  let quickchartButtonEl =\n",
              "    domScope.querySelector('#df-1d65ae83-2c0e-44d6-85d3-47d6d1ac3502 button.colab-df-quickchart');\n",
              "  quickchartButtonEl.style.display =\n",
              "    google.colab.kernel.accessAllowed ? 'block' : 'none';\n",
              "}\n",
              "\n",
              "        displayQuickchartButton(document);\n",
              "      </script>\n",
              "      <style>\n",
              "    .colab-df-container {\n",
              "      display:flex;\n",
              "      flex-wrap:wrap;\n",
              "      gap: 12px;\n",
              "    }\n",
              "\n",
              "    .colab-df-convert {\n",
              "      background-color: #E8F0FE;\n",
              "      border: none;\n",
              "      border-radius: 50%;\n",
              "      cursor: pointer;\n",
              "      display: none;\n",
              "      fill: #1967D2;\n",
              "      height: 32px;\n",
              "      padding: 0 0 0 0;\n",
              "      width: 32px;\n",
              "    }\n",
              "\n",
              "    .colab-df-convert:hover {\n",
              "      background-color: #E2EBFA;\n",
              "      box-shadow: 0px 1px 2px rgba(60, 64, 67, 0.3), 0px 1px 3px 1px rgba(60, 64, 67, 0.15);\n",
              "      fill: #174EA6;\n",
              "    }\n",
              "\n",
              "    [theme=dark] .colab-df-convert {\n",
              "      background-color: #3B4455;\n",
              "      fill: #D2E3FC;\n",
              "    }\n",
              "\n",
              "    [theme=dark] .colab-df-convert:hover {\n",
              "      background-color: #434B5C;\n",
              "      box-shadow: 0px 1px 3px 1px rgba(0, 0, 0, 0.15);\n",
              "      filter: drop-shadow(0px 1px 2px rgba(0, 0, 0, 0.3));\n",
              "      fill: #FFFFFF;\n",
              "    }\n",
              "  </style>\n",
              "\n",
              "      <script>\n",
              "        const buttonEl =\n",
              "          document.querySelector('#df-6e70377a-c84d-4aa3-b625-be3da9073f7e button.colab-df-convert');\n",
              "        buttonEl.style.display =\n",
              "          google.colab.kernel.accessAllowed ? 'block' : 'none';\n",
              "\n",
              "        async function convertToInteractive(key) {\n",
              "          const element = document.querySelector('#df-6e70377a-c84d-4aa3-b625-be3da9073f7e');\n",
              "          const dataTable =\n",
              "            await google.colab.kernel.invokeFunction('convertToInteractive',\n",
              "                                                     [key], {});\n",
              "          if (!dataTable) return;\n",
              "\n",
              "          const docLinkHtml = 'Like what you see? Visit the ' +\n",
              "            '<a target=\"_blank\" href=https://colab.research.google.com/notebooks/data_table.ipynb>data table notebook</a>'\n",
              "            + ' to learn more about interactive tables.';\n",
              "          element.innerHTML = '';\n",
              "          dataTable['output_type'] = 'display_data';\n",
              "          await google.colab.output.renderOutput(dataTable, element);\n",
              "          const docLink = document.createElement('div');\n",
              "          docLink.innerHTML = docLinkHtml;\n",
              "          element.appendChild(docLink);\n",
              "        }\n",
              "      </script>\n",
              "    </div>\n",
              "  </div>\n"
            ]
          },
          "metadata": {},
          "execution_count": 34
        }
      ],
      "source": [
        "marketing_events.query('start_dt > \"2020-12-01\"').sort_values('start_dt')"
      ]
    },
    {
      "cell_type": "markdown",
      "metadata": {
        "id": "wyGxsC1preJR"
      },
      "source": [
        "Итак, если посмотреть на даты маркетинговых компаний, то мы убедимся, что пересечение возникает в случае с Рождеством, что для регионов EU и N.America может оказаться очень большое значение, а также CIS New Year Gift Lottery в соответствующем регионе."
      ]
    },
    {
      "cell_type": "markdown",
      "metadata": {
        "id": "2EdBs9lnr8nJ"
      },
      "source": [
        "### Аудитории тестов"
      ]
    },
    {
      "cell_type": "markdown",
      "metadata": {
        "id": "0Lh-B9aLr8hR"
      },
      "source": [
        "Убедимся, что нет пересечений с конкурирующим тестом и нет пользователей, участвующих в двух группах теста одновременно."
      ]
    },
    {
      "cell_type": "code",
      "execution_count": 35,
      "metadata": {
        "id": "H3X47lYydxUg"
      },
      "outputs": [],
      "source": [
        "both_tests_users = recommender_test_users.merge(test_participants[test_participants['ab_test'] == 'interface_eu_test'], on='user_id', how='inner')"
      ]
    },
    {
      "cell_type": "code",
      "execution_count": 36,
      "metadata": {
        "colab": {
          "base_uri": "https://localhost:8080/"
        },
        "id": "c-q-BTz4Hv0N",
        "outputId": "5916d207-2aee-4f43-bd60-be46bfcbebbb"
      },
      "outputs": [
        {
          "output_type": "execute_result",
          "data": {
            "text/plain": [
              "823"
            ]
          },
          "metadata": {},
          "execution_count": 36
        }
      ],
      "source": [
        "both_tests_users['user_id'].nunique()"
      ]
    },
    {
      "cell_type": "code",
      "execution_count": 37,
      "metadata": {
        "id": "U-fwGR5yHv0N"
      },
      "outputs": [],
      "source": [
        "both_tests_users1 = both_tests_users.groupby(['user_id', 'first_date_x']).agg({'event_dt_x':'last'}).reset_index()"
      ]
    },
    {
      "cell_type": "code",
      "execution_count": 38,
      "metadata": {
        "id": "-oMeXJYOHv0N"
      },
      "outputs": [],
      "source": [
        "both_tests_users_14days = both_tests_users1[(both_tests_users1['event_dt_x'] - both_tests_users1['first_date_x']) < pd.to_timedelta(15, unit='D')]"
      ]
    },
    {
      "cell_type": "code",
      "execution_count": 39,
      "metadata": {
        "colab": {
          "base_uri": "https://localhost:8080/",
          "height": 424
        },
        "id": "3pELYPPKHv0N",
        "outputId": "82165513-52b1-4568-e28e-b073d834cac2"
      },
      "outputs": [
        {
          "output_type": "execute_result",
          "data": {
            "text/plain": [
              "              user_id first_date_x          event_dt_x\n",
              "0    001064FEAAB631A1   2020-12-20 2020-12-26 15:55:17\n",
              "1    00341D8401F0F665   2020-12-21 2020-12-24 12:16:01\n",
              "2    0082295A41A867B5   2020-12-16 2020-12-22 06:25:54\n",
              "3    00E68F103C66C1F7   2020-12-18 2020-12-23 07:25:08\n",
              "4    00EFA157F7B6E1C4   2020-12-09 2020-12-18 05:32:38\n",
              "..                ...          ...                 ...\n",
              "818  FEA0C585A53E7027   2020-12-08 2020-12-08 06:10:25\n",
              "819  FEC0BCA6C323872F   2020-12-18 2020-12-21 19:38:30\n",
              "820  FF2174A1AA0EAD20   2020-12-14 2020-12-14 04:18:48\n",
              "821  FF44696E39039D29   2020-12-21 2020-12-23 14:26:39\n",
              "822  FFF28D02B1EACBE1   2020-12-16 2020-12-24 00:51:04\n",
              "\n",
              "[823 rows x 3 columns]"
            ],
            "text/html": [
              "\n",
              "\n",
              "  <div id=\"df-75ae5240-af70-4862-a4c4-7471477c805b\">\n",
              "    <div class=\"colab-df-container\">\n",
              "      <div>\n",
              "<style scoped>\n",
              "    .dataframe tbody tr th:only-of-type {\n",
              "        vertical-align: middle;\n",
              "    }\n",
              "\n",
              "    .dataframe tbody tr th {\n",
              "        vertical-align: top;\n",
              "    }\n",
              "\n",
              "    .dataframe thead th {\n",
              "        text-align: right;\n",
              "    }\n",
              "</style>\n",
              "<table border=\"1\" class=\"dataframe\">\n",
              "  <thead>\n",
              "    <tr style=\"text-align: right;\">\n",
              "      <th></th>\n",
              "      <th>user_id</th>\n",
              "      <th>first_date_x</th>\n",
              "      <th>event_dt_x</th>\n",
              "    </tr>\n",
              "  </thead>\n",
              "  <tbody>\n",
              "    <tr>\n",
              "      <th>0</th>\n",
              "      <td>001064FEAAB631A1</td>\n",
              "      <td>2020-12-20</td>\n",
              "      <td>2020-12-26 15:55:17</td>\n",
              "    </tr>\n",
              "    <tr>\n",
              "      <th>1</th>\n",
              "      <td>00341D8401F0F665</td>\n",
              "      <td>2020-12-21</td>\n",
              "      <td>2020-12-24 12:16:01</td>\n",
              "    </tr>\n",
              "    <tr>\n",
              "      <th>2</th>\n",
              "      <td>0082295A41A867B5</td>\n",
              "      <td>2020-12-16</td>\n",
              "      <td>2020-12-22 06:25:54</td>\n",
              "    </tr>\n",
              "    <tr>\n",
              "      <th>3</th>\n",
              "      <td>00E68F103C66C1F7</td>\n",
              "      <td>2020-12-18</td>\n",
              "      <td>2020-12-23 07:25:08</td>\n",
              "    </tr>\n",
              "    <tr>\n",
              "      <th>4</th>\n",
              "      <td>00EFA157F7B6E1C4</td>\n",
              "      <td>2020-12-09</td>\n",
              "      <td>2020-12-18 05:32:38</td>\n",
              "    </tr>\n",
              "    <tr>\n",
              "      <th>...</th>\n",
              "      <td>...</td>\n",
              "      <td>...</td>\n",
              "      <td>...</td>\n",
              "    </tr>\n",
              "    <tr>\n",
              "      <th>818</th>\n",
              "      <td>FEA0C585A53E7027</td>\n",
              "      <td>2020-12-08</td>\n",
              "      <td>2020-12-08 06:10:25</td>\n",
              "    </tr>\n",
              "    <tr>\n",
              "      <th>819</th>\n",
              "      <td>FEC0BCA6C323872F</td>\n",
              "      <td>2020-12-18</td>\n",
              "      <td>2020-12-21 19:38:30</td>\n",
              "    </tr>\n",
              "    <tr>\n",
              "      <th>820</th>\n",
              "      <td>FF2174A1AA0EAD20</td>\n",
              "      <td>2020-12-14</td>\n",
              "      <td>2020-12-14 04:18:48</td>\n",
              "    </tr>\n",
              "    <tr>\n",
              "      <th>821</th>\n",
              "      <td>FF44696E39039D29</td>\n",
              "      <td>2020-12-21</td>\n",
              "      <td>2020-12-23 14:26:39</td>\n",
              "    </tr>\n",
              "    <tr>\n",
              "      <th>822</th>\n",
              "      <td>FFF28D02B1EACBE1</td>\n",
              "      <td>2020-12-16</td>\n",
              "      <td>2020-12-24 00:51:04</td>\n",
              "    </tr>\n",
              "  </tbody>\n",
              "</table>\n",
              "<p>823 rows × 3 columns</p>\n",
              "</div>\n",
              "      <button class=\"colab-df-convert\" onclick=\"convertToInteractive('df-75ae5240-af70-4862-a4c4-7471477c805b')\"\n",
              "              title=\"Convert this dataframe to an interactive table.\"\n",
              "              style=\"display:none;\">\n",
              "\n",
              "  <svg xmlns=\"http://www.w3.org/2000/svg\" height=\"24px\"viewBox=\"0 0 24 24\"\n",
              "       width=\"24px\">\n",
              "    <path d=\"M0 0h24v24H0V0z\" fill=\"none\"/>\n",
              "    <path d=\"M18.56 5.44l.94 2.06.94-2.06 2.06-.94-2.06-.94-.94-2.06-.94 2.06-2.06.94zm-11 1L8.5 8.5l.94-2.06 2.06-.94-2.06-.94L8.5 2.5l-.94 2.06-2.06.94zm10 10l.94 2.06.94-2.06 2.06-.94-2.06-.94-.94-2.06-.94 2.06-2.06.94z\"/><path d=\"M17.41 7.96l-1.37-1.37c-.4-.4-.92-.59-1.43-.59-.52 0-1.04.2-1.43.59L10.3 9.45l-7.72 7.72c-.78.78-.78 2.05 0 2.83L4 21.41c.39.39.9.59 1.41.59.51 0 1.02-.2 1.41-.59l7.78-7.78 2.81-2.81c.8-.78.8-2.07 0-2.86zM5.41 20L4 18.59l7.72-7.72 1.47 1.35L5.41 20z\"/>\n",
              "  </svg>\n",
              "      </button>\n",
              "\n",
              "\n",
              "\n",
              "    <div id=\"df-b83a2fcd-4957-411a-87ac-7e7b09505d56\">\n",
              "      <button class=\"colab-df-quickchart\" onclick=\"quickchart('df-b83a2fcd-4957-411a-87ac-7e7b09505d56')\"\n",
              "              title=\"Suggest charts.\"\n",
              "              style=\"display:none;\">\n",
              "\n",
              "<svg xmlns=\"http://www.w3.org/2000/svg\" height=\"24px\"viewBox=\"0 0 24 24\"\n",
              "     width=\"24px\">\n",
              "    <g>\n",
              "        <path d=\"M19 3H5c-1.1 0-2 .9-2 2v14c0 1.1.9 2 2 2h14c1.1 0 2-.9 2-2V5c0-1.1-.9-2-2-2zM9 17H7v-7h2v7zm4 0h-2V7h2v10zm4 0h-2v-4h2v4z\"/>\n",
              "    </g>\n",
              "</svg>\n",
              "      </button>\n",
              "    </div>\n",
              "\n",
              "<style>\n",
              "  .colab-df-quickchart {\n",
              "    background-color: #E8F0FE;\n",
              "    border: none;\n",
              "    border-radius: 50%;\n",
              "    cursor: pointer;\n",
              "    display: none;\n",
              "    fill: #1967D2;\n",
              "    height: 32px;\n",
              "    padding: 0 0 0 0;\n",
              "    width: 32px;\n",
              "  }\n",
              "\n",
              "  .colab-df-quickchart:hover {\n",
              "    background-color: #E2EBFA;\n",
              "    box-shadow: 0px 1px 2px rgba(60, 64, 67, 0.3), 0px 1px 3px 1px rgba(60, 64, 67, 0.15);\n",
              "    fill: #174EA6;\n",
              "  }\n",
              "\n",
              "  [theme=dark] .colab-df-quickchart {\n",
              "    background-color: #3B4455;\n",
              "    fill: #D2E3FC;\n",
              "  }\n",
              "\n",
              "  [theme=dark] .colab-df-quickchart:hover {\n",
              "    background-color: #434B5C;\n",
              "    box-shadow: 0px 1px 3px 1px rgba(0, 0, 0, 0.15);\n",
              "    filter: drop-shadow(0px 1px 2px rgba(0, 0, 0, 0.3));\n",
              "    fill: #FFFFFF;\n",
              "  }\n",
              "</style>\n",
              "\n",
              "    <script>\n",
              "      async function quickchart(key) {\n",
              "        const containerElement = document.querySelector('#' + key);\n",
              "        const charts = await google.colab.kernel.invokeFunction(\n",
              "            'suggestCharts', [key], {});\n",
              "      }\n",
              "    </script>\n",
              "\n",
              "      <script>\n",
              "\n",
              "function displayQuickchartButton(domScope) {\n",
              "  let quickchartButtonEl =\n",
              "    domScope.querySelector('#df-b83a2fcd-4957-411a-87ac-7e7b09505d56 button.colab-df-quickchart');\n",
              "  quickchartButtonEl.style.display =\n",
              "    google.colab.kernel.accessAllowed ? 'block' : 'none';\n",
              "}\n",
              "\n",
              "        displayQuickchartButton(document);\n",
              "      </script>\n",
              "      <style>\n",
              "    .colab-df-container {\n",
              "      display:flex;\n",
              "      flex-wrap:wrap;\n",
              "      gap: 12px;\n",
              "    }\n",
              "\n",
              "    .colab-df-convert {\n",
              "      background-color: #E8F0FE;\n",
              "      border: none;\n",
              "      border-radius: 50%;\n",
              "      cursor: pointer;\n",
              "      display: none;\n",
              "      fill: #1967D2;\n",
              "      height: 32px;\n",
              "      padding: 0 0 0 0;\n",
              "      width: 32px;\n",
              "    }\n",
              "\n",
              "    .colab-df-convert:hover {\n",
              "      background-color: #E2EBFA;\n",
              "      box-shadow: 0px 1px 2px rgba(60, 64, 67, 0.3), 0px 1px 3px 1px rgba(60, 64, 67, 0.15);\n",
              "      fill: #174EA6;\n",
              "    }\n",
              "\n",
              "    [theme=dark] .colab-df-convert {\n",
              "      background-color: #3B4455;\n",
              "      fill: #D2E3FC;\n",
              "    }\n",
              "\n",
              "    [theme=dark] .colab-df-convert:hover {\n",
              "      background-color: #434B5C;\n",
              "      box-shadow: 0px 1px 3px 1px rgba(0, 0, 0, 0.15);\n",
              "      filter: drop-shadow(0px 1px 2px rgba(0, 0, 0, 0.3));\n",
              "      fill: #FFFFFF;\n",
              "    }\n",
              "  </style>\n",
              "\n",
              "      <script>\n",
              "        const buttonEl =\n",
              "          document.querySelector('#df-75ae5240-af70-4862-a4c4-7471477c805b button.colab-df-convert');\n",
              "        buttonEl.style.display =\n",
              "          google.colab.kernel.accessAllowed ? 'block' : 'none';\n",
              "\n",
              "        async function convertToInteractive(key) {\n",
              "          const element = document.querySelector('#df-75ae5240-af70-4862-a4c4-7471477c805b');\n",
              "          const dataTable =\n",
              "            await google.colab.kernel.invokeFunction('convertToInteractive',\n",
              "                                                     [key], {});\n",
              "          if (!dataTable) return;\n",
              "\n",
              "          const docLinkHtml = 'Like what you see? Visit the ' +\n",
              "            '<a target=\"_blank\" href=https://colab.research.google.com/notebooks/data_table.ipynb>data table notebook</a>'\n",
              "            + ' to learn more about interactive tables.';\n",
              "          element.innerHTML = '';\n",
              "          dataTable['output_type'] = 'display_data';\n",
              "          await google.colab.output.renderOutput(dataTable, element);\n",
              "          const docLink = document.createElement('div');\n",
              "          docLink.innerHTML = docLinkHtml;\n",
              "          element.appendChild(docLink);\n",
              "        }\n",
              "      </script>\n",
              "    </div>\n",
              "  </div>\n"
            ]
          },
          "metadata": {},
          "execution_count": 39
        }
      ],
      "source": [
        "both_tests_users_14days"
      ]
    },
    {
      "cell_type": "code",
      "execution_count": 40,
      "metadata": {
        "colab": {
          "base_uri": "https://localhost:8080/"
        },
        "id": "hHbkg_8ntLHM",
        "outputId": "8a80bf52-331c-4248-e11d-470d2af85399"
      },
      "outputs": [
        {
          "output_type": "stream",
          "name": "stdout",
          "text": [
            "Количество пользователей, которые участвуют в двух тестах: 823 \n",
            "Что составляет: 12.96 % от общего числа пользователей в recommender_system_test\n"
          ]
        }
      ],
      "source": [
        "print('Количество пользователей, которые участвуют в двух тестах:', both_tests_users_14days['user_id'].nunique(), '\\nЧто составляет:', round(both_tests_users_14days['user_id'].nunique() / eu_users_in_test['ab_test'].value_counts()[1] * 100, 2), '% от общего числа пользователей в recommender_system_test')"
      ]
    },
    {
      "cell_type": "code",
      "execution_count": 41,
      "metadata": {
        "colab": {
          "base_uri": "https://localhost:8080/",
          "height": 424
        },
        "id": "2fWHSP1cHv0O",
        "outputId": "52f2be3b-fb50-435c-ca21-a01e8c74448b"
      },
      "outputs": [
        {
          "output_type": "execute_result",
          "data": {
            "text/plain": [
              "              user_id first_date_x          event_dt_x\n",
              "0    001064FEAAB631A1   2020-12-20 2020-12-26 15:55:17\n",
              "1    00341D8401F0F665   2020-12-21 2020-12-24 12:16:01\n",
              "2    0082295A41A867B5   2020-12-16 2020-12-22 06:25:54\n",
              "3    00E68F103C66C1F7   2020-12-18 2020-12-23 07:25:08\n",
              "4    00EFA157F7B6E1C4   2020-12-09 2020-12-18 05:32:38\n",
              "..                ...          ...                 ...\n",
              "818  FEA0C585A53E7027   2020-12-08 2020-12-08 06:10:25\n",
              "819  FEC0BCA6C323872F   2020-12-18 2020-12-21 19:38:30\n",
              "820  FF2174A1AA0EAD20   2020-12-14 2020-12-14 04:18:48\n",
              "821  FF44696E39039D29   2020-12-21 2020-12-23 14:26:39\n",
              "822  FFF28D02B1EACBE1   2020-12-16 2020-12-24 00:51:04\n",
              "\n",
              "[823 rows x 3 columns]"
            ],
            "text/html": [
              "\n",
              "\n",
              "  <div id=\"df-de4b8dc8-6d15-4086-a557-14468d1136a1\">\n",
              "    <div class=\"colab-df-container\">\n",
              "      <div>\n",
              "<style scoped>\n",
              "    .dataframe tbody tr th:only-of-type {\n",
              "        vertical-align: middle;\n",
              "    }\n",
              "\n",
              "    .dataframe tbody tr th {\n",
              "        vertical-align: top;\n",
              "    }\n",
              "\n",
              "    .dataframe thead th {\n",
              "        text-align: right;\n",
              "    }\n",
              "</style>\n",
              "<table border=\"1\" class=\"dataframe\">\n",
              "  <thead>\n",
              "    <tr style=\"text-align: right;\">\n",
              "      <th></th>\n",
              "      <th>user_id</th>\n",
              "      <th>first_date_x</th>\n",
              "      <th>event_dt_x</th>\n",
              "    </tr>\n",
              "  </thead>\n",
              "  <tbody>\n",
              "    <tr>\n",
              "      <th>0</th>\n",
              "      <td>001064FEAAB631A1</td>\n",
              "      <td>2020-12-20</td>\n",
              "      <td>2020-12-26 15:55:17</td>\n",
              "    </tr>\n",
              "    <tr>\n",
              "      <th>1</th>\n",
              "      <td>00341D8401F0F665</td>\n",
              "      <td>2020-12-21</td>\n",
              "      <td>2020-12-24 12:16:01</td>\n",
              "    </tr>\n",
              "    <tr>\n",
              "      <th>2</th>\n",
              "      <td>0082295A41A867B5</td>\n",
              "      <td>2020-12-16</td>\n",
              "      <td>2020-12-22 06:25:54</td>\n",
              "    </tr>\n",
              "    <tr>\n",
              "      <th>3</th>\n",
              "      <td>00E68F103C66C1F7</td>\n",
              "      <td>2020-12-18</td>\n",
              "      <td>2020-12-23 07:25:08</td>\n",
              "    </tr>\n",
              "    <tr>\n",
              "      <th>4</th>\n",
              "      <td>00EFA157F7B6E1C4</td>\n",
              "      <td>2020-12-09</td>\n",
              "      <td>2020-12-18 05:32:38</td>\n",
              "    </tr>\n",
              "    <tr>\n",
              "      <th>...</th>\n",
              "      <td>...</td>\n",
              "      <td>...</td>\n",
              "      <td>...</td>\n",
              "    </tr>\n",
              "    <tr>\n",
              "      <th>818</th>\n",
              "      <td>FEA0C585A53E7027</td>\n",
              "      <td>2020-12-08</td>\n",
              "      <td>2020-12-08 06:10:25</td>\n",
              "    </tr>\n",
              "    <tr>\n",
              "      <th>819</th>\n",
              "      <td>FEC0BCA6C323872F</td>\n",
              "      <td>2020-12-18</td>\n",
              "      <td>2020-12-21 19:38:30</td>\n",
              "    </tr>\n",
              "    <tr>\n",
              "      <th>820</th>\n",
              "      <td>FF2174A1AA0EAD20</td>\n",
              "      <td>2020-12-14</td>\n",
              "      <td>2020-12-14 04:18:48</td>\n",
              "    </tr>\n",
              "    <tr>\n",
              "      <th>821</th>\n",
              "      <td>FF44696E39039D29</td>\n",
              "      <td>2020-12-21</td>\n",
              "      <td>2020-12-23 14:26:39</td>\n",
              "    </tr>\n",
              "    <tr>\n",
              "      <th>822</th>\n",
              "      <td>FFF28D02B1EACBE1</td>\n",
              "      <td>2020-12-16</td>\n",
              "      <td>2020-12-24 00:51:04</td>\n",
              "    </tr>\n",
              "  </tbody>\n",
              "</table>\n",
              "<p>823 rows × 3 columns</p>\n",
              "</div>\n",
              "      <button class=\"colab-df-convert\" onclick=\"convertToInteractive('df-de4b8dc8-6d15-4086-a557-14468d1136a1')\"\n",
              "              title=\"Convert this dataframe to an interactive table.\"\n",
              "              style=\"display:none;\">\n",
              "\n",
              "  <svg xmlns=\"http://www.w3.org/2000/svg\" height=\"24px\"viewBox=\"0 0 24 24\"\n",
              "       width=\"24px\">\n",
              "    <path d=\"M0 0h24v24H0V0z\" fill=\"none\"/>\n",
              "    <path d=\"M18.56 5.44l.94 2.06.94-2.06 2.06-.94-2.06-.94-.94-2.06-.94 2.06-2.06.94zm-11 1L8.5 8.5l.94-2.06 2.06-.94-2.06-.94L8.5 2.5l-.94 2.06-2.06.94zm10 10l.94 2.06.94-2.06 2.06-.94-2.06-.94-.94-2.06-.94 2.06-2.06.94z\"/><path d=\"M17.41 7.96l-1.37-1.37c-.4-.4-.92-.59-1.43-.59-.52 0-1.04.2-1.43.59L10.3 9.45l-7.72 7.72c-.78.78-.78 2.05 0 2.83L4 21.41c.39.39.9.59 1.41.59.51 0 1.02-.2 1.41-.59l7.78-7.78 2.81-2.81c.8-.78.8-2.07 0-2.86zM5.41 20L4 18.59l7.72-7.72 1.47 1.35L5.41 20z\"/>\n",
              "  </svg>\n",
              "      </button>\n",
              "\n",
              "\n",
              "\n",
              "    <div id=\"df-4cff8497-b8a8-40d6-aa9a-87ab1ab4ed8d\">\n",
              "      <button class=\"colab-df-quickchart\" onclick=\"quickchart('df-4cff8497-b8a8-40d6-aa9a-87ab1ab4ed8d')\"\n",
              "              title=\"Suggest charts.\"\n",
              "              style=\"display:none;\">\n",
              "\n",
              "<svg xmlns=\"http://www.w3.org/2000/svg\" height=\"24px\"viewBox=\"0 0 24 24\"\n",
              "     width=\"24px\">\n",
              "    <g>\n",
              "        <path d=\"M19 3H5c-1.1 0-2 .9-2 2v14c0 1.1.9 2 2 2h14c1.1 0 2-.9 2-2V5c0-1.1-.9-2-2-2zM9 17H7v-7h2v7zm4 0h-2V7h2v10zm4 0h-2v-4h2v4z\"/>\n",
              "    </g>\n",
              "</svg>\n",
              "      </button>\n",
              "    </div>\n",
              "\n",
              "<style>\n",
              "  .colab-df-quickchart {\n",
              "    background-color: #E8F0FE;\n",
              "    border: none;\n",
              "    border-radius: 50%;\n",
              "    cursor: pointer;\n",
              "    display: none;\n",
              "    fill: #1967D2;\n",
              "    height: 32px;\n",
              "    padding: 0 0 0 0;\n",
              "    width: 32px;\n",
              "  }\n",
              "\n",
              "  .colab-df-quickchart:hover {\n",
              "    background-color: #E2EBFA;\n",
              "    box-shadow: 0px 1px 2px rgba(60, 64, 67, 0.3), 0px 1px 3px 1px rgba(60, 64, 67, 0.15);\n",
              "    fill: #174EA6;\n",
              "  }\n",
              "\n",
              "  [theme=dark] .colab-df-quickchart {\n",
              "    background-color: #3B4455;\n",
              "    fill: #D2E3FC;\n",
              "  }\n",
              "\n",
              "  [theme=dark] .colab-df-quickchart:hover {\n",
              "    background-color: #434B5C;\n",
              "    box-shadow: 0px 1px 3px 1px rgba(0, 0, 0, 0.15);\n",
              "    filter: drop-shadow(0px 1px 2px rgba(0, 0, 0, 0.3));\n",
              "    fill: #FFFFFF;\n",
              "  }\n",
              "</style>\n",
              "\n",
              "    <script>\n",
              "      async function quickchart(key) {\n",
              "        const containerElement = document.querySelector('#' + key);\n",
              "        const charts = await google.colab.kernel.invokeFunction(\n",
              "            'suggestCharts', [key], {});\n",
              "      }\n",
              "    </script>\n",
              "\n",
              "      <script>\n",
              "\n",
              "function displayQuickchartButton(domScope) {\n",
              "  let quickchartButtonEl =\n",
              "    domScope.querySelector('#df-4cff8497-b8a8-40d6-aa9a-87ab1ab4ed8d button.colab-df-quickchart');\n",
              "  quickchartButtonEl.style.display =\n",
              "    google.colab.kernel.accessAllowed ? 'block' : 'none';\n",
              "}\n",
              "\n",
              "        displayQuickchartButton(document);\n",
              "      </script>\n",
              "      <style>\n",
              "    .colab-df-container {\n",
              "      display:flex;\n",
              "      flex-wrap:wrap;\n",
              "      gap: 12px;\n",
              "    }\n",
              "\n",
              "    .colab-df-convert {\n",
              "      background-color: #E8F0FE;\n",
              "      border: none;\n",
              "      border-radius: 50%;\n",
              "      cursor: pointer;\n",
              "      display: none;\n",
              "      fill: #1967D2;\n",
              "      height: 32px;\n",
              "      padding: 0 0 0 0;\n",
              "      width: 32px;\n",
              "    }\n",
              "\n",
              "    .colab-df-convert:hover {\n",
              "      background-color: #E2EBFA;\n",
              "      box-shadow: 0px 1px 2px rgba(60, 64, 67, 0.3), 0px 1px 3px 1px rgba(60, 64, 67, 0.15);\n",
              "      fill: #174EA6;\n",
              "    }\n",
              "\n",
              "    [theme=dark] .colab-df-convert {\n",
              "      background-color: #3B4455;\n",
              "      fill: #D2E3FC;\n",
              "    }\n",
              "\n",
              "    [theme=dark] .colab-df-convert:hover {\n",
              "      background-color: #434B5C;\n",
              "      box-shadow: 0px 1px 3px 1px rgba(0, 0, 0, 0.15);\n",
              "      filter: drop-shadow(0px 1px 2px rgba(0, 0, 0, 0.3));\n",
              "      fill: #FFFFFF;\n",
              "    }\n",
              "  </style>\n",
              "\n",
              "      <script>\n",
              "        const buttonEl =\n",
              "          document.querySelector('#df-de4b8dc8-6d15-4086-a557-14468d1136a1 button.colab-df-convert');\n",
              "        buttonEl.style.display =\n",
              "          google.colab.kernel.accessAllowed ? 'block' : 'none';\n",
              "\n",
              "        async function convertToInteractive(key) {\n",
              "          const element = document.querySelector('#df-de4b8dc8-6d15-4086-a557-14468d1136a1');\n",
              "          const dataTable =\n",
              "            await google.colab.kernel.invokeFunction('convertToInteractive',\n",
              "                                                     [key], {});\n",
              "          if (!dataTable) return;\n",
              "\n",
              "          const docLinkHtml = 'Like what you see? Visit the ' +\n",
              "            '<a target=\"_blank\" href=https://colab.research.google.com/notebooks/data_table.ipynb>data table notebook</a>'\n",
              "            + ' to learn more about interactive tables.';\n",
              "          element.innerHTML = '';\n",
              "          dataTable['output_type'] = 'display_data';\n",
              "          await google.colab.output.renderOutput(dataTable, element);\n",
              "          const docLink = document.createElement('div');\n",
              "          docLink.innerHTML = docLinkHtml;\n",
              "          element.appendChild(docLink);\n",
              "        }\n",
              "      </script>\n",
              "    </div>\n",
              "  </div>\n"
            ]
          },
          "metadata": {},
          "execution_count": 41
        }
      ],
      "source": [
        "both_tests_users_14days"
      ]
    },
    {
      "cell_type": "code",
      "execution_count": 42,
      "metadata": {
        "colab": {
          "base_uri": "https://localhost:8080/"
        },
        "id": "bXoojgoKt_1i",
        "outputId": "224c83e2-5ff6-47e6-a682-23b8b27a8ff6"
      },
      "outputs": [
        {
          "output_type": "execute_result",
          "data": {
            "text/plain": [
              "0"
            ]
          },
          "metadata": {},
          "execution_count": 42
        }
      ],
      "source": [
        "both_tests_users[both_tests_users['group_x'] == 'A']['user_id'].isin(both_tests_users[both_tests_users['group_x'] == 'B']['user_id']).sum()"
      ]
    },
    {
      "cell_type": "markdown",
      "metadata": {
        "id": "aya7LIz4ufPJ"
      },
      "source": [
        "Итак, мы выяснили, что между двумя тестами есть пересечения, но поскольку мы не знаем характера второго теста, то и судить о том, насколько эти пересечения мешают нам мы не можем. Второй тест может вообще не пересекаться в плане тестируемого материала. Внутри `recommender_system_test` пользователи из разных групп (контрольной, экспериментальной) не пересекаются."
      ]
    },
    {
      "cell_type": "code",
      "execution_count": 43,
      "metadata": {
        "colab": {
          "base_uri": "https://localhost:8080/",
          "height": 143
        },
        "id": "uPRxKw71Hv0O",
        "outputId": "10f8cf4e-12bb-40b4-865e-ff23db88670c"
      },
      "outputs": [
        {
          "output_type": "execute_result",
          "data": {
            "text/plain": [
              "         user_id\n",
              "group_y         \n",
              "A            731\n",
              "B            505"
            ],
            "text/html": [
              "\n",
              "\n",
              "  <div id=\"df-7101278a-d99a-4289-bc92-0eea83f42716\">\n",
              "    <div class=\"colab-df-container\">\n",
              "      <div>\n",
              "<style scoped>\n",
              "    .dataframe tbody tr th:only-of-type {\n",
              "        vertical-align: middle;\n",
              "    }\n",
              "\n",
              "    .dataframe tbody tr th {\n",
              "        vertical-align: top;\n",
              "    }\n",
              "\n",
              "    .dataframe thead th {\n",
              "        text-align: right;\n",
              "    }\n",
              "</style>\n",
              "<table border=\"1\" class=\"dataframe\">\n",
              "  <thead>\n",
              "    <tr style=\"text-align: right;\">\n",
              "      <th></th>\n",
              "      <th>user_id</th>\n",
              "    </tr>\n",
              "    <tr>\n",
              "      <th>group_y</th>\n",
              "      <th></th>\n",
              "    </tr>\n",
              "  </thead>\n",
              "  <tbody>\n",
              "    <tr>\n",
              "      <th>A</th>\n",
              "      <td>731</td>\n",
              "    </tr>\n",
              "    <tr>\n",
              "      <th>B</th>\n",
              "      <td>505</td>\n",
              "    </tr>\n",
              "  </tbody>\n",
              "</table>\n",
              "</div>\n",
              "      <button class=\"colab-df-convert\" onclick=\"convertToInteractive('df-7101278a-d99a-4289-bc92-0eea83f42716')\"\n",
              "              title=\"Convert this dataframe to an interactive table.\"\n",
              "              style=\"display:none;\">\n",
              "\n",
              "  <svg xmlns=\"http://www.w3.org/2000/svg\" height=\"24px\"viewBox=\"0 0 24 24\"\n",
              "       width=\"24px\">\n",
              "    <path d=\"M0 0h24v24H0V0z\" fill=\"none\"/>\n",
              "    <path d=\"M18.56 5.44l.94 2.06.94-2.06 2.06-.94-2.06-.94-.94-2.06-.94 2.06-2.06.94zm-11 1L8.5 8.5l.94-2.06 2.06-.94-2.06-.94L8.5 2.5l-.94 2.06-2.06.94zm10 10l.94 2.06.94-2.06 2.06-.94-2.06-.94-.94-2.06-.94 2.06-2.06.94z\"/><path d=\"M17.41 7.96l-1.37-1.37c-.4-.4-.92-.59-1.43-.59-.52 0-1.04.2-1.43.59L10.3 9.45l-7.72 7.72c-.78.78-.78 2.05 0 2.83L4 21.41c.39.39.9.59 1.41.59.51 0 1.02-.2 1.41-.59l7.78-7.78 2.81-2.81c.8-.78.8-2.07 0-2.86zM5.41 20L4 18.59l7.72-7.72 1.47 1.35L5.41 20z\"/>\n",
              "  </svg>\n",
              "      </button>\n",
              "\n",
              "\n",
              "\n",
              "    <div id=\"df-60041922-8545-4164-a74e-a9a98bbba9ff\">\n",
              "      <button class=\"colab-df-quickchart\" onclick=\"quickchart('df-60041922-8545-4164-a74e-a9a98bbba9ff')\"\n",
              "              title=\"Suggest charts.\"\n",
              "              style=\"display:none;\">\n",
              "\n",
              "<svg xmlns=\"http://www.w3.org/2000/svg\" height=\"24px\"viewBox=\"0 0 24 24\"\n",
              "     width=\"24px\">\n",
              "    <g>\n",
              "        <path d=\"M19 3H5c-1.1 0-2 .9-2 2v14c0 1.1.9 2 2 2h14c1.1 0 2-.9 2-2V5c0-1.1-.9-2-2-2zM9 17H7v-7h2v7zm4 0h-2V7h2v10zm4 0h-2v-4h2v4z\"/>\n",
              "    </g>\n",
              "</svg>\n",
              "      </button>\n",
              "    </div>\n",
              "\n",
              "<style>\n",
              "  .colab-df-quickchart {\n",
              "    background-color: #E8F0FE;\n",
              "    border: none;\n",
              "    border-radius: 50%;\n",
              "    cursor: pointer;\n",
              "    display: none;\n",
              "    fill: #1967D2;\n",
              "    height: 32px;\n",
              "    padding: 0 0 0 0;\n",
              "    width: 32px;\n",
              "  }\n",
              "\n",
              "  .colab-df-quickchart:hover {\n",
              "    background-color: #E2EBFA;\n",
              "    box-shadow: 0px 1px 2px rgba(60, 64, 67, 0.3), 0px 1px 3px 1px rgba(60, 64, 67, 0.15);\n",
              "    fill: #174EA6;\n",
              "  }\n",
              "\n",
              "  [theme=dark] .colab-df-quickchart {\n",
              "    background-color: #3B4455;\n",
              "    fill: #D2E3FC;\n",
              "  }\n",
              "\n",
              "  [theme=dark] .colab-df-quickchart:hover {\n",
              "    background-color: #434B5C;\n",
              "    box-shadow: 0px 1px 3px 1px rgba(0, 0, 0, 0.15);\n",
              "    filter: drop-shadow(0px 1px 2px rgba(0, 0, 0, 0.3));\n",
              "    fill: #FFFFFF;\n",
              "  }\n",
              "</style>\n",
              "\n",
              "    <script>\n",
              "      async function quickchart(key) {\n",
              "        const containerElement = document.querySelector('#' + key);\n",
              "        const charts = await google.colab.kernel.invokeFunction(\n",
              "            'suggestCharts', [key], {});\n",
              "      }\n",
              "    </script>\n",
              "\n",
              "      <script>\n",
              "\n",
              "function displayQuickchartButton(domScope) {\n",
              "  let quickchartButtonEl =\n",
              "    domScope.querySelector('#df-60041922-8545-4164-a74e-a9a98bbba9ff button.colab-df-quickchart');\n",
              "  quickchartButtonEl.style.display =\n",
              "    google.colab.kernel.accessAllowed ? 'block' : 'none';\n",
              "}\n",
              "\n",
              "        displayQuickchartButton(document);\n",
              "      </script>\n",
              "      <style>\n",
              "    .colab-df-container {\n",
              "      display:flex;\n",
              "      flex-wrap:wrap;\n",
              "      gap: 12px;\n",
              "    }\n",
              "\n",
              "    .colab-df-convert {\n",
              "      background-color: #E8F0FE;\n",
              "      border: none;\n",
              "      border-radius: 50%;\n",
              "      cursor: pointer;\n",
              "      display: none;\n",
              "      fill: #1967D2;\n",
              "      height: 32px;\n",
              "      padding: 0 0 0 0;\n",
              "      width: 32px;\n",
              "    }\n",
              "\n",
              "    .colab-df-convert:hover {\n",
              "      background-color: #E2EBFA;\n",
              "      box-shadow: 0px 1px 2px rgba(60, 64, 67, 0.3), 0px 1px 3px 1px rgba(60, 64, 67, 0.15);\n",
              "      fill: #174EA6;\n",
              "    }\n",
              "\n",
              "    [theme=dark] .colab-df-convert {\n",
              "      background-color: #3B4455;\n",
              "      fill: #D2E3FC;\n",
              "    }\n",
              "\n",
              "    [theme=dark] .colab-df-convert:hover {\n",
              "      background-color: #434B5C;\n",
              "      box-shadow: 0px 1px 3px 1px rgba(0, 0, 0, 0.15);\n",
              "      filter: drop-shadow(0px 1px 2px rgba(0, 0, 0, 0.3));\n",
              "      fill: #FFFFFF;\n",
              "    }\n",
              "  </style>\n",
              "\n",
              "      <script>\n",
              "        const buttonEl =\n",
              "          document.querySelector('#df-7101278a-d99a-4289-bc92-0eea83f42716 button.colab-df-convert');\n",
              "        buttonEl.style.display =\n",
              "          google.colab.kernel.accessAllowed ? 'block' : 'none';\n",
              "\n",
              "        async function convertToInteractive(key) {\n",
              "          const element = document.querySelector('#df-7101278a-d99a-4289-bc92-0eea83f42716');\n",
              "          const dataTable =\n",
              "            await google.colab.kernel.invokeFunction('convertToInteractive',\n",
              "                                                     [key], {});\n",
              "          if (!dataTable) return;\n",
              "\n",
              "          const docLinkHtml = 'Like what you see? Visit the ' +\n",
              "            '<a target=\"_blank\" href=https://colab.research.google.com/notebooks/data_table.ipynb>data table notebook</a>'\n",
              "            + ' to learn more about interactive tables.';\n",
              "          element.innerHTML = '';\n",
              "          dataTable['output_type'] = 'display_data';\n",
              "          await google.colab.output.renderOutput(dataTable, element);\n",
              "          const docLink = document.createElement('div');\n",
              "          docLink.innerHTML = docLinkHtml;\n",
              "          element.appendChild(docLink);\n",
              "        }\n",
              "      </script>\n",
              "    </div>\n",
              "  </div>\n"
            ]
          },
          "metadata": {},
          "execution_count": 43
        }
      ],
      "source": [
        "both_tests_users.groupby('group_y').agg({'user_id':'nunique'})"
      ]
    },
    {
      "cell_type": "markdown",
      "metadata": {
        "id": "MSNsNkOgsDwT"
      },
      "source": [
        "Проверим равномерность распределения по тестовым группам и правильность их формирования."
      ]
    },
    {
      "cell_type": "code",
      "execution_count": 44,
      "metadata": {
        "id": "Lm679FmDHv0O"
      },
      "outputs": [],
      "source": [
        "test_participants_14_days = test_participants.merge(events, on='user_id', how='inner')"
      ]
    },
    {
      "cell_type": "code",
      "execution_count": 45,
      "metadata": {
        "id": "K73WNLULHv0P"
      },
      "outputs": [],
      "source": [
        "test_participants_14_days = test_participants_14_days.query('\"2020-12-07\" <= event_dt <= \"2020-12-21\"')"
      ]
    },
    {
      "cell_type": "code",
      "execution_count": 46,
      "metadata": {
        "colab": {
          "base_uri": "https://localhost:8080/",
          "height": 206
        },
        "id": "myDQ7vN_Hv0P",
        "outputId": "f0ba26f9-964a-4278-bb81-017e1e10f8c5"
      },
      "outputs": [
        {
          "output_type": "execute_result",
          "data": {
            "text/plain": [
              "            user_id group                  ab_test            event_dt  \\\n",
              "0  D1ABA3E2887B6A73     A  recommender_system_test 2020-12-07 14:43:27   \n",
              "2  D1ABA3E2887B6A73     A  recommender_system_test 2020-12-07 14:43:29   \n",
              "4  D1ABA3E2887B6A73     A  recommender_system_test 2020-12-07 14:43:27   \n",
              "6  D1ABA3E2887B6A73     A  recommender_system_test 2020-12-07 14:43:27   \n",
              "8  A7A3664BD6242119     A  recommender_system_test 2020-12-20 15:46:06   \n",
              "\n",
              "     event_name  details  \n",
              "0      purchase    99.99  \n",
              "2  product_cart      NaN  \n",
              "4  product_page      NaN  \n",
              "6         login      NaN  \n",
              "8  product_page      NaN  "
            ],
            "text/html": [
              "\n",
              "\n",
              "  <div id=\"df-5487d99d-8663-43db-8edb-d1b9faea2fae\">\n",
              "    <div class=\"colab-df-container\">\n",
              "      <div>\n",
              "<style scoped>\n",
              "    .dataframe tbody tr th:only-of-type {\n",
              "        vertical-align: middle;\n",
              "    }\n",
              "\n",
              "    .dataframe tbody tr th {\n",
              "        vertical-align: top;\n",
              "    }\n",
              "\n",
              "    .dataframe thead th {\n",
              "        text-align: right;\n",
              "    }\n",
              "</style>\n",
              "<table border=\"1\" class=\"dataframe\">\n",
              "  <thead>\n",
              "    <tr style=\"text-align: right;\">\n",
              "      <th></th>\n",
              "      <th>user_id</th>\n",
              "      <th>group</th>\n",
              "      <th>ab_test</th>\n",
              "      <th>event_dt</th>\n",
              "      <th>event_name</th>\n",
              "      <th>details</th>\n",
              "    </tr>\n",
              "  </thead>\n",
              "  <tbody>\n",
              "    <tr>\n",
              "      <th>0</th>\n",
              "      <td>D1ABA3E2887B6A73</td>\n",
              "      <td>A</td>\n",
              "      <td>recommender_system_test</td>\n",
              "      <td>2020-12-07 14:43:27</td>\n",
              "      <td>purchase</td>\n",
              "      <td>99.99</td>\n",
              "    </tr>\n",
              "    <tr>\n",
              "      <th>2</th>\n",
              "      <td>D1ABA3E2887B6A73</td>\n",
              "      <td>A</td>\n",
              "      <td>recommender_system_test</td>\n",
              "      <td>2020-12-07 14:43:29</td>\n",
              "      <td>product_cart</td>\n",
              "      <td>NaN</td>\n",
              "    </tr>\n",
              "    <tr>\n",
              "      <th>4</th>\n",
              "      <td>D1ABA3E2887B6A73</td>\n",
              "      <td>A</td>\n",
              "      <td>recommender_system_test</td>\n",
              "      <td>2020-12-07 14:43:27</td>\n",
              "      <td>product_page</td>\n",
              "      <td>NaN</td>\n",
              "    </tr>\n",
              "    <tr>\n",
              "      <th>6</th>\n",
              "      <td>D1ABA3E2887B6A73</td>\n",
              "      <td>A</td>\n",
              "      <td>recommender_system_test</td>\n",
              "      <td>2020-12-07 14:43:27</td>\n",
              "      <td>login</td>\n",
              "      <td>NaN</td>\n",
              "    </tr>\n",
              "    <tr>\n",
              "      <th>8</th>\n",
              "      <td>A7A3664BD6242119</td>\n",
              "      <td>A</td>\n",
              "      <td>recommender_system_test</td>\n",
              "      <td>2020-12-20 15:46:06</td>\n",
              "      <td>product_page</td>\n",
              "      <td>NaN</td>\n",
              "    </tr>\n",
              "  </tbody>\n",
              "</table>\n",
              "</div>\n",
              "      <button class=\"colab-df-convert\" onclick=\"convertToInteractive('df-5487d99d-8663-43db-8edb-d1b9faea2fae')\"\n",
              "              title=\"Convert this dataframe to an interactive table.\"\n",
              "              style=\"display:none;\">\n",
              "\n",
              "  <svg xmlns=\"http://www.w3.org/2000/svg\" height=\"24px\"viewBox=\"0 0 24 24\"\n",
              "       width=\"24px\">\n",
              "    <path d=\"M0 0h24v24H0V0z\" fill=\"none\"/>\n",
              "    <path d=\"M18.56 5.44l.94 2.06.94-2.06 2.06-.94-2.06-.94-.94-2.06-.94 2.06-2.06.94zm-11 1L8.5 8.5l.94-2.06 2.06-.94-2.06-.94L8.5 2.5l-.94 2.06-2.06.94zm10 10l.94 2.06.94-2.06 2.06-.94-2.06-.94-.94-2.06-.94 2.06-2.06.94z\"/><path d=\"M17.41 7.96l-1.37-1.37c-.4-.4-.92-.59-1.43-.59-.52 0-1.04.2-1.43.59L10.3 9.45l-7.72 7.72c-.78.78-.78 2.05 0 2.83L4 21.41c.39.39.9.59 1.41.59.51 0 1.02-.2 1.41-.59l7.78-7.78 2.81-2.81c.8-.78.8-2.07 0-2.86zM5.41 20L4 18.59l7.72-7.72 1.47 1.35L5.41 20z\"/>\n",
              "  </svg>\n",
              "      </button>\n",
              "\n",
              "\n",
              "\n",
              "    <div id=\"df-2e556f0d-f55e-4337-8801-0e85b0c24ce5\">\n",
              "      <button class=\"colab-df-quickchart\" onclick=\"quickchart('df-2e556f0d-f55e-4337-8801-0e85b0c24ce5')\"\n",
              "              title=\"Suggest charts.\"\n",
              "              style=\"display:none;\">\n",
              "\n",
              "<svg xmlns=\"http://www.w3.org/2000/svg\" height=\"24px\"viewBox=\"0 0 24 24\"\n",
              "     width=\"24px\">\n",
              "    <g>\n",
              "        <path d=\"M19 3H5c-1.1 0-2 .9-2 2v14c0 1.1.9 2 2 2h14c1.1 0 2-.9 2-2V5c0-1.1-.9-2-2-2zM9 17H7v-7h2v7zm4 0h-2V7h2v10zm4 0h-2v-4h2v4z\"/>\n",
              "    </g>\n",
              "</svg>\n",
              "      </button>\n",
              "    </div>\n",
              "\n",
              "<style>\n",
              "  .colab-df-quickchart {\n",
              "    background-color: #E8F0FE;\n",
              "    border: none;\n",
              "    border-radius: 50%;\n",
              "    cursor: pointer;\n",
              "    display: none;\n",
              "    fill: #1967D2;\n",
              "    height: 32px;\n",
              "    padding: 0 0 0 0;\n",
              "    width: 32px;\n",
              "  }\n",
              "\n",
              "  .colab-df-quickchart:hover {\n",
              "    background-color: #E2EBFA;\n",
              "    box-shadow: 0px 1px 2px rgba(60, 64, 67, 0.3), 0px 1px 3px 1px rgba(60, 64, 67, 0.15);\n",
              "    fill: #174EA6;\n",
              "  }\n",
              "\n",
              "  [theme=dark] .colab-df-quickchart {\n",
              "    background-color: #3B4455;\n",
              "    fill: #D2E3FC;\n",
              "  }\n",
              "\n",
              "  [theme=dark] .colab-df-quickchart:hover {\n",
              "    background-color: #434B5C;\n",
              "    box-shadow: 0px 1px 3px 1px rgba(0, 0, 0, 0.15);\n",
              "    filter: drop-shadow(0px 1px 2px rgba(0, 0, 0, 0.3));\n",
              "    fill: #FFFFFF;\n",
              "  }\n",
              "</style>\n",
              "\n",
              "    <script>\n",
              "      async function quickchart(key) {\n",
              "        const containerElement = document.querySelector('#' + key);\n",
              "        const charts = await google.colab.kernel.invokeFunction(\n",
              "            'suggestCharts', [key], {});\n",
              "      }\n",
              "    </script>\n",
              "\n",
              "      <script>\n",
              "\n",
              "function displayQuickchartButton(domScope) {\n",
              "  let quickchartButtonEl =\n",
              "    domScope.querySelector('#df-2e556f0d-f55e-4337-8801-0e85b0c24ce5 button.colab-df-quickchart');\n",
              "  quickchartButtonEl.style.display =\n",
              "    google.colab.kernel.accessAllowed ? 'block' : 'none';\n",
              "}\n",
              "\n",
              "        displayQuickchartButton(document);\n",
              "      </script>\n",
              "      <style>\n",
              "    .colab-df-container {\n",
              "      display:flex;\n",
              "      flex-wrap:wrap;\n",
              "      gap: 12px;\n",
              "    }\n",
              "\n",
              "    .colab-df-convert {\n",
              "      background-color: #E8F0FE;\n",
              "      border: none;\n",
              "      border-radius: 50%;\n",
              "      cursor: pointer;\n",
              "      display: none;\n",
              "      fill: #1967D2;\n",
              "      height: 32px;\n",
              "      padding: 0 0 0 0;\n",
              "      width: 32px;\n",
              "    }\n",
              "\n",
              "    .colab-df-convert:hover {\n",
              "      background-color: #E2EBFA;\n",
              "      box-shadow: 0px 1px 2px rgba(60, 64, 67, 0.3), 0px 1px 3px 1px rgba(60, 64, 67, 0.15);\n",
              "      fill: #174EA6;\n",
              "    }\n",
              "\n",
              "    [theme=dark] .colab-df-convert {\n",
              "      background-color: #3B4455;\n",
              "      fill: #D2E3FC;\n",
              "    }\n",
              "\n",
              "    [theme=dark] .colab-df-convert:hover {\n",
              "      background-color: #434B5C;\n",
              "      box-shadow: 0px 1px 3px 1px rgba(0, 0, 0, 0.15);\n",
              "      filter: drop-shadow(0px 1px 2px rgba(0, 0, 0, 0.3));\n",
              "      fill: #FFFFFF;\n",
              "    }\n",
              "  </style>\n",
              "\n",
              "      <script>\n",
              "        const buttonEl =\n",
              "          document.querySelector('#df-5487d99d-8663-43db-8edb-d1b9faea2fae button.colab-df-convert');\n",
              "        buttonEl.style.display =\n",
              "          google.colab.kernel.accessAllowed ? 'block' : 'none';\n",
              "\n",
              "        async function convertToInteractive(key) {\n",
              "          const element = document.querySelector('#df-5487d99d-8663-43db-8edb-d1b9faea2fae');\n",
              "          const dataTable =\n",
              "            await google.colab.kernel.invokeFunction('convertToInteractive',\n",
              "                                                     [key], {});\n",
              "          if (!dataTable) return;\n",
              "\n",
              "          const docLinkHtml = 'Like what you see? Visit the ' +\n",
              "            '<a target=\"_blank\" href=https://colab.research.google.com/notebooks/data_table.ipynb>data table notebook</a>'\n",
              "            + ' to learn more about interactive tables.';\n",
              "          element.innerHTML = '';\n",
              "          dataTable['output_type'] = 'display_data';\n",
              "          await google.colab.output.renderOutput(dataTable, element);\n",
              "          const docLink = document.createElement('div');\n",
              "          docLink.innerHTML = docLinkHtml;\n",
              "          element.appendChild(docLink);\n",
              "        }\n",
              "      </script>\n",
              "    </div>\n",
              "  </div>\n"
            ]
          },
          "metadata": {},
          "execution_count": 46
        }
      ],
      "source": [
        "test_participants_14_days.head()"
      ]
    },
    {
      "cell_type": "code",
      "execution_count": 47,
      "metadata": {
        "id": "yw313UdfYgt8"
      },
      "outputs": [],
      "source": [
        "test_groupby = test_participants_14_days.groupby(['ab_test', 'group']).agg({'user_id' : 'nunique'}).reset_index()"
      ]
    },
    {
      "cell_type": "code",
      "execution_count": 48,
      "metadata": {
        "colab": {
          "base_uri": "https://localhost:8080/",
          "height": 175
        },
        "id": "18bEj-dnFXah",
        "outputId": "f104bf25-7ade-406e-f00f-2f73a188c9d8"
      },
      "outputs": [
        {
          "output_type": "execute_result",
          "data": {
            "text/plain": [
              "                   ab_test group  user_id\n",
              "0        interface_eu_test     A     4405\n",
              "1        interface_eu_test     B     4309\n",
              "2  recommender_system_test     A     2330\n",
              "3  recommender_system_test     B      835"
            ],
            "text/html": [
              "\n",
              "\n",
              "  <div id=\"df-68a5f3df-9173-4aaa-a7a7-1a2311111167\">\n",
              "    <div class=\"colab-df-container\">\n",
              "      <div>\n",
              "<style scoped>\n",
              "    .dataframe tbody tr th:only-of-type {\n",
              "        vertical-align: middle;\n",
              "    }\n",
              "\n",
              "    .dataframe tbody tr th {\n",
              "        vertical-align: top;\n",
              "    }\n",
              "\n",
              "    .dataframe thead th {\n",
              "        text-align: right;\n",
              "    }\n",
              "</style>\n",
              "<table border=\"1\" class=\"dataframe\">\n",
              "  <thead>\n",
              "    <tr style=\"text-align: right;\">\n",
              "      <th></th>\n",
              "      <th>ab_test</th>\n",
              "      <th>group</th>\n",
              "      <th>user_id</th>\n",
              "    </tr>\n",
              "  </thead>\n",
              "  <tbody>\n",
              "    <tr>\n",
              "      <th>0</th>\n",
              "      <td>interface_eu_test</td>\n",
              "      <td>A</td>\n",
              "      <td>4405</td>\n",
              "    </tr>\n",
              "    <tr>\n",
              "      <th>1</th>\n",
              "      <td>interface_eu_test</td>\n",
              "      <td>B</td>\n",
              "      <td>4309</td>\n",
              "    </tr>\n",
              "    <tr>\n",
              "      <th>2</th>\n",
              "      <td>recommender_system_test</td>\n",
              "      <td>A</td>\n",
              "      <td>2330</td>\n",
              "    </tr>\n",
              "    <tr>\n",
              "      <th>3</th>\n",
              "      <td>recommender_system_test</td>\n",
              "      <td>B</td>\n",
              "      <td>835</td>\n",
              "    </tr>\n",
              "  </tbody>\n",
              "</table>\n",
              "</div>\n",
              "      <button class=\"colab-df-convert\" onclick=\"convertToInteractive('df-68a5f3df-9173-4aaa-a7a7-1a2311111167')\"\n",
              "              title=\"Convert this dataframe to an interactive table.\"\n",
              "              style=\"display:none;\">\n",
              "\n",
              "  <svg xmlns=\"http://www.w3.org/2000/svg\" height=\"24px\"viewBox=\"0 0 24 24\"\n",
              "       width=\"24px\">\n",
              "    <path d=\"M0 0h24v24H0V0z\" fill=\"none\"/>\n",
              "    <path d=\"M18.56 5.44l.94 2.06.94-2.06 2.06-.94-2.06-.94-.94-2.06-.94 2.06-2.06.94zm-11 1L8.5 8.5l.94-2.06 2.06-.94-2.06-.94L8.5 2.5l-.94 2.06-2.06.94zm10 10l.94 2.06.94-2.06 2.06-.94-2.06-.94-.94-2.06-.94 2.06-2.06.94z\"/><path d=\"M17.41 7.96l-1.37-1.37c-.4-.4-.92-.59-1.43-.59-.52 0-1.04.2-1.43.59L10.3 9.45l-7.72 7.72c-.78.78-.78 2.05 0 2.83L4 21.41c.39.39.9.59 1.41.59.51 0 1.02-.2 1.41-.59l7.78-7.78 2.81-2.81c.8-.78.8-2.07 0-2.86zM5.41 20L4 18.59l7.72-7.72 1.47 1.35L5.41 20z\"/>\n",
              "  </svg>\n",
              "      </button>\n",
              "\n",
              "\n",
              "\n",
              "    <div id=\"df-f54df46c-0c28-418c-bb87-d055bced6c6c\">\n",
              "      <button class=\"colab-df-quickchart\" onclick=\"quickchart('df-f54df46c-0c28-418c-bb87-d055bced6c6c')\"\n",
              "              title=\"Suggest charts.\"\n",
              "              style=\"display:none;\">\n",
              "\n",
              "<svg xmlns=\"http://www.w3.org/2000/svg\" height=\"24px\"viewBox=\"0 0 24 24\"\n",
              "     width=\"24px\">\n",
              "    <g>\n",
              "        <path d=\"M19 3H5c-1.1 0-2 .9-2 2v14c0 1.1.9 2 2 2h14c1.1 0 2-.9 2-2V5c0-1.1-.9-2-2-2zM9 17H7v-7h2v7zm4 0h-2V7h2v10zm4 0h-2v-4h2v4z\"/>\n",
              "    </g>\n",
              "</svg>\n",
              "      </button>\n",
              "    </div>\n",
              "\n",
              "<style>\n",
              "  .colab-df-quickchart {\n",
              "    background-color: #E8F0FE;\n",
              "    border: none;\n",
              "    border-radius: 50%;\n",
              "    cursor: pointer;\n",
              "    display: none;\n",
              "    fill: #1967D2;\n",
              "    height: 32px;\n",
              "    padding: 0 0 0 0;\n",
              "    width: 32px;\n",
              "  }\n",
              "\n",
              "  .colab-df-quickchart:hover {\n",
              "    background-color: #E2EBFA;\n",
              "    box-shadow: 0px 1px 2px rgba(60, 64, 67, 0.3), 0px 1px 3px 1px rgba(60, 64, 67, 0.15);\n",
              "    fill: #174EA6;\n",
              "  }\n",
              "\n",
              "  [theme=dark] .colab-df-quickchart {\n",
              "    background-color: #3B4455;\n",
              "    fill: #D2E3FC;\n",
              "  }\n",
              "\n",
              "  [theme=dark] .colab-df-quickchart:hover {\n",
              "    background-color: #434B5C;\n",
              "    box-shadow: 0px 1px 3px 1px rgba(0, 0, 0, 0.15);\n",
              "    filter: drop-shadow(0px 1px 2px rgba(0, 0, 0, 0.3));\n",
              "    fill: #FFFFFF;\n",
              "  }\n",
              "</style>\n",
              "\n",
              "    <script>\n",
              "      async function quickchart(key) {\n",
              "        const containerElement = document.querySelector('#' + key);\n",
              "        const charts = await google.colab.kernel.invokeFunction(\n",
              "            'suggestCharts', [key], {});\n",
              "      }\n",
              "    </script>\n",
              "\n",
              "      <script>\n",
              "\n",
              "function displayQuickchartButton(domScope) {\n",
              "  let quickchartButtonEl =\n",
              "    domScope.querySelector('#df-f54df46c-0c28-418c-bb87-d055bced6c6c button.colab-df-quickchart');\n",
              "  quickchartButtonEl.style.display =\n",
              "    google.colab.kernel.accessAllowed ? 'block' : 'none';\n",
              "}\n",
              "\n",
              "        displayQuickchartButton(document);\n",
              "      </script>\n",
              "      <style>\n",
              "    .colab-df-container {\n",
              "      display:flex;\n",
              "      flex-wrap:wrap;\n",
              "      gap: 12px;\n",
              "    }\n",
              "\n",
              "    .colab-df-convert {\n",
              "      background-color: #E8F0FE;\n",
              "      border: none;\n",
              "      border-radius: 50%;\n",
              "      cursor: pointer;\n",
              "      display: none;\n",
              "      fill: #1967D2;\n",
              "      height: 32px;\n",
              "      padding: 0 0 0 0;\n",
              "      width: 32px;\n",
              "    }\n",
              "\n",
              "    .colab-df-convert:hover {\n",
              "      background-color: #E2EBFA;\n",
              "      box-shadow: 0px 1px 2px rgba(60, 64, 67, 0.3), 0px 1px 3px 1px rgba(60, 64, 67, 0.15);\n",
              "      fill: #174EA6;\n",
              "    }\n",
              "\n",
              "    [theme=dark] .colab-df-convert {\n",
              "      background-color: #3B4455;\n",
              "      fill: #D2E3FC;\n",
              "    }\n",
              "\n",
              "    [theme=dark] .colab-df-convert:hover {\n",
              "      background-color: #434B5C;\n",
              "      box-shadow: 0px 1px 3px 1px rgba(0, 0, 0, 0.15);\n",
              "      filter: drop-shadow(0px 1px 2px rgba(0, 0, 0, 0.3));\n",
              "      fill: #FFFFFF;\n",
              "    }\n",
              "  </style>\n",
              "\n",
              "      <script>\n",
              "        const buttonEl =\n",
              "          document.querySelector('#df-68a5f3df-9173-4aaa-a7a7-1a2311111167 button.colab-df-convert');\n",
              "        buttonEl.style.display =\n",
              "          google.colab.kernel.accessAllowed ? 'block' : 'none';\n",
              "\n",
              "        async function convertToInteractive(key) {\n",
              "          const element = document.querySelector('#df-68a5f3df-9173-4aaa-a7a7-1a2311111167');\n",
              "          const dataTable =\n",
              "            await google.colab.kernel.invokeFunction('convertToInteractive',\n",
              "                                                     [key], {});\n",
              "          if (!dataTable) return;\n",
              "\n",
              "          const docLinkHtml = 'Like what you see? Visit the ' +\n",
              "            '<a target=\"_blank\" href=https://colab.research.google.com/notebooks/data_table.ipynb>data table notebook</a>'\n",
              "            + ' to learn more about interactive tables.';\n",
              "          element.innerHTML = '';\n",
              "          dataTable['output_type'] = 'display_data';\n",
              "          await google.colab.output.renderOutput(dataTable, element);\n",
              "          const docLink = document.createElement('div');\n",
              "          docLink.innerHTML = docLinkHtml;\n",
              "          element.appendChild(docLink);\n",
              "        }\n",
              "      </script>\n",
              "    </div>\n",
              "  </div>\n"
            ]
          },
          "metadata": {},
          "execution_count": 48
        }
      ],
      "source": [
        "test_groupby"
      ]
    },
    {
      "cell_type": "code",
      "execution_count": 49,
      "metadata": {
        "colab": {
          "base_uri": "https://localhost:8080/",
          "height": 648
        },
        "id": "TPt0iKnMZ0RA",
        "outputId": "382497ce-f1c9-4177-c5a0-8acafd40f339"
      },
      "outputs": [
        {
          "output_type": "display_data",
          "data": {
            "text/plain": [
              "<Figure size 1200x700 with 1 Axes>"
            ],
            "image/png": "[encoded data removed]"
          },
          "metadata": {}
        }
      ],
      "source": [
        "fig, ax = plt.subplots(figsize=(12, 7))\n",
        "\n",
        "sns.barplot(data=test_groupby.sort_values('ab_test'), x=\"ab_test\", y=\"user_id\", hue=\"group\")\n",
        "ax.set_xlabel('Название теста', size = 12)\n",
        "ax.set_ylabel('Количество участников теста', size = 12)\n",
        "ax.set_title('Участники двух тестов в разбивке по группам', size = 15)\n",
        "plt.show()"
      ]
    },
    {
      "cell_type": "markdown",
      "metadata": {
        "id": "Y3dizhMrcCqU"
      },
      "source": [
        "Количество пользователей в группах распределено не равномерно. В группе А пользователей больше."
      ]
    },
    {
      "cell_type": "markdown",
      "metadata": {
        "id": "rEzSgA1TprhO"
      },
      "source": [
        "### Выводы по главе"
      ]
    },
    {
      "cell_type": "markdown",
      "metadata": {
        "id": "f8hPqvgpHv0Q"
      },
      "source": [
        "В ходе проверки на соответствие ТЗ выявилось 2 проблемы: тест остановился на 5 дней раньше положенного, а общее количество пользователей слегка больше планируемого. Оба момента не столь критичны.\n",
        "\n",
        "В целом, на данном этапе мы выяснили, что:\n",
        "\n",
        "* Новых пользователей из EU ровно 15%, как и в ТЗ;\n",
        "* Насчитывается 756 пользователей, которые попали в оба теста;\n",
        "* Мы проверили в какие именно группы теста interface_eu_test попали упомянутые пользователи и выяснили, что они распределены равномерно (а это значит, что взаимосвязь двух тестов отрицать нельзя);\n",
        "* Время тестирования пересекается с праздниками, но они будут одинаково влиять на наши выборки."
      ]
    },
    {
      "cell_type": "markdown",
      "metadata": {
        "id": "Qr0b2icGHv0R"
      },
      "source": [
        "<a id=\"analysis\"></a>"
      ]
    },
    {
      "cell_type": "markdown",
      "metadata": {
        "id": "HDqUVPZEfDbk"
      },
      "source": [
        "## Исследовательский анализ данных"
      ]
    },
    {
      "cell_type": "markdown",
      "metadata": {
        "id": "Gg2lFdKmkErv"
      },
      "source": [
        "### Бездействующие пользователи"
      ]
    },
    {
      "cell_type": "markdown",
      "metadata": {
        "id": "XxvIzB0MkNOV"
      },
      "source": [
        "Для нашего исследования важно понять, есть пользователи, которые не совершали событий. Это позволит скорректировать силу наших обобщений."
      ]
    },
    {
      "cell_type": "code",
      "execution_count": 50,
      "metadata": {
        "id": "9VafJLsmkL28"
      },
      "outputs": [],
      "source": [
        "recommender_test_events = events.merge(recommender_test_users, on='user_id', how='inner')\n",
        "recommender_test_stats = pd.DataFrame({'users': ['active', 'not_active'], 'count': [recommender_test_events['user_id'].nunique(), recommender_test_users['user_id'].nunique() - recommender_test_events['user_id'].nunique()]})"
      ]
    },
    {
      "cell_type": "code",
      "execution_count": 76,
      "metadata": {
        "colab": {
          "base_uri": "https://localhost:8080/",
          "height": 517
        },
        "id": "UgbcnEw2oLrc",
        "outputId": "d69b9d65-6f52-4cab-efa4-a2b665178e9e"
      },
      "outputs": [
        {
          "output_type": "display_data",
          "data": {
            "text/html": [
              "<html>\n",
              "<head><meta charset=\"utf-8\" /></head>\n",
              "<body>\n",
              "    <div>            <script src=\"https://cdnjs.cloudflare.com/ajax/libs/mathjax/2.7.5/MathJax.js?config=TeX-AMS-MML_SVG\"></script><script type=\"text/javascript\">if (window.MathJax && window.MathJax.Hub && window.MathJax.Hub.Config) {window.MathJax.Hub.Config({SVG: {font: \"STIX-Web\"}});}</script>                <script type=\"text/javascript\">window.PlotlyConfig = {MathJaxConfig: 'local'};</script>\n",
              "        <script src=\"https://cdn.plot.ly/plotly-2.18.2.min.js\"></script>                <div id=\"2be72f8b-0253-475f-aefc-ff6124d1b052\" class=\"plotly-graph-div\" style=\"height:500px; width:800px;\"></div>            <script type=\"text/javascript\">                                    window.PLOTLYENV=window.PLOTLYENV || {};                                    if (document.getElementById(\"2be72f8b-0253-475f-aefc-ff6124d1b052\")) {                    Plotly.newPlot(                        \"2be72f8b-0253-475f-aefc-ff6124d1b052\",                        [{\"labels\":[\"active\",\"not_active\"],\"values\":[3226,0],\"type\":\"pie\",\"marker\":{\"colors\":[\"#367a5d\",\"#3f405b\"]}}],                        {\"template\":{\"data\":{\"histogram2dcontour\":[{\"type\":\"histogram2dcontour\",\"colorbar\":{\"outlinewidth\":0,\"ticks\":\"\"},\"colorscale\":[[0.0,\"#0d0887\"],[0.1111111111111111,\"#46039f\"],[0.2222222222222222,\"#7201a8\"],[0.3333333333333333,\"#9c179e\"],[0.4444444444444444,\"#bd3786\"],[0.5555555555555556,\"#d8576b\"],[0.6666666666666666,\"#ed7953\"],[0.7777777777777778,\"#fb9f3a\"],[0.8888888888888888,\"#fdca26\"],[1.0,\"#f0f921\"]]}],\"choropleth\":[{\"type\":\"choropleth\",\"colorbar\":{\"outlinewidth\":0,\"ticks\":\"\"}}],\"histogram2d\":[{\"type\":\"histogram2d\",\"colorbar\":{\"outlinewidth\":0,\"ticks\":\"\"},\"colorscale\":[[0.0,\"#0d0887\"],[0.1111111111111111,\"#46039f\"],[0.2222222222222222,\"#7201a8\"],[0.3333333333333333,\"#9c179e\"],[0.4444444444444444,\"#bd3786\"],[0.5555555555555556,\"#d8576b\"],[0.6666666666666666,\"#ed7953\"],[0.7777777777777778,\"#fb9f3a\"],[0.8888888888888888,\"#fdca26\"],[1.0,\"#f0f921\"]]}],\"heatmap\":[{\"type\":\"heatmap\",\"colorbar\":{\"outlinewidth\":0,\"ticks\":\"\"},\"colorscale\":[[0.0,\"#0d0887\"],[0.1111111111111111,\"#46039f\"],[0.2222222222222222,\"#7201a8\"],[0.3333333333333333,\"#9c179e\"],[0.4444444444444444,\"#bd3786\"],[0.5555555555555556,\"#d8576b\"],[0.6666666666666666,\"#ed7953\"],[0.7777777777777778,\"#fb9f3a\"],[0.8888888888888888,\"#fdca26\"],[1.0,\"#f0f921\"]]}],\"heatmapgl\":[{\"type\":\"heatmapgl\",\"colorbar\":{\"outlinewidth\":0,\"ticks\":\"\"},\"colorscale\":[[0.0,\"#0d0887\"],[0.1111111111111111,\"#46039f\"],[0.2222222222222222,\"#7201a8\"],[0.3333333333333333,\"#9c179e\"],[0.4444444444444444,\"#bd3786\"],[0.5555555555555556,\"#d8576b\"],[0.6666666666666666,\"#ed7953\"],[0.7777777777777778,\"#fb9f3a\"],[0.8888888888888888,\"#fdca26\"],[1.0,\"#f0f921\"]]}],\"contourcarpet\":[{\"type\":\"contourcarpet\",\"colorbar\":{\"outlinewidth\":0,\"ticks\":\"\"}}],\"contour\":[{\"type\":\"contour\",\"colorbar\":{\"outlinewidth\":0,\"ticks\":\"\"},\"colorscale\":[[0.0,\"#0d0887\"],[0.1111111111111111,\"#46039f\"],[0.2222222222222222,\"#7201a8\"],[0.3333333333333333,\"#9c179e\"],[0.4444444444444444,\"#bd3786\"],[0.5555555555555556,\"#d8576b\"],[0.6666666666666666,\"#ed7953\"],[0.7777777777777778,\"#fb9f3a\"],[0.8888888888888888,\"#fdca26\"],[1.0,\"#f0f921\"]]}],\"surface\":[{\"type\":\"surface\",\"colorbar\":{\"outlinewidth\":0,\"ticks\":\"\"},\"colorscale\":[[0.0,\"#0d0887\"],[0.1111111111111111,\"#46039f\"],[0.2222222222222222,\"#7201a8\"],[0.3333333333333333,\"#9c179e\"],[0.4444444444444444,\"#bd3786\"],[0.5555555555555556,\"#d8576b\"],[0.6666666666666666,\"#ed7953\"],[0.7777777777777778,\"#fb9f3a\"],[0.8888888888888888,\"#fdca26\"],[1.0,\"#f0f921\"]]}],\"mesh3d\":[{\"type\":\"mesh3d\",\"colorbar\":{\"outlinewidth\":0,\"ticks\":\"\"}}],\"scatter\":[{\"fillpattern\":{\"fillmode\":\"overlay\",\"size\":10,\"solidity\":0.2},\"type\":\"scatter\"}],\"parcoords\":[{\"type\":\"parcoords\",\"line\":{\"colorbar\":{\"outlinewidth\":0,\"ticks\":\"\"}}}],\"scatterpolargl\":[{\"type\":\"scatterpolargl\",\"marker\":{\"colorbar\":{\"outlinewidth\":0,\"ticks\":\"\"}}}],\"bar\":[{\"error_x\":{\"color\":\"#2a3f5f\"},\"error_y\":{\"color\":\"#2a3f5f\"},\"marker\":{\"line\":{\"color\":\"#E5ECF6\",\"width\":0.5},\"pattern\":{\"fillmode\":\"overlay\",\"size\":10,\"solidity\":0.2}},\"type\":\"bar\"}],\"scattergeo\":[{\"type\":\"scattergeo\",\"marker\":{\"colorbar\":{\"outlinewidth\":0,\"ticks\":\"\"}}}],\"scatterpolar\":[{\"type\":\"scatterpolar\",\"marker\":{\"colorbar\":{\"outlinewidth\":0,\"ticks\":\"\"}}}],\"histogram\":[{\"marker\":{\"pattern\":{\"fillmode\":\"overlay\",\"size\":10,\"solidity\":0.2}},\"type\":\"histogram\"}],\"scattergl\":[{\"type\":\"scattergl\",\"marker\":{\"colorbar\":{\"outlinewidth\":0,\"ticks\":\"\"}}}],\"scatter3d\":[{\"type\":\"scatter3d\",\"line\":{\"colorbar\":{\"outlinewidth\":0,\"ticks\":\"\"}},\"marker\":{\"colorbar\":{\"outlinewidth\":0,\"ticks\":\"\"}}}],\"scattermapbox\":[{\"type\":\"scattermapbox\",\"marker\":{\"colorbar\":{\"outlinewidth\":0,\"ticks\":\"\"}}}],\"scatterternary\":[{\"type\":\"scatterternary\",\"marker\":{\"colorbar\":{\"outlinewidth\":0,\"ticks\":\"\"}}}],\"scattercarpet\":[{\"type\":\"scattercarpet\",\"marker\":{\"colorbar\":{\"outlinewidth\":0,\"ticks\":\"\"}}}],\"carpet\":[{\"aaxis\":{\"endlinecolor\":\"#2a3f5f\",\"gridcolor\":\"white\",\"linecolor\":\"white\",\"minorgridcolor\":\"white\",\"startlinecolor\":\"#2a3f5f\"},\"baxis\":{\"endlinecolor\":\"#2a3f5f\",\"gridcolor\":\"white\",\"linecolor\":\"white\",\"minorgridcolor\":\"white\",\"startlinecolor\":\"#2a3f5f\"},\"type\":\"carpet\"}],\"table\":[{\"cells\":{\"fill\":{\"color\":\"#EBF0F8\"},\"line\":{\"color\":\"white\"}},\"header\":{\"fill\":{\"color\":\"#C8D4E3\"},\"line\":{\"color\":\"white\"}},\"type\":\"table\"}],\"barpolar\":[{\"marker\":{\"line\":{\"color\":\"#E5ECF6\",\"width\":0.5},\"pattern\":{\"fillmode\":\"overlay\",\"size\":10,\"solidity\":0.2}},\"type\":\"barpolar\"}],\"pie\":[{\"automargin\":true,\"type\":\"pie\"}]},\"layout\":{\"autotypenumbers\":\"strict\",\"colorway\":[\"#636efa\",\"#EF553B\",\"#00cc96\",\"#ab63fa\",\"#FFA15A\",\"#19d3f3\",\"#FF6692\",\"#B6E880\",\"#FF97FF\",\"#FECB52\"],\"font\":{\"color\":\"#2a3f5f\"},\"hovermode\":\"closest\",\"hoverlabel\":{\"align\":\"left\"},\"paper_bgcolor\":\"white\",\"plot_bgcolor\":\"#E5ECF6\",\"polar\":{\"bgcolor\":\"#E5ECF6\",\"angularaxis\":{\"gridcolor\":\"white\",\"linecolor\":\"white\",\"ticks\":\"\"},\"radialaxis\":{\"gridcolor\":\"white\",\"linecolor\":\"white\",\"ticks\":\"\"}},\"ternary\":{\"bgcolor\":\"#E5ECF6\",\"aaxis\":{\"gridcolor\":\"white\",\"linecolor\":\"white\",\"ticks\":\"\"},\"baxis\":{\"gridcolor\":\"white\",\"linecolor\":\"white\",\"ticks\":\"\"},\"caxis\":{\"gridcolor\":\"white\",\"linecolor\":\"white\",\"ticks\":\"\"}},\"coloraxis\":{\"colorbar\":{\"outlinewidth\":0,\"ticks\":\"\"}},\"colorscale\":{\"sequential\":[[0.0,\"#0d0887\"],[0.1111111111111111,\"#46039f\"],[0.2222222222222222,\"#7201a8\"],[0.3333333333333333,\"#9c179e\"],[0.4444444444444444,\"#bd3786\"],[0.5555555555555556,\"#d8576b\"],[0.6666666666666666,\"#ed7953\"],[0.7777777777777778,\"#fb9f3a\"],[0.8888888888888888,\"#fdca26\"],[1.0,\"#f0f921\"]],\"sequentialminus\":[[0.0,\"#0d0887\"],[0.1111111111111111,\"#46039f\"],[0.2222222222222222,\"#7201a8\"],[0.3333333333333333,\"#9c179e\"],[0.4444444444444444,\"#bd3786\"],[0.5555555555555556,\"#d8576b\"],[0.6666666666666666,\"#ed7953\"],[0.7777777777777778,\"#fb9f3a\"],[0.8888888888888888,\"#fdca26\"],[1.0,\"#f0f921\"]],\"diverging\":[[0,\"#8e0152\"],[0.1,\"#c51b7d\"],[0.2,\"#de77ae\"],[0.3,\"#f1b6da\"],[0.4,\"#fde0ef\"],[0.5,\"#f7f7f7\"],[0.6,\"#e6f5d0\"],[0.7,\"#b8e186\"],[0.8,\"#7fbc41\"],[0.9,\"#4d9221\"],[1,\"#276419\"]]},\"xaxis\":{\"gridcolor\":\"white\",\"linecolor\":\"white\",\"ticks\":\"\",\"title\":{\"standoff\":15},\"zerolinecolor\":\"white\",\"automargin\":true,\"zerolinewidth\":2},\"yaxis\":{\"gridcolor\":\"white\",\"linecolor\":\"white\",\"ticks\":\"\",\"title\":{\"standoff\":15},\"zerolinecolor\":\"white\",\"automargin\":true,\"zerolinewidth\":2},\"scene\":{\"xaxis\":{\"backgroundcolor\":\"#E5ECF6\",\"gridcolor\":\"white\",\"linecolor\":\"white\",\"showbackground\":true,\"ticks\":\"\",\"zerolinecolor\":\"white\",\"gridwidth\":2},\"yaxis\":{\"backgroundcolor\":\"#E5ECF6\",\"gridcolor\":\"white\",\"linecolor\":\"white\",\"showbackground\":true,\"ticks\":\"\",\"zerolinecolor\":\"white\",\"gridwidth\":2},\"zaxis\":{\"backgroundcolor\":\"#E5ECF6\",\"gridcolor\":\"white\",\"linecolor\":\"white\",\"showbackground\":true,\"ticks\":\"\",\"zerolinecolor\":\"white\",\"gridwidth\":2}},\"shapedefaults\":{\"line\":{\"color\":\"#2a3f5f\"}},\"annotationdefaults\":{\"arrowcolor\":\"#2a3f5f\",\"arrowhead\":0,\"arrowwidth\":1},\"geo\":{\"bgcolor\":\"white\",\"landcolor\":\"#E5ECF6\",\"subunitcolor\":\"white\",\"showland\":true,\"showlakes\":true,\"lakecolor\":\"white\"},\"title\":{\"x\":0.05},\"mapbox\":{\"style\":\"light\"}}},\"title\":{\"text\":\"\\u0421\\u043e\\u043e\\u0442\\u043d\\u043e\\u0448\\u0435\\u043d\\u0438\\u0435 \\u0430\\u043a\\u0442\\u0438\\u0432\\u043d\\u044b\\u0445 \\u0438 \\u043f\\u0430\\u0441\\u0441\\u0438\\u0432\\u043d\\u044b\\u0445 \\u043f\\u043e\\u043b\\u044c\\u0437\\u043e\\u0432\\u0430\\u0442\\u0435\\u043b\\u0435\\u0439 \\u0432 \\u0442\\u0435\\u0441\\u0442\\u0435 recommender_system_test\",\"font\":{\"family\":\"Arial\"}},\"width\":800,\"height\":500,\"annotations\":[{\"showarrow\":false,\"text\":\"\\u0422\\u0438\\u043f \\u0437\\u043d\\u0430\\u0447\\u0435\\u043d\\u0438\\u044f\"}]},                        {\"responsive\": true}                    ).then(function(){\n",
              "                            \n",
              "var gd = document.getElementById('2be72f8b-0253-475f-aefc-ff6124d1b052');\n",
              "var x = new MutationObserver(function (mutations, observer) {{\n",
              "        var display = window.getComputedStyle(gd).display;\n",
              "        if (!display || display === 'none') {{\n",
              "            console.log([gd, 'removed!']);\n",
              "            Plotly.purge(gd);\n",
              "            observer.disconnect();\n",
              "        }}\n",
              "}});\n",
              "\n",
              "// Listen for the removal of the full notebook cells\n",
              "var notebookContainer = gd.closest('#notebook-container');\n",
              "if (notebookContainer) {{\n",
              "    x.observe(notebookContainer, {childList: true});\n",
              "}}\n",
              "\n",
              "// Listen for the clearing of the current output cell\n",
              "var outputEl = gd.closest('.output');\n",
              "if (outputEl) {{\n",
              "    x.observe(outputEl, {childList: true});\n",
              "}}\n",
              "\n",
              "                        })                };                            </script>        </div>\n",
              "</body>\n",
              "</html>"
            ]
          },
          "metadata": {}
        }
      ],
      "source": [
        "fig = go.Figure(data=[go.Pie(labels=recommender_test_stats['users'], values=recommender_test_stats['count'])])\n",
        "fig.update_layout(title='Соотношение активных и пассивных пользователей в тесте recommender_system_test', # указываем заголовок графика\n",
        "                  title_font_family='Arial',\n",
        "                  width=800, # указываем размеры графика\n",
        "                  height=500,\n",
        "                  annotations=[dict(text='Тип значения',\n",
        "                                    showarrow=False)])\n",
        "fig.update_traces(marker=dict(colors=['#367a5d', '#3f405b']))\n",
        "fig.show()"
      ]
    },
    {
      "cell_type": "markdown",
      "metadata": {
        "id": "RaqT0XBwMdRJ"
      },
      "source": [
        "Мы видим, что у нас остались только активные пользователи."
      ]
    },
    {
      "cell_type": "markdown",
      "metadata": {
        "id": "rPse3OlGNYDf"
      },
      "source": [
        "### Распределение количества событий на пользователя"
      ]
    },
    {
      "cell_type": "code",
      "execution_count": 52,
      "metadata": {
        "scrolled": true,
        "colab": {
          "base_uri": "https://localhost:8080/",
          "height": 835
        },
        "id": "bPzFulFYHv0S",
        "outputId": "ed47a2b9-4fab-4897-a505-6d6cd15f1054"
      },
      "outputs": [
        {
          "output_type": "execute_result",
          "data": {
            "text/plain": [
              "                 user_id            event_dt event_name_x  details_x group_x  \\\n",
              "0       831887FE7F2D6CBA 2020-12-07 06:50:29     purchase       4.99       A   \n",
              "1       831887FE7F2D6CBA 2020-12-07 06:50:29     purchase       4.99       A   \n",
              "2       831887FE7F2D6CBA 2020-12-07 06:50:29     purchase       4.99       A   \n",
              "3       831887FE7F2D6CBA 2020-12-07 06:50:29     purchase       4.99       A   \n",
              "4       831887FE7F2D6CBA 2020-12-07 06:50:29     purchase       4.99       A   \n",
              "...                  ...                 ...          ...        ...     ...   \n",
              "233423  BEF16764A13AEC34 2020-12-24 22:11:00        login        NaN       B   \n",
              "233424  BEF16764A13AEC34 2020-12-24 22:11:00        login        NaN       B   \n",
              "233425  BEF16764A13AEC34 2020-12-24 22:11:00        login        NaN       B   \n",
              "233426  BEF16764A13AEC34 2020-12-24 22:11:00        login        NaN       B   \n",
              "233427  23DDD27AC3FEFA63 2020-12-21 02:51:45        login        NaN       A   \n",
              "\n",
              "                      ab_test_x first_date_x region   device group_y  \\\n",
              "0       recommender_system_test   2020-12-07     EU  Android       A   \n",
              "1       recommender_system_test   2020-12-07     EU  Android       A   \n",
              "2       recommender_system_test   2020-12-07     EU  Android       A   \n",
              "3       recommender_system_test   2020-12-07     EU  Android       A   \n",
              "4       recommender_system_test   2020-12-07     EU  Android       A   \n",
              "...                         ...          ...    ...      ...     ...   \n",
              "233423  recommender_system_test   2020-12-21     EU       PC       B   \n",
              "233424  recommender_system_test   2020-12-21     EU       PC       A   \n",
              "233425  recommender_system_test   2020-12-21     EU       PC       A   \n",
              "233426  recommender_system_test   2020-12-21     EU       PC       A   \n",
              "233427  recommender_system_test   2020-12-21     EU       PC       A   \n",
              "\n",
              "                      ab_test_y          event_dt_x  event_name_y  details_y  \\\n",
              "0       recommender_system_test 2020-12-07 06:50:29      purchase       4.99   \n",
              "1       recommender_system_test 2020-12-09 02:19:17      purchase      99.99   \n",
              "2       recommender_system_test 2020-12-07 06:50:30  product_cart        NaN   \n",
              "3       recommender_system_test 2020-12-08 10:52:27  product_cart        NaN   \n",
              "4       recommender_system_test 2020-12-09 02:19:17  product_cart        NaN   \n",
              "...                         ...                 ...           ...        ...   \n",
              "233423  recommender_system_test 2020-12-24 22:11:00         login        NaN   \n",
              "233424        interface_eu_test 2020-12-21 03:49:49         login        NaN   \n",
              "233425        interface_eu_test 2020-12-22 18:52:25         login        NaN   \n",
              "233426        interface_eu_test 2020-12-24 22:11:00         login        NaN   \n",
              "233427  recommender_system_test 2020-12-21 02:51:45         login        NaN   \n",
              "\n",
              "       first_date_y          event_dt_y  \n",
              "0        2020-12-07 2020-12-09 02:19:17  \n",
              "1        2020-12-07 2020-12-09 02:19:17  \n",
              "2        2020-12-07 2020-12-09 02:19:17  \n",
              "3        2020-12-07 2020-12-09 02:19:17  \n",
              "4        2020-12-07 2020-12-09 02:19:17  \n",
              "...             ...                 ...  \n",
              "233423   2020-12-21 2020-12-24 22:11:00  \n",
              "233424   2020-12-21 2020-12-24 22:11:00  \n",
              "233425   2020-12-21 2020-12-24 22:11:00  \n",
              "233426   2020-12-21 2020-12-24 22:11:00  \n",
              "233427   2020-12-21 2020-12-21 02:51:45  \n",
              "\n",
              "[233428 rows x 16 columns]"
            ],
            "text/html": [
              "\n",
              "\n",
              "  <div id=\"df-7e7b3304-14f9-4cb0-a085-d9a87a30fef3\">\n",
              "    <div class=\"colab-df-container\">\n",
              "      <div>\n",
              "<style scoped>\n",
              "    .dataframe tbody tr th:only-of-type {\n",
              "        vertical-align: middle;\n",
              "    }\n",
              "\n",
              "    .dataframe tbody tr th {\n",
              "        vertical-align: top;\n",
              "    }\n",
              "\n",
              "    .dataframe thead th {\n",
              "        text-align: right;\n",
              "    }\n",
              "</style>\n",
              "<table border=\"1\" class=\"dataframe\">\n",
              "  <thead>\n",
              "    <tr style=\"text-align: right;\">\n",
              "      <th></th>\n",
              "      <th>user_id</th>\n",
              "      <th>event_dt</th>\n",
              "      <th>event_name_x</th>\n",
              "      <th>details_x</th>\n",
              "      <th>group_x</th>\n",
              "      <th>ab_test_x</th>\n",
              "      <th>first_date_x</th>\n",
              "      <th>region</th>\n",
              "      <th>device</th>\n",
              "      <th>group_y</th>\n",
              "      <th>ab_test_y</th>\n",
              "      <th>event_dt_x</th>\n",
              "      <th>event_name_y</th>\n",
              "      <th>details_y</th>\n",
              "      <th>first_date_y</th>\n",
              "      <th>event_dt_y</th>\n",
              "    </tr>\n",
              "  </thead>\n",
              "  <tbody>\n",
              "    <tr>\n",
              "      <th>0</th>\n",
              "      <td>831887FE7F2D6CBA</td>\n",
              "      <td>2020-12-07 06:50:29</td>\n",
              "      <td>purchase</td>\n",
              "      <td>4.99</td>\n",
              "      <td>A</td>\n",
              "      <td>recommender_system_test</td>\n",
              "      <td>2020-12-07</td>\n",
              "      <td>EU</td>\n",
              "      <td>Android</td>\n",
              "      <td>A</td>\n",
              "      <td>recommender_system_test</td>\n",
              "      <td>2020-12-07 06:50:29</td>\n",
              "      <td>purchase</td>\n",
              "      <td>4.99</td>\n",
              "      <td>2020-12-07</td>\n",
              "      <td>2020-12-09 02:19:17</td>\n",
              "    </tr>\n",
              "    <tr>\n",
              "      <th>1</th>\n",
              "      <td>831887FE7F2D6CBA</td>\n",
              "      <td>2020-12-07 06:50:29</td>\n",
              "      <td>purchase</td>\n",
              "      <td>4.99</td>\n",
              "      <td>A</td>\n",
              "      <td>recommender_system_test</td>\n",
              "      <td>2020-12-07</td>\n",
              "      <td>EU</td>\n",
              "      <td>Android</td>\n",
              "      <td>A</td>\n",
              "      <td>recommender_system_test</td>\n",
              "      <td>2020-12-09 02:19:17</td>\n",
              "      <td>purchase</td>\n",
              "      <td>99.99</td>\n",
              "      <td>2020-12-07</td>\n",
              "      <td>2020-12-09 02:19:17</td>\n",
              "    </tr>\n",
              "    <tr>\n",
              "      <th>2</th>\n",
              "      <td>831887FE7F2D6CBA</td>\n",
              "      <td>2020-12-07 06:50:29</td>\n",
              "      <td>purchase</td>\n",
              "      <td>4.99</td>\n",
              "      <td>A</td>\n",
              "      <td>recommender_system_test</td>\n",
              "      <td>2020-12-07</td>\n",
              "      <td>EU</td>\n",
              "      <td>Android</td>\n",
              "      <td>A</td>\n",
              "      <td>recommender_system_test</td>\n",
              "      <td>2020-12-07 06:50:30</td>\n",
              "      <td>product_cart</td>\n",
              "      <td>NaN</td>\n",
              "      <td>2020-12-07</td>\n",
              "      <td>2020-12-09 02:19:17</td>\n",
              "    </tr>\n",
              "    <tr>\n",
              "      <th>3</th>\n",
              "      <td>831887FE7F2D6CBA</td>\n",
              "      <td>2020-12-07 06:50:29</td>\n",
              "      <td>purchase</td>\n",
              "      <td>4.99</td>\n",
              "      <td>A</td>\n",
              "      <td>recommender_system_test</td>\n",
              "      <td>2020-12-07</td>\n",
              "      <td>EU</td>\n",
              "      <td>Android</td>\n",
              "      <td>A</td>\n",
              "      <td>recommender_system_test</td>\n",
              "      <td>2020-12-08 10:52:27</td>\n",
              "      <td>product_cart</td>\n",
              "      <td>NaN</td>\n",
              "      <td>2020-12-07</td>\n",
              "      <td>2020-12-09 02:19:17</td>\n",
              "    </tr>\n",
              "    <tr>\n",
              "      <th>4</th>\n",
              "      <td>831887FE7F2D6CBA</td>\n",
              "      <td>2020-12-07 06:50:29</td>\n",
              "      <td>purchase</td>\n",
              "      <td>4.99</td>\n",
              "      <td>A</td>\n",
              "      <td>recommender_system_test</td>\n",
              "      <td>2020-12-07</td>\n",
              "      <td>EU</td>\n",
              "      <td>Android</td>\n",
              "      <td>A</td>\n",
              "      <td>recommender_system_test</td>\n",
              "      <td>2020-12-09 02:19:17</td>\n",
              "      <td>product_cart</td>\n",
              "      <td>NaN</td>\n",
              "      <td>2020-12-07</td>\n",
              "      <td>2020-12-09 02:19:17</td>\n",
              "    </tr>\n",
              "    <tr>\n",
              "      <th>...</th>\n",
              "      <td>...</td>\n",
              "      <td>...</td>\n",
              "      <td>...</td>\n",
              "      <td>...</td>\n",
              "      <td>...</td>\n",
              "      <td>...</td>\n",
              "      <td>...</td>\n",
              "      <td>...</td>\n",
              "      <td>...</td>\n",
              "      <td>...</td>\n",
              "      <td>...</td>\n",
              "      <td>...</td>\n",
              "      <td>...</td>\n",
              "      <td>...</td>\n",
              "      <td>...</td>\n",
              "      <td>...</td>\n",
              "    </tr>\n",
              "    <tr>\n",
              "      <th>233423</th>\n",
              "      <td>BEF16764A13AEC34</td>\n",
              "      <td>2020-12-24 22:11:00</td>\n",
              "      <td>login</td>\n",
              "      <td>NaN</td>\n",
              "      <td>B</td>\n",
              "      <td>recommender_system_test</td>\n",
              "      <td>2020-12-21</td>\n",
              "      <td>EU</td>\n",
              "      <td>PC</td>\n",
              "      <td>B</td>\n",
              "      <td>recommender_system_test</td>\n",
              "      <td>2020-12-24 22:11:00</td>\n",
              "      <td>login</td>\n",
              "      <td>NaN</td>\n",
              "      <td>2020-12-21</td>\n",
              "      <td>2020-12-24 22:11:00</td>\n",
              "    </tr>\n",
              "    <tr>\n",
              "      <th>233424</th>\n",
              "      <td>BEF16764A13AEC34</td>\n",
              "      <td>2020-12-24 22:11:00</td>\n",
              "      <td>login</td>\n",
              "      <td>NaN</td>\n",
              "      <td>B</td>\n",
              "      <td>recommender_system_test</td>\n",
              "      <td>2020-12-21</td>\n",
              "      <td>EU</td>\n",
              "      <td>PC</td>\n",
              "      <td>A</td>\n",
              "      <td>interface_eu_test</td>\n",
              "      <td>2020-12-21 03:49:49</td>\n",
              "      <td>login</td>\n",
              "      <td>NaN</td>\n",
              "      <td>2020-12-21</td>\n",
              "      <td>2020-12-24 22:11:00</td>\n",
              "    </tr>\n",
              "    <tr>\n",
              "      <th>233425</th>\n",
              "      <td>BEF16764A13AEC34</td>\n",
              "      <td>2020-12-24 22:11:00</td>\n",
              "      <td>login</td>\n",
              "      <td>NaN</td>\n",
              "      <td>B</td>\n",
              "      <td>recommender_system_test</td>\n",
              "      <td>2020-12-21</td>\n",
              "      <td>EU</td>\n",
              "      <td>PC</td>\n",
              "      <td>A</td>\n",
              "      <td>interface_eu_test</td>\n",
              "      <td>2020-12-22 18:52:25</td>\n",
              "      <td>login</td>\n",
              "      <td>NaN</td>\n",
              "      <td>2020-12-21</td>\n",
              "      <td>2020-12-24 22:11:00</td>\n",
              "    </tr>\n",
              "    <tr>\n",
              "      <th>233426</th>\n",
              "      <td>BEF16764A13AEC34</td>\n",
              "      <td>2020-12-24 22:11:00</td>\n",
              "      <td>login</td>\n",
              "      <td>NaN</td>\n",
              "      <td>B</td>\n",
              "      <td>recommender_system_test</td>\n",
              "      <td>2020-12-21</td>\n",
              "      <td>EU</td>\n",
              "      <td>PC</td>\n",
              "      <td>A</td>\n",
              "      <td>interface_eu_test</td>\n",
              "      <td>2020-12-24 22:11:00</td>\n",
              "      <td>login</td>\n",
              "      <td>NaN</td>\n",
              "      <td>2020-12-21</td>\n",
              "      <td>2020-12-24 22:11:00</td>\n",
              "    </tr>\n",
              "    <tr>\n",
              "      <th>233427</th>\n",
              "      <td>23DDD27AC3FEFA63</td>\n",
              "      <td>2020-12-21 02:51:45</td>\n",
              "      <td>login</td>\n",
              "      <td>NaN</td>\n",
              "      <td>A</td>\n",
              "      <td>recommender_system_test</td>\n",
              "      <td>2020-12-21</td>\n",
              "      <td>EU</td>\n",
              "      <td>PC</td>\n",
              "      <td>A</td>\n",
              "      <td>recommender_system_test</td>\n",
              "      <td>2020-12-21 02:51:45</td>\n",
              "      <td>login</td>\n",
              "      <td>NaN</td>\n",
              "      <td>2020-12-21</td>\n",
              "      <td>2020-12-21 02:51:45</td>\n",
              "    </tr>\n",
              "  </tbody>\n",
              "</table>\n",
              "<p>233428 rows × 16 columns</p>\n",
              "</div>\n",
              "      <button class=\"colab-df-convert\" onclick=\"convertToInteractive('df-7e7b3304-14f9-4cb0-a085-d9a87a30fef3')\"\n",
              "              title=\"Convert this dataframe to an interactive table.\"\n",
              "              style=\"display:none;\">\n",
              "\n",
              "  <svg xmlns=\"http://www.w3.org/2000/svg\" height=\"24px\"viewBox=\"0 0 24 24\"\n",
              "       width=\"24px\">\n",
              "    <path d=\"M0 0h24v24H0V0z\" fill=\"none\"/>\n",
              "    <path d=\"M18.56 5.44l.94 2.06.94-2.06 2.06-.94-2.06-.94-.94-2.06-.94 2.06-2.06.94zm-11 1L8.5 8.5l.94-2.06 2.06-.94-2.06-.94L8.5 2.5l-.94 2.06-2.06.94zm10 10l.94 2.06.94-2.06 2.06-.94-2.06-.94-.94-2.06-.94 2.06-2.06.94z\"/><path d=\"M17.41 7.96l-1.37-1.37c-.4-.4-.92-.59-1.43-.59-.52 0-1.04.2-1.43.59L10.3 9.45l-7.72 7.72c-.78.78-.78 2.05 0 2.83L4 21.41c.39.39.9.59 1.41.59.51 0 1.02-.2 1.41-.59l7.78-7.78 2.81-2.81c.8-.78.8-2.07 0-2.86zM5.41 20L4 18.59l7.72-7.72 1.47 1.35L5.41 20z\"/>\n",
              "  </svg>\n",
              "      </button>\n",
              "\n",
              "\n",
              "\n",
              "    <div id=\"df-e078ba3f-9850-4107-9947-77864f8245a1\">\n",
              "      <button class=\"colab-df-quickchart\" onclick=\"quickchart('df-e078ba3f-9850-4107-9947-77864f8245a1')\"\n",
              "              title=\"Suggest charts.\"\n",
              "              style=\"display:none;\">\n",
              "\n",
              "<svg xmlns=\"http://www.w3.org/2000/svg\" height=\"24px\"viewBox=\"0 0 24 24\"\n",
              "     width=\"24px\">\n",
              "    <g>\n",
              "        <path d=\"M19 3H5c-1.1 0-2 .9-2 2v14c0 1.1.9 2 2 2h14c1.1 0 2-.9 2-2V5c0-1.1-.9-2-2-2zM9 17H7v-7h2v7zm4 0h-2V7h2v10zm4 0h-2v-4h2v4z\"/>\n",
              "    </g>\n",
              "</svg>\n",
              "      </button>\n",
              "    </div>\n",
              "\n",
              "<style>\n",
              "  .colab-df-quickchart {\n",
              "    background-color: #E8F0FE;\n",
              "    border: none;\n",
              "    border-radius: 50%;\n",
              "    cursor: pointer;\n",
              "    display: none;\n",
              "    fill: #1967D2;\n",
              "    height: 32px;\n",
              "    padding: 0 0 0 0;\n",
              "    width: 32px;\n",
              "  }\n",
              "\n",
              "  .colab-df-quickchart:hover {\n",
              "    background-color: #E2EBFA;\n",
              "    box-shadow: 0px 1px 2px rgba(60, 64, 67, 0.3), 0px 1px 3px 1px rgba(60, 64, 67, 0.15);\n",
              "    fill: #174EA6;\n",
              "  }\n",
              "\n",
              "  [theme=dark] .colab-df-quickchart {\n",
              "    background-color: #3B4455;\n",
              "    fill: #D2E3FC;\n",
              "  }\n",
              "\n",
              "  [theme=dark] .colab-df-quickchart:hover {\n",
              "    background-color: #434B5C;\n",
              "    box-shadow: 0px 1px 3px 1px rgba(0, 0, 0, 0.15);\n",
              "    filter: drop-shadow(0px 1px 2px rgba(0, 0, 0, 0.3));\n",
              "    fill: #FFFFFF;\n",
              "  }\n",
              "</style>\n",
              "\n",
              "    <script>\n",
              "      async function quickchart(key) {\n",
              "        const containerElement = document.querySelector('#' + key);\n",
              "        const charts = await google.colab.kernel.invokeFunction(\n",
              "            'suggestCharts', [key], {});\n",
              "      }\n",
              "    </script>\n",
              "\n",
              "      <script>\n",
              "\n",
              "function displayQuickchartButton(domScope) {\n",
              "  let quickchartButtonEl =\n",
              "    domScope.querySelector('#df-e078ba3f-9850-4107-9947-77864f8245a1 button.colab-df-quickchart');\n",
              "  quickchartButtonEl.style.display =\n",
              "    google.colab.kernel.accessAllowed ? 'block' : 'none';\n",
              "}\n",
              "\n",
              "        displayQuickchartButton(document);\n",
              "      </script>\n",
              "      <style>\n",
              "    .colab-df-container {\n",
              "      display:flex;\n",
              "      flex-wrap:wrap;\n",
              "      gap: 12px;\n",
              "    }\n",
              "\n",
              "    .colab-df-convert {\n",
              "      background-color: #E8F0FE;\n",
              "      border: none;\n",
              "      border-radius: 50%;\n",
              "      cursor: pointer;\n",
              "      display: none;\n",
              "      fill: #1967D2;\n",
              "      height: 32px;\n",
              "      padding: 0 0 0 0;\n",
              "      width: 32px;\n",
              "    }\n",
              "\n",
              "    .colab-df-convert:hover {\n",
              "      background-color: #E2EBFA;\n",
              "      box-shadow: 0px 1px 2px rgba(60, 64, 67, 0.3), 0px 1px 3px 1px rgba(60, 64, 67, 0.15);\n",
              "      fill: #174EA6;\n",
              "    }\n",
              "\n",
              "    [theme=dark] .colab-df-convert {\n",
              "      background-color: #3B4455;\n",
              "      fill: #D2E3FC;\n",
              "    }\n",
              "\n",
              "    [theme=dark] .colab-df-convert:hover {\n",
              "      background-color: #434B5C;\n",
              "      box-shadow: 0px 1px 3px 1px rgba(0, 0, 0, 0.15);\n",
              "      filter: drop-shadow(0px 1px 2px rgba(0, 0, 0, 0.3));\n",
              "      fill: #FFFFFF;\n",
              "    }\n",
              "  </style>\n",
              "\n",
              "      <script>\n",
              "        const buttonEl =\n",
              "          document.querySelector('#df-7e7b3304-14f9-4cb0-a085-d9a87a30fef3 button.colab-df-convert');\n",
              "        buttonEl.style.display =\n",
              "          google.colab.kernel.accessAllowed ? 'block' : 'none';\n",
              "\n",
              "        async function convertToInteractive(key) {\n",
              "          const element = document.querySelector('#df-7e7b3304-14f9-4cb0-a085-d9a87a30fef3');\n",
              "          const dataTable =\n",
              "            await google.colab.kernel.invokeFunction('convertToInteractive',\n",
              "                                                     [key], {});\n",
              "          if (!dataTable) return;\n",
              "\n",
              "          const docLinkHtml = 'Like what you see? Visit the ' +\n",
              "            '<a target=\"_blank\" href=https://colab.research.google.com/notebooks/data_table.ipynb>data table notebook</a>'\n",
              "            + ' to learn more about interactive tables.';\n",
              "          element.innerHTML = '';\n",
              "          dataTable['output_type'] = 'display_data';\n",
              "          await google.colab.output.renderOutput(dataTable, element);\n",
              "          const docLink = document.createElement('div');\n",
              "          docLink.innerHTML = docLinkHtml;\n",
              "          element.appendChild(docLink);\n",
              "        }\n",
              "      </script>\n",
              "    </div>\n",
              "  </div>\n"
            ]
          },
          "metadata": {},
          "execution_count": 52
        }
      ],
      "source": [
        "recommender_test_events = recommender_test_events.drop_duplicates()\n",
        "recommender_test_events"
      ]
    },
    {
      "cell_type": "code",
      "execution_count": 53,
      "metadata": {
        "colab": {
          "base_uri": "https://localhost:8080/",
          "height": 143
        },
        "id": "eBNbVD9aHv0S",
        "outputId": "4be1ef4b-f9f0-4c81-d0f7-d1f9fc639ba7"
      },
      "outputs": [
        {
          "output_type": "execute_result",
          "data": {
            "text/plain": [
              "         event_name  user_id\n",
              "group_x                     \n",
              "A             21369     2458\n",
              "B              5287      768"
            ],
            "text/html": [
              "\n",
              "\n",
              "  <div id=\"df-56f13671-1755-404f-b58f-44901a496188\">\n",
              "    <div class=\"colab-df-container\">\n",
              "      <div>\n",
              "<style scoped>\n",
              "    .dataframe tbody tr th:only-of-type {\n",
              "        vertical-align: middle;\n",
              "    }\n",
              "\n",
              "    .dataframe tbody tr th {\n",
              "        vertical-align: top;\n",
              "    }\n",
              "\n",
              "    .dataframe thead th {\n",
              "        text-align: right;\n",
              "    }\n",
              "</style>\n",
              "<table border=\"1\" class=\"dataframe\">\n",
              "  <thead>\n",
              "    <tr style=\"text-align: right;\">\n",
              "      <th></th>\n",
              "      <th>event_name</th>\n",
              "      <th>user_id</th>\n",
              "    </tr>\n",
              "    <tr>\n",
              "      <th>group_x</th>\n",
              "      <th></th>\n",
              "      <th></th>\n",
              "    </tr>\n",
              "  </thead>\n",
              "  <tbody>\n",
              "    <tr>\n",
              "      <th>A</th>\n",
              "      <td>21369</td>\n",
              "      <td>2458</td>\n",
              "    </tr>\n",
              "    <tr>\n",
              "      <th>B</th>\n",
              "      <td>5287</td>\n",
              "      <td>768</td>\n",
              "    </tr>\n",
              "  </tbody>\n",
              "</table>\n",
              "</div>\n",
              "      <button class=\"colab-df-convert\" onclick=\"convertToInteractive('df-56f13671-1755-404f-b58f-44901a496188')\"\n",
              "              title=\"Convert this dataframe to an interactive table.\"\n",
              "              style=\"display:none;\">\n",
              "\n",
              "  <svg xmlns=\"http://www.w3.org/2000/svg\" height=\"24px\"viewBox=\"0 0 24 24\"\n",
              "       width=\"24px\">\n",
              "    <path d=\"M0 0h24v24H0V0z\" fill=\"none\"/>\n",
              "    <path d=\"M18.56 5.44l.94 2.06.94-2.06 2.06-.94-2.06-.94-.94-2.06-.94 2.06-2.06.94zm-11 1L8.5 8.5l.94-2.06 2.06-.94-2.06-.94L8.5 2.5l-.94 2.06-2.06.94zm10 10l.94 2.06.94-2.06 2.06-.94-2.06-.94-.94-2.06-.94 2.06-2.06.94z\"/><path d=\"M17.41 7.96l-1.37-1.37c-.4-.4-.92-.59-1.43-.59-.52 0-1.04.2-1.43.59L10.3 9.45l-7.72 7.72c-.78.78-.78 2.05 0 2.83L4 21.41c.39.39.9.59 1.41.59.51 0 1.02-.2 1.41-.59l7.78-7.78 2.81-2.81c.8-.78.8-2.07 0-2.86zM5.41 20L4 18.59l7.72-7.72 1.47 1.35L5.41 20z\"/>\n",
              "  </svg>\n",
              "      </button>\n",
              "\n",
              "\n",
              "\n",
              "    <div id=\"df-59822cc8-cece-4dfb-a2cc-960a0804532d\">\n",
              "      <button class=\"colab-df-quickchart\" onclick=\"quickchart('df-59822cc8-cece-4dfb-a2cc-960a0804532d')\"\n",
              "              title=\"Suggest charts.\"\n",
              "              style=\"display:none;\">\n",
              "\n",
              "<svg xmlns=\"http://www.w3.org/2000/svg\" height=\"24px\"viewBox=\"0 0 24 24\"\n",
              "     width=\"24px\">\n",
              "    <g>\n",
              "        <path d=\"M19 3H5c-1.1 0-2 .9-2 2v14c0 1.1.9 2 2 2h14c1.1 0 2-.9 2-2V5c0-1.1-.9-2-2-2zM9 17H7v-7h2v7zm4 0h-2V7h2v10zm4 0h-2v-4h2v4z\"/>\n",
              "    </g>\n",
              "</svg>\n",
              "      </button>\n",
              "    </div>\n",
              "\n",
              "<style>\n",
              "  .colab-df-quickchart {\n",
              "    background-color: #E8F0FE;\n",
              "    border: none;\n",
              "    border-radius: 50%;\n",
              "    cursor: pointer;\n",
              "    display: none;\n",
              "    fill: #1967D2;\n",
              "    height: 32px;\n",
              "    padding: 0 0 0 0;\n",
              "    width: 32px;\n",
              "  }\n",
              "\n",
              "  .colab-df-quickchart:hover {\n",
              "    background-color: #E2EBFA;\n",
              "    box-shadow: 0px 1px 2px rgba(60, 64, 67, 0.3), 0px 1px 3px 1px rgba(60, 64, 67, 0.15);\n",
              "    fill: #174EA6;\n",
              "  }\n",
              "\n",
              "  [theme=dark] .colab-df-quickchart {\n",
              "    background-color: #3B4455;\n",
              "    fill: #D2E3FC;\n",
              "  }\n",
              "\n",
              "  [theme=dark] .colab-df-quickchart:hover {\n",
              "    background-color: #434B5C;\n",
              "    box-shadow: 0px 1px 3px 1px rgba(0, 0, 0, 0.15);\n",
              "    filter: drop-shadow(0px 1px 2px rgba(0, 0, 0, 0.3));\n",
              "    fill: #FFFFFF;\n",
              "  }\n",
              "</style>\n",
              "\n",
              "    <script>\n",
              "      async function quickchart(key) {\n",
              "        const containerElement = document.querySelector('#' + key);\n",
              "        const charts = await google.colab.kernel.invokeFunction(\n",
              "            'suggestCharts', [key], {});\n",
              "      }\n",
              "    </script>\n",
              "\n",
              "      <script>\n",
              "\n",
              "function displayQuickchartButton(domScope) {\n",
              "  let quickchartButtonEl =\n",
              "    domScope.querySelector('#df-59822cc8-cece-4dfb-a2cc-960a0804532d button.colab-df-quickchart');\n",
              "  quickchartButtonEl.style.display =\n",
              "    google.colab.kernel.accessAllowed ? 'block' : 'none';\n",
              "}\n",
              "\n",
              "        displayQuickchartButton(document);\n",
              "      </script>\n",
              "      <style>\n",
              "    .colab-df-container {\n",
              "      display:flex;\n",
              "      flex-wrap:wrap;\n",
              "      gap: 12px;\n",
              "    }\n",
              "\n",
              "    .colab-df-convert {\n",
              "      background-color: #E8F0FE;\n",
              "      border: none;\n",
              "      border-radius: 50%;\n",
              "      cursor: pointer;\n",
              "      display: none;\n",
              "      fill: #1967D2;\n",
              "      height: 32px;\n",
              "      padding: 0 0 0 0;\n",
              "      width: 32px;\n",
              "    }\n",
              "\n",
              "    .colab-df-convert:hover {\n",
              "      background-color: #E2EBFA;\n",
              "      box-shadow: 0px 1px 2px rgba(60, 64, 67, 0.3), 0px 1px 3px 1px rgba(60, 64, 67, 0.15);\n",
              "      fill: #174EA6;\n",
              "    }\n",
              "\n",
              "    [theme=dark] .colab-df-convert {\n",
              "      background-color: #3B4455;\n",
              "      fill: #D2E3FC;\n",
              "    }\n",
              "\n",
              "    [theme=dark] .colab-df-convert:hover {\n",
              "      background-color: #434B5C;\n",
              "      box-shadow: 0px 1px 3px 1px rgba(0, 0, 0, 0.15);\n",
              "      filter: drop-shadow(0px 1px 2px rgba(0, 0, 0, 0.3));\n",
              "      fill: #FFFFFF;\n",
              "    }\n",
              "  </style>\n",
              "\n",
              "      <script>\n",
              "        const buttonEl =\n",
              "          document.querySelector('#df-56f13671-1755-404f-b58f-44901a496188 button.colab-df-convert');\n",
              "        buttonEl.style.display =\n",
              "          google.colab.kernel.accessAllowed ? 'block' : 'none';\n",
              "\n",
              "        async function convertToInteractive(key) {\n",
              "          const element = document.querySelector('#df-56f13671-1755-404f-b58f-44901a496188');\n",
              "          const dataTable =\n",
              "            await google.colab.kernel.invokeFunction('convertToInteractive',\n",
              "                                                     [key], {});\n",
              "          if (!dataTable) return;\n",
              "\n",
              "          const docLinkHtml = 'Like what you see? Visit the ' +\n",
              "            '<a target=\"_blank\" href=https://colab.research.google.com/notebooks/data_table.ipynb>data table notebook</a>'\n",
              "            + ' to learn more about interactive tables.';\n",
              "          element.innerHTML = '';\n",
              "          dataTable['output_type'] = 'display_data';\n",
              "          await google.colab.output.renderOutput(dataTable, element);\n",
              "          const docLink = document.createElement('div');\n",
              "          docLink.innerHTML = docLinkHtml;\n",
              "          element.appendChild(docLink);\n",
              "        }\n",
              "      </script>\n",
              "    </div>\n",
              "  </div>\n"
            ]
          },
          "metadata": {},
          "execution_count": 53
        }
      ],
      "source": [
        "recommender_test_users.groupby(['group_x']).agg({'event_name':'count', 'user_id':'nunique'})"
      ]
    },
    {
      "cell_type": "code",
      "execution_count": 54,
      "metadata": {
        "id": "0JhQNCY6Og1t"
      },
      "outputs": [],
      "source": [
        "users_events_ratio = recommender_test_users.groupby(['group_x']).agg({'event_name':'count', 'user_id':'nunique'})\n",
        "users_events_ratio['events_per_user'] = round(users_events_ratio['event_name'] / users_events_ratio['user_id'], 2)"
      ]
    },
    {
      "cell_type": "code",
      "execution_count": 55,
      "metadata": {
        "colab": {
          "base_uri": "https://localhost:8080/",
          "height": 143
        },
        "id": "82YF5D-OSe7T",
        "outputId": "98fa81dc-0d5a-4717-be28-932dbaab039a"
      },
      "outputs": [
        {
          "output_type": "execute_result",
          "data": {
            "text/plain": [
              "         event_name  user_id  events_per_user\n",
              "group_x                                      \n",
              "A             21369     2458             8.69\n",
              "B              5287      768             6.88"
            ],
            "text/html": [
              "\n",
              "\n",
              "  <div id=\"df-87c2c270-7f80-44f2-b168-bc3253cc55e0\">\n",
              "    <div class=\"colab-df-container\">\n",
              "      <div>\n",
              "<style scoped>\n",
              "    .dataframe tbody tr th:only-of-type {\n",
              "        vertical-align: middle;\n",
              "    }\n",
              "\n",
              "    .dataframe tbody tr th {\n",
              "        vertical-align: top;\n",
              "    }\n",
              "\n",
              "    .dataframe thead th {\n",
              "        text-align: right;\n",
              "    }\n",
              "</style>\n",
              "<table border=\"1\" class=\"dataframe\">\n",
              "  <thead>\n",
              "    <tr style=\"text-align: right;\">\n",
              "      <th></th>\n",
              "      <th>event_name</th>\n",
              "      <th>user_id</th>\n",
              "      <th>events_per_user</th>\n",
              "    </tr>\n",
              "    <tr>\n",
              "      <th>group_x</th>\n",
              "      <th></th>\n",
              "      <th></th>\n",
              "      <th></th>\n",
              "    </tr>\n",
              "  </thead>\n",
              "  <tbody>\n",
              "    <tr>\n",
              "      <th>A</th>\n",
              "      <td>21369</td>\n",
              "      <td>2458</td>\n",
              "      <td>8.69</td>\n",
              "    </tr>\n",
              "    <tr>\n",
              "      <th>B</th>\n",
              "      <td>5287</td>\n",
              "      <td>768</td>\n",
              "      <td>6.88</td>\n",
              "    </tr>\n",
              "  </tbody>\n",
              "</table>\n",
              "</div>\n",
              "      <button class=\"colab-df-convert\" onclick=\"convertToInteractive('df-87c2c270-7f80-44f2-b168-bc3253cc55e0')\"\n",
              "              title=\"Convert this dataframe to an interactive table.\"\n",
              "              style=\"display:none;\">\n",
              "\n",
              "  <svg xmlns=\"http://www.w3.org/2000/svg\" height=\"24px\"viewBox=\"0 0 24 24\"\n",
              "       width=\"24px\">\n",
              "    <path d=\"M0 0h24v24H0V0z\" fill=\"none\"/>\n",
              "    <path d=\"M18.56 5.44l.94 2.06.94-2.06 2.06-.94-2.06-.94-.94-2.06-.94 2.06-2.06.94zm-11 1L8.5 8.5l.94-2.06 2.06-.94-2.06-.94L8.5 2.5l-.94 2.06-2.06.94zm10 10l.94 2.06.94-2.06 2.06-.94-2.06-.94-.94-2.06-.94 2.06-2.06.94z\"/><path d=\"M17.41 7.96l-1.37-1.37c-.4-.4-.92-.59-1.43-.59-.52 0-1.04.2-1.43.59L10.3 9.45l-7.72 7.72c-.78.78-.78 2.05 0 2.83L4 21.41c.39.39.9.59 1.41.59.51 0 1.02-.2 1.41-.59l7.78-7.78 2.81-2.81c.8-.78.8-2.07 0-2.86zM5.41 20L4 18.59l7.72-7.72 1.47 1.35L5.41 20z\"/>\n",
              "  </svg>\n",
              "      </button>\n",
              "\n",
              "\n",
              "\n",
              "    <div id=\"df-233b9191-0938-4830-bc17-99533d7f39de\">\n",
              "      <button class=\"colab-df-quickchart\" onclick=\"quickchart('df-233b9191-0938-4830-bc17-99533d7f39de')\"\n",
              "              title=\"Suggest charts.\"\n",
              "              style=\"display:none;\">\n",
              "\n",
              "<svg xmlns=\"http://www.w3.org/2000/svg\" height=\"24px\"viewBox=\"0 0 24 24\"\n",
              "     width=\"24px\">\n",
              "    <g>\n",
              "        <path d=\"M19 3H5c-1.1 0-2 .9-2 2v14c0 1.1.9 2 2 2h14c1.1 0 2-.9 2-2V5c0-1.1-.9-2-2-2zM9 17H7v-7h2v7zm4 0h-2V7h2v10zm4 0h-2v-4h2v4z\"/>\n",
              "    </g>\n",
              "</svg>\n",
              "      </button>\n",
              "    </div>\n",
              "\n",
              "<style>\n",
              "  .colab-df-quickchart {\n",
              "    background-color: #E8F0FE;\n",
              "    border: none;\n",
              "    border-radius: 50%;\n",
              "    cursor: pointer;\n",
              "    display: none;\n",
              "    fill: #1967D2;\n",
              "    height: 32px;\n",
              "    padding: 0 0 0 0;\n",
              "    width: 32px;\n",
              "  }\n",
              "\n",
              "  .colab-df-quickchart:hover {\n",
              "    background-color: #E2EBFA;\n",
              "    box-shadow: 0px 1px 2px rgba(60, 64, 67, 0.3), 0px 1px 3px 1px rgba(60, 64, 67, 0.15);\n",
              "    fill: #174EA6;\n",
              "  }\n",
              "\n",
              "  [theme=dark] .colab-df-quickchart {\n",
              "    background-color: #3B4455;\n",
              "    fill: #D2E3FC;\n",
              "  }\n",
              "\n",
              "  [theme=dark] .colab-df-quickchart:hover {\n",
              "    background-color: #434B5C;\n",
              "    box-shadow: 0px 1px 3px 1px rgba(0, 0, 0, 0.15);\n",
              "    filter: drop-shadow(0px 1px 2px rgba(0, 0, 0, 0.3));\n",
              "    fill: #FFFFFF;\n",
              "  }\n",
              "</style>\n",
              "\n",
              "    <script>\n",
              "      async function quickchart(key) {\n",
              "        const containerElement = document.querySelector('#' + key);\n",
              "        const charts = await google.colab.kernel.invokeFunction(\n",
              "            'suggestCharts', [key], {});\n",
              "      }\n",
              "    </script>\n",
              "\n",
              "      <script>\n",
              "\n",
              "function displayQuickchartButton(domScope) {\n",
              "  let quickchartButtonEl =\n",
              "    domScope.querySelector('#df-233b9191-0938-4830-bc17-99533d7f39de button.colab-df-quickchart');\n",
              "  quickchartButtonEl.style.display =\n",
              "    google.colab.kernel.accessAllowed ? 'block' : 'none';\n",
              "}\n",
              "\n",
              "        displayQuickchartButton(document);\n",
              "      </script>\n",
              "      <style>\n",
              "    .colab-df-container {\n",
              "      display:flex;\n",
              "      flex-wrap:wrap;\n",
              "      gap: 12px;\n",
              "    }\n",
              "\n",
              "    .colab-df-convert {\n",
              "      background-color: #E8F0FE;\n",
              "      border: none;\n",
              "      border-radius: 50%;\n",
              "      cursor: pointer;\n",
              "      display: none;\n",
              "      fill: #1967D2;\n",
              "      height: 32px;\n",
              "      padding: 0 0 0 0;\n",
              "      width: 32px;\n",
              "    }\n",
              "\n",
              "    .colab-df-convert:hover {\n",
              "      background-color: #E2EBFA;\n",
              "      box-shadow: 0px 1px 2px rgba(60, 64, 67, 0.3), 0px 1px 3px 1px rgba(60, 64, 67, 0.15);\n",
              "      fill: #174EA6;\n",
              "    }\n",
              "\n",
              "    [theme=dark] .colab-df-convert {\n",
              "      background-color: #3B4455;\n",
              "      fill: #D2E3FC;\n",
              "    }\n",
              "\n",
              "    [theme=dark] .colab-df-convert:hover {\n",
              "      background-color: #434B5C;\n",
              "      box-shadow: 0px 1px 3px 1px rgba(0, 0, 0, 0.15);\n",
              "      filter: drop-shadow(0px 1px 2px rgba(0, 0, 0, 0.3));\n",
              "      fill: #FFFFFF;\n",
              "    }\n",
              "  </style>\n",
              "\n",
              "      <script>\n",
              "        const buttonEl =\n",
              "          document.querySelector('#df-87c2c270-7f80-44f2-b168-bc3253cc55e0 button.colab-df-convert');\n",
              "        buttonEl.style.display =\n",
              "          google.colab.kernel.accessAllowed ? 'block' : 'none';\n",
              "\n",
              "        async function convertToInteractive(key) {\n",
              "          const element = document.querySelector('#df-87c2c270-7f80-44f2-b168-bc3253cc55e0');\n",
              "          const dataTable =\n",
              "            await google.colab.kernel.invokeFunction('convertToInteractive',\n",
              "                                                     [key], {});\n",
              "          if (!dataTable) return;\n",
              "\n",
              "          const docLinkHtml = 'Like what you see? Visit the ' +\n",
              "            '<a target=\"_blank\" href=https://colab.research.google.com/notebooks/data_table.ipynb>data table notebook</a>'\n",
              "            + ' to learn more about interactive tables.';\n",
              "          element.innerHTML = '';\n",
              "          dataTable['output_type'] = 'display_data';\n",
              "          await google.colab.output.renderOutput(dataTable, element);\n",
              "          const docLink = document.createElement('div');\n",
              "          docLink.innerHTML = docLinkHtml;\n",
              "          element.appendChild(docLink);\n",
              "        }\n",
              "      </script>\n",
              "    </div>\n",
              "  </div>\n"
            ]
          },
          "metadata": {},
          "execution_count": 55
        }
      ],
      "source": [
        "users_events_ratio"
      ]
    },
    {
      "cell_type": "code",
      "execution_count": 56,
      "metadata": {
        "colab": {
          "base_uri": "https://localhost:8080/",
          "height": 595
        },
        "id": "88i0FFnVSueG",
        "outputId": "91767474-ba79-4579-f7e3-36d87e3e7f4d"
      },
      "outputs": [
        {
          "output_type": "display_data",
          "data": {
            "text/plain": [
              "<Figure size 700x600 with 1 Axes>"
            ],
            "image/png": "[encoded data removed]"
          },
          "metadata": {}
        }
      ],
      "source": [
        "fig, ax = plt.subplots(figsize=(7, 6))\n",
        "sns.barplot(data=users_events_ratio.sort_values('events_per_user').reset_index(), x=\"group_x\", y=\"events_per_user\")\n",
        "ax.set_xlabel('Название группы', size = 12)\n",
        "ax.set_ylabel('Среднее количество событий на участника', size = 12)\n",
        "ax.set_title('Распределение количества событий на пользователя в тесте recommender_system_test\\n', size = 15)\n",
        "plt.show()"
      ]
    },
    {
      "cell_type": "markdown",
      "metadata": {
        "id": "--XqgCrFTrJ7"
      },
      "source": [
        "Итак, количество событий на пользователя внутри теста распределено почти равномерно."
      ]
    },
    {
      "cell_type": "markdown",
      "metadata": {
        "id": "-RrXEzZzNi0Q"
      },
      "source": [
        "### Распределение числа событий в выборках по дням"
      ]
    },
    {
      "cell_type": "code",
      "execution_count": 57,
      "metadata": {
        "id": "vHEqBwqUT_kW"
      },
      "outputs": [],
      "source": [
        "recommender_test_users['date'] = recommender_test_users['event_dt_x'].dt.date"
      ]
    },
    {
      "cell_type": "code",
      "execution_count": 58,
      "metadata": {
        "id": "gMLPy_U2YE4E"
      },
      "outputs": [],
      "source": [
        "events_groups = events.merge(test_participants[test_participants['ab_test'] == 'recommender_system_test'],\n",
        "                      how='inner',\n",
        "                      on='user_id')"
      ]
    },
    {
      "cell_type": "code",
      "execution_count": 59,
      "metadata": {
        "id": "DI0R09rEYSTR"
      },
      "outputs": [],
      "source": [
        "events_groups = recommender_test_users.groupby(['date', 'group_x']).agg({'event_name':'count'}).reset_index()\n",
        "events_groups = events_groups.rename(columns={'event_name':'event_count'})"
      ]
    },
    {
      "cell_type": "code",
      "execution_count": 60,
      "metadata": {
        "colab": {
          "base_uri": "https://localhost:8080/",
          "height": 671
        },
        "id": "C8GgdqqqYec6",
        "outputId": "90e04127-b94b-4e8f-85e1-e9e004f7ffd6"
      },
      "outputs": [
        {
          "output_type": "display_data",
          "data": {
            "text/plain": [
              "<Figure size 1200x700 with 1 Axes>"
            ],
            "image/png": "[encoded data removed]"
          },
          "metadata": {}
        }
      ],
      "source": [
        "fig, ax = plt.subplots(figsize=(12, 7))\n",
        "sns.lineplot(data=events_groups, y='event_count', x=\"date\", hue='group_x')\n",
        "ax.set_xlabel('Дата события', size = 12)\n",
        "ax.set_ylabel('Количество событий', size = 12)\n",
        "ax.set_title('Распределение количества событий по времени\\n', size = 15)\n",
        "plt.show();"
      ]
    },
    {
      "cell_type": "markdown",
      "metadata": {
        "id": "Kq9CQTuqZ4EF"
      },
      "source": [
        "Итак, линейный график показывает, что количество событий в группе А (контрольной) почти всегда было выше, чем в экспериментальной. Имеется момент быстрого роста количества значений: 14 декабря."
      ]
    },
    {
      "cell_type": "code",
      "execution_count": 61,
      "metadata": {
        "id": "CyWA9KhmHv0U"
      },
      "outputs": [],
      "source": [
        "recommender_system_test14 = recommender_test_users.groupby(['group_x', 'first_date_x']).agg({'user_id':'nunique'})\n",
        "recommender_system_test14 = recommender_system_test14.rename(columns={'user_id':'user_count'})"
      ]
    },
    {
      "cell_type": "code",
      "execution_count": 62,
      "metadata": {
        "colab": {
          "base_uri": "https://localhost:8080/",
          "height": 671
        },
        "id": "-IlCZg9-Hv0U",
        "outputId": "11f264e7-ec9d-4913-8cba-801ac5017a63"
      },
      "outputs": [
        {
          "output_type": "display_data",
          "data": {
            "text/plain": [
              "<Figure size 1200x700 with 1 Axes>"
            ],
            "image/png": "[encoded data removed]"
          },
          "metadata": {}
        }
      ],
      "source": [
        "fig, ax = plt.subplots(figsize=(12, 7))\n",
        "sns.lineplot(data=recommender_system_test14, y='user_count', x=\"first_date_x\", hue='group_x')\n",
        "ax.set_xlabel('Дата привлечения пользователей', size = 12)\n",
        "ax.set_ylabel('Количество пользователей', size = 12)\n",
        "ax.set_title('Распределение количества регистраций пользователей по времени\\n', size = 15)\n",
        "plt.show();"
      ]
    },
    {
      "cell_type": "markdown",
      "metadata": {
        "id": "3KJtHNS2Hv0U"
      },
      "source": [
        "Динамика набора пользователей показывает, что скачок количества событий 14 декабря связан с притоком новых пользователей."
      ]
    },
    {
      "cell_type": "markdown",
      "metadata": {
        "id": "z_c_uP-iNjwt"
      },
      "source": [
        "### Конверсия в воронке в выборках на разных этапах"
      ]
    },
    {
      "cell_type": "code",
      "execution_count": 63,
      "metadata": {
        "id": "Rwuu3nFoolx8"
      },
      "outputs": [],
      "source": [
        "recommender_users_events = recommender_test_users.groupby(['event_name', 'group_x']).agg({'user_id':'nunique'}).sort_values('user_id', ascending=False).reset_index()\n",
        "recommender_users_events = recommender_users_events.rename(columns={'user_id':'user_count'})"
      ]
    },
    {
      "cell_type": "code",
      "execution_count": 64,
      "metadata": {
        "colab": {
          "base_uri": "https://localhost:8080/",
          "height": 300
        },
        "id": "879Si2mGo3m3",
        "outputId": "22c88d44-a321-4832-d826-0acb4c698d5e"
      },
      "outputs": [
        {
          "output_type": "execute_result",
          "data": {
            "text/plain": [
              "     event_name group_x  user_count\n",
              "0         login       A        2458\n",
              "1  product_page       A        1590\n",
              "2      purchase       A         798\n",
              "3         login       B         768\n",
              "4  product_cart       A         748\n",
              "5  product_page       B         432\n",
              "6      purchase       B         220\n",
              "7  product_cart       B         218"
            ],
            "text/html": [
              "\n",
              "\n",
              "  <div id=\"df-99184f96-fde9-4556-9cf6-8459b4f96fc1\">\n",
              "    <div class=\"colab-df-container\">\n",
              "      <div>\n",
              "<style scoped>\n",
              "    .dataframe tbody tr th:only-of-type {\n",
              "        vertical-align: middle;\n",
              "    }\n",
              "\n",
              "    .dataframe tbody tr th {\n",
              "        vertical-align: top;\n",
              "    }\n",
              "\n",
              "    .dataframe thead th {\n",
              "        text-align: right;\n",
              "    }\n",
              "</style>\n",
              "<table border=\"1\" class=\"dataframe\">\n",
              "  <thead>\n",
              "    <tr style=\"text-align: right;\">\n",
              "      <th></th>\n",
              "      <th>event_name</th>\n",
              "      <th>group_x</th>\n",
              "      <th>user_count</th>\n",
              "    </tr>\n",
              "  </thead>\n",
              "  <tbody>\n",
              "    <tr>\n",
              "      <th>0</th>\n",
              "      <td>login</td>\n",
              "      <td>A</td>\n",
              "      <td>2458</td>\n",
              "    </tr>\n",
              "    <tr>\n",
              "      <th>1</th>\n",
              "      <td>product_page</td>\n",
              "      <td>A</td>\n",
              "      <td>1590</td>\n",
              "    </tr>\n",
              "    <tr>\n",
              "      <th>2</th>\n",
              "      <td>purchase</td>\n",
              "      <td>A</td>\n",
              "      <td>798</td>\n",
              "    </tr>\n",
              "    <tr>\n",
              "      <th>3</th>\n",
              "      <td>login</td>\n",
              "      <td>B</td>\n",
              "      <td>768</td>\n",
              "    </tr>\n",
              "    <tr>\n",
              "      <th>4</th>\n",
              "      <td>product_cart</td>\n",
              "      <td>A</td>\n",
              "      <td>748</td>\n",
              "    </tr>\n",
              "    <tr>\n",
              "      <th>5</th>\n",
              "      <td>product_page</td>\n",
              "      <td>B</td>\n",
              "      <td>432</td>\n",
              "    </tr>\n",
              "    <tr>\n",
              "      <th>6</th>\n",
              "      <td>purchase</td>\n",
              "      <td>B</td>\n",
              "      <td>220</td>\n",
              "    </tr>\n",
              "    <tr>\n",
              "      <th>7</th>\n",
              "      <td>product_cart</td>\n",
              "      <td>B</td>\n",
              "      <td>218</td>\n",
              "    </tr>\n",
              "  </tbody>\n",
              "</table>\n",
              "</div>\n",
              "      <button class=\"colab-df-convert\" onclick=\"convertToInteractive('df-99184f96-fde9-4556-9cf6-8459b4f96fc1')\"\n",
              "              title=\"Convert this dataframe to an interactive table.\"\n",
              "              style=\"display:none;\">\n",
              "\n",
              "  <svg xmlns=\"http://www.w3.org/2000/svg\" height=\"24px\"viewBox=\"0 0 24 24\"\n",
              "       width=\"24px\">\n",
              "    <path d=\"M0 0h24v24H0V0z\" fill=\"none\"/>\n",
              "    <path d=\"M18.56 5.44l.94 2.06.94-2.06 2.06-.94-2.06-.94-.94-2.06-.94 2.06-2.06.94zm-11 1L8.5 8.5l.94-2.06 2.06-.94-2.06-.94L8.5 2.5l-.94 2.06-2.06.94zm10 10l.94 2.06.94-2.06 2.06-.94-2.06-.94-.94-2.06-.94 2.06-2.06.94z\"/><path d=\"M17.41 7.96l-1.37-1.37c-.4-.4-.92-.59-1.43-.59-.52 0-1.04.2-1.43.59L10.3 9.45l-7.72 7.72c-.78.78-.78 2.05 0 2.83L4 21.41c.39.39.9.59 1.41.59.51 0 1.02-.2 1.41-.59l7.78-7.78 2.81-2.81c.8-.78.8-2.07 0-2.86zM5.41 20L4 18.59l7.72-7.72 1.47 1.35L5.41 20z\"/>\n",
              "  </svg>\n",
              "      </button>\n",
              "\n",
              "\n",
              "\n",
              "    <div id=\"df-29d78f5f-603e-4301-a768-6e45af1499f1\">\n",
              "      <button class=\"colab-df-quickchart\" onclick=\"quickchart('df-29d78f5f-603e-4301-a768-6e45af1499f1')\"\n",
              "              title=\"Suggest charts.\"\n",
              "              style=\"display:none;\">\n",
              "\n",
              "<svg xmlns=\"http://www.w3.org/2000/svg\" height=\"24px\"viewBox=\"0 0 24 24\"\n",
              "     width=\"24px\">\n",
              "    <g>\n",
              "        <path d=\"M19 3H5c-1.1 0-2 .9-2 2v14c0 1.1.9 2 2 2h14c1.1 0 2-.9 2-2V5c0-1.1-.9-2-2-2zM9 17H7v-7h2v7zm4 0h-2V7h2v10zm4 0h-2v-4h2v4z\"/>\n",
              "    </g>\n",
              "</svg>\n",
              "      </button>\n",
              "    </div>\n",
              "\n",
              "<style>\n",
              "  .colab-df-quickchart {\n",
              "    background-color: #E8F0FE;\n",
              "    border: none;\n",
              "    border-radius: 50%;\n",
              "    cursor: pointer;\n",
              "    display: none;\n",
              "    fill: #1967D2;\n",
              "    height: 32px;\n",
              "    padding: 0 0 0 0;\n",
              "    width: 32px;\n",
              "  }\n",
              "\n",
              "  .colab-df-quickchart:hover {\n",
              "    background-color: #E2EBFA;\n",
              "    box-shadow: 0px 1px 2px rgba(60, 64, 67, 0.3), 0px 1px 3px 1px rgba(60, 64, 67, 0.15);\n",
              "    fill: #174EA6;\n",
              "  }\n",
              "\n",
              "  [theme=dark] .colab-df-quickchart {\n",
              "    background-color: #3B4455;\n",
              "    fill: #D2E3FC;\n",
              "  }\n",
              "\n",
              "  [theme=dark] .colab-df-quickchart:hover {\n",
              "    background-color: #434B5C;\n",
              "    box-shadow: 0px 1px 3px 1px rgba(0, 0, 0, 0.15);\n",
              "    filter: drop-shadow(0px 1px 2px rgba(0, 0, 0, 0.3));\n",
              "    fill: #FFFFFF;\n",
              "  }\n",
              "</style>\n",
              "\n",
              "    <script>\n",
              "      async function quickchart(key) {\n",
              "        const containerElement = document.querySelector('#' + key);\n",
              "        const charts = await google.colab.kernel.invokeFunction(\n",
              "            'suggestCharts', [key], {});\n",
              "      }\n",
              "    </script>\n",
              "\n",
              "      <script>\n",
              "\n",
              "function displayQuickchartButton(domScope) {\n",
              "  let quickchartButtonEl =\n",
              "    domScope.querySelector('#df-29d78f5f-603e-4301-a768-6e45af1499f1 button.colab-df-quickchart');\n",
              "  quickchartButtonEl.style.display =\n",
              "    google.colab.kernel.accessAllowed ? 'block' : 'none';\n",
              "}\n",
              "\n",
              "        displayQuickchartButton(document);\n",
              "      </script>\n",
              "      <style>\n",
              "    .colab-df-container {\n",
              "      display:flex;\n",
              "      flex-wrap:wrap;\n",
              "      gap: 12px;\n",
              "    }\n",
              "\n",
              "    .colab-df-convert {\n",
              "      background-color: #E8F0FE;\n",
              "      border: none;\n",
              "      border-radius: 50%;\n",
              "      cursor: pointer;\n",
              "      display: none;\n",
              "      fill: #1967D2;\n",
              "      height: 32px;\n",
              "      padding: 0 0 0 0;\n",
              "      width: 32px;\n",
              "    }\n",
              "\n",
              "    .colab-df-convert:hover {\n",
              "      background-color: #E2EBFA;\n",
              "      box-shadow: 0px 1px 2px rgba(60, 64, 67, 0.3), 0px 1px 3px 1px rgba(60, 64, 67, 0.15);\n",
              "      fill: #174EA6;\n",
              "    }\n",
              "\n",
              "    [theme=dark] .colab-df-convert {\n",
              "      background-color: #3B4455;\n",
              "      fill: #D2E3FC;\n",
              "    }\n",
              "\n",
              "    [theme=dark] .colab-df-convert:hover {\n",
              "      background-color: #434B5C;\n",
              "      box-shadow: 0px 1px 3px 1px rgba(0, 0, 0, 0.15);\n",
              "      filter: drop-shadow(0px 1px 2px rgba(0, 0, 0, 0.3));\n",
              "      fill: #FFFFFF;\n",
              "    }\n",
              "  </style>\n",
              "\n",
              "      <script>\n",
              "        const buttonEl =\n",
              "          document.querySelector('#df-99184f96-fde9-4556-9cf6-8459b4f96fc1 button.colab-df-convert');\n",
              "        buttonEl.style.display =\n",
              "          google.colab.kernel.accessAllowed ? 'block' : 'none';\n",
              "\n",
              "        async function convertToInteractive(key) {\n",
              "          const element = document.querySelector('#df-99184f96-fde9-4556-9cf6-8459b4f96fc1');\n",
              "          const dataTable =\n",
              "            await google.colab.kernel.invokeFunction('convertToInteractive',\n",
              "                                                     [key], {});\n",
              "          if (!dataTable) return;\n",
              "\n",
              "          const docLinkHtml = 'Like what you see? Visit the ' +\n",
              "            '<a target=\"_blank\" href=https://colab.research.google.com/notebooks/data_table.ipynb>data table notebook</a>'\n",
              "            + ' to learn more about interactive tables.';\n",
              "          element.innerHTML = '';\n",
              "          dataTable['output_type'] = 'display_data';\n",
              "          await google.colab.output.renderOutput(dataTable, element);\n",
              "          const docLink = document.createElement('div');\n",
              "          docLink.innerHTML = docLinkHtml;\n",
              "          element.appendChild(docLink);\n",
              "        }\n",
              "      </script>\n",
              "    </div>\n",
              "  </div>\n"
            ]
          },
          "metadata": {},
          "execution_count": 64
        }
      ],
      "source": [
        "recommender_users_events.sort_values('user_count', ascending=False)"
      ]
    },
    {
      "cell_type": "code",
      "execution_count": 65,
      "metadata": {
        "id": "xLfY92LvHv0V"
      },
      "outputs": [],
      "source": [
        "recommender_users_events['correct order'] = [1, 2, 4, 1, 3, 2, 4, 3]"
      ]
    },
    {
      "cell_type": "code",
      "execution_count": 66,
      "metadata": {
        "id": "NYXvyU7sHv0V"
      },
      "outputs": [],
      "source": [
        "recommender_users_events = recommender_users_events.sort_values(by=['correct order', 'user_count'])"
      ]
    },
    {
      "cell_type": "code",
      "execution_count": 67,
      "metadata": {
        "colab": {
          "base_uri": "https://localhost:8080/",
          "height": 542
        },
        "id": "y69wIbuErg9R",
        "outputId": "b5791b4e-fe7e-4c78-f366-63dfe7ca0521"
      },
      "outputs": [
        {
          "output_type": "display_data",
          "data": {
            "text/html": [
              "<html>\n",
              "<head><meta charset=\"utf-8\" /></head>\n",
              "<body>\n",
              "    <div>            <script src=\"https://cdnjs.cloudflare.com/ajax/libs/mathjax/2.7.5/MathJax.js?config=TeX-AMS-MML_SVG\"></script><script type=\"text/javascript\">if (window.MathJax && window.MathJax.Hub && window.MathJax.Hub.Config) {window.MathJax.Hub.Config({SVG: {font: \"STIX-Web\"}});}</script>                <script type=\"text/javascript\">window.PlotlyConfig = {MathJaxConfig: 'local'};</script>\n",
              "        <script src=\"https://cdn.plot.ly/plotly-2.18.2.min.js\"></script>                <div id=\"3e7b052c-dca1-4d1d-b114-c7aa9b5fc4c8\" class=\"plotly-graph-div\" style=\"height:525px; width:100%;\"></div>            <script type=\"text/javascript\">                                    window.PLOTLYENV=window.PLOTLYENV || {};                                    if (document.getElementById(\"3e7b052c-dca1-4d1d-b114-c7aa9b5fc4c8\")) {                    Plotly.newPlot(                        \"3e7b052c-dca1-4d1d-b114-c7aa9b5fc4c8\",                        [{\"name\":\"\\u0413\\u0440\\u0443\\u043f\\u043f\\u0430 A\",\"textinfo\":\"value+percent previous\",\"x\":[2458,1590,748,798],\"y\":[\"login\",\"product_page\",\"product_cart\",\"purchase\"],\"type\":\"funnel\"},{\"name\":\"\\u0413\\u0440\\u0443\\u043f\\u043f\\u0430 B\",\"orientation\":\"h\",\"textinfo\":\"value+percent previous\",\"textposition\":\"inside\",\"x\":[768,432,218,220],\"y\":[\"login\",\"product_page\",\"product_cart\",\"purchase\"],\"type\":\"funnel\"}],                        {\"template\":{\"data\":{\"histogram2dcontour\":[{\"type\":\"histogram2dcontour\",\"colorbar\":{\"outlinewidth\":0,\"ticks\":\"\"},\"colorscale\":[[0.0,\"#0d0887\"],[0.1111111111111111,\"#46039f\"],[0.2222222222222222,\"#7201a8\"],[0.3333333333333333,\"#9c179e\"],[0.4444444444444444,\"#bd3786\"],[0.5555555555555556,\"#d8576b\"],[0.6666666666666666,\"#ed7953\"],[0.7777777777777778,\"#fb9f3a\"],[0.8888888888888888,\"#fdca26\"],[1.0,\"#f0f921\"]]}],\"choropleth\":[{\"type\":\"choropleth\",\"colorbar\":{\"outlinewidth\":0,\"ticks\":\"\"}}],\"histogram2d\":[{\"type\":\"histogram2d\",\"colorbar\":{\"outlinewidth\":0,\"ticks\":\"\"},\"colorscale\":[[0.0,\"#0d0887\"],[0.1111111111111111,\"#46039f\"],[0.2222222222222222,\"#7201a8\"],[0.3333333333333333,\"#9c179e\"],[0.4444444444444444,\"#bd3786\"],[0.5555555555555556,\"#d8576b\"],[0.6666666666666666,\"#ed7953\"],[0.7777777777777778,\"#fb9f3a\"],[0.8888888888888888,\"#fdca26\"],[1.0,\"#f0f921\"]]}],\"heatmap\":[{\"type\":\"heatmap\",\"colorbar\":{\"outlinewidth\":0,\"ticks\":\"\"},\"colorscale\":[[0.0,\"#0d0887\"],[0.1111111111111111,\"#46039f\"],[0.2222222222222222,\"#7201a8\"],[0.3333333333333333,\"#9c179e\"],[0.4444444444444444,\"#bd3786\"],[0.5555555555555556,\"#d8576b\"],[0.6666666666666666,\"#ed7953\"],[0.7777777777777778,\"#fb9f3a\"],[0.8888888888888888,\"#fdca26\"],[1.0,\"#f0f921\"]]}],\"heatmapgl\":[{\"type\":\"heatmapgl\",\"colorbar\":{\"outlinewidth\":0,\"ticks\":\"\"},\"colorscale\":[[0.0,\"#0d0887\"],[0.1111111111111111,\"#46039f\"],[0.2222222222222222,\"#7201a8\"],[0.3333333333333333,\"#9c179e\"],[0.4444444444444444,\"#bd3786\"],[0.5555555555555556,\"#d8576b\"],[0.6666666666666666,\"#ed7953\"],[0.7777777777777778,\"#fb9f3a\"],[0.8888888888888888,\"#fdca26\"],[1.0,\"#f0f921\"]]}],\"contourcarpet\":[{\"type\":\"contourcarpet\",\"colorbar\":{\"outlinewidth\":0,\"ticks\":\"\"}}],\"contour\":[{\"type\":\"contour\",\"colorbar\":{\"outlinewidth\":0,\"ticks\":\"\"},\"colorscale\":[[0.0,\"#0d0887\"],[0.1111111111111111,\"#46039f\"],[0.2222222222222222,\"#7201a8\"],[0.3333333333333333,\"#9c179e\"],[0.4444444444444444,\"#bd3786\"],[0.5555555555555556,\"#d8576b\"],[0.6666666666666666,\"#ed7953\"],[0.7777777777777778,\"#fb9f3a\"],[0.8888888888888888,\"#fdca26\"],[1.0,\"#f0f921\"]]}],\"surface\":[{\"type\":\"surface\",\"colorbar\":{\"outlinewidth\":0,\"ticks\":\"\"},\"colorscale\":[[0.0,\"#0d0887\"],[0.1111111111111111,\"#46039f\"],[0.2222222222222222,\"#7201a8\"],[0.3333333333333333,\"#9c179e\"],[0.4444444444444444,\"#bd3786\"],[0.5555555555555556,\"#d8576b\"],[0.6666666666666666,\"#ed7953\"],[0.7777777777777778,\"#fb9f3a\"],[0.8888888888888888,\"#fdca26\"],[1.0,\"#f0f921\"]]}],\"mesh3d\":[{\"type\":\"mesh3d\",\"colorbar\":{\"outlinewidth\":0,\"ticks\":\"\"}}],\"scatter\":[{\"fillpattern\":{\"fillmode\":\"overlay\",\"size\":10,\"solidity\":0.2},\"type\":\"scatter\"}],\"parcoords\":[{\"type\":\"parcoords\",\"line\":{\"colorbar\":{\"outlinewidth\":0,\"ticks\":\"\"}}}],\"scatterpolargl\":[{\"type\":\"scatterpolargl\",\"marker\":{\"colorbar\":{\"outlinewidth\":0,\"ticks\":\"\"}}}],\"bar\":[{\"error_x\":{\"color\":\"#2a3f5f\"},\"error_y\":{\"color\":\"#2a3f5f\"},\"marker\":{\"line\":{\"color\":\"#E5ECF6\",\"width\":0.5},\"pattern\":{\"fillmode\":\"overlay\",\"size\":10,\"solidity\":0.2}},\"type\":\"bar\"}],\"scattergeo\":[{\"type\":\"scattergeo\",\"marker\":{\"colorbar\":{\"outlinewidth\":0,\"ticks\":\"\"}}}],\"scatterpolar\":[{\"type\":\"scatterpolar\",\"marker\":{\"colorbar\":{\"outlinewidth\":0,\"ticks\":\"\"}}}],\"histogram\":[{\"marker\":{\"pattern\":{\"fillmode\":\"overlay\",\"size\":10,\"solidity\":0.2}},\"type\":\"histogram\"}],\"scattergl\":[{\"type\":\"scattergl\",\"marker\":{\"colorbar\":{\"outlinewidth\":0,\"ticks\":\"\"}}}],\"scatter3d\":[{\"type\":\"scatter3d\",\"line\":{\"colorbar\":{\"outlinewidth\":0,\"ticks\":\"\"}},\"marker\":{\"colorbar\":{\"outlinewidth\":0,\"ticks\":\"\"}}}],\"scattermapbox\":[{\"type\":\"scattermapbox\",\"marker\":{\"colorbar\":{\"outlinewidth\":0,\"ticks\":\"\"}}}],\"scatterternary\":[{\"type\":\"scatterternary\",\"marker\":{\"colorbar\":{\"outlinewidth\":0,\"ticks\":\"\"}}}],\"scattercarpet\":[{\"type\":\"scattercarpet\",\"marker\":{\"colorbar\":{\"outlinewidth\":0,\"ticks\":\"\"}}}],\"carpet\":[{\"aaxis\":{\"endlinecolor\":\"#2a3f5f\",\"gridcolor\":\"white\",\"linecolor\":\"white\",\"minorgridcolor\":\"white\",\"startlinecolor\":\"#2a3f5f\"},\"baxis\":{\"endlinecolor\":\"#2a3f5f\",\"gridcolor\":\"white\",\"linecolor\":\"white\",\"minorgridcolor\":\"white\",\"startlinecolor\":\"#2a3f5f\"},\"type\":\"carpet\"}],\"table\":[{\"cells\":{\"fill\":{\"color\":\"#EBF0F8\"},\"line\":{\"color\":\"white\"}},\"header\":{\"fill\":{\"color\":\"#C8D4E3\"},\"line\":{\"color\":\"white\"}},\"type\":\"table\"}],\"barpolar\":[{\"marker\":{\"line\":{\"color\":\"#E5ECF6\",\"width\":0.5},\"pattern\":{\"fillmode\":\"overlay\",\"size\":10,\"solidity\":0.2}},\"type\":\"barpolar\"}],\"pie\":[{\"automargin\":true,\"type\":\"pie\"}]},\"layout\":{\"autotypenumbers\":\"strict\",\"colorway\":[\"#636efa\",\"#EF553B\",\"#00cc96\",\"#ab63fa\",\"#FFA15A\",\"#19d3f3\",\"#FF6692\",\"#B6E880\",\"#FF97FF\",\"#FECB52\"],\"font\":{\"color\":\"#2a3f5f\"},\"hovermode\":\"closest\",\"hoverlabel\":{\"align\":\"left\"},\"paper_bgcolor\":\"white\",\"plot_bgcolor\":\"#E5ECF6\",\"polar\":{\"bgcolor\":\"#E5ECF6\",\"angularaxis\":{\"gridcolor\":\"white\",\"linecolor\":\"white\",\"ticks\":\"\"},\"radialaxis\":{\"gridcolor\":\"white\",\"linecolor\":\"white\",\"ticks\":\"\"}},\"ternary\":{\"bgcolor\":\"#E5ECF6\",\"aaxis\":{\"gridcolor\":\"white\",\"linecolor\":\"white\",\"ticks\":\"\"},\"baxis\":{\"gridcolor\":\"white\",\"linecolor\":\"white\",\"ticks\":\"\"},\"caxis\":{\"gridcolor\":\"white\",\"linecolor\":\"white\",\"ticks\":\"\"}},\"coloraxis\":{\"colorbar\":{\"outlinewidth\":0,\"ticks\":\"\"}},\"colorscale\":{\"sequential\":[[0.0,\"#0d0887\"],[0.1111111111111111,\"#46039f\"],[0.2222222222222222,\"#7201a8\"],[0.3333333333333333,\"#9c179e\"],[0.4444444444444444,\"#bd3786\"],[0.5555555555555556,\"#d8576b\"],[0.6666666666666666,\"#ed7953\"],[0.7777777777777778,\"#fb9f3a\"],[0.8888888888888888,\"#fdca26\"],[1.0,\"#f0f921\"]],\"sequentialminus\":[[0.0,\"#0d0887\"],[0.1111111111111111,\"#46039f\"],[0.2222222222222222,\"#7201a8\"],[0.3333333333333333,\"#9c179e\"],[0.4444444444444444,\"#bd3786\"],[0.5555555555555556,\"#d8576b\"],[0.6666666666666666,\"#ed7953\"],[0.7777777777777778,\"#fb9f3a\"],[0.8888888888888888,\"#fdca26\"],[1.0,\"#f0f921\"]],\"diverging\":[[0,\"#8e0152\"],[0.1,\"#c51b7d\"],[0.2,\"#de77ae\"],[0.3,\"#f1b6da\"],[0.4,\"#fde0ef\"],[0.5,\"#f7f7f7\"],[0.6,\"#e6f5d0\"],[0.7,\"#b8e186\"],[0.8,\"#7fbc41\"],[0.9,\"#4d9221\"],[1,\"#276419\"]]},\"xaxis\":{\"gridcolor\":\"white\",\"linecolor\":\"white\",\"ticks\":\"\",\"title\":{\"standoff\":15},\"zerolinecolor\":\"white\",\"automargin\":true,\"zerolinewidth\":2},\"yaxis\":{\"gridcolor\":\"white\",\"linecolor\":\"white\",\"ticks\":\"\",\"title\":{\"standoff\":15},\"zerolinecolor\":\"white\",\"automargin\":true,\"zerolinewidth\":2},\"scene\":{\"xaxis\":{\"backgroundcolor\":\"#E5ECF6\",\"gridcolor\":\"white\",\"linecolor\":\"white\",\"showbackground\":true,\"ticks\":\"\",\"zerolinecolor\":\"white\",\"gridwidth\":2},\"yaxis\":{\"backgroundcolor\":\"#E5ECF6\",\"gridcolor\":\"white\",\"linecolor\":\"white\",\"showbackground\":true,\"ticks\":\"\",\"zerolinecolor\":\"white\",\"gridwidth\":2},\"zaxis\":{\"backgroundcolor\":\"#E5ECF6\",\"gridcolor\":\"white\",\"linecolor\":\"white\",\"showbackground\":true,\"ticks\":\"\",\"zerolinecolor\":\"white\",\"gridwidth\":2}},\"shapedefaults\":{\"line\":{\"color\":\"#2a3f5f\"}},\"annotationdefaults\":{\"arrowcolor\":\"#2a3f5f\",\"arrowhead\":0,\"arrowwidth\":1},\"geo\":{\"bgcolor\":\"white\",\"landcolor\":\"#E5ECF6\",\"subunitcolor\":\"white\",\"showland\":true,\"showlakes\":true,\"lakecolor\":\"white\"},\"title\":{\"x\":0.05},\"mapbox\":{\"style\":\"light\"}}},\"title\":{\"text\":\"\\u041a\\u043e\\u043d\\u0432\\u0435\\u0440\\u0441\\u0438\\u044f \\u0432 \\u0432\\u043e\\u0440\\u043e\\u043d\\u043a\\u0435 <br><sup>\\u041f\\u0440\\u0435\\u0434\\u0441\\u0442\\u0430\\u0432\\u043b\\u0435\\u043d\\u044b \\u043e\\u0431\\u0435 \\u0432\\u044b\\u0431\\u043e\\u0440\\u043a\\u0438 \\u043d\\u0430 \\u0440\\u0430\\u0437\\u043d\\u044b\\u0445 \\u044d\\u0442\\u0430\\u043f\\u0430\\u0445 </sup>\",\"xref\":\"paper\"}},                        {\"responsive\": true}                    ).then(function(){\n",
              "                            \n",
              "var gd = document.getElementById('3e7b052c-dca1-4d1d-b114-c7aa9b5fc4c8');\n",
              "var x = new MutationObserver(function (mutations, observer) {{\n",
              "        var display = window.getComputedStyle(gd).display;\n",
              "        if (!display || display === 'none') {{\n",
              "            console.log([gd, 'removed!']);\n",
              "            Plotly.purge(gd);\n",
              "            observer.disconnect();\n",
              "        }}\n",
              "}});\n",
              "\n",
              "// Listen for the removal of the full notebook cells\n",
              "var notebookContainer = gd.closest('#notebook-container');\n",
              "if (notebookContainer) {{\n",
              "    x.observe(notebookContainer, {childList: true});\n",
              "}}\n",
              "\n",
              "// Listen for the clearing of the current output cell\n",
              "var outputEl = gd.closest('.output');\n",
              "if (outputEl) {{\n",
              "    x.observe(outputEl, {childList: true});\n",
              "}}\n",
              "\n",
              "                        })                };                            </script>        </div>\n",
              "</body>\n",
              "</html>"
            ]
          },
          "metadata": {}
        }
      ],
      "source": [
        "fig = go.Figure()\n",
        "\n",
        "fig.add_trace(go.Funnel(\n",
        "    name = 'Группа A',\n",
        "    y = recommender_users_events[recommender_users_events['group_x'] == 'A']['event_name'],\n",
        "    x = recommender_users_events[recommender_users_events['group_x'] == 'A']['user_count'],\n",
        "    textinfo = \"value+percent previous\"))\n",
        "\n",
        "fig.add_trace(go.Funnel(\n",
        "    name = 'Группа B',\n",
        "    orientation = \"h\",\n",
        "    y = recommender_users_events[recommender_users_events['group_x'] == 'B']['event_name'],\n",
        "    x = recommender_users_events[recommender_users_events['group_x'] == 'B']['user_count'],\n",
        "    textposition = \"inside\",\n",
        "    textinfo = \"value+percent previous\"))\n",
        "\n",
        "fig.update_layout(\n",
        "    title=go.layout.Title(\n",
        "        text=\"Конверсия в воронке <br><sup>Представлены обе выборки на разных этапах </sup>\",\n",
        "        xref=\"paper\")\n",
        ")\n",
        "\n",
        "fig.show()"
      ]
    },
    {
      "cell_type": "markdown",
      "metadata": {
        "id": "3d6yrYTBsSvC"
      },
      "source": [
        "На основании получившейся воронки мы можем сделать следующие выводы:\n",
        "* От первого этапа ко второму (просмотр карточки товара) в обеих группах переходят больше половины пользователей, но в контрольной группе этот показатель выше (65% против 56%);\n",
        "* Со второго этапа пользователи могут попасть сразу на четвертый и последний этап, минуя корзину: каким-то образом можно оформить заказ и так (об этом стоит сказать в выводах)\n",
        "* Переход между корзиной и оплатой также отличаются в группах: контрольная группа демонстрирует описанное выше поведение (% конверсий повышается), а вот в экспериментальной группе мы видим, что количество пользователей почти не меняется - переход осуществляется гладко,\n",
        "* В любом случае, конверсия в покупку в группе А остается высокой (32% от начального числа пользователей), тогда как у группы В этот показатель чуть ниже (28% от начального числа)."
      ]
    },
    {
      "cell_type": "markdown",
      "metadata": {
        "id": "6QnMNm3hvHBe"
      },
      "source": [
        "### Выводы по главе. Особенности данных, которые нужно учитывать прежде чем приступать к A/B-тестированию"
      ]
    },
    {
      "cell_type": "markdown",
      "metadata": {
        "id": "bGYFXpjIvPNg"
      },
      "source": [
        "Повторим то, что уже было проверено на предыдущих этапах исследования:\n",
        "\n",
        "* Мы знаем о пересечении пользователей между двумя тестами (~11% совпадает);\n",
        "* Количество пользователей распределено по группам не равномерно (57% в группе А, 43% в группе В);\n",
        "* Количество событий на пользователя распределено не равномерно (7 в группе А, 5.8 в группе В);\n",
        "* В группе В большое число бездействующих пользователей (65% от всех бездействующих), которые никак не помогают в тестировании;\n",
        "* Есть всплески большого количества событий во времени (14 и 21 декабря), но они связаны с притоком новых пользователей в выборки."
      ]
    },
    {
      "cell_type": "markdown",
      "metadata": {
        "id": "-cq3IjQ9Hv0W"
      },
      "source": [
        "<a id=\"ab_test\"></a>"
      ]
    },
    {
      "cell_type": "markdown",
      "metadata": {
        "id": "5AJlUNoBfM1L"
      },
      "source": [
        "## Оценка результатов теста"
      ]
    },
    {
      "cell_type": "markdown",
      "metadata": {
        "id": "6ncdDNbNKs7a"
      },
      "source": [
        "### Соответствие конверсии требованиям ТЗ"
      ]
    },
    {
      "cell_type": "markdown",
      "metadata": {
        "id": "-tSu78FUHv0W"
      },
      "source": [
        "На воронке выше мы можем убедиться в том, что конверсия не соответствует заявленной в ТЗ (10% для важных событий)."
      ]
    },
    {
      "cell_type": "markdown",
      "metadata": {
        "id": "Y1HtkN9-JPRI"
      },
      "source": [
        "### Статистическая разница долей, проверка z-критерием"
      ]
    },
    {
      "cell_type": "markdown",
      "metadata": {
        "id": "thCW5F7QHv0W"
      },
      "source": [
        "Наши гипотезы. **Нулевая**: доля пользователей в группе A статистически не отличается от пользователей в группе B. **Альтернативная**: доля пользователей в группах A и B стастистически различны."
      ]
    },
    {
      "cell_type": "code",
      "execution_count": 68,
      "metadata": {
        "id": "uthMXf9mJSI8"
      },
      "outputs": [],
      "source": [
        "def z_test(successes, trials, alpha):\n",
        "\n",
        "    # критический уровень статистической значимости\n",
        "    # alpha = 0.05\n",
        "\n",
        "    # пропорция успехов в первой группе:\n",
        "    p1 = successes[0]/trials[0]\n",
        "\n",
        "    # пропорция успехов во второй группе:\n",
        "    p2 = successes[1]/trials[1]\n",
        "\n",
        "    print(successes[0] ,successes[1] ,trials[0] ,trials[1])\n",
        "\n",
        "    # пропорция успехов в комбинированном датасете:\n",
        "    p_combined = (successes[0] + successes[1]) / (trials[0] + trials[1])\n",
        "\n",
        "    # разница пропорций в датасетах\n",
        "    difference = p1 - p2\n",
        "\n",
        "    # считаем статистику в ст.отклонениях стандартного нормального распределения\n",
        "    z_value = difference / mth.sqrt(p_combined * (1 - p_combined) * (1/trials[0] + 1/trials[1]))\n",
        "\n",
        "    # задаем стандартное нормальное распределение (среднее 0, ст.отклонение 1)\n",
        "    distr = st.norm(0, 1)\n",
        "\n",
        "    p_value = (1 - distr.cdf(abs(z_value))) * 2\n",
        "\n",
        "    print('p-значение: ', p_value)\n",
        "\n",
        "    if p_value < alpha:\n",
        "        print('Отвергаем нулевую гипотезу: между долями есть значимая разница')\n",
        "    else:\n",
        "        print(\n",
        "            'Не получилось отвергнуть нулевую гипотезу, нет оснований считать доли разными'\n",
        "          )"
      ]
    },
    {
      "cell_type": "markdown",
      "metadata": {
        "id": "Ykl1cN8MHv0X"
      },
      "source": [
        "Используем поправку Бонферрони из-за того, что у нас множественные сравнения."
      ]
    },
    {
      "cell_type": "code",
      "execution_count": 69,
      "metadata": {
        "id": "Rdpd67JGMnSp"
      },
      "outputs": [],
      "source": [
        "alpha = 0.05\n",
        "bonferroni_alpha = alpha / 3  # будет произведено три сравнения"
      ]
    },
    {
      "cell_type": "code",
      "execution_count": 70,
      "metadata": {
        "id": "g7T7sslAHv0X"
      },
      "outputs": [],
      "source": [
        "stats = recommender_users_events.groupby(['event_name', 'group_x']).agg({'user_count':'sum'})"
      ]
    },
    {
      "cell_type": "code",
      "execution_count": 71,
      "metadata": {
        "id": "EzVs50vrHv0X"
      },
      "outputs": [],
      "source": [
        "stats['correct order'] = [1, 1, 3, 3, 2, 2, 4, 4]"
      ]
    },
    {
      "cell_type": "code",
      "execution_count": 72,
      "metadata": {
        "colab": {
          "base_uri": "https://localhost:8080/",
          "height": 300
        },
        "id": "pceT1ghZHv0X",
        "outputId": "44bd270a-55fb-4950-d28f-1bdee9b60fb3"
      },
      "outputs": [
        {
          "output_type": "execute_result",
          "data": {
            "text/plain": [
              "     event_name group_x  user_count  correct order\n",
              "0         login       B         768              1\n",
              "1         login       A        2458              1\n",
              "2  product_page       B         432              2\n",
              "3  product_page       A        1590              2\n",
              "4  product_cart       B         218              3\n",
              "5  product_cart       A         748              3\n",
              "6      purchase       B         220              4\n",
              "7      purchase       A         798              4"
            ],
            "text/html": [
              "\n",
              "\n",
              "  <div id=\"df-6bd7eed0-308d-4616-b0ea-60ea8d8f4671\">\n",
              "    <div class=\"colab-df-container\">\n",
              "      <div>\n",
              "<style scoped>\n",
              "    .dataframe tbody tr th:only-of-type {\n",
              "        vertical-align: middle;\n",
              "    }\n",
              "\n",
              "    .dataframe tbody tr th {\n",
              "        vertical-align: top;\n",
              "    }\n",
              "\n",
              "    .dataframe thead th {\n",
              "        text-align: right;\n",
              "    }\n",
              "</style>\n",
              "<table border=\"1\" class=\"dataframe\">\n",
              "  <thead>\n",
              "    <tr style=\"text-align: right;\">\n",
              "      <th></th>\n",
              "      <th>event_name</th>\n",
              "      <th>group_x</th>\n",
              "      <th>user_count</th>\n",
              "      <th>correct order</th>\n",
              "    </tr>\n",
              "  </thead>\n",
              "  <tbody>\n",
              "    <tr>\n",
              "      <th>0</th>\n",
              "      <td>login</td>\n",
              "      <td>B</td>\n",
              "      <td>768</td>\n",
              "      <td>1</td>\n",
              "    </tr>\n",
              "    <tr>\n",
              "      <th>1</th>\n",
              "      <td>login</td>\n",
              "      <td>A</td>\n",
              "      <td>2458</td>\n",
              "      <td>1</td>\n",
              "    </tr>\n",
              "    <tr>\n",
              "      <th>2</th>\n",
              "      <td>product_page</td>\n",
              "      <td>B</td>\n",
              "      <td>432</td>\n",
              "      <td>2</td>\n",
              "    </tr>\n",
              "    <tr>\n",
              "      <th>3</th>\n",
              "      <td>product_page</td>\n",
              "      <td>A</td>\n",
              "      <td>1590</td>\n",
              "      <td>2</td>\n",
              "    </tr>\n",
              "    <tr>\n",
              "      <th>4</th>\n",
              "      <td>product_cart</td>\n",
              "      <td>B</td>\n",
              "      <td>218</td>\n",
              "      <td>3</td>\n",
              "    </tr>\n",
              "    <tr>\n",
              "      <th>5</th>\n",
              "      <td>product_cart</td>\n",
              "      <td>A</td>\n",
              "      <td>748</td>\n",
              "      <td>3</td>\n",
              "    </tr>\n",
              "    <tr>\n",
              "      <th>6</th>\n",
              "      <td>purchase</td>\n",
              "      <td>B</td>\n",
              "      <td>220</td>\n",
              "      <td>4</td>\n",
              "    </tr>\n",
              "    <tr>\n",
              "      <th>7</th>\n",
              "      <td>purchase</td>\n",
              "      <td>A</td>\n",
              "      <td>798</td>\n",
              "      <td>4</td>\n",
              "    </tr>\n",
              "  </tbody>\n",
              "</table>\n",
              "</div>\n",
              "      <button class=\"colab-df-convert\" onclick=\"convertToInteractive('df-6bd7eed0-308d-4616-b0ea-60ea8d8f4671')\"\n",
              "              title=\"Convert this dataframe to an interactive table.\"\n",
              "              style=\"display:none;\">\n",
              "\n",
              "  <svg xmlns=\"http://www.w3.org/2000/svg\" height=\"24px\"viewBox=\"0 0 24 24\"\n",
              "       width=\"24px\">\n",
              "    <path d=\"M0 0h24v24H0V0z\" fill=\"none\"/>\n",
              "    <path d=\"M18.56 5.44l.94 2.06.94-2.06 2.06-.94-2.06-.94-.94-2.06-.94 2.06-2.06.94zm-11 1L8.5 8.5l.94-2.06 2.06-.94-2.06-.94L8.5 2.5l-.94 2.06-2.06.94zm10 10l.94 2.06.94-2.06 2.06-.94-2.06-.94-.94-2.06-.94 2.06-2.06.94z\"/><path d=\"M17.41 7.96l-1.37-1.37c-.4-.4-.92-.59-1.43-.59-.52 0-1.04.2-1.43.59L10.3 9.45l-7.72 7.72c-.78.78-.78 2.05 0 2.83L4 21.41c.39.39.9.59 1.41.59.51 0 1.02-.2 1.41-.59l7.78-7.78 2.81-2.81c.8-.78.8-2.07 0-2.86zM5.41 20L4 18.59l7.72-7.72 1.47 1.35L5.41 20z\"/>\n",
              "  </svg>\n",
              "      </button>\n",
              "\n",
              "\n",
              "\n",
              "    <div id=\"df-b6bc9965-9277-4351-ae01-b6a5c297c9f3\">\n",
              "      <button class=\"colab-df-quickchart\" onclick=\"quickchart('df-b6bc9965-9277-4351-ae01-b6a5c297c9f3')\"\n",
              "              title=\"Suggest charts.\"\n",
              "              style=\"display:none;\">\n",
              "\n",
              "<svg xmlns=\"http://www.w3.org/2000/svg\" height=\"24px\"viewBox=\"0 0 24 24\"\n",
              "     width=\"24px\">\n",
              "    <g>\n",
              "        <path d=\"M19 3H5c-1.1 0-2 .9-2 2v14c0 1.1.9 2 2 2h14c1.1 0 2-.9 2-2V5c0-1.1-.9-2-2-2zM9 17H7v-7h2v7zm4 0h-2V7h2v10zm4 0h-2v-4h2v4z\"/>\n",
              "    </g>\n",
              "</svg>\n",
              "      </button>\n",
              "    </div>\n",
              "\n",
              "<style>\n",
              "  .colab-df-quickchart {\n",
              "    background-color: #E8F0FE;\n",
              "    border: none;\n",
              "    border-radius: 50%;\n",
              "    cursor: pointer;\n",
              "    display: none;\n",
              "    fill: #1967D2;\n",
              "    height: 32px;\n",
              "    padding: 0 0 0 0;\n",
              "    width: 32px;\n",
              "  }\n",
              "\n",
              "  .colab-df-quickchart:hover {\n",
              "    background-color: #E2EBFA;\n",
              "    box-shadow: 0px 1px 2px rgba(60, 64, 67, 0.3), 0px 1px 3px 1px rgba(60, 64, 67, 0.15);\n",
              "    fill: #174EA6;\n",
              "  }\n",
              "\n",
              "  [theme=dark] .colab-df-quickchart {\n",
              "    background-color: #3B4455;\n",
              "    fill: #D2E3FC;\n",
              "  }\n",
              "\n",
              "  [theme=dark] .colab-df-quickchart:hover {\n",
              "    background-color: #434B5C;\n",
              "    box-shadow: 0px 1px 3px 1px rgba(0, 0, 0, 0.15);\n",
              "    filter: drop-shadow(0px 1px 2px rgba(0, 0, 0, 0.3));\n",
              "    fill: #FFFFFF;\n",
              "  }\n",
              "</style>\n",
              "\n",
              "    <script>\n",
              "      async function quickchart(key) {\n",
              "        const containerElement = document.querySelector('#' + key);\n",
              "        const charts = await google.colab.kernel.invokeFunction(\n",
              "            'suggestCharts', [key], {});\n",
              "      }\n",
              "    </script>\n",
              "\n",
              "      <script>\n",
              "\n",
              "function displayQuickchartButton(domScope) {\n",
              "  let quickchartButtonEl =\n",
              "    domScope.querySelector('#df-b6bc9965-9277-4351-ae01-b6a5c297c9f3 button.colab-df-quickchart');\n",
              "  quickchartButtonEl.style.display =\n",
              "    google.colab.kernel.accessAllowed ? 'block' : 'none';\n",
              "}\n",
              "\n",
              "        displayQuickchartButton(document);\n",
              "      </script>\n",
              "      <style>\n",
              "    .colab-df-container {\n",
              "      display:flex;\n",
              "      flex-wrap:wrap;\n",
              "      gap: 12px;\n",
              "    }\n",
              "\n",
              "    .colab-df-convert {\n",
              "      background-color: #E8F0FE;\n",
              "      border: none;\n",
              "      border-radius: 50%;\n",
              "      cursor: pointer;\n",
              "      display: none;\n",
              "      fill: #1967D2;\n",
              "      height: 32px;\n",
              "      padding: 0 0 0 0;\n",
              "      width: 32px;\n",
              "    }\n",
              "\n",
              "    .colab-df-convert:hover {\n",
              "      background-color: #E2EBFA;\n",
              "      box-shadow: 0px 1px 2px rgba(60, 64, 67, 0.3), 0px 1px 3px 1px rgba(60, 64, 67, 0.15);\n",
              "      fill: #174EA6;\n",
              "    }\n",
              "\n",
              "    [theme=dark] .colab-df-convert {\n",
              "      background-color: #3B4455;\n",
              "      fill: #D2E3FC;\n",
              "    }\n",
              "\n",
              "    [theme=dark] .colab-df-convert:hover {\n",
              "      background-color: #434B5C;\n",
              "      box-shadow: 0px 1px 3px 1px rgba(0, 0, 0, 0.15);\n",
              "      filter: drop-shadow(0px 1px 2px rgba(0, 0, 0, 0.3));\n",
              "      fill: #FFFFFF;\n",
              "    }\n",
              "  </style>\n",
              "\n",
              "      <script>\n",
              "        const buttonEl =\n",
              "          document.querySelector('#df-6bd7eed0-308d-4616-b0ea-60ea8d8f4671 button.colab-df-convert');\n",
              "        buttonEl.style.display =\n",
              "          google.colab.kernel.accessAllowed ? 'block' : 'none';\n",
              "\n",
              "        async function convertToInteractive(key) {\n",
              "          const element = document.querySelector('#df-6bd7eed0-308d-4616-b0ea-60ea8d8f4671');\n",
              "          const dataTable =\n",
              "            await google.colab.kernel.invokeFunction('convertToInteractive',\n",
              "                                                     [key], {});\n",
              "          if (!dataTable) return;\n",
              "\n",
              "          const docLinkHtml = 'Like what you see? Visit the ' +\n",
              "            '<a target=\"_blank\" href=https://colab.research.google.com/notebooks/data_table.ipynb>data table notebook</a>'\n",
              "            + ' to learn more about interactive tables.';\n",
              "          element.innerHTML = '';\n",
              "          dataTable['output_type'] = 'display_data';\n",
              "          await google.colab.output.renderOutput(dataTable, element);\n",
              "          const docLink = document.createElement('div');\n",
              "          docLink.innerHTML = docLinkHtml;\n",
              "          element.appendChild(docLink);\n",
              "        }\n",
              "      </script>\n",
              "    </div>\n",
              "  </div>\n"
            ]
          },
          "metadata": {},
          "execution_count": 72
        }
      ],
      "source": [
        "stats = stats.sort_values(by=['correct order', 'user_count']).reset_index()\n",
        "stats"
      ]
    },
    {
      "cell_type": "code",
      "execution_count": 73,
      "metadata": {
        "colab": {
          "base_uri": "https://localhost:8080/"
        },
        "id": "ZJTlRqYGNzjd",
        "outputId": "51f88156-2561-4539-b2c8-c7dbada440b0"
      },
      "outputs": [
        {
          "output_type": "stream",
          "name": "stdout",
          "text": [
            "432 1590 768 2458\n",
            "p-значение:  2.4470294590850372e-05\n",
            "Отвергаем нулевую гипотезу: между долями есть значимая разница\n"
          ]
        }
      ],
      "source": [
        "# проверим разницу между выборками на этапе просмотра карточки\n",
        "successes1 = [stats['user_count'][2], stats['user_count'][3]]\n",
        "trials1 = [stats['user_count'][0], stats['user_count'][1]]\n",
        "z_test(successes1, trials1, bonferroni_alpha)"
      ]
    },
    {
      "cell_type": "code",
      "execution_count": 74,
      "metadata": {
        "colab": {
          "base_uri": "https://localhost:8080/"
        },
        "id": "lwwkTLLeOy2e",
        "outputId": "eea0d281-82da-4963-bda9-147e023a367f"
      },
      "outputs": [
        {
          "output_type": "stream",
          "name": "stdout",
          "text": [
            "218 748 768 2458\n",
            "p-значение:  0.27991366531430795\n",
            "Не получилось отвергнуть нулевую гипотезу, нет оснований считать доли разными\n"
          ]
        }
      ],
      "source": [
        "# проверим разницу между выборками на этапе просмотра корзины\n",
        "successes2 = [stats['user_count'][4], stats['user_count'][5]]\n",
        "trials2 = [stats['user_count'][0], stats['user_count'][1]]\n",
        "z_test(successes2, trials2, bonferroni_alpha)"
      ]
    },
    {
      "cell_type": "code",
      "execution_count": 75,
      "metadata": {
        "colab": {
          "base_uri": "https://localhost:8080/"
        },
        "id": "KC9EiDkcNB2A",
        "outputId": "2a38af47-c06a-4f89-c8dc-cd88932de3b2"
      },
      "outputs": [
        {
          "output_type": "stream",
          "name": "stdout",
          "text": [
            "220 798 768 2458\n",
            "p-значение:  0.046796409172708886\n",
            "Не получилось отвергнуть нулевую гипотезу, нет оснований считать доли разными\n"
          ]
        }
      ],
      "source": [
        "# проверим разницу между выборками на этапе оплаты\n",
        "successes3 = [stats['user_count'][6], stats['user_count'][7]]\n",
        "trials3 = [stats['user_count'][0], stats['user_count'][1]]\n",
        "z_test(successes3, trials3, bonferroni_alpha)"
      ]
    },
    {
      "cell_type": "markdown",
      "metadata": {
        "id": "V83Ru7zAPiIl"
      },
      "source": [
        "Итак, только на этапе просмотра карточек между долями в наших выборках есть статистическая разница. В остальных случаях статистической разницы не обнаружено."
      ]
    },
    {
      "cell_type": "markdown",
      "metadata": {
        "id": "PCAZ4w5nHv0Z"
      },
      "source": [
        "<a id=\"sum_up\"></a>"
      ]
    },
    {
      "cell_type": "markdown",
      "metadata": {
        "id": "5B2NwIW-fTfT"
      },
      "source": [
        "## Выводы"
      ]
    },
    {
      "cell_type": "markdown",
      "metadata": {
        "id": "TKsyKOCUQG7w"
      },
      "source": [
        "Мы сформировали воронки для конверсии пользователей за 14 дней. Выяснилось, что пользователи могут перейти на страницу оплаты минуя остальные страницы, что в целом ненормально. Кроме того, пользователи группы А показывали лучшие результаты, а значит требования ТЗ не были выполнены.\n",
        "\n",
        "Относительно **корректности проведения теста**. Он был выполнен с небольшими нарушениями, а значит его результатам трудно доверять на 100%. Вот основные причины:\n",
        "* Набор новых пользователей проводился дольше положенного;\n",
        "* Время на тест было сокращено;\n",
        "* Тест проводился одновременно с другим (что в целом понятно, экономия времени и средств), но аудитории двух тестов пересекаются и не ясно, влияют ли тесты друг на друга;\n",
        "\n",
        "Однако, учитывая всё сказанное, мы так или иначе получили интересные результаты.\n",
        "\n",
        "**Тест следует засчитать**. Результат: новая платёжная воронка не отвечает требованиям по ТЗ."
      ]
    }
  ],
  "metadata": {
    "ExecuteTimeLog": [
      {
        "duration": 1397,
        "start_time": "2023-02-19T16:28:35.657Z"
      },
      {
        "duration": 1199,
        "start_time": "2023-02-19T16:28:37.056Z"
      },
      {
        "duration": 147,
        "start_time": "2023-02-19T16:28:38.257Z"
      },
      {
        "duration": 128,
        "start_time": "2023-02-19T16:28:38.407Z"
      },
      {
        "duration": 68,
        "start_time": "2023-02-19T16:28:38.537Z"
      },
      {
        "duration": 10,
        "start_time": "2023-02-19T16:28:38.606Z"
      },
      {
        "duration": 13,
        "start_time": "2023-02-19T16:28:38.618Z"
      },
      {
        "duration": 45,
        "start_time": "2023-02-19T16:28:38.632Z"
      },
      {
        "duration": 231,
        "start_time": "2023-02-19T16:28:38.679Z"
      },
      {
        "duration": 7,
        "start_time": "2023-02-19T16:28:38.913Z"
      },
      {
        "duration": 10,
        "start_time": "2023-02-19T16:28:38.922Z"
      },
      {
        "duration": 8,
        "start_time": "2023-02-19T16:28:38.933Z"
      },
      {
        "duration": 5,
        "start_time": "2023-02-19T16:28:38.943Z"
      },
      {
        "duration": 10,
        "start_time": "2023-02-19T16:28:38.949Z"
      },
      {
        "duration": 45,
        "start_time": "2023-02-19T16:28:38.960Z"
      },
      {
        "duration": 53,
        "start_time": "2023-02-19T16:28:39.007Z"
      },
      {
        "duration": 66,
        "start_time": "2023-02-19T16:28:39.063Z"
      },
      {
        "duration": 11,
        "start_time": "2023-02-19T16:28:39.131Z"
      },
      {
        "duration": 8,
        "start_time": "2023-02-19T16:28:39.144Z"
      },
      {
        "duration": 26,
        "start_time": "2023-02-19T16:28:39.154Z"
      },
      {
        "duration": 21,
        "start_time": "2023-02-19T16:28:39.204Z"
      },
      {
        "duration": 15,
        "start_time": "2023-02-19T16:28:39.227Z"
      },
      {
        "duration": 10,
        "start_time": "2023-02-19T16:28:39.244Z"
      },
      {
        "duration": 16,
        "start_time": "2023-02-19T16:28:39.256Z"
      },
      {
        "duration": 30,
        "start_time": "2023-02-19T16:28:39.274Z"
      },
      {
        "duration": 10,
        "start_time": "2023-02-19T16:28:39.306Z"
      },
      {
        "duration": 247,
        "start_time": "2023-02-19T16:28:39.318Z"
      },
      {
        "duration": 9,
        "start_time": "2023-02-19T16:28:39.569Z"
      },
      {
        "duration": 9,
        "start_time": "2023-02-19T16:28:39.580Z"
      },
      {
        "duration": 323,
        "start_time": "2023-02-19T16:28:39.604Z"
      },
      {
        "duration": 130,
        "start_time": "2023-02-19T16:28:39.929Z"
      },
      {
        "duration": 428,
        "start_time": "2023-02-19T16:28:40.061Z"
      },
      {
        "duration": 7,
        "start_time": "2023-02-19T16:28:40.490Z"
      },
      {
        "duration": 10,
        "start_time": "2023-02-19T16:28:40.499Z"
      },
      {
        "duration": 16,
        "start_time": "2023-02-19T16:28:40.510Z"
      },
      {
        "duration": 14,
        "start_time": "2023-02-19T16:28:40.528Z"
      },
      {
        "duration": 61,
        "start_time": "2023-02-19T16:28:40.543Z"
      },
      {
        "duration": 8,
        "start_time": "2023-02-19T16:28:40.607Z"
      },
      {
        "duration": 189,
        "start_time": "2023-02-19T16:28:40.617Z"
      },
      {
        "duration": 133,
        "start_time": "2023-02-19T16:28:40.808Z"
      },
      {
        "duration": 114,
        "start_time": "2023-02-19T16:28:40.943Z"
      },
      {
        "duration": 15,
        "start_time": "2023-02-19T16:28:41.059Z"
      },
      {
        "duration": 542,
        "start_time": "2023-02-19T16:28:41.075Z"
      },
      {
        "duration": 16,
        "start_time": "2023-02-19T16:28:41.618Z"
      },
      {
        "duration": 7,
        "start_time": "2023-02-19T16:28:41.636Z"
      },
      {
        "duration": 16,
        "start_time": "2023-02-19T16:28:41.645Z"
      },
      {
        "duration": 388,
        "start_time": "2023-02-19T16:28:41.663Z"
      },
      {
        "duration": 14,
        "start_time": "2023-02-19T16:28:42.053Z"
      },
      {
        "duration": 88,
        "start_time": "2023-02-19T16:28:42.069Z"
      },
      {
        "duration": 25,
        "start_time": "2023-02-19T16:28:42.159Z"
      },
      {
        "duration": 6,
        "start_time": "2023-02-19T16:28:42.186Z"
      },
      {
        "duration": 9,
        "start_time": "2023-02-19T16:28:42.193Z"
      },
      {
        "duration": 8,
        "start_time": "2023-02-19T16:28:42.204Z"
      },
      {
        "duration": 7,
        "start_time": "2023-02-19T16:28:42.213Z"
      },
      {
        "duration": 11,
        "start_time": "2023-02-19T16:28:42.222Z"
      },
      {
        "duration": 9,
        "start_time": "2023-02-19T16:28:42.234Z"
      },
      {
        "duration": 11,
        "start_time": "2023-02-19T16:28:42.245Z"
      },
      {
        "duration": 6,
        "start_time": "2023-02-19T16:36:20.873Z"
      },
      {
        "duration": 20,
        "start_time": "2023-02-19T16:36:26.865Z"
      },
      {
        "duration": 55,
        "start_time": "2023-02-19T16:40:19.482Z"
      },
      {
        "duration": 5,
        "start_time": "2023-02-19T16:40:26.197Z"
      },
      {
        "duration": 5,
        "start_time": "2023-02-19T16:40:29.464Z"
      },
      {
        "duration": 7,
        "start_time": "2023-02-19T16:40:31.634Z"
      },
      {
        "duration": 5,
        "start_time": "2023-02-19T16:40:34.608Z"
      },
      {
        "duration": 7,
        "start_time": "2023-02-19T16:40:35.805Z"
      },
      {
        "duration": 7,
        "start_time": "2023-02-19T16:40:36.878Z"
      },
      {
        "duration": 83,
        "start_time": "2023-02-19T18:43:58.628Z"
      },
      {
        "duration": 48,
        "start_time": "2023-02-19T18:48:11.369Z"
      },
      {
        "duration": 1452,
        "start_time": "2023-02-19T18:48:21.409Z"
      },
      {
        "duration": 1258,
        "start_time": "2023-02-19T18:48:22.865Z"
      },
      {
        "duration": 108,
        "start_time": "2023-02-19T18:48:24.124Z"
      },
      {
        "duration": 138,
        "start_time": "2023-02-19T18:48:24.234Z"
      },
      {
        "duration": 55,
        "start_time": "2023-02-19T18:48:24.374Z"
      },
      {
        "duration": 24,
        "start_time": "2023-02-19T18:48:24.431Z"
      },
      {
        "duration": 20,
        "start_time": "2023-02-19T18:48:24.459Z"
      },
      {
        "duration": 44,
        "start_time": "2023-02-19T18:48:24.480Z"
      },
      {
        "duration": 210,
        "start_time": "2023-02-19T18:48:24.526Z"
      },
      {
        "duration": 8,
        "start_time": "2023-02-19T18:48:30.101Z"
      },
      {
        "duration": 14,
        "start_time": "2023-02-19T18:49:55.886Z"
      },
      {
        "duration": 10,
        "start_time": "2023-02-19T18:50:04.920Z"
      },
      {
        "duration": 9,
        "start_time": "2023-02-19T18:50:20.879Z"
      },
      {
        "duration": 36,
        "start_time": "2023-02-19T18:50:26.082Z"
      },
      {
        "duration": 10,
        "start_time": "2023-02-19T18:50:32.165Z"
      },
      {
        "duration": 7,
        "start_time": "2023-02-19T18:52:17.588Z"
      },
      {
        "duration": 8,
        "start_time": "2023-02-19T18:54:33.994Z"
      },
      {
        "duration": 1953,
        "start_time": "2023-02-19T19:01:25.537Z"
      },
      {
        "duration": 5,
        "start_time": "2023-02-19T19:03:48.403Z"
      },
      {
        "duration": 92,
        "start_time": "2023-02-19T19:03:53.272Z"
      },
      {
        "duration": 6,
        "start_time": "2023-02-19T19:03:58.866Z"
      },
      {
        "duration": 99,
        "start_time": "2023-02-19T19:04:33.704Z"
      },
      {
        "duration": 5,
        "start_time": "2023-02-19T19:04:43.391Z"
      },
      {
        "duration": 86,
        "start_time": "2023-02-19T19:04:48.246Z"
      },
      {
        "duration": 4,
        "start_time": "2023-02-19T19:04:50.461Z"
      },
      {
        "duration": 5,
        "start_time": "2023-02-19T19:04:55.678Z"
      },
      {
        "duration": 5,
        "start_time": "2023-02-19T19:04:59.682Z"
      },
      {
        "duration": 4,
        "start_time": "2023-02-19T19:05:44.270Z"
      },
      {
        "duration": 11,
        "start_time": "2023-02-19T19:09:49.332Z"
      },
      {
        "duration": 126,
        "start_time": "2023-02-19T19:10:49.235Z"
      },
      {
        "duration": 16,
        "start_time": "2023-02-19T19:10:58.360Z"
      },
      {
        "duration": 7,
        "start_time": "2023-02-19T19:11:08.451Z"
      },
      {
        "duration": 75,
        "start_time": "2023-02-19T19:11:35.819Z"
      },
      {
        "duration": 20,
        "start_time": "2023-02-19T19:11:43.673Z"
      },
      {
        "duration": 3,
        "start_time": "2023-02-19T19:11:56.065Z"
      },
      {
        "duration": 15,
        "start_time": "2023-02-19T19:11:57.928Z"
      },
      {
        "duration": 12,
        "start_time": "2023-02-19T19:12:15.306Z"
      },
      {
        "duration": 19,
        "start_time": "2023-02-19T19:12:26.924Z"
      },
      {
        "duration": 18,
        "start_time": "2023-02-19T19:12:42.423Z"
      },
      {
        "duration": 20,
        "start_time": "2023-02-19T19:13:45.433Z"
      },
      {
        "duration": 20,
        "start_time": "2023-02-19T19:17:32.264Z"
      },
      {
        "duration": 15,
        "start_time": "2023-02-19T19:18:48.960Z"
      },
      {
        "duration": 10,
        "start_time": "2023-02-19T19:18:52.829Z"
      },
      {
        "duration": 10,
        "start_time": "2023-02-19T19:19:02.819Z"
      },
      {
        "duration": 71,
        "start_time": "2023-02-19T19:20:47.811Z"
      },
      {
        "duration": 62,
        "start_time": "2023-02-19T19:21:43.515Z"
      },
      {
        "duration": 61,
        "start_time": "2023-02-19T19:22:42.265Z"
      },
      {
        "duration": 64,
        "start_time": "2023-02-19T19:25:57.902Z"
      },
      {
        "duration": 9,
        "start_time": "2023-02-19T19:30:18.565Z"
      },
      {
        "duration": 29,
        "start_time": "2023-02-19T19:31:10.916Z"
      },
      {
        "duration": 16,
        "start_time": "2023-02-19T19:31:13.656Z"
      },
      {
        "duration": 9,
        "start_time": "2023-02-19T19:31:50.804Z"
      },
      {
        "duration": 11,
        "start_time": "2023-02-19T19:31:53.885Z"
      },
      {
        "duration": 12,
        "start_time": "2023-02-19T19:31:59.662Z"
      },
      {
        "duration": 9,
        "start_time": "2023-02-19T19:32:00.534Z"
      },
      {
        "duration": 179,
        "start_time": "2023-02-19T19:32:02.963Z"
      },
      {
        "duration": 10,
        "start_time": "2023-02-19T19:32:45.328Z"
      },
      {
        "duration": 14,
        "start_time": "2023-02-19T19:32:55.960Z"
      },
      {
        "duration": 15,
        "start_time": "2023-02-19T19:32:58.937Z"
      },
      {
        "duration": 7,
        "start_time": "2023-02-19T19:33:56.027Z"
      },
      {
        "duration": 10,
        "start_time": "2023-02-19T19:33:59.199Z"
      },
      {
        "duration": 8,
        "start_time": "2023-02-19T19:33:59.614Z"
      },
      {
        "duration": 11,
        "start_time": "2023-02-19T19:34:20.903Z"
      },
      {
        "duration": 40,
        "start_time": "2023-02-19T19:34:33.765Z"
      },
      {
        "duration": 31,
        "start_time": "2023-02-19T19:34:55.019Z"
      },
      {
        "duration": 8,
        "start_time": "2023-02-19T19:34:58.982Z"
      },
      {
        "duration": 10,
        "start_time": "2023-02-19T19:35:09.115Z"
      },
      {
        "duration": 9,
        "start_time": "2023-02-19T19:35:09.438Z"
      },
      {
        "duration": 322,
        "start_time": "2023-02-19T19:35:11.871Z"
      },
      {
        "duration": 18,
        "start_time": "2023-02-19T19:35:51.949Z"
      },
      {
        "duration": 132,
        "start_time": "2023-02-19T19:37:54.172Z"
      },
      {
        "duration": 17,
        "start_time": "2023-02-19T19:37:57.461Z"
      },
      {
        "duration": 144,
        "start_time": "2023-02-19T19:38:32.066Z"
      },
      {
        "duration": 130,
        "start_time": "2023-02-19T19:38:43.934Z"
      },
      {
        "duration": 32,
        "start_time": "2023-02-19T19:38:50.413Z"
      },
      {
        "duration": 31,
        "start_time": "2023-02-19T19:38:54.687Z"
      },
      {
        "duration": 211,
        "start_time": "2023-02-19T19:38:56.234Z"
      },
      {
        "duration": 25,
        "start_time": "2023-02-19T19:38:58.998Z"
      },
      {
        "duration": 1365,
        "start_time": "2023-02-19T19:39:12.814Z"
      },
      {
        "duration": 1230,
        "start_time": "2023-02-19T19:39:14.182Z"
      },
      {
        "duration": 112,
        "start_time": "2023-02-19T19:39:15.414Z"
      },
      {
        "duration": 132,
        "start_time": "2023-02-19T19:39:15.528Z"
      },
      {
        "duration": 60,
        "start_time": "2023-02-19T19:39:15.663Z"
      },
      {
        "duration": 23,
        "start_time": "2023-02-19T19:39:15.725Z"
      },
      {
        "duration": 21,
        "start_time": "2023-02-19T19:39:15.750Z"
      },
      {
        "duration": 47,
        "start_time": "2023-02-19T19:39:15.773Z"
      },
      {
        "duration": 237,
        "start_time": "2023-02-19T19:39:15.822Z"
      },
      {
        "duration": 9,
        "start_time": "2023-02-19T19:39:16.061Z"
      },
      {
        "duration": 9,
        "start_time": "2023-02-19T19:39:16.072Z"
      },
      {
        "duration": 9,
        "start_time": "2023-02-19T19:39:16.083Z"
      },
      {
        "duration": 4,
        "start_time": "2023-02-19T19:39:16.094Z"
      },
      {
        "duration": 8,
        "start_time": "2023-02-19T19:39:16.102Z"
      },
      {
        "duration": 51,
        "start_time": "2023-02-19T19:39:16.111Z"
      },
      {
        "duration": 7,
        "start_time": "2023-02-19T19:39:16.165Z"
      },
      {
        "duration": 7,
        "start_time": "2023-02-19T19:39:16.174Z"
      },
      {
        "duration": 21,
        "start_time": "2023-02-19T19:39:16.183Z"
      },
      {
        "duration": 10,
        "start_time": "2023-02-19T19:39:16.205Z"
      },
      {
        "duration": 33,
        "start_time": "2023-02-19T19:39:16.217Z"
      },
      {
        "duration": 23,
        "start_time": "2023-02-19T19:39:16.252Z"
      },
      {
        "duration": 71,
        "start_time": "2023-02-19T19:39:16.277Z"
      },
      {
        "duration": 12,
        "start_time": "2023-02-19T19:39:16.351Z"
      },
      {
        "duration": 20,
        "start_time": "2023-02-19T19:39:16.365Z"
      },
      {
        "duration": 19,
        "start_time": "2023-02-19T19:39:16.387Z"
      },
      {
        "duration": 19,
        "start_time": "2023-02-19T19:39:16.408Z"
      },
      {
        "duration": 58,
        "start_time": "2023-02-19T19:39:16.429Z"
      },
      {
        "duration": 151,
        "start_time": "2023-02-19T19:39:16.491Z"
      },
      {
        "duration": 20,
        "start_time": "2023-02-19T19:39:16.643Z"
      },
      {
        "duration": 20,
        "start_time": "2023-02-19T19:39:16.665Z"
      },
      {
        "duration": 8,
        "start_time": "2023-02-19T19:39:16.686Z"
      },
      {
        "duration": 12,
        "start_time": "2023-02-19T19:39:16.695Z"
      },
      {
        "duration": 27,
        "start_time": "2023-02-19T19:39:16.709Z"
      },
      {
        "duration": 10,
        "start_time": "2023-02-19T19:39:16.749Z"
      },
      {
        "duration": 18,
        "start_time": "2023-02-19T19:39:16.761Z"
      },
      {
        "duration": 13,
        "start_time": "2023-02-19T19:39:16.781Z"
      },
      {
        "duration": 6,
        "start_time": "2023-02-19T19:39:16.795Z"
      },
      {
        "duration": 197,
        "start_time": "2023-02-19T19:39:16.803Z"
      },
      {
        "duration": 10,
        "start_time": "2023-02-19T19:39:17.002Z"
      },
      {
        "duration": 9,
        "start_time": "2023-02-19T19:39:17.013Z"
      },
      {
        "duration": 370,
        "start_time": "2023-02-19T19:39:17.026Z"
      },
      {
        "duration": 108,
        "start_time": "2023-02-19T19:39:17.398Z"
      },
      {
        "duration": 193,
        "start_time": "2023-02-19T19:39:17.508Z"
      },
      {
        "duration": 7,
        "start_time": "2023-02-19T19:39:17.703Z"
      },
      {
        "duration": 9,
        "start_time": "2023-02-19T19:39:17.711Z"
      },
      {
        "duration": 42,
        "start_time": "2023-02-19T19:39:17.722Z"
      },
      {
        "duration": 15,
        "start_time": "2023-02-19T19:39:17.769Z"
      },
      {
        "duration": 65,
        "start_time": "2023-02-19T19:39:17.786Z"
      },
      {
        "duration": 11,
        "start_time": "2023-02-19T19:39:17.853Z"
      },
      {
        "duration": 183,
        "start_time": "2023-02-19T19:39:17.866Z"
      },
      {
        "duration": 136,
        "start_time": "2023-02-19T19:39:18.051Z"
      },
      {
        "duration": 113,
        "start_time": "2023-02-19T19:39:18.190Z"
      },
      {
        "duration": 14,
        "start_time": "2023-02-19T19:39:18.305Z"
      },
      {
        "duration": 473,
        "start_time": "2023-02-19T19:39:18.320Z"
      },
      {
        "duration": 16,
        "start_time": "2023-02-19T19:39:18.795Z"
      },
      {
        "duration": 9,
        "start_time": "2023-02-19T19:39:18.813Z"
      },
      {
        "duration": 44,
        "start_time": "2023-02-19T19:39:18.824Z"
      },
      {
        "duration": 372,
        "start_time": "2023-02-19T19:39:18.871Z"
      },
      {
        "duration": 20,
        "start_time": "2023-02-19T19:39:19.245Z"
      },
      {
        "duration": 12,
        "start_time": "2023-02-19T19:39:19.267Z"
      },
      {
        "duration": 7,
        "start_time": "2023-02-19T19:39:19.281Z"
      },
      {
        "duration": 5,
        "start_time": "2023-02-19T19:39:19.290Z"
      },
      {
        "duration": 7,
        "start_time": "2023-02-19T19:39:19.297Z"
      },
      {
        "duration": 13,
        "start_time": "2023-02-19T19:39:19.305Z"
      },
      {
        "duration": 9,
        "start_time": "2023-02-19T19:39:19.320Z"
      },
      {
        "duration": 7,
        "start_time": "2023-02-19T19:39:19.349Z"
      },
      {
        "duration": 20,
        "start_time": "2023-02-19T19:39:19.357Z"
      },
      {
        "duration": 7,
        "start_time": "2023-02-19T19:39:19.379Z"
      },
      {
        "duration": 186,
        "start_time": "2023-02-19T19:40:26.918Z"
      },
      {
        "duration": 25,
        "start_time": "2023-02-19T19:40:44.982Z"
      },
      {
        "duration": 19,
        "start_time": "2023-02-19T19:40:45.864Z"
      },
      {
        "duration": 23,
        "start_time": "2023-02-19T19:40:51.728Z"
      },
      {
        "duration": 8,
        "start_time": "2023-02-19T19:40:52.025Z"
      },
      {
        "duration": 198,
        "start_time": "2023-02-19T19:40:53.896Z"
      },
      {
        "duration": 10,
        "start_time": "2023-02-19T19:41:05.169Z"
      },
      {
        "duration": 8,
        "start_time": "2023-02-19T19:41:05.527Z"
      },
      {
        "duration": 8,
        "start_time": "2023-02-19T19:44:27.984Z"
      },
      {
        "duration": 11,
        "start_time": "2023-02-19T19:44:50.718Z"
      },
      {
        "duration": 9,
        "start_time": "2023-02-19T19:44:59.614Z"
      },
      {
        "duration": 11,
        "start_time": "2023-02-19T19:45:30.554Z"
      },
      {
        "duration": 9,
        "start_time": "2023-02-19T19:45:34.105Z"
      },
      {
        "duration": 13,
        "start_time": "2023-02-19T19:45:52.889Z"
      },
      {
        "duration": 128,
        "start_time": "2023-02-19T19:46:02.176Z"
      },
      {
        "duration": 11,
        "start_time": "2023-02-19T19:46:08.679Z"
      },
      {
        "duration": 15,
        "start_time": "2023-02-19T19:46:49.662Z"
      },
      {
        "duration": 11,
        "start_time": "2023-02-19T19:46:54.888Z"
      },
      {
        "duration": 10,
        "start_time": "2023-02-19T19:49:25.398Z"
      },
      {
        "duration": 12,
        "start_time": "2023-02-19T19:50:24.098Z"
      },
      {
        "duration": 12,
        "start_time": "2023-02-19T19:50:40.816Z"
      },
      {
        "duration": 17,
        "start_time": "2023-02-19T19:51:52.174Z"
      },
      {
        "duration": 11,
        "start_time": "2023-02-19T19:51:56.096Z"
      },
      {
        "duration": 9,
        "start_time": "2023-02-19T19:52:47.430Z"
      },
      {
        "duration": 9,
        "start_time": "2023-02-19T19:53:10.564Z"
      },
      {
        "duration": 10,
        "start_time": "2023-02-19T19:53:23.455Z"
      },
      {
        "duration": 441,
        "start_time": "2023-02-19T19:53:32.496Z"
      },
      {
        "duration": 11,
        "start_time": "2023-02-19T19:53:43.063Z"
      },
      {
        "duration": 11,
        "start_time": "2023-02-19T19:53:53.296Z"
      },
      {
        "duration": 11,
        "start_time": "2023-02-19T19:54:20.051Z"
      },
      {
        "duration": 20,
        "start_time": "2023-02-19T19:55:02.693Z"
      },
      {
        "duration": 9,
        "start_time": "2023-02-19T19:55:41.761Z"
      },
      {
        "duration": 9,
        "start_time": "2023-02-19T19:56:39.678Z"
      },
      {
        "duration": 75,
        "start_time": "2023-02-19T20:02:13.277Z"
      },
      {
        "duration": 3,
        "start_time": "2023-02-19T20:02:31.124Z"
      },
      {
        "duration": 5,
        "start_time": "2023-02-19T20:10:27.985Z"
      },
      {
        "duration": 10,
        "start_time": "2023-02-19T20:15:31.882Z"
      },
      {
        "duration": 19,
        "start_time": "2023-02-19T20:21:07.697Z"
      },
      {
        "duration": 22,
        "start_time": "2023-02-19T20:21:23.713Z"
      },
      {
        "duration": 19,
        "start_time": "2023-02-19T20:21:55.088Z"
      },
      {
        "duration": 14,
        "start_time": "2023-02-19T20:22:25.780Z"
      },
      {
        "duration": 15,
        "start_time": "2023-02-19T20:30:34.770Z"
      },
      {
        "duration": 8,
        "start_time": "2023-02-19T20:30:35.733Z"
      },
      {
        "duration": 170,
        "start_time": "2023-02-19T20:32:02.780Z"
      },
      {
        "duration": 16,
        "start_time": "2023-02-19T20:32:06.023Z"
      },
      {
        "duration": 10,
        "start_time": "2023-02-19T20:32:14.177Z"
      },
      {
        "duration": 15,
        "start_time": "2023-02-19T20:32:24.369Z"
      },
      {
        "duration": 13,
        "start_time": "2023-02-19T20:32:25.255Z"
      },
      {
        "duration": 13,
        "start_time": "2023-02-19T20:32:27.264Z"
      },
      {
        "duration": 14,
        "start_time": "2023-02-19T20:34:34.579Z"
      },
      {
        "duration": 9,
        "start_time": "2023-02-19T20:35:29.663Z"
      },
      {
        "duration": 1219,
        "start_time": "2023-02-19T20:36:53.654Z"
      },
      {
        "duration": 1478,
        "start_time": "2023-02-19T20:36:54.874Z"
      },
      {
        "duration": 132,
        "start_time": "2023-02-19T20:36:56.355Z"
      },
      {
        "duration": 149,
        "start_time": "2023-02-19T20:36:56.489Z"
      },
      {
        "duration": 58,
        "start_time": "2023-02-19T20:36:56.640Z"
      },
      {
        "duration": 9,
        "start_time": "2023-02-19T20:36:56.700Z"
      },
      {
        "duration": 12,
        "start_time": "2023-02-19T20:36:56.711Z"
      },
      {
        "duration": 67,
        "start_time": "2023-02-19T20:36:56.725Z"
      },
      {
        "duration": 220,
        "start_time": "2023-02-19T20:36:56.794Z"
      },
      {
        "duration": 8,
        "start_time": "2023-02-19T20:36:57.016Z"
      },
      {
        "duration": 9,
        "start_time": "2023-02-19T20:36:57.026Z"
      },
      {
        "duration": 7,
        "start_time": "2023-02-19T20:36:57.049Z"
      },
      {
        "duration": 8,
        "start_time": "2023-02-19T20:36:57.057Z"
      },
      {
        "duration": 8,
        "start_time": "2023-02-19T20:36:57.067Z"
      },
      {
        "duration": 8,
        "start_time": "2023-02-19T20:36:57.077Z"
      },
      {
        "duration": 6,
        "start_time": "2023-02-19T20:36:57.087Z"
      },
      {
        "duration": 6,
        "start_time": "2023-02-19T20:36:57.095Z"
      },
      {
        "duration": 54,
        "start_time": "2023-02-19T20:36:57.104Z"
      },
      {
        "duration": 7,
        "start_time": "2023-02-19T20:36:57.161Z"
      },
      {
        "duration": 12,
        "start_time": "2023-02-19T20:36:57.170Z"
      },
      {
        "duration": 16,
        "start_time": "2023-02-19T20:36:57.184Z"
      },
      {
        "duration": 86,
        "start_time": "2023-02-19T20:36:57.201Z"
      },
      {
        "duration": 14,
        "start_time": "2023-02-19T20:36:57.289Z"
      },
      {
        "duration": 7,
        "start_time": "2023-02-19T20:36:57.304Z"
      },
      {
        "duration": 37,
        "start_time": "2023-02-19T20:36:57.313Z"
      },
      {
        "duration": 14,
        "start_time": "2023-02-19T20:36:57.352Z"
      },
      {
        "duration": 32,
        "start_time": "2023-02-19T20:36:57.368Z"
      },
      {
        "duration": 136,
        "start_time": "2023-02-19T20:36:57.405Z"
      },
      {
        "duration": 24,
        "start_time": "2023-02-19T20:36:57.542Z"
      },
      {
        "duration": 10,
        "start_time": "2023-02-19T20:36:57.567Z"
      },
      {
        "duration": 5,
        "start_time": "2023-02-19T20:36:57.579Z"
      },
      {
        "duration": 131,
        "start_time": "2023-02-19T20:36:57.585Z"
      },
      {
        "duration": 9,
        "start_time": "2023-02-19T20:36:57.717Z"
      },
      {
        "duration": 21,
        "start_time": "2023-02-19T20:36:57.728Z"
      },
      {
        "duration": 129,
        "start_time": "2023-02-19T20:36:57.751Z"
      },
      {
        "duration": 13,
        "start_time": "2023-02-19T20:36:57.881Z"
      },
      {
        "duration": 9,
        "start_time": "2023-02-19T20:36:57.896Z"
      },
      {
        "duration": 42,
        "start_time": "2023-02-19T20:36:57.907Z"
      },
      {
        "duration": 8,
        "start_time": "2023-02-19T20:36:57.951Z"
      },
      {
        "duration": 201,
        "start_time": "2023-02-19T20:36:57.961Z"
      },
      {
        "duration": 10,
        "start_time": "2023-02-19T20:36:58.164Z"
      },
      {
        "duration": 8,
        "start_time": "2023-02-19T20:36:58.175Z"
      },
      {
        "duration": 338,
        "start_time": "2023-02-19T20:36:58.184Z"
      },
      {
        "duration": 160,
        "start_time": "2023-02-19T20:36:58.524Z"
      },
      {
        "duration": 151,
        "start_time": "2023-02-19T20:36:58.686Z"
      },
      {
        "duration": 12,
        "start_time": "2023-02-19T20:36:58.839Z"
      },
      {
        "duration": 9,
        "start_time": "2023-02-19T20:36:58.854Z"
      },
      {
        "duration": 8,
        "start_time": "2023-02-19T20:36:58.865Z"
      },
      {
        "duration": 16,
        "start_time": "2023-02-19T20:36:58.875Z"
      },
      {
        "duration": 225,
        "start_time": "2023-02-19T20:36:58.893Z"
      },
      {
        "duration": 0,
        "start_time": "2023-02-19T20:36:59.120Z"
      },
      {
        "duration": 0,
        "start_time": "2023-02-19T20:36:59.121Z"
      },
      {
        "duration": 0,
        "start_time": "2023-02-19T20:36:59.122Z"
      },
      {
        "duration": 0,
        "start_time": "2023-02-19T20:36:59.124Z"
      },
      {
        "duration": 0,
        "start_time": "2023-02-19T20:36:59.125Z"
      },
      {
        "duration": 0,
        "start_time": "2023-02-19T20:36:59.127Z"
      },
      {
        "duration": 0,
        "start_time": "2023-02-19T20:36:59.148Z"
      },
      {
        "duration": 0,
        "start_time": "2023-02-19T20:36:59.149Z"
      },
      {
        "duration": 0,
        "start_time": "2023-02-19T20:36:59.150Z"
      },
      {
        "duration": 0,
        "start_time": "2023-02-19T20:36:59.151Z"
      },
      {
        "duration": 0,
        "start_time": "2023-02-19T20:36:59.152Z"
      },
      {
        "duration": 0,
        "start_time": "2023-02-19T20:36:59.153Z"
      },
      {
        "duration": 0,
        "start_time": "2023-02-19T20:36:59.153Z"
      },
      {
        "duration": 0,
        "start_time": "2023-02-19T20:36:59.154Z"
      },
      {
        "duration": 0,
        "start_time": "2023-02-19T20:36:59.155Z"
      },
      {
        "duration": 0,
        "start_time": "2023-02-19T20:36:59.157Z"
      },
      {
        "duration": 1,
        "start_time": "2023-02-19T20:36:59.157Z"
      },
      {
        "duration": 0,
        "start_time": "2023-02-19T20:36:59.158Z"
      },
      {
        "duration": 0,
        "start_time": "2023-02-19T20:36:59.159Z"
      },
      {
        "duration": 18,
        "start_time": "2023-02-19T20:38:20.837Z"
      },
      {
        "duration": 17,
        "start_time": "2023-02-19T20:38:25.830Z"
      },
      {
        "duration": 28,
        "start_time": "2023-02-19T20:38:33.226Z"
      },
      {
        "duration": 84,
        "start_time": "2023-02-19T20:39:29.052Z"
      },
      {
        "duration": 62,
        "start_time": "2023-02-19T20:39:41.229Z"
      },
      {
        "duration": 81,
        "start_time": "2023-02-19T20:39:44.542Z"
      },
      {
        "duration": 159,
        "start_time": "2023-02-19T20:41:17.238Z"
      },
      {
        "duration": 1221,
        "start_time": "2023-02-19T20:42:38.343Z"
      },
      {
        "duration": 1208,
        "start_time": "2023-02-19T20:42:39.566Z"
      },
      {
        "duration": 102,
        "start_time": "2023-02-19T20:42:40.776Z"
      },
      {
        "duration": 120,
        "start_time": "2023-02-19T20:42:40.881Z"
      },
      {
        "duration": 64,
        "start_time": "2023-02-19T20:42:41.003Z"
      },
      {
        "duration": 9,
        "start_time": "2023-02-19T20:42:41.068Z"
      },
      {
        "duration": 13,
        "start_time": "2023-02-19T20:42:41.078Z"
      },
      {
        "duration": 62,
        "start_time": "2023-02-19T20:42:41.092Z"
      },
      {
        "duration": 201,
        "start_time": "2023-02-19T20:42:41.156Z"
      },
      {
        "duration": 8,
        "start_time": "2023-02-19T20:42:41.359Z"
      },
      {
        "duration": 13,
        "start_time": "2023-02-19T20:42:41.369Z"
      },
      {
        "duration": 14,
        "start_time": "2023-02-19T20:42:41.383Z"
      },
      {
        "duration": 6,
        "start_time": "2023-02-19T20:42:41.399Z"
      },
      {
        "duration": 11,
        "start_time": "2023-02-19T20:42:41.407Z"
      },
      {
        "duration": 30,
        "start_time": "2023-02-19T20:42:41.419Z"
      },
      {
        "duration": 6,
        "start_time": "2023-02-19T20:42:41.451Z"
      },
      {
        "duration": 7,
        "start_time": "2023-02-19T20:42:41.459Z"
      },
      {
        "duration": 18,
        "start_time": "2023-02-19T20:42:41.468Z"
      },
      {
        "duration": 7,
        "start_time": "2023-02-19T20:42:41.488Z"
      },
      {
        "duration": 10,
        "start_time": "2023-02-19T20:42:41.497Z"
      },
      {
        "duration": 44,
        "start_time": "2023-02-19T20:42:41.509Z"
      },
      {
        "duration": 57,
        "start_time": "2023-02-19T20:42:41.555Z"
      },
      {
        "duration": 14,
        "start_time": "2023-02-19T20:42:41.614Z"
      },
      {
        "duration": 24,
        "start_time": "2023-02-19T20:42:41.630Z"
      },
      {
        "duration": 16,
        "start_time": "2023-02-19T20:42:41.655Z"
      },
      {
        "duration": 16,
        "start_time": "2023-02-19T20:42:41.672Z"
      },
      {
        "duration": 25,
        "start_time": "2023-02-19T20:42:41.690Z"
      },
      {
        "duration": 132,
        "start_time": "2023-02-19T20:42:41.719Z"
      },
      {
        "duration": 20,
        "start_time": "2023-02-19T20:42:41.852Z"
      },
      {
        "duration": 14,
        "start_time": "2023-02-19T20:42:41.873Z"
      },
      {
        "duration": 13,
        "start_time": "2023-02-19T20:42:41.888Z"
      },
      {
        "duration": 18,
        "start_time": "2023-02-19T20:42:41.903Z"
      },
      {
        "duration": 8,
        "start_time": "2023-02-19T20:42:41.922Z"
      },
      {
        "duration": 137,
        "start_time": "2023-02-19T20:42:41.932Z"
      },
      {
        "duration": 14,
        "start_time": "2023-02-19T20:42:42.070Z"
      },
      {
        "duration": 10,
        "start_time": "2023-02-19T20:42:42.085Z"
      },
      {
        "duration": 23,
        "start_time": "2023-02-19T20:42:42.097Z"
      },
      {
        "duration": 7,
        "start_time": "2023-02-19T20:42:42.122Z"
      },
      {
        "duration": 174,
        "start_time": "2023-02-19T20:42:42.149Z"
      },
      {
        "duration": 11,
        "start_time": "2023-02-19T20:42:42.324Z"
      },
      {
        "duration": 16,
        "start_time": "2023-02-19T20:42:42.337Z"
      },
      {
        "duration": 310,
        "start_time": "2023-02-19T20:42:42.355Z"
      },
      {
        "duration": 111,
        "start_time": "2023-02-19T20:42:42.667Z"
      },
      {
        "duration": 152,
        "start_time": "2023-02-19T20:42:42.780Z"
      },
      {
        "duration": 7,
        "start_time": "2023-02-19T20:42:42.933Z"
      },
      {
        "duration": 11,
        "start_time": "2023-02-19T20:42:42.941Z"
      },
      {
        "duration": 18,
        "start_time": "2023-02-19T20:42:42.954Z"
      },
      {
        "duration": 18,
        "start_time": "2023-02-19T20:42:42.974Z"
      },
      {
        "duration": 86,
        "start_time": "2023-02-19T20:42:42.994Z"
      },
      {
        "duration": 15,
        "start_time": "2023-02-19T20:42:43.081Z"
      },
      {
        "duration": 7,
        "start_time": "2023-02-19T20:42:43.149Z"
      },
      {
        "duration": 156,
        "start_time": "2023-02-19T20:42:43.158Z"
      },
      {
        "duration": 143,
        "start_time": "2023-02-19T20:42:43.316Z"
      },
      {
        "duration": 114,
        "start_time": "2023-02-19T20:42:43.462Z"
      },
      {
        "duration": 16,
        "start_time": "2023-02-19T20:42:43.578Z"
      },
      {
        "duration": 462,
        "start_time": "2023-02-19T20:42:43.596Z"
      },
      {
        "duration": 17,
        "start_time": "2023-02-19T20:42:44.060Z"
      },
      {
        "duration": 7,
        "start_time": "2023-02-19T20:42:44.078Z"
      },
      {
        "duration": 16,
        "start_time": "2023-02-19T20:42:44.086Z"
      },
      {
        "duration": 393,
        "start_time": "2023-02-19T20:42:44.104Z"
      },
      {
        "duration": 13,
        "start_time": "2023-02-19T20:42:44.499Z"
      },
      {
        "duration": 13,
        "start_time": "2023-02-19T20:42:44.514Z"
      },
      {
        "duration": 21,
        "start_time": "2023-02-19T20:42:44.528Z"
      },
      {
        "duration": 7,
        "start_time": "2023-02-19T20:42:44.550Z"
      },
      {
        "duration": 8,
        "start_time": "2023-02-19T20:42:44.559Z"
      },
      {
        "duration": 15,
        "start_time": "2023-02-19T20:42:44.569Z"
      },
      {
        "duration": 11,
        "start_time": "2023-02-19T20:42:44.586Z"
      },
      {
        "duration": 21,
        "start_time": "2023-02-19T20:42:44.598Z"
      },
      {
        "duration": 12,
        "start_time": "2023-02-19T20:42:44.621Z"
      },
      {
        "duration": 10,
        "start_time": "2023-02-19T20:43:25.425Z"
      },
      {
        "duration": 8,
        "start_time": "2023-02-19T20:43:36.108Z"
      },
      {
        "duration": 10,
        "start_time": "2023-02-19T20:44:00.888Z"
      },
      {
        "duration": 13,
        "start_time": "2023-02-19T20:44:02.127Z"
      },
      {
        "duration": 113,
        "start_time": "2023-02-19T20:50:42.455Z"
      },
      {
        "duration": 17,
        "start_time": "2023-02-19T20:51:03.665Z"
      },
      {
        "duration": 14,
        "start_time": "2023-02-19T20:51:20.688Z"
      },
      {
        "duration": 13,
        "start_time": "2023-02-19T20:51:31.024Z"
      },
      {
        "duration": 62,
        "start_time": "2023-02-21T07:46:39.931Z"
      },
      {
        "duration": 1486,
        "start_time": "2023-02-21T07:46:45.605Z"
      },
      {
        "duration": 1462,
        "start_time": "2023-02-21T07:46:47.094Z"
      },
      {
        "duration": 95,
        "start_time": "2023-02-21T07:46:48.558Z"
      },
      {
        "duration": 137,
        "start_time": "2023-02-21T07:46:48.656Z"
      },
      {
        "duration": 55,
        "start_time": "2023-02-21T07:46:48.799Z"
      },
      {
        "duration": 11,
        "start_time": "2023-02-21T07:46:48.857Z"
      },
      {
        "duration": 38,
        "start_time": "2023-02-21T07:46:48.870Z"
      },
      {
        "duration": 44,
        "start_time": "2023-02-21T07:46:48.910Z"
      },
      {
        "duration": 251,
        "start_time": "2023-02-21T07:46:48.956Z"
      },
      {
        "duration": 9,
        "start_time": "2023-02-21T07:46:49.210Z"
      },
      {
        "duration": 10,
        "start_time": "2023-02-21T07:46:49.221Z"
      },
      {
        "duration": 14,
        "start_time": "2023-02-21T07:46:49.233Z"
      },
      {
        "duration": 16,
        "start_time": "2023-02-21T07:46:49.249Z"
      },
      {
        "duration": 45,
        "start_time": "2023-02-21T07:46:49.267Z"
      },
      {
        "duration": 22,
        "start_time": "2023-02-21T07:46:49.314Z"
      },
      {
        "duration": 87,
        "start_time": "2023-02-21T07:46:49.339Z"
      },
      {
        "duration": 23,
        "start_time": "2023-02-21T07:46:49.428Z"
      },
      {
        "duration": 42,
        "start_time": "2023-02-21T07:46:49.453Z"
      },
      {
        "duration": 14,
        "start_time": "2023-02-21T07:46:49.496Z"
      },
      {
        "duration": 23,
        "start_time": "2023-02-21T07:46:49.512Z"
      },
      {
        "duration": 18,
        "start_time": "2023-02-21T07:46:49.536Z"
      },
      {
        "duration": 64,
        "start_time": "2023-02-21T07:46:49.556Z"
      },
      {
        "duration": 15,
        "start_time": "2023-02-21T07:46:49.623Z"
      },
      {
        "duration": 6,
        "start_time": "2023-02-21T07:46:49.640Z"
      },
      {
        "duration": 15,
        "start_time": "2023-02-21T07:46:49.648Z"
      },
      {
        "duration": 42,
        "start_time": "2023-02-21T07:46:49.665Z"
      },
      {
        "duration": 31,
        "start_time": "2023-02-21T07:46:49.709Z"
      },
      {
        "duration": 138,
        "start_time": "2023-02-21T07:46:49.744Z"
      },
      {
        "duration": 28,
        "start_time": "2023-02-21T07:46:49.884Z"
      },
      {
        "duration": 24,
        "start_time": "2023-02-21T07:46:49.914Z"
      },
      {
        "duration": 10,
        "start_time": "2023-02-21T07:46:49.939Z"
      },
      {
        "duration": 11,
        "start_time": "2023-02-21T07:46:49.951Z"
      },
      {
        "duration": 11,
        "start_time": "2023-02-21T07:46:49.964Z"
      },
      {
        "duration": 167,
        "start_time": "2023-02-21T07:46:49.977Z"
      },
      {
        "duration": 21,
        "start_time": "2023-02-21T07:46:50.146Z"
      },
      {
        "duration": 38,
        "start_time": "2023-02-21T07:46:50.169Z"
      },
      {
        "duration": 33,
        "start_time": "2023-02-21T07:46:50.209Z"
      },
      {
        "duration": 9,
        "start_time": "2023-02-21T07:46:50.244Z"
      },
      {
        "duration": 233,
        "start_time": "2023-02-21T07:46:50.255Z"
      },
      {
        "duration": 19,
        "start_time": "2023-02-21T07:46:50.490Z"
      },
      {
        "duration": 27,
        "start_time": "2023-02-21T07:46:50.512Z"
      },
      {
        "duration": 395,
        "start_time": "2023-02-21T07:46:50.541Z"
      },
      {
        "duration": 135,
        "start_time": "2023-02-21T07:46:50.937Z"
      },
      {
        "duration": 186,
        "start_time": "2023-02-21T07:46:51.073Z"
      },
      {
        "duration": 8,
        "start_time": "2023-02-21T07:46:51.260Z"
      },
      {
        "duration": 34,
        "start_time": "2023-02-21T07:46:51.272Z"
      },
      {
        "duration": 19,
        "start_time": "2023-02-21T07:46:51.309Z"
      },
      {
        "duration": 75,
        "start_time": "2023-02-21T07:46:51.332Z"
      },
      {
        "duration": 55,
        "start_time": "2023-02-21T07:46:51.410Z"
      },
      {
        "duration": 17,
        "start_time": "2023-02-21T07:46:51.468Z"
      },
      {
        "duration": 28,
        "start_time": "2023-02-21T07:46:51.489Z"
      },
      {
        "duration": 183,
        "start_time": "2023-02-21T07:46:51.519Z"
      },
      {
        "duration": 135,
        "start_time": "2023-02-21T07:46:51.704Z"
      },
      {
        "duration": 124,
        "start_time": "2023-02-21T07:46:51.841Z"
      },
      {
        "duration": 19,
        "start_time": "2023-02-21T07:46:51.967Z"
      },
      {
        "duration": 541,
        "start_time": "2023-02-21T07:46:51.988Z"
      },
      {
        "duration": 17,
        "start_time": "2023-02-21T07:46:52.531Z"
      },
      {
        "duration": 10,
        "start_time": "2023-02-21T07:46:52.549Z"
      },
      {
        "duration": 139,
        "start_time": "2023-02-21T07:46:52.560Z"
      },
      {
        "duration": 0,
        "start_time": "2023-02-21T07:46:52.700Z"
      },
      {
        "duration": 0,
        "start_time": "2023-02-21T07:46:52.702Z"
      },
      {
        "duration": 0,
        "start_time": "2023-02-21T07:46:52.703Z"
      },
      {
        "duration": 0,
        "start_time": "2023-02-21T07:46:52.704Z"
      },
      {
        "duration": 0,
        "start_time": "2023-02-21T07:46:52.706Z"
      },
      {
        "duration": 0,
        "start_time": "2023-02-21T07:46:52.707Z"
      },
      {
        "duration": 0,
        "start_time": "2023-02-21T07:46:52.708Z"
      },
      {
        "duration": 0,
        "start_time": "2023-02-21T07:46:52.709Z"
      },
      {
        "duration": 0,
        "start_time": "2023-02-21T07:46:52.711Z"
      },
      {
        "duration": 0,
        "start_time": "2023-02-21T07:46:52.712Z"
      },
      {
        "duration": 0,
        "start_time": "2023-02-21T07:46:52.713Z"
      },
      {
        "duration": 1,
        "start_time": "2023-02-21T07:46:52.714Z"
      },
      {
        "duration": 14,
        "start_time": "2023-02-21T07:56:46.457Z"
      },
      {
        "duration": 9,
        "start_time": "2023-02-21T07:59:13.306Z"
      },
      {
        "duration": 5,
        "start_time": "2023-02-21T08:00:47.639Z"
      },
      {
        "duration": 11,
        "start_time": "2023-02-21T08:00:52.263Z"
      },
      {
        "duration": 12,
        "start_time": "2023-02-21T08:01:16.129Z"
      },
      {
        "duration": 15,
        "start_time": "2023-02-21T08:01:26.729Z"
      },
      {
        "duration": 4,
        "start_time": "2023-02-21T08:01:42.655Z"
      },
      {
        "duration": 18,
        "start_time": "2023-02-21T08:02:00.743Z"
      },
      {
        "duration": 315,
        "start_time": "2023-02-21T08:10:39.984Z"
      },
      {
        "duration": 418,
        "start_time": "2023-02-21T08:23:14.769Z"
      },
      {
        "duration": 15,
        "start_time": "2023-02-21T08:23:15.506Z"
      },
      {
        "duration": 12,
        "start_time": "2023-02-21T08:23:17.491Z"
      },
      {
        "duration": 7,
        "start_time": "2023-02-21T08:23:25.462Z"
      },
      {
        "duration": 7,
        "start_time": "2023-02-21T08:23:53.069Z"
      },
      {
        "duration": 4,
        "start_time": "2023-02-21T08:24:14.744Z"
      },
      {
        "duration": 5,
        "start_time": "2023-02-21T08:24:47.487Z"
      },
      {
        "duration": 7,
        "start_time": "2023-02-21T08:25:02.363Z"
      },
      {
        "duration": 13,
        "start_time": "2023-02-21T08:25:04.090Z"
      },
      {
        "duration": 14,
        "start_time": "2023-02-21T08:25:45.141Z"
      },
      {
        "duration": 19,
        "start_time": "2023-02-21T08:25:51.718Z"
      },
      {
        "duration": 16,
        "start_time": "2023-02-21T08:27:03.403Z"
      },
      {
        "duration": 13,
        "start_time": "2023-02-21T08:27:15.535Z"
      },
      {
        "duration": 16,
        "start_time": "2023-02-21T08:27:17.615Z"
      },
      {
        "duration": 14,
        "start_time": "2023-02-21T08:28:24.583Z"
      },
      {
        "duration": 14,
        "start_time": "2023-02-21T08:28:30.798Z"
      },
      {
        "duration": 12,
        "start_time": "2023-02-21T08:29:48.249Z"
      },
      {
        "duration": 10,
        "start_time": "2023-02-21T08:32:30.901Z"
      },
      {
        "duration": 14,
        "start_time": "2023-02-21T08:33:23.171Z"
      },
      {
        "duration": 20,
        "start_time": "2023-02-21T08:33:52.420Z"
      },
      {
        "duration": 9,
        "start_time": "2023-02-21T08:34:05.882Z"
      },
      {
        "duration": 10,
        "start_time": "2023-02-21T08:34:10.527Z"
      },
      {
        "duration": 19,
        "start_time": "2023-02-21T08:34:14.268Z"
      },
      {
        "duration": 15,
        "start_time": "2023-02-21T08:35:03.975Z"
      },
      {
        "duration": 7,
        "start_time": "2023-02-21T08:35:43.754Z"
      },
      {
        "duration": 17,
        "start_time": "2023-02-21T08:36:09.742Z"
      },
      {
        "duration": 14,
        "start_time": "2023-02-21T08:36:12.059Z"
      },
      {
        "duration": 17,
        "start_time": "2023-02-21T08:36:15.693Z"
      },
      {
        "duration": 17,
        "start_time": "2023-02-21T08:36:18.381Z"
      },
      {
        "duration": 22,
        "start_time": "2023-02-21T08:36:32.512Z"
      },
      {
        "duration": 49,
        "start_time": "2023-02-21T08:36:34.641Z"
      },
      {
        "duration": 46,
        "start_time": "2023-02-21T08:36:41.638Z"
      },
      {
        "duration": 50,
        "start_time": "2023-02-21T08:36:47.517Z"
      },
      {
        "duration": 30,
        "start_time": "2023-02-21T08:36:59.371Z"
      },
      {
        "duration": 45,
        "start_time": "2023-02-21T08:37:25.705Z"
      },
      {
        "duration": 48,
        "start_time": "2023-02-21T08:37:39.354Z"
      },
      {
        "duration": 52,
        "start_time": "2023-02-21T08:37:41.156Z"
      },
      {
        "duration": 957,
        "start_time": "2023-02-21T08:37:41.532Z"
      },
      {
        "duration": 4,
        "start_time": "2023-02-21T08:37:51.596Z"
      },
      {
        "duration": 1348,
        "start_time": "2023-02-21T08:37:51.602Z"
      },
      {
        "duration": 105,
        "start_time": "2023-02-21T08:37:52.952Z"
      },
      {
        "duration": 110,
        "start_time": "2023-02-21T08:37:53.058Z"
      },
      {
        "duration": 53,
        "start_time": "2023-02-21T08:37:53.170Z"
      },
      {
        "duration": 7,
        "start_time": "2023-02-21T08:37:53.224Z"
      },
      {
        "duration": 12,
        "start_time": "2023-02-21T08:37:53.232Z"
      },
      {
        "duration": 56,
        "start_time": "2023-02-21T08:37:53.246Z"
      },
      {
        "duration": 195,
        "start_time": "2023-02-21T08:37:53.304Z"
      },
      {
        "duration": 9,
        "start_time": "2023-02-21T08:37:53.501Z"
      },
      {
        "duration": 12,
        "start_time": "2023-02-21T08:37:53.512Z"
      },
      {
        "duration": 13,
        "start_time": "2023-02-21T08:37:53.525Z"
      },
      {
        "duration": 4,
        "start_time": "2023-02-21T08:37:53.540Z"
      },
      {
        "duration": 11,
        "start_time": "2023-02-21T08:37:53.546Z"
      },
      {
        "duration": 9,
        "start_time": "2023-02-21T08:37:53.558Z"
      },
      {
        "duration": 6,
        "start_time": "2023-02-21T08:37:53.600Z"
      },
      {
        "duration": 13,
        "start_time": "2023-02-21T08:37:53.607Z"
      },
      {
        "duration": 22,
        "start_time": "2023-02-21T08:37:53.622Z"
      },
      {
        "duration": 8,
        "start_time": "2023-02-21T08:37:53.645Z"
      },
      {
        "duration": 10,
        "start_time": "2023-02-21T08:37:53.655Z"
      },
      {
        "duration": 39,
        "start_time": "2023-02-21T08:37:53.666Z"
      },
      {
        "duration": 69,
        "start_time": "2023-02-21T08:37:53.706Z"
      },
      {
        "duration": 34,
        "start_time": "2023-02-21T08:37:53.776Z"
      },
      {
        "duration": 11,
        "start_time": "2023-02-21T08:37:53.812Z"
      },
      {
        "duration": 12,
        "start_time": "2023-02-21T08:37:53.825Z"
      },
      {
        "duration": 20,
        "start_time": "2023-02-21T08:37:53.838Z"
      },
      {
        "duration": 71,
        "start_time": "2023-02-21T08:37:53.860Z"
      },
      {
        "duration": 182,
        "start_time": "2023-02-21T08:37:53.933Z"
      },
      {
        "duration": 18,
        "start_time": "2023-02-21T08:37:54.120Z"
      },
      {
        "duration": 28,
        "start_time": "2023-02-21T08:37:54.140Z"
      },
      {
        "duration": 6,
        "start_time": "2023-02-21T08:37:54.170Z"
      },
      {
        "duration": 21,
        "start_time": "2023-02-21T08:37:54.178Z"
      },
      {
        "duration": 10,
        "start_time": "2023-02-21T08:37:54.201Z"
      },
      {
        "duration": 155,
        "start_time": "2023-02-21T08:37:54.213Z"
      },
      {
        "duration": 16,
        "start_time": "2023-02-21T08:37:54.370Z"
      },
      {
        "duration": 20,
        "start_time": "2023-02-21T08:37:54.387Z"
      },
      {
        "duration": 38,
        "start_time": "2023-02-21T08:37:54.409Z"
      },
      {
        "duration": 9,
        "start_time": "2023-02-21T08:37:54.449Z"
      },
      {
        "duration": 174,
        "start_time": "2023-02-21T08:37:54.460Z"
      },
      {
        "duration": 10,
        "start_time": "2023-02-21T08:37:54.635Z"
      },
      {
        "duration": 8,
        "start_time": "2023-02-21T08:37:54.646Z"
      },
      {
        "duration": 314,
        "start_time": "2023-02-21T08:37:54.656Z"
      },
      {
        "duration": 137,
        "start_time": "2023-02-21T08:37:54.972Z"
      },
      {
        "duration": 16,
        "start_time": "2023-02-21T08:37:55.111Z"
      },
      {
        "duration": 8,
        "start_time": "2023-02-21T08:37:55.131Z"
      },
      {
        "duration": 10,
        "start_time": "2023-02-21T08:37:55.141Z"
      },
      {
        "duration": 23,
        "start_time": "2023-02-21T08:37:55.152Z"
      },
      {
        "duration": 19,
        "start_time": "2023-02-21T08:37:55.176Z"
      },
      {
        "duration": 41,
        "start_time": "2023-02-21T08:37:55.198Z"
      },
      {
        "duration": 12,
        "start_time": "2023-02-21T08:37:55.240Z"
      },
      {
        "duration": 8,
        "start_time": "2023-02-21T08:37:55.254Z"
      },
      {
        "duration": 143,
        "start_time": "2023-02-21T08:37:55.264Z"
      },
      {
        "duration": 107,
        "start_time": "2023-02-21T08:37:55.408Z"
      },
      {
        "duration": 105,
        "start_time": "2023-02-21T08:37:55.517Z"
      },
      {
        "duration": 15,
        "start_time": "2023-02-21T08:37:55.624Z"
      },
      {
        "duration": 379,
        "start_time": "2023-02-21T08:37:55.641Z"
      },
      {
        "duration": 18,
        "start_time": "2023-02-21T08:37:56.021Z"
      },
      {
        "duration": 59,
        "start_time": "2023-02-21T08:37:56.041Z"
      },
      {
        "duration": 6,
        "start_time": "2023-02-21T08:37:59.978Z"
      },
      {
        "duration": 208,
        "start_time": "2023-02-21T08:38:53.562Z"
      },
      {
        "duration": 150,
        "start_time": "2023-02-21T08:38:57.651Z"
      },
      {
        "duration": 157,
        "start_time": "2023-02-21T08:39:06.548Z"
      },
      {
        "duration": 389,
        "start_time": "2023-02-21T08:39:08.986Z"
      },
      {
        "duration": 755,
        "start_time": "2023-02-21T08:39:13.492Z"
      },
      {
        "duration": 158,
        "start_time": "2023-02-21T08:39:28.784Z"
      },
      {
        "duration": 22965,
        "start_time": "2023-02-21T08:40:20.392Z"
      },
      {
        "duration": 23407,
        "start_time": "2023-02-21T08:42:30.672Z"
      },
      {
        "duration": 20,
        "start_time": "2023-02-21T08:42:54.081Z"
      },
      {
        "duration": 21,
        "start_time": "2023-02-21T08:43:58.325Z"
      },
      {
        "duration": 20,
        "start_time": "2023-02-21T08:44:13.661Z"
      },
      {
        "duration": 10,
        "start_time": "2023-02-21T08:46:06.777Z"
      },
      {
        "duration": 11,
        "start_time": "2023-02-21T08:46:13.796Z"
      },
      {
        "duration": 51,
        "start_time": "2023-02-21T08:48:45.937Z"
      },
      {
        "duration": 45,
        "start_time": "2023-02-21T08:48:48.906Z"
      },
      {
        "duration": 50,
        "start_time": "2023-02-21T08:48:58.006Z"
      },
      {
        "duration": 66,
        "start_time": "2023-02-21T08:48:59.305Z"
      },
      {
        "duration": 20,
        "start_time": "2023-02-21T08:49:36.251Z"
      },
      {
        "duration": 16,
        "start_time": "2023-02-21T08:49:44.711Z"
      },
      {
        "duration": 13,
        "start_time": "2023-02-21T08:50:22.204Z"
      },
      {
        "duration": 237,
        "start_time": "2023-02-21T08:50:34.637Z"
      },
      {
        "duration": 1154,
        "start_time": "2023-02-21T08:50:54.749Z"
      },
      {
        "duration": 1378,
        "start_time": "2023-02-21T08:50:55.905Z"
      },
      {
        "duration": 88,
        "start_time": "2023-02-21T08:50:57.285Z"
      },
      {
        "duration": 122,
        "start_time": "2023-02-21T08:50:57.375Z"
      },
      {
        "duration": 46,
        "start_time": "2023-02-21T08:50:57.499Z"
      },
      {
        "duration": 10,
        "start_time": "2023-02-21T08:50:57.547Z"
      },
      {
        "duration": 17,
        "start_time": "2023-02-21T08:50:57.558Z"
      },
      {
        "duration": 62,
        "start_time": "2023-02-21T08:50:57.576Z"
      },
      {
        "duration": 220,
        "start_time": "2023-02-21T08:50:57.640Z"
      },
      {
        "duration": 8,
        "start_time": "2023-02-21T08:50:57.862Z"
      },
      {
        "duration": 9,
        "start_time": "2023-02-21T08:50:57.871Z"
      },
      {
        "duration": 8,
        "start_time": "2023-02-21T08:50:57.898Z"
      },
      {
        "duration": 18,
        "start_time": "2023-02-21T08:50:57.908Z"
      },
      {
        "duration": 9,
        "start_time": "2023-02-21T08:50:57.928Z"
      },
      {
        "duration": 12,
        "start_time": "2023-02-21T08:50:57.938Z"
      },
      {
        "duration": 7,
        "start_time": "2023-02-21T08:50:57.952Z"
      },
      {
        "duration": 8,
        "start_time": "2023-02-21T08:50:57.961Z"
      },
      {
        "duration": 41,
        "start_time": "2023-02-21T08:50:57.971Z"
      },
      {
        "duration": 11,
        "start_time": "2023-02-21T08:50:58.013Z"
      },
      {
        "duration": 10,
        "start_time": "2023-02-21T08:50:58.025Z"
      },
      {
        "duration": 12,
        "start_time": "2023-02-21T08:50:58.037Z"
      },
      {
        "duration": 92,
        "start_time": "2023-02-21T08:50:58.051Z"
      },
      {
        "duration": 14,
        "start_time": "2023-02-21T08:50:58.145Z"
      },
      {
        "duration": 12,
        "start_time": "2023-02-21T08:50:58.161Z"
      },
      {
        "duration": 29,
        "start_time": "2023-02-21T08:50:58.174Z"
      },
      {
        "duration": 15,
        "start_time": "2023-02-21T08:50:58.205Z"
      },
      {
        "duration": 31,
        "start_time": "2023-02-21T08:50:58.222Z"
      },
      {
        "duration": 154,
        "start_time": "2023-02-21T08:50:58.257Z"
      },
      {
        "duration": 13,
        "start_time": "2023-02-21T08:50:58.413Z"
      },
      {
        "duration": 12,
        "start_time": "2023-02-21T08:50:58.428Z"
      },
      {
        "duration": 8,
        "start_time": "2023-02-21T08:50:58.442Z"
      },
      {
        "duration": 17,
        "start_time": "2023-02-21T08:50:58.452Z"
      },
      {
        "duration": 10,
        "start_time": "2023-02-21T08:50:58.471Z"
      },
      {
        "duration": 151,
        "start_time": "2023-02-21T08:50:58.482Z"
      },
      {
        "duration": 16,
        "start_time": "2023-02-21T08:50:58.635Z"
      },
      {
        "duration": 13,
        "start_time": "2023-02-21T08:50:58.652Z"
      },
      {
        "duration": 34,
        "start_time": "2023-02-21T08:50:58.666Z"
      },
      {
        "duration": 7,
        "start_time": "2023-02-21T08:50:58.701Z"
      },
      {
        "duration": 176,
        "start_time": "2023-02-21T08:50:58.710Z"
      },
      {
        "duration": 12,
        "start_time": "2023-02-21T08:50:58.888Z"
      },
      {
        "duration": 8,
        "start_time": "2023-02-21T08:50:58.902Z"
      },
      {
        "duration": 322,
        "start_time": "2023-02-21T08:50:58.911Z"
      },
      {
        "duration": 123,
        "start_time": "2023-02-21T08:50:59.235Z"
      },
      {
        "duration": 154,
        "start_time": "2023-02-21T08:50:59.360Z"
      },
      {
        "duration": 7,
        "start_time": "2023-02-21T08:50:59.515Z"
      },
      {
        "duration": 11,
        "start_time": "2023-02-21T08:50:59.523Z"
      },
      {
        "duration": 7,
        "start_time": "2023-02-21T08:50:59.536Z"
      },
      {
        "duration": 59,
        "start_time": "2023-02-21T08:50:59.545Z"
      },
      {
        "duration": 33,
        "start_time": "2023-02-21T08:50:59.605Z"
      },
      {
        "duration": 14,
        "start_time": "2023-02-21T08:50:59.640Z"
      },
      {
        "duration": 44,
        "start_time": "2023-02-21T08:50:59.656Z"
      },
      {
        "duration": 147,
        "start_time": "2023-02-21T08:50:59.702Z"
      },
      {
        "duration": 117,
        "start_time": "2023-02-21T08:50:59.851Z"
      },
      {
        "duration": 113,
        "start_time": "2023-02-21T08:50:59.970Z"
      },
      {
        "duration": 20,
        "start_time": "2023-02-21T08:51:00.085Z"
      },
      {
        "duration": 428,
        "start_time": "2023-02-21T08:51:00.106Z"
      },
      {
        "duration": 8,
        "start_time": "2023-02-21T08:51:00.536Z"
      },
      {
        "duration": 36,
        "start_time": "2023-02-21T08:51:00.545Z"
      },
      {
        "duration": 21,
        "start_time": "2023-02-21T08:51:00.582Z"
      },
      {
        "duration": 131,
        "start_time": "2023-02-21T08:51:00.604Z"
      },
      {
        "duration": 0,
        "start_time": "2023-02-21T08:51:00.737Z"
      },
      {
        "duration": 0,
        "start_time": "2023-02-21T08:51:00.738Z"
      },
      {
        "duration": 0,
        "start_time": "2023-02-21T08:51:00.740Z"
      },
      {
        "duration": 0,
        "start_time": "2023-02-21T08:51:00.741Z"
      },
      {
        "duration": 0,
        "start_time": "2023-02-21T08:51:00.742Z"
      },
      {
        "duration": 0,
        "start_time": "2023-02-21T08:51:00.744Z"
      },
      {
        "duration": 0,
        "start_time": "2023-02-21T08:51:00.745Z"
      },
      {
        "duration": 0,
        "start_time": "2023-02-21T08:51:00.746Z"
      },
      {
        "duration": 0,
        "start_time": "2023-02-21T08:51:00.748Z"
      },
      {
        "duration": 0,
        "start_time": "2023-02-21T08:51:00.749Z"
      },
      {
        "duration": 0,
        "start_time": "2023-02-21T08:51:00.750Z"
      },
      {
        "duration": 0,
        "start_time": "2023-02-21T08:51:00.751Z"
      },
      {
        "duration": 0,
        "start_time": "2023-02-21T08:51:00.752Z"
      },
      {
        "duration": 0,
        "start_time": "2023-02-21T08:51:00.753Z"
      },
      {
        "duration": 0,
        "start_time": "2023-02-21T08:51:00.754Z"
      },
      {
        "duration": 0,
        "start_time": "2023-02-21T08:51:00.757Z"
      },
      {
        "duration": 0,
        "start_time": "2023-02-21T08:51:00.757Z"
      },
      {
        "duration": 0,
        "start_time": "2023-02-21T08:51:00.759Z"
      },
      {
        "duration": 14,
        "start_time": "2023-02-21T08:51:33.623Z"
      },
      {
        "duration": 14,
        "start_time": "2023-02-21T08:51:36.276Z"
      },
      {
        "duration": 19,
        "start_time": "2023-02-21T08:51:44.945Z"
      },
      {
        "duration": 16,
        "start_time": "2023-02-21T08:52:00.287Z"
      },
      {
        "duration": 14,
        "start_time": "2023-02-21T08:52:13.541Z"
      },
      {
        "duration": 1291,
        "start_time": "2023-02-21T08:52:18.204Z"
      },
      {
        "duration": 1242,
        "start_time": "2023-02-21T08:52:19.497Z"
      },
      {
        "duration": 99,
        "start_time": "2023-02-21T08:52:20.741Z"
      },
      {
        "duration": 129,
        "start_time": "2023-02-21T08:52:20.842Z"
      },
      {
        "duration": 57,
        "start_time": "2023-02-21T08:52:20.973Z"
      },
      {
        "duration": 10,
        "start_time": "2023-02-21T08:52:21.032Z"
      },
      {
        "duration": 19,
        "start_time": "2023-02-21T08:52:21.043Z"
      },
      {
        "duration": 64,
        "start_time": "2023-02-21T08:52:21.063Z"
      },
      {
        "duration": 207,
        "start_time": "2023-02-21T08:52:21.129Z"
      },
      {
        "duration": 9,
        "start_time": "2023-02-21T08:52:21.339Z"
      },
      {
        "duration": 11,
        "start_time": "2023-02-21T08:52:21.349Z"
      },
      {
        "duration": 10,
        "start_time": "2023-02-21T08:52:21.361Z"
      },
      {
        "duration": 8,
        "start_time": "2023-02-21T08:52:21.373Z"
      },
      {
        "duration": 19,
        "start_time": "2023-02-21T08:52:21.383Z"
      },
      {
        "duration": 16,
        "start_time": "2023-02-21T08:52:21.404Z"
      },
      {
        "duration": 19,
        "start_time": "2023-02-21T08:52:21.422Z"
      },
      {
        "duration": 20,
        "start_time": "2023-02-21T08:52:21.442Z"
      },
      {
        "duration": 46,
        "start_time": "2023-02-21T08:52:21.463Z"
      },
      {
        "duration": 7,
        "start_time": "2023-02-21T08:52:21.510Z"
      },
      {
        "duration": 16,
        "start_time": "2023-02-21T08:52:21.519Z"
      },
      {
        "duration": 27,
        "start_time": "2023-02-21T08:52:21.537Z"
      },
      {
        "duration": 71,
        "start_time": "2023-02-21T08:52:21.565Z"
      },
      {
        "duration": 15,
        "start_time": "2023-02-21T08:52:21.637Z"
      },
      {
        "duration": 22,
        "start_time": "2023-02-21T08:52:21.653Z"
      },
      {
        "duration": 20,
        "start_time": "2023-02-21T08:52:21.677Z"
      },
      {
        "duration": 21,
        "start_time": "2023-02-21T08:52:21.699Z"
      },
      {
        "duration": 31,
        "start_time": "2023-02-21T08:52:21.722Z"
      },
      {
        "duration": 131,
        "start_time": "2023-02-21T08:52:21.758Z"
      },
      {
        "duration": 18,
        "start_time": "2023-02-21T08:52:21.891Z"
      },
      {
        "duration": 34,
        "start_time": "2023-02-21T08:52:21.911Z"
      },
      {
        "duration": 31,
        "start_time": "2023-02-21T08:52:21.946Z"
      },
      {
        "duration": 33,
        "start_time": "2023-02-21T08:52:21.978Z"
      },
      {
        "duration": 13,
        "start_time": "2023-02-21T08:52:22.013Z"
      },
      {
        "duration": 139,
        "start_time": "2023-02-21T08:52:22.028Z"
      },
      {
        "duration": 14,
        "start_time": "2023-02-21T08:52:22.168Z"
      },
      {
        "duration": 19,
        "start_time": "2023-02-21T08:52:22.183Z"
      },
      {
        "duration": 43,
        "start_time": "2023-02-21T08:52:22.203Z"
      },
      {
        "duration": 7,
        "start_time": "2023-02-21T08:52:22.248Z"
      },
      {
        "duration": 175,
        "start_time": "2023-02-21T08:52:22.256Z"
      },
      {
        "duration": 10,
        "start_time": "2023-02-21T08:52:22.432Z"
      },
      {
        "duration": 9,
        "start_time": "2023-02-21T08:52:22.444Z"
      },
      {
        "duration": 326,
        "start_time": "2023-02-21T08:52:22.455Z"
      },
      {
        "duration": 125,
        "start_time": "2023-02-21T08:52:22.783Z"
      },
      {
        "duration": 151,
        "start_time": "2023-02-21T08:52:22.910Z"
      },
      {
        "duration": 7,
        "start_time": "2023-02-21T08:52:23.062Z"
      },
      {
        "duration": 16,
        "start_time": "2023-02-21T08:52:23.070Z"
      },
      {
        "duration": 12,
        "start_time": "2023-02-21T08:52:23.088Z"
      },
      {
        "duration": 17,
        "start_time": "2023-02-21T08:52:23.102Z"
      },
      {
        "duration": 46,
        "start_time": "2023-02-21T08:52:23.120Z"
      },
      {
        "duration": 15,
        "start_time": "2023-02-21T08:52:23.198Z"
      },
      {
        "duration": 8,
        "start_time": "2023-02-21T08:52:23.215Z"
      },
      {
        "duration": 163,
        "start_time": "2023-02-21T08:52:23.225Z"
      },
      {
        "duration": 124,
        "start_time": "2023-02-21T08:52:23.390Z"
      },
      {
        "duration": 109,
        "start_time": "2023-02-21T08:52:23.516Z"
      },
      {
        "duration": 18,
        "start_time": "2023-02-21T08:52:23.627Z"
      },
      {
        "duration": 495,
        "start_time": "2023-02-21T08:52:23.646Z"
      },
      {
        "duration": 9,
        "start_time": "2023-02-21T08:52:24.143Z"
      },
      {
        "duration": 54,
        "start_time": "2023-02-21T08:52:24.154Z"
      },
      {
        "duration": 12,
        "start_time": "2023-02-21T08:52:24.209Z"
      },
      {
        "duration": 124,
        "start_time": "2023-02-21T08:52:24.222Z"
      },
      {
        "duration": 0,
        "start_time": "2023-02-21T08:52:24.348Z"
      },
      {
        "duration": 0,
        "start_time": "2023-02-21T08:52:24.350Z"
      },
      {
        "duration": 0,
        "start_time": "2023-02-21T08:52:24.351Z"
      },
      {
        "duration": 0,
        "start_time": "2023-02-21T08:52:24.353Z"
      },
      {
        "duration": 0,
        "start_time": "2023-02-21T08:52:24.354Z"
      },
      {
        "duration": 0,
        "start_time": "2023-02-21T08:52:24.356Z"
      },
      {
        "duration": 0,
        "start_time": "2023-02-21T08:52:24.357Z"
      },
      {
        "duration": 0,
        "start_time": "2023-02-21T08:52:24.358Z"
      },
      {
        "duration": 0,
        "start_time": "2023-02-21T08:52:24.359Z"
      },
      {
        "duration": 0,
        "start_time": "2023-02-21T08:52:24.360Z"
      },
      {
        "duration": 0,
        "start_time": "2023-02-21T08:52:24.362Z"
      },
      {
        "duration": 0,
        "start_time": "2023-02-21T08:52:24.363Z"
      },
      {
        "duration": 0,
        "start_time": "2023-02-21T08:52:24.364Z"
      },
      {
        "duration": 0,
        "start_time": "2023-02-21T08:52:24.366Z"
      },
      {
        "duration": 0,
        "start_time": "2023-02-21T08:52:24.367Z"
      },
      {
        "duration": 0,
        "start_time": "2023-02-21T08:52:24.400Z"
      },
      {
        "duration": 0,
        "start_time": "2023-02-21T08:52:24.401Z"
      },
      {
        "duration": 0,
        "start_time": "2023-02-21T08:52:24.403Z"
      },
      {
        "duration": 67,
        "start_time": "2023-02-21T08:52:50.892Z"
      },
      {
        "duration": 11,
        "start_time": "2023-02-21T08:52:52.836Z"
      },
      {
        "duration": 15,
        "start_time": "2023-02-21T08:52:58.295Z"
      },
      {
        "duration": 8,
        "start_time": "2023-02-21T08:53:08.521Z"
      },
      {
        "duration": 255,
        "start_time": "2023-02-21T08:53:35.879Z"
      },
      {
        "duration": 354,
        "start_time": "2023-02-21T08:53:40.426Z"
      },
      {
        "duration": 287,
        "start_time": "2023-02-21T08:54:16.918Z"
      },
      {
        "duration": 252,
        "start_time": "2023-02-21T08:54:25.299Z"
      },
      {
        "duration": 269,
        "start_time": "2023-02-21T08:57:43.192Z"
      },
      {
        "duration": 16,
        "start_time": "2023-02-21T08:57:43.463Z"
      },
      {
        "duration": 19,
        "start_time": "2023-02-21T08:57:43.481Z"
      },
      {
        "duration": 4,
        "start_time": "2023-02-21T08:57:43.502Z"
      },
      {
        "duration": 11,
        "start_time": "2023-02-21T08:57:43.508Z"
      },
      {
        "duration": 18,
        "start_time": "2023-02-21T08:57:43.521Z"
      },
      {
        "duration": 422,
        "start_time": "2023-02-21T08:57:43.541Z"
      },
      {
        "duration": 16,
        "start_time": "2023-02-21T08:57:43.966Z"
      },
      {
        "duration": 11,
        "start_time": "2023-02-21T08:57:43.984Z"
      },
      {
        "duration": 21,
        "start_time": "2023-02-21T08:57:43.998Z"
      },
      {
        "duration": 17,
        "start_time": "2023-02-21T08:57:44.022Z"
      },
      {
        "duration": 13,
        "start_time": "2023-02-21T08:57:44.041Z"
      },
      {
        "duration": 10,
        "start_time": "2023-02-21T08:57:44.059Z"
      },
      {
        "duration": 17,
        "start_time": "2023-02-21T08:57:44.072Z"
      },
      {
        "duration": 23,
        "start_time": "2023-02-21T08:57:44.092Z"
      },
      {
        "duration": 14,
        "start_time": "2023-02-21T08:57:44.117Z"
      },
      {
        "duration": 27,
        "start_time": "2023-02-21T08:57:44.133Z"
      },
      {
        "duration": 12,
        "start_time": "2023-02-21T08:57:44.162Z"
      },
      {
        "duration": 4,
        "start_time": "2023-02-21T09:03:34.505Z"
      },
      {
        "duration": 11,
        "start_time": "2023-02-21T09:03:37.549Z"
      },
      {
        "duration": 9,
        "start_time": "2023-02-21T09:03:41.491Z"
      },
      {
        "duration": 7,
        "start_time": "2023-02-21T09:03:48.190Z"
      },
      {
        "duration": 8,
        "start_time": "2023-02-21T09:03:50.378Z"
      },
      {
        "duration": 9,
        "start_time": "2023-02-21T09:03:51.196Z"
      },
      {
        "duration": 1254,
        "start_time": "2023-02-21T13:24:19.110Z"
      },
      {
        "duration": 1095,
        "start_time": "2023-02-21T13:24:20.366Z"
      },
      {
        "duration": 95,
        "start_time": "2023-02-21T13:24:21.463Z"
      },
      {
        "duration": 120,
        "start_time": "2023-02-21T13:24:21.560Z"
      },
      {
        "duration": 58,
        "start_time": "2023-02-21T13:24:21.681Z"
      },
      {
        "duration": 10,
        "start_time": "2023-02-21T13:24:21.741Z"
      },
      {
        "duration": 13,
        "start_time": "2023-02-21T13:24:21.752Z"
      },
      {
        "duration": 68,
        "start_time": "2023-02-21T13:24:21.767Z"
      },
      {
        "duration": 223,
        "start_time": "2023-02-21T13:24:21.837Z"
      },
      {
        "duration": 8,
        "start_time": "2023-02-21T13:24:22.063Z"
      },
      {
        "duration": 9,
        "start_time": "2023-02-21T13:24:22.073Z"
      },
      {
        "duration": 8,
        "start_time": "2023-02-21T13:24:22.102Z"
      },
      {
        "duration": 14,
        "start_time": "2023-02-21T13:24:22.112Z"
      },
      {
        "duration": 8,
        "start_time": "2023-02-21T13:24:22.129Z"
      },
      {
        "duration": 13,
        "start_time": "2023-02-21T13:24:22.139Z"
      },
      {
        "duration": 9,
        "start_time": "2023-02-21T13:24:22.153Z"
      },
      {
        "duration": 12,
        "start_time": "2023-02-21T13:24:22.164Z"
      },
      {
        "duration": 42,
        "start_time": "2023-02-21T13:24:22.178Z"
      },
      {
        "duration": 8,
        "start_time": "2023-02-21T13:24:22.223Z"
      },
      {
        "duration": 13,
        "start_time": "2023-02-21T13:24:22.233Z"
      },
      {
        "duration": 17,
        "start_time": "2023-02-21T13:24:22.248Z"
      },
      {
        "duration": 75,
        "start_time": "2023-02-21T13:24:22.268Z"
      },
      {
        "duration": 13,
        "start_time": "2023-02-21T13:24:22.345Z"
      },
      {
        "duration": 6,
        "start_time": "2023-02-21T13:24:22.360Z"
      },
      {
        "duration": 37,
        "start_time": "2023-02-21T13:24:22.367Z"
      },
      {
        "duration": 14,
        "start_time": "2023-02-21T13:24:22.406Z"
      },
      {
        "duration": 35,
        "start_time": "2023-02-21T13:24:22.421Z"
      },
      {
        "duration": 130,
        "start_time": "2023-02-21T13:24:22.460Z"
      },
      {
        "duration": 17,
        "start_time": "2023-02-21T13:24:22.592Z"
      },
      {
        "duration": 9,
        "start_time": "2023-02-21T13:24:22.611Z"
      },
      {
        "duration": 15,
        "start_time": "2023-02-21T13:24:22.622Z"
      },
      {
        "duration": 16,
        "start_time": "2023-02-21T13:24:22.639Z"
      },
      {
        "duration": 10,
        "start_time": "2023-02-21T13:24:22.657Z"
      },
      {
        "duration": 145,
        "start_time": "2023-02-21T13:24:22.669Z"
      },
      {
        "duration": 14,
        "start_time": "2023-02-21T13:24:22.816Z"
      },
      {
        "duration": 10,
        "start_time": "2023-02-21T13:24:22.832Z"
      },
      {
        "duration": 24,
        "start_time": "2023-02-21T13:24:22.844Z"
      },
      {
        "duration": 7,
        "start_time": "2023-02-21T13:24:22.870Z"
      },
      {
        "duration": 204,
        "start_time": "2023-02-21T13:24:22.902Z"
      },
      {
        "duration": 12,
        "start_time": "2023-02-21T13:24:23.108Z"
      },
      {
        "duration": 9,
        "start_time": "2023-02-21T13:24:23.122Z"
      },
      {
        "duration": 385,
        "start_time": "2023-02-21T13:24:23.133Z"
      },
      {
        "duration": 123,
        "start_time": "2023-02-21T13:24:23.520Z"
      },
      {
        "duration": 412,
        "start_time": "2023-02-21T13:24:23.645Z"
      },
      {
        "duration": 7,
        "start_time": "2023-02-21T13:24:24.058Z"
      },
      {
        "duration": 43,
        "start_time": "2023-02-21T13:24:24.067Z"
      },
      {
        "duration": 13,
        "start_time": "2023-02-21T13:24:24.112Z"
      },
      {
        "duration": 20,
        "start_time": "2023-02-21T13:24:24.128Z"
      },
      {
        "duration": 91,
        "start_time": "2023-02-21T13:24:24.151Z"
      },
      {
        "duration": 64,
        "start_time": "2023-02-21T13:24:24.244Z"
      },
      {
        "duration": 18,
        "start_time": "2023-02-21T13:24:24.310Z"
      },
      {
        "duration": 186,
        "start_time": "2023-02-21T13:24:24.330Z"
      },
      {
        "duration": 130,
        "start_time": "2023-02-21T13:24:24.517Z"
      },
      {
        "duration": 105,
        "start_time": "2023-02-21T13:24:24.649Z"
      },
      {
        "duration": 24,
        "start_time": "2023-02-21T13:24:24.756Z"
      },
      {
        "duration": 469,
        "start_time": "2023-02-21T13:24:24.782Z"
      },
      {
        "duration": 8,
        "start_time": "2023-02-21T13:24:25.253Z"
      },
      {
        "duration": 44,
        "start_time": "2023-02-21T13:24:25.263Z"
      },
      {
        "duration": 11,
        "start_time": "2023-02-21T13:24:25.309Z"
      },
      {
        "duration": 265,
        "start_time": "2023-02-21T13:24:25.322Z"
      },
      {
        "duration": 25,
        "start_time": "2023-02-21T13:24:25.589Z"
      },
      {
        "duration": 10,
        "start_time": "2023-02-21T13:24:25.615Z"
      },
      {
        "duration": 10,
        "start_time": "2023-02-21T13:24:25.626Z"
      },
      {
        "duration": 11,
        "start_time": "2023-02-21T13:24:25.638Z"
      },
      {
        "duration": 103,
        "start_time": "2023-02-21T13:24:25.650Z"
      },
      {
        "duration": 385,
        "start_time": "2023-02-21T13:24:25.755Z"
      },
      {
        "duration": 14,
        "start_time": "2023-02-21T13:24:26.142Z"
      },
      {
        "duration": 5,
        "start_time": "2023-02-21T13:24:26.157Z"
      },
      {
        "duration": 9,
        "start_time": "2023-02-21T13:24:26.163Z"
      },
      {
        "duration": 33,
        "start_time": "2023-02-21T13:24:26.174Z"
      },
      {
        "duration": 5,
        "start_time": "2023-02-21T13:24:26.209Z"
      },
      {
        "duration": 18,
        "start_time": "2023-02-21T13:24:26.216Z"
      },
      {
        "duration": 11,
        "start_time": "2023-02-21T13:24:26.236Z"
      },
      {
        "duration": 12,
        "start_time": "2023-02-21T13:24:26.249Z"
      },
      {
        "duration": 24,
        "start_time": "2023-02-21T13:24:26.262Z"
      },
      {
        "duration": 12,
        "start_time": "2023-02-21T13:24:26.288Z"
      },
      {
        "duration": 14,
        "start_time": "2023-02-21T13:24:26.302Z"
      },
      {
        "duration": 10,
        "start_time": "2023-02-21T13:24:26.318Z"
      },
      {
        "duration": 61,
        "start_time": "2023-02-21T14:37:32.710Z"
      },
      {
        "duration": 1612,
        "start_time": "2023-02-21T14:37:39.936Z"
      },
      {
        "duration": 1371,
        "start_time": "2023-02-21T14:37:41.552Z"
      },
      {
        "duration": 134,
        "start_time": "2023-02-21T14:37:42.925Z"
      },
      {
        "duration": 144,
        "start_time": "2023-02-21T14:37:43.061Z"
      },
      {
        "duration": 81,
        "start_time": "2023-02-21T14:37:43.207Z"
      },
      {
        "duration": 10,
        "start_time": "2023-02-21T14:37:43.290Z"
      },
      {
        "duration": 60,
        "start_time": "2023-02-21T14:37:43.302Z"
      },
      {
        "duration": 77,
        "start_time": "2023-02-21T14:37:43.363Z"
      },
      {
        "duration": 263,
        "start_time": "2023-02-21T14:37:43.442Z"
      },
      {
        "duration": 9,
        "start_time": "2023-02-21T14:37:43.709Z"
      },
      {
        "duration": 46,
        "start_time": "2023-02-21T14:37:43.720Z"
      },
      {
        "duration": 58,
        "start_time": "2023-02-21T14:37:43.768Z"
      },
      {
        "duration": 50,
        "start_time": "2023-02-21T14:37:43.828Z"
      },
      {
        "duration": 68,
        "start_time": "2023-02-21T14:37:43.880Z"
      },
      {
        "duration": 32,
        "start_time": "2023-02-21T14:37:43.951Z"
      },
      {
        "duration": 44,
        "start_time": "2023-02-21T14:37:43.985Z"
      },
      {
        "duration": 62,
        "start_time": "2023-02-21T14:37:44.031Z"
      },
      {
        "duration": 66,
        "start_time": "2023-02-21T14:37:44.095Z"
      },
      {
        "duration": 10,
        "start_time": "2023-02-21T14:37:44.162Z"
      },
      {
        "duration": 46,
        "start_time": "2023-02-21T14:37:44.174Z"
      },
      {
        "duration": 21,
        "start_time": "2023-02-21T14:37:44.221Z"
      },
      {
        "duration": 88,
        "start_time": "2023-02-21T14:37:44.244Z"
      },
      {
        "duration": 16,
        "start_time": "2023-02-21T14:37:44.334Z"
      },
      {
        "duration": 25,
        "start_time": "2023-02-21T14:37:44.351Z"
      },
      {
        "duration": 20,
        "start_time": "2023-02-21T14:37:44.378Z"
      },
      {
        "duration": 55,
        "start_time": "2023-02-21T14:37:44.400Z"
      },
      {
        "duration": 51,
        "start_time": "2023-02-21T14:37:44.456Z"
      },
      {
        "duration": 136,
        "start_time": "2023-02-21T14:37:44.512Z"
      },
      {
        "duration": 14,
        "start_time": "2023-02-21T14:37:44.651Z"
      },
      {
        "duration": 33,
        "start_time": "2023-02-21T14:37:44.667Z"
      },
      {
        "duration": 26,
        "start_time": "2023-02-21T14:37:44.702Z"
      },
      {
        "duration": 43,
        "start_time": "2023-02-21T14:37:44.730Z"
      },
      {
        "duration": 34,
        "start_time": "2023-02-21T14:37:44.775Z"
      },
      {
        "duration": 163,
        "start_time": "2023-02-21T14:37:44.811Z"
      },
      {
        "duration": 14,
        "start_time": "2023-02-21T14:37:44.976Z"
      },
      {
        "duration": 38,
        "start_time": "2023-02-21T14:37:44.992Z"
      },
      {
        "duration": 75,
        "start_time": "2023-02-21T14:37:45.032Z"
      },
      {
        "duration": 24,
        "start_time": "2023-02-21T14:37:45.109Z"
      },
      {
        "duration": 231,
        "start_time": "2023-02-21T14:37:45.135Z"
      },
      {
        "duration": 12,
        "start_time": "2023-02-21T14:37:45.368Z"
      },
      {
        "duration": 23,
        "start_time": "2023-02-21T14:37:45.382Z"
      },
      {
        "duration": 399,
        "start_time": "2023-02-21T14:37:45.407Z"
      },
      {
        "duration": 134,
        "start_time": "2023-02-21T14:37:45.808Z"
      },
      {
        "duration": 194,
        "start_time": "2023-02-21T14:37:45.944Z"
      },
      {
        "duration": 7,
        "start_time": "2023-02-21T14:37:46.140Z"
      },
      {
        "duration": 41,
        "start_time": "2023-02-21T14:37:46.149Z"
      },
      {
        "duration": 49,
        "start_time": "2023-02-21T14:37:46.191Z"
      },
      {
        "duration": 46,
        "start_time": "2023-02-21T14:37:46.243Z"
      },
      {
        "duration": 71,
        "start_time": "2023-02-21T14:37:46.290Z"
      },
      {
        "duration": 16,
        "start_time": "2023-02-21T14:37:46.363Z"
      },
      {
        "duration": 41,
        "start_time": "2023-02-21T14:37:46.381Z"
      },
      {
        "duration": 178,
        "start_time": "2023-02-21T14:37:46.424Z"
      },
      {
        "duration": 156,
        "start_time": "2023-02-21T14:37:46.604Z"
      },
      {
        "duration": 130,
        "start_time": "2023-02-21T14:37:46.762Z"
      },
      {
        "duration": 18,
        "start_time": "2023-02-21T14:37:46.894Z"
      },
      {
        "duration": 511,
        "start_time": "2023-02-21T14:37:46.914Z"
      },
      {
        "duration": 19,
        "start_time": "2023-02-21T14:37:47.428Z"
      },
      {
        "duration": 54,
        "start_time": "2023-02-21T14:37:47.450Z"
      },
      {
        "duration": 10,
        "start_time": "2023-02-21T14:37:47.506Z"
      },
      {
        "duration": 312,
        "start_time": "2023-02-21T14:37:47.518Z"
      },
      {
        "duration": 31,
        "start_time": "2023-02-21T14:37:47.832Z"
      },
      {
        "duration": 23,
        "start_time": "2023-02-21T14:37:47.865Z"
      },
      {
        "duration": 24,
        "start_time": "2023-02-21T14:37:47.890Z"
      },
      {
        "duration": 22,
        "start_time": "2023-02-21T14:37:47.916Z"
      },
      {
        "duration": 144,
        "start_time": "2023-02-21T14:37:47.940Z"
      },
      {
        "duration": 434,
        "start_time": "2023-02-21T14:37:48.087Z"
      },
      {
        "duration": 24,
        "start_time": "2023-02-21T14:37:48.523Z"
      },
      {
        "duration": 15,
        "start_time": "2023-02-21T14:37:48.549Z"
      },
      {
        "duration": 42,
        "start_time": "2023-02-21T14:37:48.567Z"
      },
      {
        "duration": 50,
        "start_time": "2023-02-21T14:37:48.611Z"
      },
      {
        "duration": 41,
        "start_time": "2023-02-21T14:37:48.663Z"
      },
      {
        "duration": 26,
        "start_time": "2023-02-21T14:37:48.706Z"
      },
      {
        "duration": 36,
        "start_time": "2023-02-21T14:37:48.734Z"
      },
      {
        "duration": 15,
        "start_time": "2023-02-21T14:37:48.772Z"
      },
      {
        "duration": 28,
        "start_time": "2023-02-21T14:37:48.789Z"
      },
      {
        "duration": 41,
        "start_time": "2023-02-21T14:37:48.819Z"
      },
      {
        "duration": 27,
        "start_time": "2023-02-21T14:37:48.862Z"
      },
      {
        "duration": 22,
        "start_time": "2023-02-21T14:37:48.891Z"
      },
      {
        "duration": 29,
        "start_time": "2023-02-21T14:38:35.356Z"
      },
      {
        "duration": 14,
        "start_time": "2023-02-21T14:39:52.456Z"
      },
      {
        "duration": 13,
        "start_time": "2023-02-21T14:40:01.971Z"
      },
      {
        "duration": 10,
        "start_time": "2023-02-21T14:42:03.598Z"
      },
      {
        "duration": 14,
        "start_time": "2023-02-21T14:42:06.880Z"
      },
      {
        "duration": 25,
        "start_time": "2023-02-21T14:45:30.909Z"
      },
      {
        "duration": 22,
        "start_time": "2023-02-21T14:45:59.949Z"
      },
      {
        "duration": 24,
        "start_time": "2023-02-21T14:46:09.988Z"
      },
      {
        "duration": 59,
        "start_time": "2023-02-21T14:47:06.556Z"
      },
      {
        "duration": 26,
        "start_time": "2023-02-21T14:50:50.647Z"
      },
      {
        "duration": 38,
        "start_time": "2023-02-21T14:52:56.031Z"
      },
      {
        "duration": 24,
        "start_time": "2023-02-21T14:53:00.001Z"
      },
      {
        "duration": 25,
        "start_time": "2023-02-21T14:53:43.189Z"
      },
      {
        "duration": 16,
        "start_time": "2023-02-21T14:53:46.371Z"
      },
      {
        "duration": 7,
        "start_time": "2023-02-21T14:54:10.437Z"
      },
      {
        "duration": 15,
        "start_time": "2023-02-21T14:55:00.144Z"
      },
      {
        "duration": 50,
        "start_time": "2023-02-21T14:55:40.308Z"
      },
      {
        "duration": 41,
        "start_time": "2023-02-21T14:56:10.885Z"
      },
      {
        "duration": 33,
        "start_time": "2023-02-21T14:56:17.503Z"
      },
      {
        "duration": 16,
        "start_time": "2023-02-21T14:58:47.836Z"
      },
      {
        "duration": 35,
        "start_time": "2023-02-21T14:59:32.849Z"
      },
      {
        "duration": 18,
        "start_time": "2023-02-21T14:59:35.798Z"
      },
      {
        "duration": 8,
        "start_time": "2023-02-21T14:59:45.802Z"
      },
      {
        "duration": 8,
        "start_time": "2023-02-21T15:01:03.281Z"
      },
      {
        "duration": 20,
        "start_time": "2023-02-21T15:01:06.760Z"
      },
      {
        "duration": 7,
        "start_time": "2023-02-21T15:01:11.329Z"
      },
      {
        "duration": 7,
        "start_time": "2023-02-21T15:01:16.351Z"
      },
      {
        "duration": 11,
        "start_time": "2023-02-21T15:32:42.902Z"
      },
      {
        "duration": 33,
        "start_time": "2023-02-21T15:33:14.834Z"
      },
      {
        "duration": 16,
        "start_time": "2023-02-21T15:33:16.592Z"
      },
      {
        "duration": 178,
        "start_time": "2023-02-21T15:33:40.680Z"
      },
      {
        "duration": 21,
        "start_time": "2023-02-21T15:33:44.155Z"
      },
      {
        "duration": 13,
        "start_time": "2023-02-21T15:33:57.707Z"
      },
      {
        "duration": 11,
        "start_time": "2023-02-21T15:34:01.228Z"
      },
      {
        "duration": 9,
        "start_time": "2023-02-21T15:34:03.463Z"
      },
      {
        "duration": 206,
        "start_time": "2023-02-21T15:34:05.009Z"
      },
      {
        "duration": 35,
        "start_time": "2023-02-21T15:34:05.244Z"
      },
      {
        "duration": 17,
        "start_time": "2023-02-21T15:34:05.487Z"
      },
      {
        "duration": 22,
        "start_time": "2023-02-21T15:34:08.170Z"
      },
      {
        "duration": 9,
        "start_time": "2023-02-21T15:34:08.512Z"
      },
      {
        "duration": 168,
        "start_time": "2023-02-21T15:34:09.476Z"
      },
      {
        "duration": 199,
        "start_time": "2023-02-21T15:34:18.469Z"
      },
      {
        "duration": 14,
        "start_time": "2023-02-21T15:34:19.217Z"
      },
      {
        "duration": 40,
        "start_time": "2023-02-21T15:34:48.967Z"
      },
      {
        "duration": 14,
        "start_time": "2023-02-21T15:36:16.586Z"
      },
      {
        "duration": 10,
        "start_time": "2023-02-21T15:36:18.040Z"
      },
      {
        "duration": 7,
        "start_time": "2023-02-21T15:36:18.270Z"
      },
      {
        "duration": 7,
        "start_time": "2023-02-21T15:36:18.692Z"
      },
      {
        "duration": 20,
        "start_time": "2023-02-21T15:36:21.463Z"
      },
      {
        "duration": 22,
        "start_time": "2023-02-21T15:38:06.733Z"
      },
      {
        "duration": 19,
        "start_time": "2023-02-21T15:38:44.890Z"
      },
      {
        "duration": 11,
        "start_time": "2023-02-21T15:39:12.322Z"
      },
      {
        "duration": 9,
        "start_time": "2023-02-21T15:39:12.993Z"
      },
      {
        "duration": 147,
        "start_time": "2023-02-21T15:39:23.693Z"
      },
      {
        "duration": 5,
        "start_time": "2023-02-21T15:41:25.641Z"
      },
      {
        "duration": 6,
        "start_time": "2023-02-21T15:41:29.321Z"
      },
      {
        "duration": 17,
        "start_time": "2023-02-21T15:41:37.691Z"
      },
      {
        "duration": 15,
        "start_time": "2023-02-21T15:42:30.516Z"
      },
      {
        "duration": 455,
        "start_time": "2023-02-21T15:42:31.550Z"
      },
      {
        "duration": 10,
        "start_time": "2023-02-21T15:44:01.659Z"
      },
      {
        "duration": 269,
        "start_time": "2023-02-21T15:44:02.743Z"
      },
      {
        "duration": 367,
        "start_time": "2023-02-21T15:44:56.855Z"
      },
      {
        "duration": 263,
        "start_time": "2023-02-21T15:45:05.165Z"
      },
      {
        "duration": 14,
        "start_time": "2023-02-21T15:45:20.474Z"
      },
      {
        "duration": 10,
        "start_time": "2023-02-21T15:45:21.369Z"
      },
      {
        "duration": 4,
        "start_time": "2023-02-21T15:45:59.729Z"
      },
      {
        "duration": 5,
        "start_time": "2023-02-21T15:46:00.157Z"
      },
      {
        "duration": 15,
        "start_time": "2023-02-21T15:46:00.832Z"
      },
      {
        "duration": 6,
        "start_time": "2023-02-21T15:53:11.151Z"
      },
      {
        "duration": 15,
        "start_time": "2023-02-21T15:54:13.153Z"
      },
      {
        "duration": 20,
        "start_time": "2023-02-21T15:54:49.786Z"
      },
      {
        "duration": 252,
        "start_time": "2023-02-21T15:54:50.413Z"
      },
      {
        "duration": 147,
        "start_time": "2023-02-21T15:54:51.038Z"
      },
      {
        "duration": 31,
        "start_time": "2023-02-21T15:55:05.204Z"
      },
      {
        "duration": 1305,
        "start_time": "2023-02-21T15:55:13.289Z"
      },
      {
        "duration": 1621,
        "start_time": "2023-02-21T15:55:14.596Z"
      },
      {
        "duration": 112,
        "start_time": "2023-02-21T15:55:16.221Z"
      },
      {
        "duration": 175,
        "start_time": "2023-02-21T15:55:16.337Z"
      },
      {
        "duration": 69,
        "start_time": "2023-02-21T15:55:16.513Z"
      },
      {
        "duration": 10,
        "start_time": "2023-02-21T15:55:16.583Z"
      },
      {
        "duration": 21,
        "start_time": "2023-02-21T15:55:16.595Z"
      },
      {
        "duration": 68,
        "start_time": "2023-02-21T15:55:16.618Z"
      },
      {
        "duration": 254,
        "start_time": "2023-02-21T15:55:16.689Z"
      },
      {
        "duration": 9,
        "start_time": "2023-02-21T15:55:16.945Z"
      },
      {
        "duration": 23,
        "start_time": "2023-02-21T15:55:16.955Z"
      },
      {
        "duration": 16,
        "start_time": "2023-02-21T15:55:16.980Z"
      },
      {
        "duration": 36,
        "start_time": "2023-02-21T15:55:16.998Z"
      },
      {
        "duration": 24,
        "start_time": "2023-02-21T15:55:17.036Z"
      },
      {
        "duration": 57,
        "start_time": "2023-02-21T15:55:17.062Z"
      },
      {
        "duration": 21,
        "start_time": "2023-02-21T15:55:17.121Z"
      },
      {
        "duration": 33,
        "start_time": "2023-02-21T15:55:17.143Z"
      },
      {
        "duration": 36,
        "start_time": "2023-02-21T15:55:17.178Z"
      },
      {
        "duration": 12,
        "start_time": "2023-02-21T15:55:17.216Z"
      },
      {
        "duration": 59,
        "start_time": "2023-02-21T15:55:17.230Z"
      },
      {
        "duration": 26,
        "start_time": "2023-02-21T15:55:17.291Z"
      },
      {
        "duration": 16,
        "start_time": "2023-02-21T15:55:17.319Z"
      },
      {
        "duration": 27,
        "start_time": "2023-02-21T15:55:17.337Z"
      },
      {
        "duration": 62,
        "start_time": "2023-02-21T15:55:17.366Z"
      },
      {
        "duration": 8,
        "start_time": "2023-02-21T15:55:17.431Z"
      },
      {
        "duration": 31,
        "start_time": "2023-02-21T15:55:17.441Z"
      },
      {
        "duration": 13,
        "start_time": "2023-02-21T15:55:17.478Z"
      },
      {
        "duration": 26,
        "start_time": "2023-02-21T15:55:17.493Z"
      },
      {
        "duration": 32,
        "start_time": "2023-02-21T15:55:17.522Z"
      },
      {
        "duration": 36,
        "start_time": "2023-02-21T15:55:17.556Z"
      },
      {
        "duration": 129,
        "start_time": "2023-02-21T15:55:17.593Z"
      },
      {
        "duration": 16,
        "start_time": "2023-02-21T15:55:17.724Z"
      },
      {
        "duration": 47,
        "start_time": "2023-02-21T15:55:17.741Z"
      },
      {
        "duration": 115,
        "start_time": "2023-02-21T15:55:17.790Z"
      },
      {
        "duration": 0,
        "start_time": "2023-02-21T15:55:17.906Z"
      },
      {
        "duration": 0,
        "start_time": "2023-02-21T15:55:17.907Z"
      },
      {
        "duration": 0,
        "start_time": "2023-02-21T15:55:17.909Z"
      },
      {
        "duration": 0,
        "start_time": "2023-02-21T15:55:17.910Z"
      },
      {
        "duration": 0,
        "start_time": "2023-02-21T15:55:17.911Z"
      },
      {
        "duration": 0,
        "start_time": "2023-02-21T15:55:17.912Z"
      },
      {
        "duration": 1,
        "start_time": "2023-02-21T15:55:17.913Z"
      },
      {
        "duration": 0,
        "start_time": "2023-02-21T15:55:17.915Z"
      },
      {
        "duration": 0,
        "start_time": "2023-02-21T15:55:17.916Z"
      },
      {
        "duration": 0,
        "start_time": "2023-02-21T15:55:17.917Z"
      },
      {
        "duration": 0,
        "start_time": "2023-02-21T15:55:17.918Z"
      },
      {
        "duration": 0,
        "start_time": "2023-02-21T15:55:17.919Z"
      },
      {
        "duration": 0,
        "start_time": "2023-02-21T15:55:17.920Z"
      },
      {
        "duration": 0,
        "start_time": "2023-02-21T15:55:17.938Z"
      },
      {
        "duration": 0,
        "start_time": "2023-02-21T15:55:17.939Z"
      },
      {
        "duration": 0,
        "start_time": "2023-02-21T15:55:17.940Z"
      },
      {
        "duration": 0,
        "start_time": "2023-02-21T15:55:17.941Z"
      },
      {
        "duration": 0,
        "start_time": "2023-02-21T15:55:17.942Z"
      },
      {
        "duration": 0,
        "start_time": "2023-02-21T15:55:17.943Z"
      },
      {
        "duration": 0,
        "start_time": "2023-02-21T15:55:17.944Z"
      },
      {
        "duration": 0,
        "start_time": "2023-02-21T15:55:17.945Z"
      },
      {
        "duration": 0,
        "start_time": "2023-02-21T15:55:17.946Z"
      },
      {
        "duration": 0,
        "start_time": "2023-02-21T15:55:17.947Z"
      },
      {
        "duration": 0,
        "start_time": "2023-02-21T15:55:17.948Z"
      },
      {
        "duration": 0,
        "start_time": "2023-02-21T15:55:17.949Z"
      },
      {
        "duration": 0,
        "start_time": "2023-02-21T15:55:17.951Z"
      },
      {
        "duration": 0,
        "start_time": "2023-02-21T15:55:17.951Z"
      },
      {
        "duration": 0,
        "start_time": "2023-02-21T15:55:17.953Z"
      },
      {
        "duration": 0,
        "start_time": "2023-02-21T15:55:17.954Z"
      },
      {
        "duration": 0,
        "start_time": "2023-02-21T15:55:17.955Z"
      },
      {
        "duration": 0,
        "start_time": "2023-02-21T15:55:17.956Z"
      },
      {
        "duration": 0,
        "start_time": "2023-02-21T15:55:17.957Z"
      },
      {
        "duration": 0,
        "start_time": "2023-02-21T15:55:17.958Z"
      },
      {
        "duration": 0,
        "start_time": "2023-02-21T15:55:17.959Z"
      },
      {
        "duration": 0,
        "start_time": "2023-02-21T15:55:17.960Z"
      },
      {
        "duration": 0,
        "start_time": "2023-02-21T15:55:17.961Z"
      },
      {
        "duration": 0,
        "start_time": "2023-02-21T15:55:17.962Z"
      },
      {
        "duration": 0,
        "start_time": "2023-02-21T15:55:17.963Z"
      },
      {
        "duration": 0,
        "start_time": "2023-02-21T15:55:17.964Z"
      },
      {
        "duration": 0,
        "start_time": "2023-02-21T15:55:17.965Z"
      },
      {
        "duration": 10,
        "start_time": "2023-02-21T15:56:33.832Z"
      },
      {
        "duration": 17,
        "start_time": "2023-02-21T15:57:00.951Z"
      },
      {
        "duration": 130,
        "start_time": "2023-02-21T15:57:02.509Z"
      },
      {
        "duration": 19,
        "start_time": "2023-02-21T15:57:02.908Z"
      },
      {
        "duration": 1204,
        "start_time": "2023-02-21T15:57:24.591Z"
      },
      {
        "duration": 1454,
        "start_time": "2023-02-21T15:57:25.797Z"
      },
      {
        "duration": 118,
        "start_time": "2023-02-21T15:57:27.253Z"
      },
      {
        "duration": 134,
        "start_time": "2023-02-21T15:57:27.373Z"
      },
      {
        "duration": 71,
        "start_time": "2023-02-21T15:57:27.509Z"
      },
      {
        "duration": 10,
        "start_time": "2023-02-21T15:57:27.582Z"
      },
      {
        "duration": 18,
        "start_time": "2023-02-21T15:57:27.593Z"
      },
      {
        "duration": 66,
        "start_time": "2023-02-21T15:57:27.612Z"
      },
      {
        "duration": 214,
        "start_time": "2023-02-21T15:57:27.680Z"
      },
      {
        "duration": 8,
        "start_time": "2023-02-21T15:57:27.896Z"
      },
      {
        "duration": 20,
        "start_time": "2023-02-21T15:57:27.906Z"
      },
      {
        "duration": 18,
        "start_time": "2023-02-21T15:57:27.928Z"
      },
      {
        "duration": 5,
        "start_time": "2023-02-21T15:57:27.947Z"
      },
      {
        "duration": 19,
        "start_time": "2023-02-21T15:57:27.953Z"
      },
      {
        "duration": 10,
        "start_time": "2023-02-21T15:57:27.974Z"
      },
      {
        "duration": 14,
        "start_time": "2023-02-21T15:57:27.985Z"
      },
      {
        "duration": 28,
        "start_time": "2023-02-21T15:57:28.000Z"
      },
      {
        "duration": 35,
        "start_time": "2023-02-21T15:57:28.030Z"
      },
      {
        "duration": 9,
        "start_time": "2023-02-21T15:57:28.067Z"
      },
      {
        "duration": 37,
        "start_time": "2023-02-21T15:57:28.078Z"
      },
      {
        "duration": 31,
        "start_time": "2023-02-21T15:57:28.117Z"
      },
      {
        "duration": 17,
        "start_time": "2023-02-21T15:57:28.150Z"
      },
      {
        "duration": 20,
        "start_time": "2023-02-21T15:57:28.169Z"
      },
      {
        "duration": 53,
        "start_time": "2023-02-21T15:57:28.192Z"
      },
      {
        "duration": 7,
        "start_time": "2023-02-21T15:57:28.247Z"
      },
      {
        "duration": 16,
        "start_time": "2023-02-21T15:57:28.256Z"
      },
      {
        "duration": 14,
        "start_time": "2023-02-21T15:57:28.274Z"
      },
      {
        "duration": 12,
        "start_time": "2023-02-21T15:57:28.294Z"
      },
      {
        "duration": 38,
        "start_time": "2023-02-21T15:57:28.308Z"
      },
      {
        "duration": 37,
        "start_time": "2023-02-21T15:57:28.348Z"
      },
      {
        "duration": 130,
        "start_time": "2023-02-21T15:57:28.387Z"
      },
      {
        "duration": 23,
        "start_time": "2023-02-21T15:57:28.519Z"
      },
      {
        "duration": 48,
        "start_time": "2023-02-21T15:57:28.543Z"
      },
      {
        "duration": 31,
        "start_time": "2023-02-21T15:57:28.593Z"
      },
      {
        "duration": 27,
        "start_time": "2023-02-21T15:57:28.626Z"
      },
      {
        "duration": 26,
        "start_time": "2023-02-21T15:57:28.655Z"
      },
      {
        "duration": 129,
        "start_time": "2023-02-21T15:57:28.683Z"
      },
      {
        "duration": 0,
        "start_time": "2023-02-21T15:57:28.814Z"
      },
      {
        "duration": 0,
        "start_time": "2023-02-21T15:57:28.815Z"
      },
      {
        "duration": 0,
        "start_time": "2023-02-21T15:57:28.816Z"
      },
      {
        "duration": 0,
        "start_time": "2023-02-21T15:57:28.817Z"
      },
      {
        "duration": 0,
        "start_time": "2023-02-21T15:57:28.818Z"
      },
      {
        "duration": 0,
        "start_time": "2023-02-21T15:57:28.819Z"
      },
      {
        "duration": 0,
        "start_time": "2023-02-21T15:57:28.820Z"
      },
      {
        "duration": 0,
        "start_time": "2023-02-21T15:57:28.822Z"
      },
      {
        "duration": 0,
        "start_time": "2023-02-21T15:57:28.838Z"
      },
      {
        "duration": 0,
        "start_time": "2023-02-21T15:57:28.839Z"
      },
      {
        "duration": 0,
        "start_time": "2023-02-21T15:57:28.840Z"
      },
      {
        "duration": 0,
        "start_time": "2023-02-21T15:57:28.841Z"
      },
      {
        "duration": 0,
        "start_time": "2023-02-21T15:57:28.843Z"
      },
      {
        "duration": 0,
        "start_time": "2023-02-21T15:57:28.844Z"
      },
      {
        "duration": 0,
        "start_time": "2023-02-21T15:57:28.845Z"
      },
      {
        "duration": 0,
        "start_time": "2023-02-21T15:57:28.846Z"
      },
      {
        "duration": 0,
        "start_time": "2023-02-21T15:57:28.847Z"
      },
      {
        "duration": 0,
        "start_time": "2023-02-21T15:57:28.848Z"
      },
      {
        "duration": 0,
        "start_time": "2023-02-21T15:57:28.849Z"
      },
      {
        "duration": 0,
        "start_time": "2023-02-21T15:57:28.850Z"
      },
      {
        "duration": 0,
        "start_time": "2023-02-21T15:57:28.852Z"
      },
      {
        "duration": 0,
        "start_time": "2023-02-21T15:57:28.853Z"
      },
      {
        "duration": 0,
        "start_time": "2023-02-21T15:57:28.854Z"
      },
      {
        "duration": 0,
        "start_time": "2023-02-21T15:57:28.855Z"
      },
      {
        "duration": 0,
        "start_time": "2023-02-21T15:57:28.856Z"
      },
      {
        "duration": 0,
        "start_time": "2023-02-21T15:57:28.856Z"
      },
      {
        "duration": 0,
        "start_time": "2023-02-21T15:57:28.857Z"
      },
      {
        "duration": 0,
        "start_time": "2023-02-21T15:57:28.858Z"
      },
      {
        "duration": 0,
        "start_time": "2023-02-21T15:57:28.859Z"
      },
      {
        "duration": 0,
        "start_time": "2023-02-21T15:57:28.860Z"
      },
      {
        "duration": 0,
        "start_time": "2023-02-21T15:57:28.861Z"
      },
      {
        "duration": 0,
        "start_time": "2023-02-21T15:57:28.862Z"
      },
      {
        "duration": 0,
        "start_time": "2023-02-21T15:57:28.864Z"
      },
      {
        "duration": 0,
        "start_time": "2023-02-21T15:57:28.866Z"
      },
      {
        "duration": 0,
        "start_time": "2023-02-21T15:57:28.867Z"
      },
      {
        "duration": 0,
        "start_time": "2023-02-21T15:57:28.868Z"
      },
      {
        "duration": 0,
        "start_time": "2023-02-21T15:57:28.869Z"
      },
      {
        "duration": 127,
        "start_time": "2023-02-21T15:58:22.823Z"
      },
      {
        "duration": 24,
        "start_time": "2023-02-21T15:58:23.560Z"
      },
      {
        "duration": 11,
        "start_time": "2023-02-21T15:58:34.640Z"
      },
      {
        "duration": 1237,
        "start_time": "2023-02-21T15:58:37.193Z"
      },
      {
        "duration": 24,
        "start_time": "2023-02-21T15:58:49.904Z"
      },
      {
        "duration": 11,
        "start_time": "2023-02-21T15:59:02.125Z"
      },
      {
        "duration": 9,
        "start_time": "2023-02-21T15:59:07.969Z"
      },
      {
        "duration": 132,
        "start_time": "2023-02-21T15:59:10.422Z"
      },
      {
        "duration": 16,
        "start_time": "2023-02-21T15:59:10.709Z"
      },
      {
        "duration": 11,
        "start_time": "2023-02-21T15:59:11.608Z"
      },
      {
        "duration": 23,
        "start_time": "2023-02-21T15:59:12.740Z"
      },
      {
        "duration": 7,
        "start_time": "2023-02-21T15:59:14.267Z"
      },
      {
        "duration": 184,
        "start_time": "2023-02-21T15:59:15.298Z"
      },
      {
        "duration": 11,
        "start_time": "2023-02-21T15:59:19.192Z"
      },
      {
        "duration": 8,
        "start_time": "2023-02-21T15:59:19.352Z"
      },
      {
        "duration": 340,
        "start_time": "2023-02-21T15:59:20.542Z"
      },
      {
        "duration": 202,
        "start_time": "2023-02-21T16:00:05.869Z"
      },
      {
        "duration": 170,
        "start_time": "2023-02-21T16:00:06.073Z"
      },
      {
        "duration": 257,
        "start_time": "2023-02-21T16:00:06.245Z"
      },
      {
        "duration": 34,
        "start_time": "2023-02-21T16:00:06.504Z"
      },
      {
        "duration": 0,
        "start_time": "2023-02-21T16:00:06.540Z"
      },
      {
        "duration": 0,
        "start_time": "2023-02-21T16:00:06.541Z"
      },
      {
        "duration": 0,
        "start_time": "2023-02-21T16:00:06.542Z"
      },
      {
        "duration": 0,
        "start_time": "2023-02-21T16:00:06.544Z"
      },
      {
        "duration": 0,
        "start_time": "2023-02-21T16:00:06.545Z"
      },
      {
        "duration": 0,
        "start_time": "2023-02-21T16:00:06.546Z"
      },
      {
        "duration": 0,
        "start_time": "2023-02-21T16:00:06.547Z"
      },
      {
        "duration": 0,
        "start_time": "2023-02-21T16:00:06.549Z"
      },
      {
        "duration": 0,
        "start_time": "2023-02-21T16:00:06.552Z"
      },
      {
        "duration": 0,
        "start_time": "2023-02-21T16:00:06.553Z"
      },
      {
        "duration": 0,
        "start_time": "2023-02-21T16:00:06.555Z"
      },
      {
        "duration": 0,
        "start_time": "2023-02-21T16:00:06.556Z"
      },
      {
        "duration": 0,
        "start_time": "2023-02-21T16:00:06.557Z"
      },
      {
        "duration": 0,
        "start_time": "2023-02-21T16:00:06.558Z"
      },
      {
        "duration": 0,
        "start_time": "2023-02-21T16:00:06.559Z"
      },
      {
        "duration": 0,
        "start_time": "2023-02-21T16:00:06.560Z"
      },
      {
        "duration": 0,
        "start_time": "2023-02-21T16:00:06.562Z"
      },
      {
        "duration": 0,
        "start_time": "2023-02-21T16:00:06.563Z"
      },
      {
        "duration": 0,
        "start_time": "2023-02-21T16:00:06.564Z"
      },
      {
        "duration": 0,
        "start_time": "2023-02-21T16:00:06.565Z"
      },
      {
        "duration": 0,
        "start_time": "2023-02-21T16:00:06.566Z"
      },
      {
        "duration": 0,
        "start_time": "2023-02-21T16:00:06.567Z"
      },
      {
        "duration": 19,
        "start_time": "2023-02-21T16:00:24.545Z"
      },
      {
        "duration": 11,
        "start_time": "2023-02-21T16:00:34.218Z"
      },
      {
        "duration": 7,
        "start_time": "2023-02-21T16:00:35.225Z"
      },
      {
        "duration": 123,
        "start_time": "2023-02-21T16:00:39.595Z"
      },
      {
        "duration": 139,
        "start_time": "2023-02-21T16:00:43.094Z"
      },
      {
        "duration": 133,
        "start_time": "2023-02-21T16:00:47.551Z"
      },
      {
        "duration": 132,
        "start_time": "2023-02-21T16:00:48.116Z"
      },
      {
        "duration": 13,
        "start_time": "2023-02-21T16:00:48.697Z"
      },
      {
        "duration": 12,
        "start_time": "2023-02-21T16:00:54.255Z"
      },
      {
        "duration": 17,
        "start_time": "2023-02-21T16:01:04.171Z"
      },
      {
        "duration": 13,
        "start_time": "2023-02-21T16:01:10.589Z"
      },
      {
        "duration": 13,
        "start_time": "2023-02-21T16:01:28.886Z"
      },
      {
        "duration": 15,
        "start_time": "2023-02-21T16:01:33.204Z"
      },
      {
        "duration": 13,
        "start_time": "2023-02-21T16:01:46.425Z"
      },
      {
        "duration": 160,
        "start_time": "2023-02-21T16:02:08.003Z"
      },
      {
        "duration": 112,
        "start_time": "2023-02-21T16:02:08.291Z"
      },
      {
        "duration": 13,
        "start_time": "2023-02-21T16:02:09.478Z"
      },
      {
        "duration": 20,
        "start_time": "2023-02-21T16:02:29.900Z"
      },
      {
        "duration": 10,
        "start_time": "2023-02-21T16:02:40.873Z"
      },
      {
        "duration": 10,
        "start_time": "2023-02-21T16:02:46.117Z"
      },
      {
        "duration": 10,
        "start_time": "2023-02-21T16:02:52.864Z"
      },
      {
        "duration": 123,
        "start_time": "2023-02-21T16:03:10.068Z"
      },
      {
        "duration": 24,
        "start_time": "2023-02-21T16:03:10.786Z"
      },
      {
        "duration": 13,
        "start_time": "2023-02-21T16:03:13.763Z"
      },
      {
        "duration": 13,
        "start_time": "2023-02-21T16:03:21.166Z"
      },
      {
        "duration": 173,
        "start_time": "2023-02-21T16:03:22.451Z"
      },
      {
        "duration": 427,
        "start_time": "2023-02-21T16:03:27.227Z"
      },
      {
        "duration": 14,
        "start_time": "2023-02-21T16:03:31.049Z"
      },
      {
        "duration": 10,
        "start_time": "2023-02-21T16:03:33.204Z"
      },
      {
        "duration": 128,
        "start_time": "2023-02-21T16:03:34.466Z"
      },
      {
        "duration": 280,
        "start_time": "2023-02-21T16:03:38.038Z"
      },
      {
        "duration": 13,
        "start_time": "2023-02-21T16:03:44.657Z"
      },
      {
        "duration": 10,
        "start_time": "2023-02-21T16:03:45.164Z"
      },
      {
        "duration": 4,
        "start_time": "2023-02-21T16:03:47.438Z"
      },
      {
        "duration": 6,
        "start_time": "2023-02-21T16:03:56.587Z"
      },
      {
        "duration": 18,
        "start_time": "2023-02-21T16:04:06.799Z"
      },
      {
        "duration": 7,
        "start_time": "2023-02-21T16:05:03.476Z"
      },
      {
        "duration": 88,
        "start_time": "2023-02-21T16:05:03.485Z"
      },
      {
        "duration": 62,
        "start_time": "2023-02-21T16:05:03.574Z"
      },
      {
        "duration": 0,
        "start_time": "2023-02-21T16:05:03.638Z"
      },
      {
        "duration": 0,
        "start_time": "2023-02-21T16:05:03.639Z"
      },
      {
        "duration": 0,
        "start_time": "2023-02-21T16:05:03.640Z"
      },
      {
        "duration": 0,
        "start_time": "2023-02-21T16:05:03.641Z"
      },
      {
        "duration": 0,
        "start_time": "2023-02-21T16:05:03.642Z"
      },
      {
        "duration": 10,
        "start_time": "2023-02-21T16:05:54.412Z"
      },
      {
        "duration": 15,
        "start_time": "2023-02-21T16:08:14.147Z"
      },
      {
        "duration": 16,
        "start_time": "2023-02-21T16:08:18.948Z"
      },
      {
        "duration": 71,
        "start_time": "2023-02-21T16:08:37.332Z"
      },
      {
        "duration": 13,
        "start_time": "2023-02-21T16:08:40.333Z"
      },
      {
        "duration": 10,
        "start_time": "2023-02-21T16:08:44.133Z"
      },
      {
        "duration": 11,
        "start_time": "2023-02-21T16:08:52.011Z"
      },
      {
        "duration": 11,
        "start_time": "2023-02-21T16:08:55.470Z"
      },
      {
        "duration": 8,
        "start_time": "2023-02-21T16:09:26.843Z"
      },
      {
        "duration": 8,
        "start_time": "2023-02-21T16:09:29.695Z"
      },
      {
        "duration": 4,
        "start_time": "2023-02-21T16:10:22.024Z"
      },
      {
        "duration": 11,
        "start_time": "2023-02-21T16:10:46.662Z"
      },
      {
        "duration": 6,
        "start_time": "2023-02-21T16:10:53.843Z"
      },
      {
        "duration": 10,
        "start_time": "2023-02-21T16:10:56.969Z"
      },
      {
        "duration": 14,
        "start_time": "2023-02-21T16:12:18.531Z"
      },
      {
        "duration": 1250,
        "start_time": "2023-02-21T16:12:36.053Z"
      },
      {
        "duration": 1320,
        "start_time": "2023-02-21T16:12:37.305Z"
      },
      {
        "duration": 103,
        "start_time": "2023-02-21T16:12:38.627Z"
      },
      {
        "duration": 117,
        "start_time": "2023-02-21T16:12:38.737Z"
      },
      {
        "duration": 56,
        "start_time": "2023-02-21T16:12:38.856Z"
      },
      {
        "duration": 29,
        "start_time": "2023-02-21T16:12:38.914Z"
      },
      {
        "duration": 13,
        "start_time": "2023-02-21T16:12:38.946Z"
      },
      {
        "duration": 45,
        "start_time": "2023-02-21T16:12:38.961Z"
      },
      {
        "duration": 231,
        "start_time": "2023-02-21T16:12:39.008Z"
      },
      {
        "duration": 8,
        "start_time": "2023-02-21T16:12:39.242Z"
      },
      {
        "duration": 16,
        "start_time": "2023-02-21T16:12:39.251Z"
      },
      {
        "duration": 14,
        "start_time": "2023-02-21T16:12:39.269Z"
      },
      {
        "duration": 8,
        "start_time": "2023-02-21T16:12:39.285Z"
      },
      {
        "duration": 11,
        "start_time": "2023-02-21T16:12:39.294Z"
      },
      {
        "duration": 15,
        "start_time": "2023-02-21T16:12:39.307Z"
      },
      {
        "duration": 7,
        "start_time": "2023-02-21T16:12:39.337Z"
      },
      {
        "duration": 9,
        "start_time": "2023-02-21T16:12:39.345Z"
      },
      {
        "duration": 20,
        "start_time": "2023-02-21T16:12:39.355Z"
      },
      {
        "duration": 6,
        "start_time": "2023-02-21T16:12:39.377Z"
      },
      {
        "duration": 52,
        "start_time": "2023-02-21T16:12:39.385Z"
      },
      {
        "duration": 23,
        "start_time": "2023-02-21T16:12:39.439Z"
      },
      {
        "duration": 6,
        "start_time": "2023-02-21T16:12:39.464Z"
      },
      {
        "duration": 21,
        "start_time": "2023-02-21T16:12:39.471Z"
      },
      {
        "duration": 48,
        "start_time": "2023-02-21T16:12:39.494Z"
      },
      {
        "duration": 6,
        "start_time": "2023-02-21T16:12:39.543Z"
      },
      {
        "duration": 15,
        "start_time": "2023-02-21T16:12:39.551Z"
      },
      {
        "duration": 9,
        "start_time": "2023-02-21T16:12:39.567Z"
      },
      {
        "duration": 10,
        "start_time": "2023-02-21T16:12:39.580Z"
      },
      {
        "duration": 17,
        "start_time": "2023-02-21T16:12:39.591Z"
      },
      {
        "duration": 50,
        "start_time": "2023-02-21T16:12:39.610Z"
      },
      {
        "duration": 119,
        "start_time": "2023-02-21T16:12:39.662Z"
      },
      {
        "duration": 12,
        "start_time": "2023-02-21T16:12:39.784Z"
      },
      {
        "duration": 10,
        "start_time": "2023-02-21T16:12:39.798Z"
      },
      {
        "duration": 28,
        "start_time": "2023-02-21T16:12:39.810Z"
      },
      {
        "duration": 114,
        "start_time": "2023-02-21T16:12:39.839Z"
      },
      {
        "duration": 20,
        "start_time": "2023-02-21T16:12:39.955Z"
      },
      {
        "duration": 9,
        "start_time": "2023-02-21T16:12:39.976Z"
      },
      {
        "duration": 9,
        "start_time": "2023-02-21T16:12:39.987Z"
      },
      {
        "duration": 8,
        "start_time": "2023-02-21T16:12:39.998Z"
      },
      {
        "duration": 148,
        "start_time": "2023-02-21T16:12:40.007Z"
      },
      {
        "duration": 14,
        "start_time": "2023-02-21T16:12:40.156Z"
      },
      {
        "duration": 9,
        "start_time": "2023-02-21T16:12:40.172Z"
      },
      {
        "duration": 23,
        "start_time": "2023-02-21T16:12:40.182Z"
      },
      {
        "duration": 7,
        "start_time": "2023-02-21T16:12:40.206Z"
      },
      {
        "duration": 178,
        "start_time": "2023-02-21T16:12:40.237Z"
      },
      {
        "duration": 205,
        "start_time": "2023-02-21T16:12:40.416Z"
      },
      {
        "duration": 156,
        "start_time": "2023-02-21T16:12:40.623Z"
      },
      {
        "duration": 230,
        "start_time": "2023-02-21T16:12:40.781Z"
      },
      {
        "duration": 12,
        "start_time": "2023-02-21T16:12:41.013Z"
      },
      {
        "duration": 10,
        "start_time": "2023-02-21T16:12:41.038Z"
      },
      {
        "duration": 7,
        "start_time": "2023-02-21T16:12:41.050Z"
      },
      {
        "duration": 150,
        "start_time": "2023-02-21T16:12:41.059Z"
      },
      {
        "duration": 9,
        "start_time": "2023-02-21T16:12:41.211Z"
      },
      {
        "duration": 110,
        "start_time": "2023-02-21T16:12:41.222Z"
      },
      {
        "duration": 12,
        "start_time": "2023-02-21T16:12:41.334Z"
      },
      {
        "duration": 329,
        "start_time": "2023-02-21T16:12:41.348Z"
      },
      {
        "duration": 12,
        "start_time": "2023-02-21T16:12:41.679Z"
      },
      {
        "duration": 262,
        "start_time": "2023-02-21T16:12:41.692Z"
      },
      {
        "duration": 13,
        "start_time": "2023-02-21T16:12:41.955Z"
      },
      {
        "duration": 8,
        "start_time": "2023-02-21T16:12:41.969Z"
      },
      {
        "duration": 6,
        "start_time": "2023-02-21T16:12:41.979Z"
      },
      {
        "duration": 10,
        "start_time": "2023-02-21T16:12:41.986Z"
      },
      {
        "duration": 41,
        "start_time": "2023-02-21T16:12:41.998Z"
      },
      {
        "duration": 6,
        "start_time": "2023-02-21T16:12:42.040Z"
      },
      {
        "duration": 7,
        "start_time": "2023-02-21T16:12:42.048Z"
      },
      {
        "duration": 10,
        "start_time": "2023-02-21T16:12:42.057Z"
      },
      {
        "duration": 5,
        "start_time": "2023-02-21T16:12:42.069Z"
      },
      {
        "duration": 15,
        "start_time": "2023-02-21T16:12:42.076Z"
      },
      {
        "duration": 131,
        "start_time": "2023-02-21T16:12:42.093Z"
      },
      {
        "duration": 0,
        "start_time": "2023-02-21T16:12:42.226Z"
      },
      {
        "duration": 0,
        "start_time": "2023-02-21T16:12:42.227Z"
      },
      {
        "duration": 11,
        "start_time": "2023-02-21T16:13:33.164Z"
      },
      {
        "duration": 18,
        "start_time": "2023-02-21T16:13:42.981Z"
      },
      {
        "duration": 7,
        "start_time": "2023-02-21T16:14:01.415Z"
      },
      {
        "duration": 10,
        "start_time": "2023-02-21T16:14:38.236Z"
      },
      {
        "duration": 7,
        "start_time": "2023-02-21T16:14:46.732Z"
      },
      {
        "duration": 6,
        "start_time": "2023-02-21T16:15:09.913Z"
      },
      {
        "duration": 1236,
        "start_time": "2023-02-21T16:18:08.323Z"
      },
      {
        "duration": 1109,
        "start_time": "2023-02-21T16:18:09.561Z"
      },
      {
        "duration": 108,
        "start_time": "2023-02-21T16:18:10.672Z"
      },
      {
        "duration": 128,
        "start_time": "2023-02-21T16:18:10.782Z"
      },
      {
        "duration": 66,
        "start_time": "2023-02-21T16:18:10.912Z"
      },
      {
        "duration": 9,
        "start_time": "2023-02-21T16:18:10.980Z"
      },
      {
        "duration": 15,
        "start_time": "2023-02-21T16:18:10.990Z"
      },
      {
        "duration": 66,
        "start_time": "2023-02-21T16:18:11.007Z"
      },
      {
        "duration": 217,
        "start_time": "2023-02-21T16:18:11.074Z"
      },
      {
        "duration": 8,
        "start_time": "2023-02-21T16:18:11.293Z"
      },
      {
        "duration": 13,
        "start_time": "2023-02-21T16:18:11.303Z"
      },
      {
        "duration": 21,
        "start_time": "2023-02-21T16:18:11.317Z"
      },
      {
        "duration": 8,
        "start_time": "2023-02-21T16:18:11.340Z"
      },
      {
        "duration": 16,
        "start_time": "2023-02-21T16:18:11.351Z"
      },
      {
        "duration": 13,
        "start_time": "2023-02-21T16:18:11.369Z"
      },
      {
        "duration": 12,
        "start_time": "2023-02-21T16:18:11.383Z"
      },
      {
        "duration": 23,
        "start_time": "2023-02-21T16:18:11.397Z"
      },
      {
        "duration": 35,
        "start_time": "2023-02-21T16:18:11.422Z"
      },
      {
        "duration": 15,
        "start_time": "2023-02-21T16:18:11.459Z"
      },
      {
        "duration": 28,
        "start_time": "2023-02-21T16:18:11.475Z"
      },
      {
        "duration": 41,
        "start_time": "2023-02-21T16:18:11.504Z"
      },
      {
        "duration": 9,
        "start_time": "2023-02-21T16:18:11.547Z"
      },
      {
        "duration": 19,
        "start_time": "2023-02-21T16:18:11.558Z"
      },
      {
        "duration": 58,
        "start_time": "2023-02-21T16:18:11.579Z"
      },
      {
        "duration": 7,
        "start_time": "2023-02-21T16:18:11.639Z"
      },
      {
        "duration": 44,
        "start_time": "2023-02-21T16:18:11.648Z"
      },
      {
        "duration": 150,
        "start_time": "2023-02-21T16:18:11.694Z"
      },
      {
        "duration": 11,
        "start_time": "2023-02-21T16:18:11.846Z"
      },
      {
        "duration": 40,
        "start_time": "2023-02-21T16:18:11.858Z"
      },
      {
        "duration": 47,
        "start_time": "2023-02-21T16:18:11.899Z"
      },
      {
        "duration": 37,
        "start_time": "2023-02-21T16:18:11.947Z"
      },
      {
        "duration": 37,
        "start_time": "2023-02-21T16:18:11.986Z"
      },
      {
        "duration": 121,
        "start_time": "2023-02-21T16:18:12.025Z"
      },
      {
        "duration": 13,
        "start_time": "2023-02-21T16:18:12.148Z"
      },
      {
        "duration": 34,
        "start_time": "2023-02-21T16:18:12.163Z"
      },
      {
        "duration": 40,
        "start_time": "2023-02-21T16:18:12.200Z"
      },
      {
        "duration": 59,
        "start_time": "2023-02-21T16:18:12.243Z"
      },
      {
        "duration": 199,
        "start_time": "2023-02-21T16:18:12.304Z"
      },
      {
        "duration": 17,
        "start_time": "2023-02-21T16:18:12.505Z"
      },
      {
        "duration": 46,
        "start_time": "2023-02-21T16:18:12.525Z"
      },
      {
        "duration": 57,
        "start_time": "2023-02-21T16:18:12.576Z"
      },
      {
        "duration": 28,
        "start_time": "2023-02-21T16:18:12.634Z"
      },
      {
        "duration": 213,
        "start_time": "2023-02-21T16:18:12.663Z"
      },
      {
        "duration": 199,
        "start_time": "2023-02-21T16:18:12.879Z"
      },
      {
        "duration": 160,
        "start_time": "2023-02-21T16:18:13.080Z"
      },
      {
        "duration": 276,
        "start_time": "2023-02-21T16:18:13.242Z"
      },
      {
        "duration": 21,
        "start_time": "2023-02-21T16:18:13.520Z"
      },
      {
        "duration": 11,
        "start_time": "2023-02-21T16:18:13.543Z"
      },
      {
        "duration": 15,
        "start_time": "2023-02-21T16:18:13.556Z"
      },
      {
        "duration": 167,
        "start_time": "2023-02-21T16:18:13.572Z"
      },
      {
        "duration": 10,
        "start_time": "2023-02-21T16:18:13.741Z"
      },
      {
        "duration": 147,
        "start_time": "2023-02-21T16:18:13.753Z"
      },
      {
        "duration": 13,
        "start_time": "2023-02-21T16:18:13.901Z"
      },
      {
        "duration": 351,
        "start_time": "2023-02-21T16:18:13.916Z"
      },
      {
        "duration": 11,
        "start_time": "2023-02-21T16:18:14.269Z"
      },
      {
        "duration": 276,
        "start_time": "2023-02-21T16:18:14.282Z"
      },
      {
        "duration": 12,
        "start_time": "2023-02-21T16:18:14.560Z"
      },
      {
        "duration": 10,
        "start_time": "2023-02-21T16:18:14.573Z"
      },
      {
        "duration": 9,
        "start_time": "2023-02-21T16:18:14.585Z"
      },
      {
        "duration": 22,
        "start_time": "2023-02-21T16:18:14.595Z"
      },
      {
        "duration": 30,
        "start_time": "2023-02-21T16:18:14.619Z"
      },
      {
        "duration": 19,
        "start_time": "2023-02-21T16:18:14.651Z"
      },
      {
        "duration": 56,
        "start_time": "2023-02-21T16:18:14.672Z"
      },
      {
        "duration": 38,
        "start_time": "2023-02-21T16:18:14.730Z"
      },
      {
        "duration": 14,
        "start_time": "2023-02-21T16:18:14.770Z"
      },
      {
        "duration": 41,
        "start_time": "2023-02-21T16:18:14.785Z"
      },
      {
        "duration": 28,
        "start_time": "2023-02-21T16:18:14.828Z"
      },
      {
        "duration": 44,
        "start_time": "2023-02-21T16:18:14.858Z"
      },
      {
        "duration": 38,
        "start_time": "2023-02-21T16:18:14.904Z"
      },
      {
        "duration": 1539,
        "start_time": "2023-02-21T17:39:40.603Z"
      },
      {
        "duration": 1604,
        "start_time": "2023-02-21T17:39:42.145Z"
      },
      {
        "duration": 94,
        "start_time": "2023-02-21T17:39:43.751Z"
      },
      {
        "duration": 119,
        "start_time": "2023-02-21T17:39:43.848Z"
      },
      {
        "duration": 63,
        "start_time": "2023-02-21T17:39:43.969Z"
      },
      {
        "duration": 10,
        "start_time": "2023-02-21T17:39:44.034Z"
      },
      {
        "duration": 22,
        "start_time": "2023-02-21T17:39:44.046Z"
      },
      {
        "duration": 75,
        "start_time": "2023-02-21T17:39:44.070Z"
      },
      {
        "duration": 236,
        "start_time": "2023-02-21T17:39:44.147Z"
      },
      {
        "duration": 19,
        "start_time": "2023-02-21T17:39:44.386Z"
      },
      {
        "duration": 9,
        "start_time": "2023-02-21T17:39:44.407Z"
      },
      {
        "duration": 11,
        "start_time": "2023-02-21T17:39:44.418Z"
      },
      {
        "duration": 4,
        "start_time": "2023-02-21T17:39:44.431Z"
      },
      {
        "duration": 7,
        "start_time": "2023-02-21T17:39:44.436Z"
      },
      {
        "duration": 8,
        "start_time": "2023-02-21T17:39:44.444Z"
      },
      {
        "duration": 7,
        "start_time": "2023-02-21T17:39:44.453Z"
      },
      {
        "duration": 9,
        "start_time": "2023-02-21T17:39:44.461Z"
      },
      {
        "duration": 51,
        "start_time": "2023-02-21T17:39:44.471Z"
      },
      {
        "duration": 7,
        "start_time": "2023-02-21T17:39:44.524Z"
      },
      {
        "duration": 22,
        "start_time": "2023-02-21T17:39:44.533Z"
      },
      {
        "duration": 53,
        "start_time": "2023-02-21T17:39:44.556Z"
      },
      {
        "duration": 7,
        "start_time": "2023-02-21T17:39:44.610Z"
      },
      {
        "duration": 16,
        "start_time": "2023-02-21T17:39:44.619Z"
      },
      {
        "duration": 31,
        "start_time": "2023-02-21T17:39:44.637Z"
      },
      {
        "duration": 6,
        "start_time": "2023-02-21T17:39:44.670Z"
      },
      {
        "duration": 15,
        "start_time": "2023-02-21T17:39:44.702Z"
      },
      {
        "duration": 130,
        "start_time": "2023-02-21T17:39:44.718Z"
      },
      {
        "duration": 11,
        "start_time": "2023-02-21T17:39:44.852Z"
      },
      {
        "duration": 6,
        "start_time": "2023-02-21T17:39:44.865Z"
      },
      {
        "duration": 32,
        "start_time": "2023-02-21T17:39:44.873Z"
      },
      {
        "duration": 17,
        "start_time": "2023-02-21T17:39:44.906Z"
      },
      {
        "duration": 32,
        "start_time": "2023-02-21T17:39:44.925Z"
      },
      {
        "duration": 133,
        "start_time": "2023-02-21T17:39:44.959Z"
      },
      {
        "duration": 18,
        "start_time": "2023-02-21T17:39:45.093Z"
      },
      {
        "duration": 14,
        "start_time": "2023-02-21T17:39:45.113Z"
      },
      {
        "duration": 12,
        "start_time": "2023-02-21T17:39:45.128Z"
      },
      {
        "duration": 16,
        "start_time": "2023-02-21T17:39:45.142Z"
      },
      {
        "duration": 200,
        "start_time": "2023-02-21T17:39:45.160Z"
      },
      {
        "duration": 13,
        "start_time": "2023-02-21T17:39:45.362Z"
      },
      {
        "duration": 9,
        "start_time": "2023-02-21T17:39:45.377Z"
      },
      {
        "duration": 21,
        "start_time": "2023-02-21T17:39:45.402Z"
      },
      {
        "duration": 6,
        "start_time": "2023-02-21T17:39:45.425Z"
      },
      {
        "duration": 184,
        "start_time": "2023-02-21T17:39:45.433Z"
      },
      {
        "duration": 203,
        "start_time": "2023-02-21T17:39:45.619Z"
      },
      {
        "duration": 411,
        "start_time": "2023-02-21T17:39:45.824Z"
      },
      {
        "duration": 238,
        "start_time": "2023-02-21T17:39:46.237Z"
      },
      {
        "duration": 12,
        "start_time": "2023-02-21T17:39:46.477Z"
      },
      {
        "duration": 11,
        "start_time": "2023-02-21T17:39:46.503Z"
      },
      {
        "duration": 7,
        "start_time": "2023-02-21T17:39:46.516Z"
      },
      {
        "duration": 153,
        "start_time": "2023-02-21T17:39:46.524Z"
      },
      {
        "duration": 9,
        "start_time": "2023-02-21T17:39:46.679Z"
      },
      {
        "duration": 120,
        "start_time": "2023-02-21T17:39:46.690Z"
      },
      {
        "duration": 10,
        "start_time": "2023-02-21T17:39:46.812Z"
      },
      {
        "duration": 329,
        "start_time": "2023-02-21T17:39:46.824Z"
      },
      {
        "duration": 12,
        "start_time": "2023-02-21T17:39:47.154Z"
      },
      {
        "duration": 280,
        "start_time": "2023-02-21T17:39:47.168Z"
      },
      {
        "duration": 12,
        "start_time": "2023-02-21T17:39:47.450Z"
      },
      {
        "duration": 8,
        "start_time": "2023-02-21T17:39:47.464Z"
      },
      {
        "duration": 6,
        "start_time": "2023-02-21T17:39:47.474Z"
      },
      {
        "duration": 24,
        "start_time": "2023-02-21T17:39:47.481Z"
      },
      {
        "duration": 19,
        "start_time": "2023-02-21T17:39:47.506Z"
      },
      {
        "duration": 5,
        "start_time": "2023-02-21T17:39:47.527Z"
      },
      {
        "duration": 10,
        "start_time": "2023-02-21T17:39:47.533Z"
      },
      {
        "duration": 10,
        "start_time": "2023-02-21T17:39:47.545Z"
      },
      {
        "duration": 5,
        "start_time": "2023-02-21T17:39:47.557Z"
      },
      {
        "duration": 17,
        "start_time": "2023-02-21T17:39:47.564Z"
      },
      {
        "duration": 23,
        "start_time": "2023-02-21T17:39:47.583Z"
      },
      {
        "duration": 9,
        "start_time": "2023-02-21T17:39:47.608Z"
      },
      {
        "duration": 8,
        "start_time": "2023-02-21T17:39:47.618Z"
      },
      {
        "duration": 1334,
        "start_time": "2023-02-21T18:12:24.754Z"
      },
      {
        "duration": 1084,
        "start_time": "2023-02-21T18:12:26.090Z"
      },
      {
        "duration": 93,
        "start_time": "2023-02-21T18:12:27.175Z"
      },
      {
        "duration": 110,
        "start_time": "2023-02-21T18:12:27.270Z"
      },
      {
        "duration": 52,
        "start_time": "2023-02-21T18:12:27.381Z"
      },
      {
        "duration": 9,
        "start_time": "2023-02-21T18:12:27.434Z"
      },
      {
        "duration": 27,
        "start_time": "2023-02-21T18:12:27.444Z"
      },
      {
        "duration": 39,
        "start_time": "2023-02-21T18:12:27.473Z"
      },
      {
        "duration": 187,
        "start_time": "2023-02-21T18:12:27.513Z"
      },
      {
        "duration": 7,
        "start_time": "2023-02-21T18:12:27.703Z"
      },
      {
        "duration": 33,
        "start_time": "2023-02-21T18:12:27.711Z"
      },
      {
        "duration": 16,
        "start_time": "2023-02-21T18:12:27.746Z"
      },
      {
        "duration": 7,
        "start_time": "2023-02-21T18:12:27.764Z"
      },
      {
        "duration": 15,
        "start_time": "2023-02-21T18:12:27.773Z"
      },
      {
        "duration": 7,
        "start_time": "2023-02-21T18:12:27.790Z"
      },
      {
        "duration": 11,
        "start_time": "2023-02-21T18:12:27.798Z"
      },
      {
        "duration": 7,
        "start_time": "2023-02-21T18:12:27.810Z"
      },
      {
        "duration": 19,
        "start_time": "2023-02-21T18:12:27.819Z"
      },
      {
        "duration": 25,
        "start_time": "2023-02-21T18:12:27.839Z"
      },
      {
        "duration": 19,
        "start_time": "2023-02-21T18:12:27.865Z"
      },
      {
        "duration": 21,
        "start_time": "2023-02-21T18:12:27.886Z"
      },
      {
        "duration": 8,
        "start_time": "2023-02-21T18:12:27.908Z"
      },
      {
        "duration": 18,
        "start_time": "2023-02-21T18:12:27.918Z"
      },
      {
        "duration": 26,
        "start_time": "2023-02-21T18:12:27.962Z"
      },
      {
        "duration": 5,
        "start_time": "2023-02-21T18:12:27.990Z"
      },
      {
        "duration": 13,
        "start_time": "2023-02-21T18:12:27.997Z"
      },
      {
        "duration": 72,
        "start_time": "2023-02-21T18:12:33.865Z"
      },
      {
        "duration": 14,
        "start_time": "2023-02-21T18:12:35.621Z"
      },
      {
        "duration": 1129,
        "start_time": "2023-02-21T18:12:57.806Z"
      },
      {
        "duration": 1048,
        "start_time": "2023-02-21T18:12:58.937Z"
      },
      {
        "duration": 94,
        "start_time": "2023-02-21T18:12:59.986Z"
      },
      {
        "duration": 113,
        "start_time": "2023-02-21T18:13:00.082Z"
      },
      {
        "duration": 65,
        "start_time": "2023-02-21T18:13:00.197Z"
      },
      {
        "duration": 10,
        "start_time": "2023-02-21T18:13:00.264Z"
      },
      {
        "duration": 39,
        "start_time": "2023-02-21T18:13:00.275Z"
      },
      {
        "duration": 62,
        "start_time": "2023-02-21T18:13:00.316Z"
      },
      {
        "duration": 211,
        "start_time": "2023-02-21T18:13:00.379Z"
      },
      {
        "duration": 7,
        "start_time": "2023-02-21T18:13:00.592Z"
      },
      {
        "duration": 17,
        "start_time": "2023-02-21T18:13:00.601Z"
      },
      {
        "duration": 31,
        "start_time": "2023-02-21T18:13:00.619Z"
      },
      {
        "duration": 31,
        "start_time": "2023-02-21T18:13:00.652Z"
      },
      {
        "duration": 32,
        "start_time": "2023-02-21T18:13:00.685Z"
      },
      {
        "duration": 36,
        "start_time": "2023-02-21T18:13:00.718Z"
      },
      {
        "duration": 68,
        "start_time": "2023-02-21T18:13:00.756Z"
      },
      {
        "duration": 58,
        "start_time": "2023-02-21T18:13:00.826Z"
      },
      {
        "duration": 54,
        "start_time": "2023-02-21T18:13:00.885Z"
      },
      {
        "duration": 29,
        "start_time": "2023-02-21T18:13:00.941Z"
      },
      {
        "duration": 32,
        "start_time": "2023-02-21T18:13:00.972Z"
      },
      {
        "duration": 25,
        "start_time": "2023-02-21T18:13:01.006Z"
      },
      {
        "duration": 20,
        "start_time": "2023-02-21T18:13:01.034Z"
      },
      {
        "duration": 37,
        "start_time": "2023-02-21T18:13:01.056Z"
      },
      {
        "duration": 63,
        "start_time": "2023-02-21T18:13:01.094Z"
      },
      {
        "duration": 35,
        "start_time": "2023-02-21T18:13:01.159Z"
      },
      {
        "duration": 41,
        "start_time": "2023-02-21T18:13:01.196Z"
      },
      {
        "duration": 147,
        "start_time": "2023-02-21T18:13:01.239Z"
      },
      {
        "duration": 34,
        "start_time": "2023-02-21T18:13:01.390Z"
      },
      {
        "duration": 36,
        "start_time": "2023-02-21T18:13:01.426Z"
      },
      {
        "duration": 8,
        "start_time": "2023-02-21T18:13:01.465Z"
      },
      {
        "duration": 21,
        "start_time": "2023-02-21T18:13:01.475Z"
      },
      {
        "duration": 74,
        "start_time": "2023-02-21T18:13:01.498Z"
      },
      {
        "duration": 95,
        "start_time": "2023-02-21T18:13:01.575Z"
      },
      {
        "duration": 300,
        "start_time": "2023-02-21T18:13:01.672Z"
      },
      {
        "duration": 18,
        "start_time": "2023-02-21T18:13:01.975Z"
      },
      {
        "duration": 12,
        "start_time": "2023-02-21T18:13:01.996Z"
      },
      {
        "duration": 26,
        "start_time": "2023-02-21T18:13:02.062Z"
      },
      {
        "duration": 25,
        "start_time": "2023-02-21T18:13:02.090Z"
      },
      {
        "duration": 263,
        "start_time": "2023-02-21T18:13:02.117Z"
      },
      {
        "duration": 15,
        "start_time": "2023-02-21T18:13:02.382Z"
      },
      {
        "duration": 67,
        "start_time": "2023-02-21T18:13:02.399Z"
      },
      {
        "duration": 29,
        "start_time": "2023-02-21T18:13:02.468Z"
      },
      {
        "duration": 8,
        "start_time": "2023-02-21T18:13:02.499Z"
      },
      {
        "duration": 332,
        "start_time": "2023-02-21T18:13:02.562Z"
      },
      {
        "duration": 591,
        "start_time": "2023-02-21T18:13:02.896Z"
      },
      {
        "duration": 225,
        "start_time": "2023-02-21T18:13:03.489Z"
      },
      {
        "duration": 320,
        "start_time": "2023-02-21T18:13:03.716Z"
      },
      {
        "duration": 13,
        "start_time": "2023-02-21T18:13:04.038Z"
      },
      {
        "duration": 10,
        "start_time": "2023-02-21T18:13:04.062Z"
      },
      {
        "duration": 16,
        "start_time": "2023-02-21T18:13:04.074Z"
      },
      {
        "duration": 134,
        "start_time": "2023-02-21T18:13:04.092Z"
      },
      {
        "duration": 10,
        "start_time": "2023-02-21T18:13:04.228Z"
      },
      {
        "duration": 105,
        "start_time": "2023-02-21T18:13:04.239Z"
      },
      {
        "duration": 11,
        "start_time": "2023-02-21T18:13:04.346Z"
      },
      {
        "duration": 340,
        "start_time": "2023-02-21T18:13:04.361Z"
      },
      {
        "duration": 16,
        "start_time": "2023-02-21T18:13:04.703Z"
      },
      {
        "duration": 274,
        "start_time": "2023-02-21T18:13:04.722Z"
      },
      {
        "duration": 18,
        "start_time": "2023-02-21T18:13:04.997Z"
      },
      {
        "duration": 10,
        "start_time": "2023-02-21T18:13:05.018Z"
      },
      {
        "duration": 6,
        "start_time": "2023-02-21T18:13:05.029Z"
      },
      {
        "duration": 41,
        "start_time": "2023-02-21T18:13:05.036Z"
      },
      {
        "duration": 43,
        "start_time": "2023-02-21T18:13:05.079Z"
      },
      {
        "duration": 5,
        "start_time": "2023-02-21T18:13:05.124Z"
      },
      {
        "duration": 9,
        "start_time": "2023-02-21T18:13:05.130Z"
      },
      {
        "duration": 8,
        "start_time": "2023-02-21T18:13:05.140Z"
      },
      {
        "duration": 10,
        "start_time": "2023-02-21T18:13:05.149Z"
      },
      {
        "duration": 18,
        "start_time": "2023-02-21T18:13:05.161Z"
      },
      {
        "duration": 15,
        "start_time": "2023-02-21T18:13:05.181Z"
      },
      {
        "duration": 17,
        "start_time": "2023-02-21T18:13:05.198Z"
      },
      {
        "duration": 7,
        "start_time": "2023-02-21T18:13:05.217Z"
      },
      {
        "duration": 18,
        "start_time": "2023-02-21T18:15:53.227Z"
      },
      {
        "duration": 18,
        "start_time": "2023-02-21T18:15:58.362Z"
      },
      {
        "duration": 23,
        "start_time": "2023-02-21T18:17:20.735Z"
      },
      {
        "duration": 24,
        "start_time": "2023-02-21T18:18:25.521Z"
      },
      {
        "duration": 416,
        "start_time": "2023-02-21T18:18:47.955Z"
      },
      {
        "duration": 24,
        "start_time": "2023-02-21T18:18:51.318Z"
      },
      {
        "duration": 23,
        "start_time": "2023-02-21T18:18:53.220Z"
      },
      {
        "duration": 20,
        "start_time": "2023-02-21T18:19:15.592Z"
      },
      {
        "duration": 14,
        "start_time": "2023-02-21T18:20:35.278Z"
      },
      {
        "duration": 12,
        "start_time": "2023-02-21T18:20:38.656Z"
      },
      {
        "duration": 71,
        "start_time": "2023-02-21T18:22:31.763Z"
      },
      {
        "duration": 22,
        "start_time": "2023-02-21T18:22:35.283Z"
      },
      {
        "duration": 5,
        "start_time": "2023-02-21T18:23:43.713Z"
      },
      {
        "duration": 8,
        "start_time": "2023-02-21T18:23:46.826Z"
      },
      {
        "duration": 11,
        "start_time": "2023-02-21T18:23:49.826Z"
      },
      {
        "duration": 8,
        "start_time": "2023-02-21T18:24:03.812Z"
      },
      {
        "duration": 4,
        "start_time": "2023-02-21T18:24:08.533Z"
      },
      {
        "duration": 4,
        "start_time": "2023-02-21T18:24:34.149Z"
      },
      {
        "duration": 16,
        "start_time": "2023-02-21T18:24:45.854Z"
      },
      {
        "duration": 22,
        "start_time": "2023-02-21T18:24:48.553Z"
      },
      {
        "duration": 21,
        "start_time": "2023-02-21T18:24:55.515Z"
      },
      {
        "duration": 1150,
        "start_time": "2023-02-21T18:25:00.104Z"
      },
      {
        "duration": 1095,
        "start_time": "2023-02-21T18:25:01.256Z"
      },
      {
        "duration": 99,
        "start_time": "2023-02-21T18:25:02.353Z"
      },
      {
        "duration": 119,
        "start_time": "2023-02-21T18:25:02.453Z"
      },
      {
        "duration": 59,
        "start_time": "2023-02-21T18:25:02.574Z"
      },
      {
        "duration": 9,
        "start_time": "2023-02-21T18:25:02.635Z"
      },
      {
        "duration": 48,
        "start_time": "2023-02-21T18:25:02.646Z"
      },
      {
        "duration": 55,
        "start_time": "2023-02-21T18:25:02.695Z"
      },
      {
        "duration": 171,
        "start_time": "2023-02-21T18:25:02.752Z"
      },
      {
        "duration": 7,
        "start_time": "2023-02-21T18:25:02.925Z"
      },
      {
        "duration": 22,
        "start_time": "2023-02-21T18:25:02.934Z"
      },
      {
        "duration": 10,
        "start_time": "2023-02-21T18:25:02.958Z"
      },
      {
        "duration": 9,
        "start_time": "2023-02-21T18:25:02.970Z"
      },
      {
        "duration": 16,
        "start_time": "2023-02-21T18:25:02.981Z"
      },
      {
        "duration": 9,
        "start_time": "2023-02-21T18:25:02.998Z"
      },
      {
        "duration": 7,
        "start_time": "2023-02-21T18:25:03.009Z"
      },
      {
        "duration": 9,
        "start_time": "2023-02-21T18:25:03.018Z"
      },
      {
        "duration": 28,
        "start_time": "2023-02-21T18:25:03.028Z"
      },
      {
        "duration": 6,
        "start_time": "2023-02-21T18:25:03.061Z"
      },
      {
        "duration": 20,
        "start_time": "2023-02-21T18:25:03.068Z"
      },
      {
        "duration": 19,
        "start_time": "2023-02-21T18:25:03.089Z"
      },
      {
        "duration": 6,
        "start_time": "2023-02-21T18:25:03.109Z"
      },
      {
        "duration": 18,
        "start_time": "2023-02-21T18:25:03.116Z"
      },
      {
        "duration": 56,
        "start_time": "2023-02-21T18:25:03.135Z"
      },
      {
        "duration": 5,
        "start_time": "2023-02-21T18:25:03.192Z"
      },
      {
        "duration": 19,
        "start_time": "2023-02-21T18:25:03.199Z"
      },
      {
        "duration": 103,
        "start_time": "2023-02-21T18:25:03.220Z"
      },
      {
        "duration": 19,
        "start_time": "2023-02-21T18:25:03.325Z"
      },
      {
        "duration": 23,
        "start_time": "2023-02-21T18:25:03.346Z"
      },
      {
        "duration": 4,
        "start_time": "2023-02-21T18:25:03.371Z"
      },
      {
        "duration": 22,
        "start_time": "2023-02-21T18:25:03.376Z"
      },
      {
        "duration": 20,
        "start_time": "2023-02-21T18:25:03.399Z"
      },
      {
        "duration": 6,
        "start_time": "2023-02-21T18:25:03.420Z"
      },
      {
        "duration": 29,
        "start_time": "2023-02-21T18:25:03.427Z"
      },
      {
        "duration": 20,
        "start_time": "2023-02-21T18:25:03.457Z"
      },
      {
        "duration": 24,
        "start_time": "2023-02-21T18:25:03.478Z"
      },
      {
        "duration": 104,
        "start_time": "2023-02-21T18:25:03.503Z"
      },
      {
        "duration": 12,
        "start_time": "2023-02-21T18:25:03.608Z"
      },
      {
        "duration": 28,
        "start_time": "2023-02-21T18:25:03.621Z"
      },
      {
        "duration": 30,
        "start_time": "2023-02-21T18:25:03.650Z"
      },
      {
        "duration": 10,
        "start_time": "2023-02-21T18:25:03.684Z"
      },
      {
        "duration": 130,
        "start_time": "2023-02-21T18:25:03.696Z"
      },
      {
        "duration": 12,
        "start_time": "2023-02-21T18:25:03.828Z"
      },
      {
        "duration": 20,
        "start_time": "2023-02-21T18:25:03.842Z"
      },
      {
        "duration": 28,
        "start_time": "2023-02-21T18:25:03.863Z"
      },
      {
        "duration": 7,
        "start_time": "2023-02-21T18:25:03.892Z"
      },
      {
        "duration": 177,
        "start_time": "2023-02-21T18:25:03.901Z"
      },
      {
        "duration": 217,
        "start_time": "2023-02-21T18:25:04.080Z"
      },
      {
        "duration": 156,
        "start_time": "2023-02-21T18:25:04.298Z"
      },
      {
        "duration": 333,
        "start_time": "2023-02-21T18:25:04.455Z"
      },
      {
        "duration": 16,
        "start_time": "2023-02-21T18:25:04.790Z"
      },
      {
        "duration": 11,
        "start_time": "2023-02-21T18:25:04.808Z"
      },
      {
        "duration": 16,
        "start_time": "2023-02-21T18:25:04.821Z"
      },
      {
        "duration": 128,
        "start_time": "2023-02-21T18:25:04.838Z"
      },
      {
        "duration": 1385,
        "start_time": "2023-02-21T18:25:04.967Z"
      },
      {
        "duration": 0,
        "start_time": "2023-02-21T18:25:06.354Z"
      },
      {
        "duration": 0,
        "start_time": "2023-02-21T18:25:06.355Z"
      },
      {
        "duration": 0,
        "start_time": "2023-02-21T18:25:06.356Z"
      },
      {
        "duration": 0,
        "start_time": "2023-02-21T18:25:06.357Z"
      },
      {
        "duration": 0,
        "start_time": "2023-02-21T18:25:06.358Z"
      },
      {
        "duration": 0,
        "start_time": "2023-02-21T18:25:06.359Z"
      },
      {
        "duration": 0,
        "start_time": "2023-02-21T18:25:06.360Z"
      },
      {
        "duration": 0,
        "start_time": "2023-02-21T18:25:06.361Z"
      },
      {
        "duration": 0,
        "start_time": "2023-02-21T18:25:06.362Z"
      },
      {
        "duration": 0,
        "start_time": "2023-02-21T18:25:06.363Z"
      },
      {
        "duration": 0,
        "start_time": "2023-02-21T18:25:06.365Z"
      },
      {
        "duration": 0,
        "start_time": "2023-02-21T18:25:06.366Z"
      },
      {
        "duration": 0,
        "start_time": "2023-02-21T18:25:06.367Z"
      },
      {
        "duration": 0,
        "start_time": "2023-02-21T18:25:06.367Z"
      },
      {
        "duration": 0,
        "start_time": "2023-02-21T18:25:06.368Z"
      },
      {
        "duration": 0,
        "start_time": "2023-02-21T18:25:06.370Z"
      },
      {
        "duration": 0,
        "start_time": "2023-02-21T18:25:06.370Z"
      },
      {
        "duration": 0,
        "start_time": "2023-02-21T18:25:06.372Z"
      },
      {
        "duration": 3,
        "start_time": "2023-02-21T18:25:19.914Z"
      },
      {
        "duration": 7,
        "start_time": "2023-02-21T18:25:22.564Z"
      },
      {
        "duration": 12,
        "start_time": "2023-02-21T18:25:25.657Z"
      },
      {
        "duration": 14,
        "start_time": "2023-02-21T18:25:34.416Z"
      },
      {
        "duration": 1133,
        "start_time": "2023-02-21T18:25:38.107Z"
      },
      {
        "duration": 1480,
        "start_time": "2023-02-21T18:25:39.242Z"
      },
      {
        "duration": 129,
        "start_time": "2023-02-21T18:25:40.724Z"
      },
      {
        "duration": 115,
        "start_time": "2023-02-21T18:25:40.855Z"
      },
      {
        "duration": 51,
        "start_time": "2023-02-21T18:25:40.971Z"
      },
      {
        "duration": 8,
        "start_time": "2023-02-21T18:25:41.024Z"
      },
      {
        "duration": 32,
        "start_time": "2023-02-21T18:25:41.034Z"
      },
      {
        "duration": 41,
        "start_time": "2023-02-21T18:25:41.068Z"
      },
      {
        "duration": 188,
        "start_time": "2023-02-21T18:25:41.111Z"
      },
      {
        "duration": 7,
        "start_time": "2023-02-21T18:25:41.301Z"
      },
      {
        "duration": 9,
        "start_time": "2023-02-21T18:25:41.310Z"
      },
      {
        "duration": 10,
        "start_time": "2023-02-21T18:25:41.320Z"
      },
      {
        "duration": 10,
        "start_time": "2023-02-21T18:25:41.332Z"
      },
      {
        "duration": 22,
        "start_time": "2023-02-21T18:25:41.343Z"
      },
      {
        "duration": 8,
        "start_time": "2023-02-21T18:25:41.367Z"
      },
      {
        "duration": 13,
        "start_time": "2023-02-21T18:25:41.376Z"
      },
      {
        "duration": 11,
        "start_time": "2023-02-21T18:25:41.390Z"
      },
      {
        "duration": 20,
        "start_time": "2023-02-21T18:25:41.403Z"
      },
      {
        "duration": 7,
        "start_time": "2023-02-21T18:25:41.425Z"
      },
      {
        "duration": 20,
        "start_time": "2023-02-21T18:25:41.461Z"
      },
      {
        "duration": 22,
        "start_time": "2023-02-21T18:25:41.482Z"
      },
      {
        "duration": 6,
        "start_time": "2023-02-21T18:25:41.505Z"
      },
      {
        "duration": 19,
        "start_time": "2023-02-21T18:25:41.513Z"
      },
      {
        "duration": 50,
        "start_time": "2023-02-21T18:25:41.534Z"
      },
      {
        "duration": 6,
        "start_time": "2023-02-21T18:25:41.586Z"
      },
      {
        "duration": 17,
        "start_time": "2023-02-21T18:25:41.593Z"
      },
      {
        "duration": 118,
        "start_time": "2023-02-21T18:25:41.612Z"
      },
      {
        "duration": 15,
        "start_time": "2023-02-21T18:25:41.734Z"
      },
      {
        "duration": 22,
        "start_time": "2023-02-21T18:25:41.750Z"
      },
      {
        "duration": 5,
        "start_time": "2023-02-21T18:25:41.773Z"
      },
      {
        "duration": 22,
        "start_time": "2023-02-21T18:25:41.779Z"
      },
      {
        "duration": 14,
        "start_time": "2023-02-21T18:25:41.802Z"
      },
      {
        "duration": 5,
        "start_time": "2023-02-21T18:25:41.817Z"
      },
      {
        "duration": 12,
        "start_time": "2023-02-21T18:25:41.823Z"
      },
      {
        "duration": 12,
        "start_time": "2023-02-21T18:25:41.860Z"
      },
      {
        "duration": 24,
        "start_time": "2023-02-21T18:25:41.874Z"
      },
      {
        "duration": 114,
        "start_time": "2023-02-21T18:25:41.900Z"
      },
      {
        "duration": 12,
        "start_time": "2023-02-21T18:25:42.015Z"
      },
      {
        "duration": 11,
        "start_time": "2023-02-21T18:25:42.028Z"
      },
      {
        "duration": 22,
        "start_time": "2023-02-21T18:25:42.040Z"
      },
      {
        "duration": 8,
        "start_time": "2023-02-21T18:25:42.064Z"
      },
      {
        "duration": 126,
        "start_time": "2023-02-21T18:25:42.074Z"
      },
      {
        "duration": 12,
        "start_time": "2023-02-21T18:25:42.202Z"
      },
      {
        "duration": 9,
        "start_time": "2023-02-21T18:25:42.216Z"
      },
      {
        "duration": 38,
        "start_time": "2023-02-21T18:25:42.227Z"
      },
      {
        "duration": 7,
        "start_time": "2023-02-21T18:25:42.267Z"
      },
      {
        "duration": 172,
        "start_time": "2023-02-21T18:25:42.275Z"
      },
      {
        "duration": 229,
        "start_time": "2023-02-21T18:25:42.449Z"
      },
      {
        "duration": 151,
        "start_time": "2023-02-21T18:25:42.680Z"
      },
      {
        "duration": 302,
        "start_time": "2023-02-21T18:25:42.833Z"
      },
      {
        "duration": 12,
        "start_time": "2023-02-21T18:25:43.137Z"
      },
      {
        "duration": 18,
        "start_time": "2023-02-21T18:25:43.151Z"
      },
      {
        "duration": 8,
        "start_time": "2023-02-21T18:25:43.170Z"
      },
      {
        "duration": 130,
        "start_time": "2023-02-21T18:25:43.179Z"
      },
      {
        "duration": 1222,
        "start_time": "2023-02-21T18:25:43.311Z"
      },
      {
        "duration": 0,
        "start_time": "2023-02-21T18:25:44.535Z"
      },
      {
        "duration": 0,
        "start_time": "2023-02-21T18:25:44.536Z"
      },
      {
        "duration": 0,
        "start_time": "2023-02-21T18:25:44.537Z"
      },
      {
        "duration": 0,
        "start_time": "2023-02-21T18:25:44.538Z"
      },
      {
        "duration": 0,
        "start_time": "2023-02-21T18:25:44.539Z"
      },
      {
        "duration": 0,
        "start_time": "2023-02-21T18:25:44.540Z"
      },
      {
        "duration": 1,
        "start_time": "2023-02-21T18:25:44.541Z"
      },
      {
        "duration": 0,
        "start_time": "2023-02-21T18:25:44.543Z"
      },
      {
        "duration": 0,
        "start_time": "2023-02-21T18:25:44.544Z"
      },
      {
        "duration": 0,
        "start_time": "2023-02-21T18:25:44.546Z"
      },
      {
        "duration": 0,
        "start_time": "2023-02-21T18:25:44.546Z"
      },
      {
        "duration": 0,
        "start_time": "2023-02-21T18:25:44.548Z"
      },
      {
        "duration": 0,
        "start_time": "2023-02-21T18:25:44.548Z"
      },
      {
        "duration": 0,
        "start_time": "2023-02-21T18:25:44.550Z"
      },
      {
        "duration": 0,
        "start_time": "2023-02-21T18:25:44.551Z"
      },
      {
        "duration": 0,
        "start_time": "2023-02-21T18:25:44.552Z"
      },
      {
        "duration": 0,
        "start_time": "2023-02-21T18:25:44.553Z"
      },
      {
        "duration": 0,
        "start_time": "2023-02-21T18:25:44.554Z"
      },
      {
        "duration": 30,
        "start_time": "2023-02-21T18:25:59.098Z"
      },
      {
        "duration": 8,
        "start_time": "2023-02-21T18:26:12.767Z"
      },
      {
        "duration": 1160,
        "start_time": "2023-02-21T18:26:19.994Z"
      },
      {
        "duration": 924,
        "start_time": "2023-02-21T18:26:21.156Z"
      },
      {
        "duration": 93,
        "start_time": "2023-02-21T18:26:22.081Z"
      },
      {
        "duration": 112,
        "start_time": "2023-02-21T18:26:22.176Z"
      },
      {
        "duration": 52,
        "start_time": "2023-02-21T18:26:22.289Z"
      },
      {
        "duration": 20,
        "start_time": "2023-02-21T18:26:22.342Z"
      },
      {
        "duration": 12,
        "start_time": "2023-02-21T18:26:22.364Z"
      },
      {
        "duration": 41,
        "start_time": "2023-02-21T18:26:22.378Z"
      },
      {
        "duration": 206,
        "start_time": "2023-02-21T18:26:22.421Z"
      },
      {
        "duration": 8,
        "start_time": "2023-02-21T18:26:22.631Z"
      },
      {
        "duration": 25,
        "start_time": "2023-02-21T18:26:22.640Z"
      },
      {
        "duration": 13,
        "start_time": "2023-02-21T18:26:22.667Z"
      },
      {
        "duration": 5,
        "start_time": "2023-02-21T18:26:22.682Z"
      },
      {
        "duration": 8,
        "start_time": "2023-02-21T18:26:22.688Z"
      },
      {
        "duration": 11,
        "start_time": "2023-02-21T18:26:22.698Z"
      },
      {
        "duration": 8,
        "start_time": "2023-02-21T18:26:22.710Z"
      },
      {
        "duration": 11,
        "start_time": "2023-02-21T18:26:22.719Z"
      },
      {
        "duration": 35,
        "start_time": "2023-02-21T18:26:22.731Z"
      },
      {
        "duration": 7,
        "start_time": "2023-02-21T18:26:22.767Z"
      },
      {
        "duration": 23,
        "start_time": "2023-02-21T18:26:22.775Z"
      },
      {
        "duration": 22,
        "start_time": "2023-02-21T18:26:22.799Z"
      },
      {
        "duration": 6,
        "start_time": "2023-02-21T18:26:22.823Z"
      },
      {
        "duration": 38,
        "start_time": "2023-02-21T18:26:22.830Z"
      },
      {
        "duration": 31,
        "start_time": "2023-02-21T18:26:22.870Z"
      },
      {
        "duration": 6,
        "start_time": "2023-02-21T18:26:22.903Z"
      },
      {
        "duration": 17,
        "start_time": "2023-02-21T18:26:22.911Z"
      },
      {
        "duration": 119,
        "start_time": "2023-02-21T18:26:22.929Z"
      },
      {
        "duration": 8,
        "start_time": "2023-02-21T18:26:23.061Z"
      },
      {
        "duration": 15,
        "start_time": "2023-02-21T18:26:23.070Z"
      },
      {
        "duration": 4,
        "start_time": "2023-02-21T18:26:23.086Z"
      },
      {
        "duration": 18,
        "start_time": "2023-02-21T18:26:23.091Z"
      },
      {
        "duration": 7,
        "start_time": "2023-02-21T18:26:23.110Z"
      },
      {
        "duration": 13,
        "start_time": "2023-02-21T18:26:23.118Z"
      },
      {
        "duration": 32,
        "start_time": "2023-02-21T18:26:23.133Z"
      },
      {
        "duration": 27,
        "start_time": "2023-02-21T18:26:23.167Z"
      },
      {
        "duration": 28,
        "start_time": "2023-02-21T18:26:23.195Z"
      },
      {
        "duration": 89,
        "start_time": "2023-02-21T18:26:23.225Z"
      },
      {
        "duration": 13,
        "start_time": "2023-02-21T18:26:23.315Z"
      },
      {
        "duration": 15,
        "start_time": "2023-02-21T18:26:23.330Z"
      },
      {
        "duration": 24,
        "start_time": "2023-02-21T18:26:23.347Z"
      },
      {
        "duration": 8,
        "start_time": "2023-02-21T18:26:23.373Z"
      },
      {
        "duration": 118,
        "start_time": "2023-02-21T18:26:23.383Z"
      },
      {
        "duration": 13,
        "start_time": "2023-02-21T18:26:23.502Z"
      },
      {
        "duration": 9,
        "start_time": "2023-02-21T18:26:23.516Z"
      },
      {
        "duration": 34,
        "start_time": "2023-02-21T18:26:23.527Z"
      },
      {
        "duration": 5,
        "start_time": "2023-02-21T18:26:23.563Z"
      },
      {
        "duration": 161,
        "start_time": "2023-02-21T18:26:23.570Z"
      },
      {
        "duration": 217,
        "start_time": "2023-02-21T18:26:23.733Z"
      },
      {
        "duration": 150,
        "start_time": "2023-02-21T18:26:23.952Z"
      },
      {
        "duration": 301,
        "start_time": "2023-02-21T18:26:24.104Z"
      },
      {
        "duration": 12,
        "start_time": "2023-02-21T18:26:24.406Z"
      },
      {
        "duration": 12,
        "start_time": "2023-02-21T18:26:24.420Z"
      },
      {
        "duration": 7,
        "start_time": "2023-02-21T18:26:24.433Z"
      },
      {
        "duration": 141,
        "start_time": "2023-02-21T18:26:24.441Z"
      },
      {
        "duration": 1269,
        "start_time": "2023-02-21T18:26:24.584Z"
      },
      {
        "duration": 0,
        "start_time": "2023-02-21T18:26:25.855Z"
      },
      {
        "duration": 0,
        "start_time": "2023-02-21T18:26:25.856Z"
      },
      {
        "duration": 0,
        "start_time": "2023-02-21T18:26:25.857Z"
      },
      {
        "duration": 0,
        "start_time": "2023-02-21T18:26:25.859Z"
      },
      {
        "duration": 0,
        "start_time": "2023-02-21T18:26:25.860Z"
      },
      {
        "duration": 0,
        "start_time": "2023-02-21T18:26:25.861Z"
      },
      {
        "duration": 0,
        "start_time": "2023-02-21T18:26:25.863Z"
      },
      {
        "duration": 0,
        "start_time": "2023-02-21T18:26:25.864Z"
      },
      {
        "duration": 0,
        "start_time": "2023-02-21T18:26:25.866Z"
      },
      {
        "duration": 0,
        "start_time": "2023-02-21T18:26:25.867Z"
      },
      {
        "duration": 0,
        "start_time": "2023-02-21T18:26:25.868Z"
      },
      {
        "duration": 0,
        "start_time": "2023-02-21T18:26:25.869Z"
      },
      {
        "duration": 0,
        "start_time": "2023-02-21T18:26:25.870Z"
      },
      {
        "duration": 0,
        "start_time": "2023-02-21T18:26:25.871Z"
      },
      {
        "duration": 0,
        "start_time": "2023-02-21T18:26:25.872Z"
      },
      {
        "duration": 0,
        "start_time": "2023-02-21T18:26:25.873Z"
      },
      {
        "duration": 0,
        "start_time": "2023-02-21T18:26:25.874Z"
      },
      {
        "duration": 0,
        "start_time": "2023-02-21T18:26:25.875Z"
      },
      {
        "duration": 22,
        "start_time": "2023-02-21T18:29:09.085Z"
      },
      {
        "duration": 8,
        "start_time": "2023-02-21T18:29:13.775Z"
      },
      {
        "duration": 8,
        "start_time": "2023-02-21T18:29:17.079Z"
      },
      {
        "duration": 20,
        "start_time": "2023-02-21T18:29:18.262Z"
      },
      {
        "duration": 5,
        "start_time": "2023-02-21T18:29:33.099Z"
      },
      {
        "duration": 16,
        "start_time": "2023-02-21T18:30:03.765Z"
      },
      {
        "duration": 28,
        "start_time": "2023-02-21T18:32:32.489Z"
      },
      {
        "duration": 1200,
        "start_time": "2023-02-21T18:32:45.539Z"
      },
      {
        "duration": 1048,
        "start_time": "2023-02-21T18:32:46.741Z"
      },
      {
        "duration": 93,
        "start_time": "2023-02-21T18:32:47.791Z"
      },
      {
        "duration": 110,
        "start_time": "2023-02-21T18:32:47.886Z"
      },
      {
        "duration": 53,
        "start_time": "2023-02-21T18:32:47.998Z"
      },
      {
        "duration": 9,
        "start_time": "2023-02-21T18:32:48.062Z"
      },
      {
        "duration": 12,
        "start_time": "2023-02-21T18:32:48.072Z"
      },
      {
        "duration": 41,
        "start_time": "2023-02-21T18:32:48.086Z"
      },
      {
        "duration": 204,
        "start_time": "2023-02-21T18:32:48.128Z"
      },
      {
        "duration": 7,
        "start_time": "2023-02-21T18:32:48.336Z"
      },
      {
        "duration": 18,
        "start_time": "2023-02-21T18:32:48.344Z"
      },
      {
        "duration": 8,
        "start_time": "2023-02-21T18:32:48.363Z"
      },
      {
        "duration": 4,
        "start_time": "2023-02-21T18:32:48.373Z"
      },
      {
        "duration": 8,
        "start_time": "2023-02-21T18:32:48.378Z"
      },
      {
        "duration": 9,
        "start_time": "2023-02-21T18:32:48.387Z"
      },
      {
        "duration": 6,
        "start_time": "2023-02-21T18:32:48.397Z"
      },
      {
        "duration": 6,
        "start_time": "2023-02-21T18:32:48.404Z"
      },
      {
        "duration": 55,
        "start_time": "2023-02-21T18:32:48.412Z"
      },
      {
        "duration": 6,
        "start_time": "2023-02-21T18:32:48.469Z"
      },
      {
        "duration": 21,
        "start_time": "2023-02-21T18:32:48.476Z"
      },
      {
        "duration": 27,
        "start_time": "2023-02-21T18:32:48.499Z"
      },
      {
        "duration": 8,
        "start_time": "2023-02-21T18:32:48.528Z"
      },
      {
        "duration": 34,
        "start_time": "2023-02-21T18:32:48.537Z"
      },
      {
        "duration": 29,
        "start_time": "2023-02-21T18:32:48.572Z"
      },
      {
        "duration": 5,
        "start_time": "2023-02-21T18:32:48.603Z"
      },
      {
        "duration": 12,
        "start_time": "2023-02-21T18:32:48.610Z"
      },
      {
        "duration": 119,
        "start_time": "2023-02-21T18:32:48.623Z"
      },
      {
        "duration": 16,
        "start_time": "2023-02-21T18:32:48.746Z"
      },
      {
        "duration": 12,
        "start_time": "2023-02-21T18:32:48.763Z"
      },
      {
        "duration": 4,
        "start_time": "2023-02-21T18:32:48.777Z"
      },
      {
        "duration": 11,
        "start_time": "2023-02-21T18:32:48.782Z"
      },
      {
        "duration": 6,
        "start_time": "2023-02-21T18:32:48.794Z"
      },
      {
        "duration": 6,
        "start_time": "2023-02-21T18:32:48.801Z"
      },
      {
        "duration": 10,
        "start_time": "2023-02-21T18:32:48.808Z"
      },
      {
        "duration": 46,
        "start_time": "2023-02-21T18:32:48.819Z"
      },
      {
        "duration": 99,
        "start_time": "2023-02-21T18:32:48.866Z"
      },
      {
        "duration": 0,
        "start_time": "2023-02-21T18:32:48.966Z"
      },
      {
        "duration": 0,
        "start_time": "2023-02-21T18:32:48.968Z"
      },
      {
        "duration": 0,
        "start_time": "2023-02-21T18:32:48.969Z"
      },
      {
        "duration": 0,
        "start_time": "2023-02-21T18:32:48.970Z"
      },
      {
        "duration": 0,
        "start_time": "2023-02-21T18:32:48.971Z"
      },
      {
        "duration": 0,
        "start_time": "2023-02-21T18:32:48.972Z"
      },
      {
        "duration": 0,
        "start_time": "2023-02-21T18:32:48.973Z"
      },
      {
        "duration": 0,
        "start_time": "2023-02-21T18:32:48.974Z"
      },
      {
        "duration": 0,
        "start_time": "2023-02-21T18:32:48.975Z"
      },
      {
        "duration": 0,
        "start_time": "2023-02-21T18:32:48.976Z"
      },
      {
        "duration": 0,
        "start_time": "2023-02-21T18:32:48.977Z"
      },
      {
        "duration": 0,
        "start_time": "2023-02-21T18:32:48.978Z"
      },
      {
        "duration": 0,
        "start_time": "2023-02-21T18:32:48.979Z"
      },
      {
        "duration": 0,
        "start_time": "2023-02-21T18:32:48.980Z"
      },
      {
        "duration": 0,
        "start_time": "2023-02-21T18:32:48.981Z"
      },
      {
        "duration": 0,
        "start_time": "2023-02-21T18:32:48.982Z"
      },
      {
        "duration": 0,
        "start_time": "2023-02-21T18:32:48.983Z"
      },
      {
        "duration": 0,
        "start_time": "2023-02-21T18:32:48.984Z"
      },
      {
        "duration": 0,
        "start_time": "2023-02-21T18:32:48.985Z"
      },
      {
        "duration": 0,
        "start_time": "2023-02-21T18:32:48.986Z"
      },
      {
        "duration": 0,
        "start_time": "2023-02-21T18:32:48.987Z"
      },
      {
        "duration": 0,
        "start_time": "2023-02-21T18:32:48.988Z"
      },
      {
        "duration": 0,
        "start_time": "2023-02-21T18:32:48.989Z"
      },
      {
        "duration": 0,
        "start_time": "2023-02-21T18:32:48.990Z"
      },
      {
        "duration": 0,
        "start_time": "2023-02-21T18:32:48.991Z"
      },
      {
        "duration": 0,
        "start_time": "2023-02-21T18:32:48.992Z"
      },
      {
        "duration": 0,
        "start_time": "2023-02-21T18:32:48.992Z"
      },
      {
        "duration": 0,
        "start_time": "2023-02-21T18:32:48.993Z"
      },
      {
        "duration": 0,
        "start_time": "2023-02-21T18:32:48.994Z"
      },
      {
        "duration": 0,
        "start_time": "2023-02-21T18:32:48.995Z"
      },
      {
        "duration": 0,
        "start_time": "2023-02-21T18:32:48.996Z"
      },
      {
        "duration": 0,
        "start_time": "2023-02-21T18:32:48.997Z"
      },
      {
        "duration": 0,
        "start_time": "2023-02-21T18:32:48.998Z"
      },
      {
        "duration": 0,
        "start_time": "2023-02-21T18:32:48.999Z"
      },
      {
        "duration": 0,
        "start_time": "2023-02-21T18:32:49.000Z"
      },
      {
        "duration": 0,
        "start_time": "2023-02-21T18:32:49.001Z"
      },
      {
        "duration": 22,
        "start_time": "2023-02-21T18:32:58.023Z"
      },
      {
        "duration": 13,
        "start_time": "2023-02-21T18:33:13.575Z"
      },
      {
        "duration": 22,
        "start_time": "2023-02-21T18:33:17.225Z"
      },
      {
        "duration": 20,
        "start_time": "2023-02-21T18:33:34.620Z"
      },
      {
        "duration": 9,
        "start_time": "2023-02-21T18:33:58.497Z"
      },
      {
        "duration": 1106,
        "start_time": "2023-02-21T18:34:18.553Z"
      },
      {
        "duration": 5,
        "start_time": "2023-02-21T18:34:26.693Z"
      },
      {
        "duration": 9,
        "start_time": "2023-02-21T18:34:31.606Z"
      },
      {
        "duration": 11,
        "start_time": "2023-02-21T18:34:36.357Z"
      },
      {
        "duration": 7,
        "start_time": "2023-02-21T18:35:28.945Z"
      },
      {
        "duration": 1302,
        "start_time": "2023-02-21T18:36:03.297Z"
      },
      {
        "duration": 10,
        "start_time": "2023-02-21T18:36:18.735Z"
      },
      {
        "duration": 1140,
        "start_time": "2023-02-21T18:37:01.513Z"
      },
      {
        "duration": 1086,
        "start_time": "2023-02-21T18:37:02.655Z"
      },
      {
        "duration": 95,
        "start_time": "2023-02-21T18:37:03.742Z"
      },
      {
        "duration": 107,
        "start_time": "2023-02-21T18:37:03.839Z"
      },
      {
        "duration": 55,
        "start_time": "2023-02-21T18:37:03.948Z"
      },
      {
        "duration": 8,
        "start_time": "2023-02-21T18:37:04.005Z"
      },
      {
        "duration": 13,
        "start_time": "2023-02-21T18:37:04.014Z"
      },
      {
        "duration": 60,
        "start_time": "2023-02-21T18:37:04.029Z"
      },
      {
        "duration": 183,
        "start_time": "2023-02-21T18:37:04.091Z"
      },
      {
        "duration": 7,
        "start_time": "2023-02-21T18:37:04.277Z"
      },
      {
        "duration": 18,
        "start_time": "2023-02-21T18:37:04.286Z"
      },
      {
        "duration": 20,
        "start_time": "2023-02-21T18:37:04.306Z"
      },
      {
        "duration": 4,
        "start_time": "2023-02-21T18:37:04.327Z"
      },
      {
        "duration": 7,
        "start_time": "2023-02-21T18:37:04.333Z"
      },
      {
        "duration": 20,
        "start_time": "2023-02-21T18:37:04.342Z"
      },
      {
        "duration": 5,
        "start_time": "2023-02-21T18:37:04.363Z"
      },
      {
        "duration": 11,
        "start_time": "2023-02-21T18:37:04.370Z"
      },
      {
        "duration": 19,
        "start_time": "2023-02-21T18:37:04.382Z"
      },
      {
        "duration": 6,
        "start_time": "2023-02-21T18:37:04.403Z"
      },
      {
        "duration": 19,
        "start_time": "2023-02-21T18:37:04.410Z"
      },
      {
        "duration": 40,
        "start_time": "2023-02-21T18:37:04.431Z"
      },
      {
        "duration": 6,
        "start_time": "2023-02-21T18:37:04.473Z"
      },
      {
        "duration": 14,
        "start_time": "2023-02-21T18:37:04.481Z"
      },
      {
        "duration": 32,
        "start_time": "2023-02-21T18:37:04.497Z"
      },
      {
        "duration": 6,
        "start_time": "2023-02-21T18:37:04.530Z"
      },
      {
        "duration": 13,
        "start_time": "2023-02-21T18:37:04.561Z"
      },
      {
        "duration": 135,
        "start_time": "2023-02-21T18:37:04.575Z"
      },
      {
        "duration": 11,
        "start_time": "2023-02-21T18:37:04.715Z"
      },
      {
        "duration": 18,
        "start_time": "2023-02-21T18:37:04.728Z"
      },
      {
        "duration": 16,
        "start_time": "2023-02-21T18:37:04.748Z"
      },
      {
        "duration": 11,
        "start_time": "2023-02-21T18:37:04.766Z"
      },
      {
        "duration": 7,
        "start_time": "2023-02-21T18:37:04.779Z"
      },
      {
        "duration": 10,
        "start_time": "2023-02-21T18:37:04.788Z"
      },
      {
        "duration": 11,
        "start_time": "2023-02-21T18:37:04.799Z"
      },
      {
        "duration": 17,
        "start_time": "2023-02-21T18:37:04.811Z"
      },
      {
        "duration": 13,
        "start_time": "2023-02-21T18:37:04.829Z"
      },
      {
        "duration": 4,
        "start_time": "2023-02-21T18:37:04.862Z"
      },
      {
        "duration": 12,
        "start_time": "2023-02-21T18:37:04.867Z"
      },
      {
        "duration": 8,
        "start_time": "2023-02-21T18:37:04.880Z"
      },
      {
        "duration": 20,
        "start_time": "2023-02-21T18:37:04.889Z"
      },
      {
        "duration": 1345,
        "start_time": "2023-02-21T18:37:04.911Z"
      },
      {
        "duration": 0,
        "start_time": "2023-02-21T18:37:06.258Z"
      },
      {
        "duration": 0,
        "start_time": "2023-02-21T18:37:06.259Z"
      },
      {
        "duration": 0,
        "start_time": "2023-02-21T18:37:06.260Z"
      },
      {
        "duration": 0,
        "start_time": "2023-02-21T18:37:06.261Z"
      },
      {
        "duration": 0,
        "start_time": "2023-02-21T18:37:06.263Z"
      },
      {
        "duration": 0,
        "start_time": "2023-02-21T18:37:06.263Z"
      },
      {
        "duration": 0,
        "start_time": "2023-02-21T18:37:06.265Z"
      },
      {
        "duration": 0,
        "start_time": "2023-02-21T18:37:06.266Z"
      },
      {
        "duration": 0,
        "start_time": "2023-02-21T18:37:06.267Z"
      },
      {
        "duration": 0,
        "start_time": "2023-02-21T18:37:06.268Z"
      },
      {
        "duration": 0,
        "start_time": "2023-02-21T18:37:06.269Z"
      },
      {
        "duration": 0,
        "start_time": "2023-02-21T18:37:06.270Z"
      },
      {
        "duration": 0,
        "start_time": "2023-02-21T18:37:06.271Z"
      },
      {
        "duration": 0,
        "start_time": "2023-02-21T18:37:06.272Z"
      },
      {
        "duration": 0,
        "start_time": "2023-02-21T18:37:06.273Z"
      },
      {
        "duration": 0,
        "start_time": "2023-02-21T18:37:06.274Z"
      },
      {
        "duration": 0,
        "start_time": "2023-02-21T18:37:06.275Z"
      },
      {
        "duration": 0,
        "start_time": "2023-02-21T18:37:06.276Z"
      },
      {
        "duration": 0,
        "start_time": "2023-02-21T18:37:06.277Z"
      },
      {
        "duration": 0,
        "start_time": "2023-02-21T18:37:06.278Z"
      },
      {
        "duration": 0,
        "start_time": "2023-02-21T18:37:06.279Z"
      },
      {
        "duration": 0,
        "start_time": "2023-02-21T18:37:06.280Z"
      },
      {
        "duration": 0,
        "start_time": "2023-02-21T18:37:06.281Z"
      },
      {
        "duration": 0,
        "start_time": "2023-02-21T18:37:06.282Z"
      },
      {
        "duration": 0,
        "start_time": "2023-02-21T18:37:06.283Z"
      },
      {
        "duration": 0,
        "start_time": "2023-02-21T18:37:06.284Z"
      },
      {
        "duration": 0,
        "start_time": "2023-02-21T18:37:06.285Z"
      },
      {
        "duration": 0,
        "start_time": "2023-02-21T18:37:06.285Z"
      },
      {
        "duration": 0,
        "start_time": "2023-02-21T18:37:06.286Z"
      },
      {
        "duration": 0,
        "start_time": "2023-02-21T18:37:06.287Z"
      },
      {
        "duration": 0,
        "start_time": "2023-02-21T18:37:06.288Z"
      },
      {
        "duration": 0,
        "start_time": "2023-02-21T18:37:06.289Z"
      },
      {
        "duration": 0,
        "start_time": "2023-02-21T18:37:06.290Z"
      },
      {
        "duration": 11,
        "start_time": "2023-02-21T18:37:15.754Z"
      },
      {
        "duration": 10,
        "start_time": "2023-02-21T18:37:19.421Z"
      },
      {
        "duration": 24,
        "start_time": "2023-02-21T18:37:53.776Z"
      },
      {
        "duration": 10,
        "start_time": "2023-02-21T18:39:10.777Z"
      },
      {
        "duration": 5,
        "start_time": "2023-02-21T18:39:23.616Z"
      },
      {
        "duration": 6,
        "start_time": "2023-02-21T18:39:31.955Z"
      },
      {
        "duration": 11,
        "start_time": "2023-02-21T18:39:49.190Z"
      },
      {
        "duration": 1141,
        "start_time": "2023-02-21T18:39:56.188Z"
      },
      {
        "duration": 953,
        "start_time": "2023-02-21T18:39:57.331Z"
      },
      {
        "duration": 94,
        "start_time": "2023-02-21T18:39:58.285Z"
      },
      {
        "duration": 103,
        "start_time": "2023-02-21T18:39:58.380Z"
      },
      {
        "duration": 51,
        "start_time": "2023-02-21T18:39:58.485Z"
      },
      {
        "duration": 25,
        "start_time": "2023-02-21T18:39:58.537Z"
      },
      {
        "duration": 12,
        "start_time": "2023-02-21T18:39:58.563Z"
      },
      {
        "duration": 39,
        "start_time": "2023-02-21T18:39:58.576Z"
      },
      {
        "duration": 191,
        "start_time": "2023-02-21T18:39:58.616Z"
      },
      {
        "duration": 7,
        "start_time": "2023-02-21T18:39:58.810Z"
      },
      {
        "duration": 9,
        "start_time": "2023-02-21T18:39:58.818Z"
      },
      {
        "duration": 11,
        "start_time": "2023-02-21T18:39:58.828Z"
      },
      {
        "duration": 24,
        "start_time": "2023-02-21T18:39:58.840Z"
      },
      {
        "duration": 14,
        "start_time": "2023-02-21T18:39:58.865Z"
      },
      {
        "duration": 7,
        "start_time": "2023-02-21T18:39:58.881Z"
      },
      {
        "duration": 6,
        "start_time": "2023-02-21T18:39:58.889Z"
      },
      {
        "duration": 7,
        "start_time": "2023-02-21T18:39:58.897Z"
      },
      {
        "duration": 18,
        "start_time": "2023-02-21T18:39:58.905Z"
      },
      {
        "duration": 6,
        "start_time": "2023-02-21T18:39:58.925Z"
      },
      {
        "duration": 43,
        "start_time": "2023-02-21T18:39:58.932Z"
      },
      {
        "duration": 20,
        "start_time": "2023-02-21T18:39:58.976Z"
      },
      {
        "duration": 6,
        "start_time": "2023-02-21T18:39:58.998Z"
      },
      {
        "duration": 19,
        "start_time": "2023-02-21T18:39:59.006Z"
      },
      {
        "duration": 49,
        "start_time": "2023-02-21T18:39:59.026Z"
      },
      {
        "duration": 6,
        "start_time": "2023-02-21T18:39:59.077Z"
      },
      {
        "duration": 14,
        "start_time": "2023-02-21T18:39:59.084Z"
      },
      {
        "duration": 109,
        "start_time": "2023-02-21T18:39:59.099Z"
      },
      {
        "duration": 6,
        "start_time": "2023-02-21T18:39:59.212Z"
      },
      {
        "duration": 18,
        "start_time": "2023-02-21T18:39:59.220Z"
      },
      {
        "duration": 5,
        "start_time": "2023-02-21T18:39:59.239Z"
      },
      {
        "duration": 25,
        "start_time": "2023-02-21T18:39:59.245Z"
      },
      {
        "duration": 6,
        "start_time": "2023-02-21T18:39:59.271Z"
      },
      {
        "duration": 7,
        "start_time": "2023-02-21T18:39:59.279Z"
      },
      {
        "duration": 12,
        "start_time": "2023-02-21T18:39:59.287Z"
      },
      {
        "duration": 19,
        "start_time": "2023-02-21T18:39:59.300Z"
      },
      {
        "duration": 5,
        "start_time": "2023-02-21T18:39:59.321Z"
      },
      {
        "duration": 8,
        "start_time": "2023-02-21T18:39:59.327Z"
      },
      {
        "duration": 26,
        "start_time": "2023-02-21T18:39:59.337Z"
      },
      {
        "duration": 12,
        "start_time": "2023-02-21T18:39:59.364Z"
      },
      {
        "duration": 8,
        "start_time": "2023-02-21T18:39:59.378Z"
      },
      {
        "duration": 8,
        "start_time": "2023-02-21T18:39:59.388Z"
      },
      {
        "duration": 14,
        "start_time": "2023-02-21T18:39:59.398Z"
      },
      {
        "duration": 10,
        "start_time": "2023-02-21T18:39:59.413Z"
      },
      {
        "duration": 125,
        "start_time": "2023-02-21T18:39:59.425Z"
      },
      {
        "duration": 16,
        "start_time": "2023-02-21T18:39:59.552Z"
      },
      {
        "duration": 9,
        "start_time": "2023-02-21T18:39:59.570Z"
      },
      {
        "duration": 22,
        "start_time": "2023-02-21T18:39:59.580Z"
      },
      {
        "duration": 6,
        "start_time": "2023-02-21T18:39:59.604Z"
      },
      {
        "duration": 168,
        "start_time": "2023-02-21T18:39:59.612Z"
      },
      {
        "duration": 212,
        "start_time": "2023-02-21T18:39:59.782Z"
      },
      {
        "duration": 212,
        "start_time": "2023-02-21T18:39:59.995Z"
      },
      {
        "duration": 311,
        "start_time": "2023-02-21T18:40:00.209Z"
      },
      {
        "duration": 15,
        "start_time": "2023-02-21T18:40:00.522Z"
      },
      {
        "duration": 27,
        "start_time": "2023-02-21T18:40:00.538Z"
      },
      {
        "duration": 35,
        "start_time": "2023-02-21T18:40:00.567Z"
      },
      {
        "duration": 167,
        "start_time": "2023-02-21T18:40:00.604Z"
      },
      {
        "duration": 2720,
        "start_time": "2023-02-21T18:40:00.773Z"
      },
      {
        "duration": 0,
        "start_time": "2023-02-21T18:40:03.495Z"
      },
      {
        "duration": 0,
        "start_time": "2023-02-21T18:40:03.496Z"
      },
      {
        "duration": 0,
        "start_time": "2023-02-21T18:40:03.498Z"
      },
      {
        "duration": 0,
        "start_time": "2023-02-21T18:40:03.499Z"
      },
      {
        "duration": 0,
        "start_time": "2023-02-21T18:40:03.501Z"
      },
      {
        "duration": 0,
        "start_time": "2023-02-21T18:40:03.503Z"
      },
      {
        "duration": 0,
        "start_time": "2023-02-21T18:40:03.505Z"
      },
      {
        "duration": 0,
        "start_time": "2023-02-21T18:40:03.506Z"
      },
      {
        "duration": 0,
        "start_time": "2023-02-21T18:40:03.507Z"
      },
      {
        "duration": 0,
        "start_time": "2023-02-21T18:40:03.508Z"
      },
      {
        "duration": 0,
        "start_time": "2023-02-21T18:40:03.509Z"
      },
      {
        "duration": 0,
        "start_time": "2023-02-21T18:40:03.511Z"
      },
      {
        "duration": 0,
        "start_time": "2023-02-21T18:40:03.512Z"
      },
      {
        "duration": 0,
        "start_time": "2023-02-21T18:40:03.513Z"
      },
      {
        "duration": 0,
        "start_time": "2023-02-21T18:40:03.515Z"
      },
      {
        "duration": 0,
        "start_time": "2023-02-21T18:40:03.517Z"
      },
      {
        "duration": 0,
        "start_time": "2023-02-21T18:40:03.519Z"
      },
      {
        "duration": 0,
        "start_time": "2023-02-21T18:40:03.520Z"
      },
      {
        "duration": 23,
        "start_time": "2023-02-21T18:40:27.468Z"
      },
      {
        "duration": 12,
        "start_time": "2023-02-21T18:40:41.221Z"
      },
      {
        "duration": 11,
        "start_time": "2023-02-21T18:40:42.351Z"
      },
      {
        "duration": 94,
        "start_time": "2023-02-21T18:40:42.598Z"
      },
      {
        "duration": 13,
        "start_time": "2023-02-21T18:40:43.488Z"
      },
      {
        "duration": 267,
        "start_time": "2023-02-21T18:40:43.960Z"
      },
      {
        "duration": 13,
        "start_time": "2023-02-21T18:40:45.964Z"
      },
      {
        "duration": 118,
        "start_time": "2023-02-21T18:40:46.355Z"
      },
      {
        "duration": 116,
        "start_time": "2023-02-21T18:40:51.664Z"
      },
      {
        "duration": 238,
        "start_time": "2023-02-21T18:40:54.571Z"
      },
      {
        "duration": 12,
        "start_time": "2023-02-21T18:41:06.788Z"
      },
      {
        "duration": 225,
        "start_time": "2023-02-21T18:41:10.164Z"
      },
      {
        "duration": 14,
        "start_time": "2023-02-21T18:41:13.936Z"
      },
      {
        "duration": 8,
        "start_time": "2023-02-21T18:41:14.460Z"
      },
      {
        "duration": 4,
        "start_time": "2023-02-21T18:41:15.206Z"
      },
      {
        "duration": 5,
        "start_time": "2023-02-21T18:41:15.603Z"
      },
      {
        "duration": 16,
        "start_time": "2023-02-21T18:41:16.660Z"
      },
      {
        "duration": 3,
        "start_time": "2023-02-21T18:42:13.461Z"
      },
      {
        "duration": 5,
        "start_time": "2023-02-21T18:42:14.170Z"
      },
      {
        "duration": 15,
        "start_time": "2023-02-21T18:42:14.765Z"
      },
      {
        "duration": 1146,
        "start_time": "2023-02-21T18:42:39.817Z"
      },
      {
        "duration": 983,
        "start_time": "2023-02-21T18:42:40.965Z"
      },
      {
        "duration": 98,
        "start_time": "2023-02-21T18:42:41.949Z"
      },
      {
        "duration": 124,
        "start_time": "2023-02-21T18:42:42.048Z"
      },
      {
        "duration": 52,
        "start_time": "2023-02-21T18:42:42.174Z"
      },
      {
        "duration": 9,
        "start_time": "2023-02-21T18:42:42.227Z"
      },
      {
        "duration": 32,
        "start_time": "2023-02-21T18:42:42.237Z"
      },
      {
        "duration": 42,
        "start_time": "2023-02-21T18:42:42.270Z"
      },
      {
        "duration": 200,
        "start_time": "2023-02-21T18:42:42.313Z"
      },
      {
        "duration": 9,
        "start_time": "2023-02-21T18:42:42.515Z"
      },
      {
        "duration": 10,
        "start_time": "2023-02-21T18:42:42.525Z"
      },
      {
        "duration": 10,
        "start_time": "2023-02-21T18:42:42.536Z"
      },
      {
        "duration": 4,
        "start_time": "2023-02-21T18:42:42.561Z"
      },
      {
        "duration": 6,
        "start_time": "2023-02-21T18:42:42.568Z"
      },
      {
        "duration": 9,
        "start_time": "2023-02-21T18:42:42.576Z"
      },
      {
        "duration": 10,
        "start_time": "2023-02-21T18:42:42.586Z"
      },
      {
        "duration": 9,
        "start_time": "2023-02-21T18:42:42.597Z"
      },
      {
        "duration": 34,
        "start_time": "2023-02-21T18:42:42.608Z"
      },
      {
        "duration": 9,
        "start_time": "2023-02-21T18:42:42.661Z"
      },
      {
        "duration": 22,
        "start_time": "2023-02-21T18:42:42.672Z"
      },
      {
        "duration": 22,
        "start_time": "2023-02-21T18:42:42.696Z"
      },
      {
        "duration": 7,
        "start_time": "2023-02-21T18:42:42.719Z"
      },
      {
        "duration": 42,
        "start_time": "2023-02-21T18:42:42.727Z"
      },
      {
        "duration": 34,
        "start_time": "2023-02-21T18:42:42.771Z"
      },
      {
        "duration": 7,
        "start_time": "2023-02-21T18:42:42.806Z"
      },
      {
        "duration": 14,
        "start_time": "2023-02-21T18:42:42.814Z"
      },
      {
        "duration": 125,
        "start_time": "2023-02-21T18:42:42.829Z"
      },
      {
        "duration": 10,
        "start_time": "2023-02-21T18:42:42.955Z"
      },
      {
        "duration": 12,
        "start_time": "2023-02-21T18:42:42.967Z"
      },
      {
        "duration": 4,
        "start_time": "2023-02-21T18:42:42.981Z"
      },
      {
        "duration": 15,
        "start_time": "2023-02-21T18:42:42.987Z"
      },
      {
        "duration": 6,
        "start_time": "2023-02-21T18:42:43.004Z"
      },
      {
        "duration": 7,
        "start_time": "2023-02-21T18:42:43.011Z"
      },
      {
        "duration": 15,
        "start_time": "2023-02-21T18:42:43.020Z"
      },
      {
        "duration": 38,
        "start_time": "2023-02-21T18:42:43.036Z"
      },
      {
        "duration": 5,
        "start_time": "2023-02-21T18:42:43.075Z"
      },
      {
        "duration": 15,
        "start_time": "2023-02-21T18:42:43.081Z"
      },
      {
        "duration": 4,
        "start_time": "2023-02-21T18:42:43.097Z"
      },
      {
        "duration": 11,
        "start_time": "2023-02-21T18:42:43.103Z"
      },
      {
        "duration": 8,
        "start_time": "2023-02-21T18:42:43.115Z"
      },
      {
        "duration": 9,
        "start_time": "2023-02-21T18:42:43.127Z"
      },
      {
        "duration": 31,
        "start_time": "2023-02-21T18:42:43.138Z"
      },
      {
        "duration": 10,
        "start_time": "2023-02-21T18:42:43.170Z"
      },
      {
        "duration": 128,
        "start_time": "2023-02-21T18:42:43.182Z"
      },
      {
        "duration": 14,
        "start_time": "2023-02-21T18:42:43.312Z"
      },
      {
        "duration": 11,
        "start_time": "2023-02-21T18:42:43.327Z"
      },
      {
        "duration": 41,
        "start_time": "2023-02-21T18:42:43.340Z"
      },
      {
        "duration": 7,
        "start_time": "2023-02-21T18:42:43.382Z"
      },
      {
        "duration": 178,
        "start_time": "2023-02-21T18:42:43.391Z"
      },
      {
        "duration": 236,
        "start_time": "2023-02-21T18:42:43.571Z"
      },
      {
        "duration": 157,
        "start_time": "2023-02-21T18:42:43.808Z"
      },
      {
        "duration": 410,
        "start_time": "2023-02-21T18:42:43.968Z"
      },
      {
        "duration": 14,
        "start_time": "2023-02-21T18:42:44.380Z"
      },
      {
        "duration": 11,
        "start_time": "2023-02-21T18:42:44.396Z"
      },
      {
        "duration": 6,
        "start_time": "2023-02-21T18:42:44.409Z"
      },
      {
        "duration": 156,
        "start_time": "2023-02-21T18:42:44.417Z"
      },
      {
        "duration": 12,
        "start_time": "2023-02-21T18:42:44.574Z"
      },
      {
        "duration": 139,
        "start_time": "2023-02-21T18:42:44.588Z"
      },
      {
        "duration": 17,
        "start_time": "2023-02-21T18:42:44.730Z"
      },
      {
        "duration": 282,
        "start_time": "2023-02-21T18:42:44.749Z"
      },
      {
        "duration": 11,
        "start_time": "2023-02-21T18:42:45.033Z"
      },
      {
        "duration": 247,
        "start_time": "2023-02-21T18:42:45.046Z"
      },
      {
        "duration": 13,
        "start_time": "2023-02-21T18:42:45.295Z"
      },
      {
        "duration": 7,
        "start_time": "2023-02-21T18:42:45.310Z"
      },
      {
        "duration": 7,
        "start_time": "2023-02-21T18:42:45.319Z"
      },
      {
        "duration": 7,
        "start_time": "2023-02-21T18:42:45.327Z"
      },
      {
        "duration": 37,
        "start_time": "2023-02-21T18:42:45.336Z"
      },
      {
        "duration": 5,
        "start_time": "2023-02-21T18:42:45.374Z"
      },
      {
        "duration": 9,
        "start_time": "2023-02-21T18:42:45.380Z"
      },
      {
        "duration": 9,
        "start_time": "2023-02-21T18:42:45.390Z"
      },
      {
        "duration": 6,
        "start_time": "2023-02-21T18:42:45.400Z"
      },
      {
        "duration": 11,
        "start_time": "2023-02-21T18:42:45.407Z"
      },
      {
        "duration": 5,
        "start_time": "2023-02-21T18:42:45.420Z"
      },
      {
        "duration": 8,
        "start_time": "2023-02-21T18:42:45.426Z"
      },
      {
        "duration": 29,
        "start_time": "2023-02-21T18:42:45.436Z"
      }
    ],
    "colab": {
      "provenance": [],
      "toc_visible": true
    },
    "kernelspec": {
      "display_name": "Python 3 (ipykernel)",
      "language": "python",
      "name": "python3"
    },
    "language_info": {
      "codemirror_mode": {
        "name": "ipython",
        "version": 3
      },
      "file_extension": ".py",
      "mimetype": "text/x-python",
      "name": "python",
      "nbconvert_exporter": "python",
      "pygments_lexer": "ipython3",
      "version": "3.9.5"
    },
    "toc": {
      "base_numbering": 1,
      "nav_menu": {},
      "number_sections": true,
      "sideBar": true,
      "skip_h1_title": true,
      "title_cell": "Table of Contents",
      "title_sidebar": "Contents",
      "toc_cell": false,
      "toc_position": {
        "height": "calc(100% - 180px)",
        "left": "10px",
        "top": "150px",
        "width": "356.797px"
      },
      "toc_section_display": true,
      "toc_window_display": true
    }
  },
  "nbformat": 4,
  "nbformat_minor": 0
}