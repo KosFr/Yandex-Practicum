{
 "cells": [
  {
   "cell_type": "markdown",
   "id": "033e7d52",
   "metadata": {},
   "source": [
    "# Проект SQL"
   ]
  },
  {
   "cell_type": "markdown",
   "id": "eae9423d",
   "metadata": {},
   "source": [
    "## Описание проекта"
   ]
  },
  {
   "cell_type": "markdown",
   "id": "5d22731f",
   "metadata": {},
   "source": [
    "Наша компания решила купить крупный сервис для чтения книг по подписке. В доступе имеется информация о книгах, издательствах, авторах, а также пользовательские обзоры книг.\n",
    "\n",
    "**Цель проекта** — проанализировать базу данных, сформулировать ценностное предложение для нового продукта.\n",
    "\n",
    "**Описание данных**\n",
    "\n",
    "Таблица `books`\n",
    "\n",
    "Содержит данные о книгах:\n",
    "\n",
    "- `book_id` — идентификатор книги;\n",
    "- `author_id` — идентификатор автора;\n",
    "- `title` — название книги;\n",
    "- `num_pages` — количество страниц;\n",
    "- `publication_date` — дата публикации книги;\n",
    "- `publisher_id` — идентификатор издателя.\n",
    "\n",
    "Таблица `authors`\n",
    "\n",
    "Содержит данные об авторах:\n",
    "\n",
    "- `author_id` — идентификатор автора;\n",
    "- `author` — имя автора.\n",
    "\n",
    "Таблица `publishers`\n",
    "\n",
    "Содержит данные об издательствах:\n",
    "\n",
    "- `publisher_id` — идентификатор издательства;\n",
    "- `publisher` — название издательства;\n",
    "\n",
    "Таблица `ratings`\n",
    "\n",
    "Содержит данные о пользовательских оценках книг:\n",
    "\n",
    "- `rating_id` — идентификатор оценки;\n",
    "- `book_id` — идентификатор книги;\n",
    "- `username` — имя пользователя, оставившего оценку;\n",
    "- `rating` — оценка книги.\n",
    "\n",
    "Таблица `reviews`\n",
    "\n",
    "Содержит данные о пользовательских обзорах на книги:\n",
    "\n",
    "- `review_id` — идентификатор обзора;\n",
    "- `book_id` — идентификатор книги;\n",
    "- `username` — имя пользователя, написавшего обзор;\n",
    "- `text` — текст обзора."
   ]
  },
  {
   "cell_type": "markdown",
   "id": "33a54b7c",
   "metadata": {},
   "source": [
    "## Получение данных"
   ]
  },
  {
   "cell_type": "code",
   "execution_count": 1,
   "id": "c49d9fe2",
   "metadata": {},
   "outputs": [],
   "source": [
    "# импортируем библиотеки\n",
    "import pandas as pd \n",
    "from sqlalchemy import create_engine\n",
    "\n",
    "# устанавливаем параметры\n",
    "db_config = {'user': 'praktikum_student', # имя пользователя\n",
    "'pwd': 'Sdf4$2;d-d30pp', # пароль\n",
    "'host': 'rc1b-wcoijxj3yxfsf3fs.mdb.yandexcloud.net', \n",
    "'port': 6432, # порт подключения\n",
    "'db': 'data-analyst-final-project-db'} # название базы данных\n",
    "connection_string = 'postgresql://{}:{}@{}:{}/{}'.format(db_config['user'], \n",
    " db_config['pwd'], \n",
    " db_config['host'], \n",
    " db_config['port'], \n",
    " db_config['db'])\n",
    "\n",
    "# сохраняем коннектор\n",
    "engine = create_engine(connection_string, connect_args={'sslmode':'require'})"
   ]
  },
  {
   "cell_type": "markdown",
   "id": "b99fa701",
   "metadata": {},
   "source": [
    "## Обзор данных"
   ]
  },
  {
   "cell_type": "code",
   "execution_count": 2,
   "id": "9d279c47",
   "metadata": {
    "scrolled": true
   },
   "outputs": [
    {
     "data": {
      "text/html": [
       "<div>\n",
       "<style scoped>\n",
       "    .dataframe tbody tr th:only-of-type {\n",
       "        vertical-align: middle;\n",
       "    }\n",
       "\n",
       "    .dataframe tbody tr th {\n",
       "        vertical-align: top;\n",
       "    }\n",
       "\n",
       "    .dataframe thead th {\n",
       "        text-align: right;\n",
       "    }\n",
       "</style>\n",
       "<table border=\"1\" class=\"dataframe\">\n",
       "  <thead>\n",
       "    <tr style=\"text-align: right;\">\n",
       "      <th></th>\n",
       "      <th>book_id</th>\n",
       "      <th>author_id</th>\n",
       "      <th>title</th>\n",
       "      <th>num_pages</th>\n",
       "      <th>publication_date</th>\n",
       "      <th>publisher_id</th>\n",
       "    </tr>\n",
       "  </thead>\n",
       "  <tbody>\n",
       "    <tr>\n",
       "      <th>0</th>\n",
       "      <td>1</td>\n",
       "      <td>546</td>\n",
       "      <td>'Salem's Lot</td>\n",
       "      <td>594</td>\n",
       "      <td>2005-11-01</td>\n",
       "      <td>93</td>\n",
       "    </tr>\n",
       "    <tr>\n",
       "      <th>1</th>\n",
       "      <td>2</td>\n",
       "      <td>465</td>\n",
       "      <td>1 000 Places to See Before You Die</td>\n",
       "      <td>992</td>\n",
       "      <td>2003-05-22</td>\n",
       "      <td>336</td>\n",
       "    </tr>\n",
       "    <tr>\n",
       "      <th>2</th>\n",
       "      <td>3</td>\n",
       "      <td>407</td>\n",
       "      <td>13 Little Blue Envelopes (Little Blue Envelope...</td>\n",
       "      <td>322</td>\n",
       "      <td>2010-12-21</td>\n",
       "      <td>135</td>\n",
       "    </tr>\n",
       "    <tr>\n",
       "      <th>3</th>\n",
       "      <td>4</td>\n",
       "      <td>82</td>\n",
       "      <td>1491: New Revelations of the Americas Before C...</td>\n",
       "      <td>541</td>\n",
       "      <td>2006-10-10</td>\n",
       "      <td>309</td>\n",
       "    </tr>\n",
       "    <tr>\n",
       "      <th>4</th>\n",
       "      <td>5</td>\n",
       "      <td>125</td>\n",
       "      <td>1776</td>\n",
       "      <td>386</td>\n",
       "      <td>2006-07-04</td>\n",
       "      <td>268</td>\n",
       "    </tr>\n",
       "  </tbody>\n",
       "</table>\n",
       "</div>"
      ],
      "text/plain": [
       "   book_id  author_id                                              title  \\\n",
       "0        1        546                                       'Salem's Lot   \n",
       "1        2        465                 1 000 Places to See Before You Die   \n",
       "2        3        407  13 Little Blue Envelopes (Little Blue Envelope...   \n",
       "3        4         82  1491: New Revelations of the Americas Before C...   \n",
       "4        5        125                                               1776   \n",
       "\n",
       "   num_pages publication_date  publisher_id  \n",
       "0        594       2005-11-01            93  \n",
       "1        992       2003-05-22           336  \n",
       "2        322       2010-12-21           135  \n",
       "3        541       2006-10-10           309  \n",
       "4        386       2006-07-04           268  "
      ]
     },
     "execution_count": 2,
     "metadata": {},
     "output_type": "execute_result"
    }
   ],
   "source": [
    "# смотрим содержимое датасета books\n",
    "query = \"\"\"\n",
    "select * \n",
    "from books\n",
    "limit 5\n",
    "\"\"\"\n",
    "\n",
    "pd.io.sql.read_sql(query, con = engine)"
   ]
  },
  {
   "cell_type": "code",
   "execution_count": 3,
   "id": "65be420c",
   "metadata": {},
   "outputs": [
    {
     "data": {
      "text/html": [
       "<div>\n",
       "<style scoped>\n",
       "    .dataframe tbody tr th:only-of-type {\n",
       "        vertical-align: middle;\n",
       "    }\n",
       "\n",
       "    .dataframe tbody tr th {\n",
       "        vertical-align: top;\n",
       "    }\n",
       "\n",
       "    .dataframe thead th {\n",
       "        text-align: right;\n",
       "    }\n",
       "</style>\n",
       "<table border=\"1\" class=\"dataframe\">\n",
       "  <thead>\n",
       "    <tr style=\"text-align: right;\">\n",
       "      <th></th>\n",
       "      <th>author_id</th>\n",
       "      <th>author</th>\n",
       "    </tr>\n",
       "  </thead>\n",
       "  <tbody>\n",
       "    <tr>\n",
       "      <th>0</th>\n",
       "      <td>1</td>\n",
       "      <td>A.S. Byatt</td>\n",
       "    </tr>\n",
       "    <tr>\n",
       "      <th>1</th>\n",
       "      <td>2</td>\n",
       "      <td>Aesop/Laura Harris/Laura Gibbs</td>\n",
       "    </tr>\n",
       "    <tr>\n",
       "      <th>2</th>\n",
       "      <td>3</td>\n",
       "      <td>Agatha Christie</td>\n",
       "    </tr>\n",
       "    <tr>\n",
       "      <th>3</th>\n",
       "      <td>4</td>\n",
       "      <td>Alan Brennert</td>\n",
       "    </tr>\n",
       "    <tr>\n",
       "      <th>4</th>\n",
       "      <td>5</td>\n",
       "      <td>Alan Moore/David   Lloyd</td>\n",
       "    </tr>\n",
       "  </tbody>\n",
       "</table>\n",
       "</div>"
      ],
      "text/plain": [
       "   author_id                          author\n",
       "0          1                      A.S. Byatt\n",
       "1          2  Aesop/Laura Harris/Laura Gibbs\n",
       "2          3                 Agatha Christie\n",
       "3          4                   Alan Brennert\n",
       "4          5        Alan Moore/David   Lloyd"
      ]
     },
     "execution_count": 3,
     "metadata": {},
     "output_type": "execute_result"
    }
   ],
   "source": [
    "# смотрим содержимое датасета authors\n",
    "query = \"\"\"\n",
    "select * \n",
    "from authors\n",
    "limit 5\n",
    "\"\"\"\n",
    "\n",
    "pd.io.sql.read_sql(query, con = engine)"
   ]
  },
  {
   "cell_type": "code",
   "execution_count": 4,
   "id": "23531024",
   "metadata": {
    "scrolled": true
   },
   "outputs": [
    {
     "data": {
      "text/html": [
       "<div>\n",
       "<style scoped>\n",
       "    .dataframe tbody tr th:only-of-type {\n",
       "        vertical-align: middle;\n",
       "    }\n",
       "\n",
       "    .dataframe tbody tr th {\n",
       "        vertical-align: top;\n",
       "    }\n",
       "\n",
       "    .dataframe thead th {\n",
       "        text-align: right;\n",
       "    }\n",
       "</style>\n",
       "<table border=\"1\" class=\"dataframe\">\n",
       "  <thead>\n",
       "    <tr style=\"text-align: right;\">\n",
       "      <th></th>\n",
       "      <th>publisher_id</th>\n",
       "      <th>publisher</th>\n",
       "    </tr>\n",
       "  </thead>\n",
       "  <tbody>\n",
       "    <tr>\n",
       "      <th>0</th>\n",
       "      <td>1</td>\n",
       "      <td>Ace</td>\n",
       "    </tr>\n",
       "    <tr>\n",
       "      <th>1</th>\n",
       "      <td>2</td>\n",
       "      <td>Ace Book</td>\n",
       "    </tr>\n",
       "    <tr>\n",
       "      <th>2</th>\n",
       "      <td>3</td>\n",
       "      <td>Ace Books</td>\n",
       "    </tr>\n",
       "    <tr>\n",
       "      <th>3</th>\n",
       "      <td>4</td>\n",
       "      <td>Ace Hardcover</td>\n",
       "    </tr>\n",
       "    <tr>\n",
       "      <th>4</th>\n",
       "      <td>5</td>\n",
       "      <td>Addison Wesley Publishing Company</td>\n",
       "    </tr>\n",
       "  </tbody>\n",
       "</table>\n",
       "</div>"
      ],
      "text/plain": [
       "   publisher_id                          publisher\n",
       "0             1                                Ace\n",
       "1             2                           Ace Book\n",
       "2             3                          Ace Books\n",
       "3             4                      Ace Hardcover\n",
       "4             5  Addison Wesley Publishing Company"
      ]
     },
     "execution_count": 4,
     "metadata": {},
     "output_type": "execute_result"
    }
   ],
   "source": [
    "# смотрим содержимое датасета publishers\n",
    "query = \"\"\"\n",
    "select * \n",
    "from publishers\n",
    "limit 5\n",
    "\"\"\"\n",
    "\n",
    "pd.io.sql.read_sql(query, con = engine)"
   ]
  },
  {
   "cell_type": "code",
   "execution_count": 5,
   "id": "6d8f19ff",
   "metadata": {},
   "outputs": [
    {
     "data": {
      "text/html": [
       "<div>\n",
       "<style scoped>\n",
       "    .dataframe tbody tr th:only-of-type {\n",
       "        vertical-align: middle;\n",
       "    }\n",
       "\n",
       "    .dataframe tbody tr th {\n",
       "        vertical-align: top;\n",
       "    }\n",
       "\n",
       "    .dataframe thead th {\n",
       "        text-align: right;\n",
       "    }\n",
       "</style>\n",
       "<table border=\"1\" class=\"dataframe\">\n",
       "  <thead>\n",
       "    <tr style=\"text-align: right;\">\n",
       "      <th></th>\n",
       "      <th>rating_id</th>\n",
       "      <th>book_id</th>\n",
       "      <th>username</th>\n",
       "      <th>rating</th>\n",
       "    </tr>\n",
       "  </thead>\n",
       "  <tbody>\n",
       "    <tr>\n",
       "      <th>0</th>\n",
       "      <td>1</td>\n",
       "      <td>1</td>\n",
       "      <td>ryanfranco</td>\n",
       "      <td>4</td>\n",
       "    </tr>\n",
       "    <tr>\n",
       "      <th>1</th>\n",
       "      <td>2</td>\n",
       "      <td>1</td>\n",
       "      <td>grantpatricia</td>\n",
       "      <td>2</td>\n",
       "    </tr>\n",
       "    <tr>\n",
       "      <th>2</th>\n",
       "      <td>3</td>\n",
       "      <td>1</td>\n",
       "      <td>brandtandrea</td>\n",
       "      <td>5</td>\n",
       "    </tr>\n",
       "    <tr>\n",
       "      <th>3</th>\n",
       "      <td>4</td>\n",
       "      <td>2</td>\n",
       "      <td>lorichen</td>\n",
       "      <td>3</td>\n",
       "    </tr>\n",
       "    <tr>\n",
       "      <th>4</th>\n",
       "      <td>5</td>\n",
       "      <td>2</td>\n",
       "      <td>mariokeller</td>\n",
       "      <td>2</td>\n",
       "    </tr>\n",
       "  </tbody>\n",
       "</table>\n",
       "</div>"
      ],
      "text/plain": [
       "   rating_id  book_id       username  rating\n",
       "0          1        1     ryanfranco       4\n",
       "1          2        1  grantpatricia       2\n",
       "2          3        1   brandtandrea       5\n",
       "3          4        2       lorichen       3\n",
       "4          5        2    mariokeller       2"
      ]
     },
     "execution_count": 5,
     "metadata": {},
     "output_type": "execute_result"
    }
   ],
   "source": [
    "# смотрим содержимое датасета ratings\n",
    "query = \"\"\"\n",
    "select * \n",
    "from ratings\n",
    "limit 5\n",
    "\"\"\"\n",
    "\n",
    "pd.io.sql.read_sql(query, con = engine)"
   ]
  },
  {
   "cell_type": "code",
   "execution_count": 6,
   "id": "50843bc6",
   "metadata": {
    "scrolled": false
   },
   "outputs": [
    {
     "data": {
      "text/html": [
       "<div>\n",
       "<style scoped>\n",
       "    .dataframe tbody tr th:only-of-type {\n",
       "        vertical-align: middle;\n",
       "    }\n",
       "\n",
       "    .dataframe tbody tr th {\n",
       "        vertical-align: top;\n",
       "    }\n",
       "\n",
       "    .dataframe thead th {\n",
       "        text-align: right;\n",
       "    }\n",
       "</style>\n",
       "<table border=\"1\" class=\"dataframe\">\n",
       "  <thead>\n",
       "    <tr style=\"text-align: right;\">\n",
       "      <th></th>\n",
       "      <th>review_id</th>\n",
       "      <th>book_id</th>\n",
       "      <th>username</th>\n",
       "      <th>text</th>\n",
       "    </tr>\n",
       "  </thead>\n",
       "  <tbody>\n",
       "    <tr>\n",
       "      <th>0</th>\n",
       "      <td>1</td>\n",
       "      <td>1</td>\n",
       "      <td>brandtandrea</td>\n",
       "      <td>Mention society tell send professor analysis. ...</td>\n",
       "    </tr>\n",
       "    <tr>\n",
       "      <th>1</th>\n",
       "      <td>2</td>\n",
       "      <td>1</td>\n",
       "      <td>ryanfranco</td>\n",
       "      <td>Foot glass pretty audience hit themselves. Amo...</td>\n",
       "    </tr>\n",
       "    <tr>\n",
       "      <th>2</th>\n",
       "      <td>3</td>\n",
       "      <td>2</td>\n",
       "      <td>lorichen</td>\n",
       "      <td>Listen treat keep worry. Miss husband tax but ...</td>\n",
       "    </tr>\n",
       "    <tr>\n",
       "      <th>3</th>\n",
       "      <td>4</td>\n",
       "      <td>3</td>\n",
       "      <td>johnsonamanda</td>\n",
       "      <td>Finally month interesting blue could nature cu...</td>\n",
       "    </tr>\n",
       "    <tr>\n",
       "      <th>4</th>\n",
       "      <td>5</td>\n",
       "      <td>3</td>\n",
       "      <td>scotttamara</td>\n",
       "      <td>Nation purpose heavy give wait song will. List...</td>\n",
       "    </tr>\n",
       "  </tbody>\n",
       "</table>\n",
       "</div>"
      ],
      "text/plain": [
       "   review_id  book_id       username  \\\n",
       "0          1        1   brandtandrea   \n",
       "1          2        1     ryanfranco   \n",
       "2          3        2       lorichen   \n",
       "3          4        3  johnsonamanda   \n",
       "4          5        3    scotttamara   \n",
       "\n",
       "                                                text  \n",
       "0  Mention society tell send professor analysis. ...  \n",
       "1  Foot glass pretty audience hit themselves. Amo...  \n",
       "2  Listen treat keep worry. Miss husband tax but ...  \n",
       "3  Finally month interesting blue could nature cu...  \n",
       "4  Nation purpose heavy give wait song will. List...  "
      ]
     },
     "execution_count": 6,
     "metadata": {},
     "output_type": "execute_result"
    }
   ],
   "source": [
    "# смотрим содержимое датасета reviews\n",
    "query = \"\"\"\n",
    "select * \n",
    "from reviews\n",
    "limit 5\n",
    "\"\"\"\n",
    "\n",
    "pd.io.sql.read_sql(query, con = engine)"
   ]
  },
  {
   "cell_type": "markdown",
   "id": "d86fa9ab",
   "metadata": {},
   "source": [
    "## Исследование данных"
   ]
  },
  {
   "cell_type": "markdown",
   "id": "23f5d107",
   "metadata": {},
   "source": [
    "**Посчитаем, сколько книг вышло после 1 января 2000 года.**"
   ]
  },
  {
   "cell_type": "code",
   "execution_count": 7,
   "id": "7ebe678d",
   "metadata": {},
   "outputs": [
    {
     "name": "stdout",
     "output_type": "stream",
     "text": [
      "Количество книг, которые вышли после 1 января 2000 года: 819\n"
     ]
    }
   ],
   "source": [
    "query = \"\"\"\n",
    "SELECT COUNT(DISTINCT book_id)\n",
    "FROM books\n",
    "WHERE publication_date > '2000-01-01'\n",
    "\"\"\"\n",
    "\n",
    "q1 = pd.io.sql.read_sql(query, con = engine)\n",
    "\n",
    "print('Количество книг, которые вышли после 1 января 2000 года:', q1['count'][0])"
   ]
  },
  {
   "cell_type": "markdown",
   "id": "1c03c385",
   "metadata": {},
   "source": [
    "**Вывод**: Всего у нас в каталоге 1000 книг, из которых 819 книг (82% от общего количества) вышло после 1 января 2000 года."
   ]
  },
  {
   "cell_type": "markdown",
   "id": "99ad8486",
   "metadata": {},
   "source": [
    "**Для каждой книги посчитаем количество обзоров и среднюю оценку.**"
   ]
  },
  {
   "cell_type": "code",
   "execution_count": 65,
   "id": "6cf1f56d",
   "metadata": {},
   "outputs": [
    {
     "name": "stdout",
     "output_type": "stream",
     "text": [
      "                                                 title  reviews  mean_rating\n",
      "0                                         'Salem's Lot        2         3.67\n",
      "1                   1 000 Places to See Before You Die        1         2.50\n",
      "2    13 Little Blue Envelopes (Little Blue Envelope...        3         4.67\n",
      "3    1491: New Revelations of the Americas Before C...        2         4.50\n",
      "4                                                 1776        4         4.00\n",
      "..                                                 ...      ...          ...\n",
      "995           Wyrd Sisters (Discworld  #6; Witches #2)        3         3.67\n",
      "996                        Xenocide (Ender's Saga  #3)        3         3.40\n",
      "997                                    Year of Wonders        4         3.20\n",
      "998                        You Suck (A Love Story  #2)        2         4.50\n",
      "999  Zen and the Art of Motorcycle Maintenance: An ...        4         3.83\n",
      "\n",
      "[1000 rows x 3 columns]\n"
     ]
    }
   ],
   "source": [
    "query = \"\"\"\n",
    "SELECT b.title, \n",
    "       COUNT(DISTINCT r.review_id) AS reviews, \n",
    "       ROUND(AVG(t.rating), 2) AS mean_rating\n",
    "FROM books AS b\n",
    "LEFT JOIN reviews AS r ON b.book_id=r.book_id\n",
    "LEFT JOIN ratings AS t ON b.book_id=t.book_id\n",
    "GROUP BY b.book_id\n",
    "\"\"\"\n",
    "\n",
    "q2 = pd.io.sql.read_sql(query, con = engine)\n",
    "print(q2)"
   ]
  },
  {
   "cell_type": "markdown",
   "id": "3e2b9e47",
   "metadata": {},
   "source": [
    "**Вывод**: у Сумерек наибольшее количество обзоров (7), а вот средний рейтинг ниже 4, тогда как книжки о Ходячих мертвецах отличаются хорошим рейтингом, но малым количеством обзоров (всего 2). В остальном всё зависит от книги."
   ]
  },
  {
   "cell_type": "markdown",
   "id": "c5f7b277",
   "metadata": {},
   "source": [
    "**Определим издательство, которое выпустило наибольшее число книг толще 50 страниц (так мы исключим из анализа брошюры).**"
   ]
  },
  {
   "cell_type": "code",
   "execution_count": 9,
   "id": "2182348c",
   "metadata": {
    "scrolled": false
   },
   "outputs": [
    {
     "name": "stdout",
     "output_type": "stream",
     "text": [
      "Издательство: Penguin Books\n",
      "Количество книг: 42\n"
     ]
    }
   ],
   "source": [
    "query = \"\"\"\n",
    "SELECT p.publisher, \n",
    "       COUNT(DISTINCT b.book_id) AS book_count\n",
    "FROM books AS b\n",
    "LEFT JOIN publishers AS p ON b.publisher_id=p.publisher_id\n",
    "WHERE b.num_pages > 50\n",
    "GROUP BY p.publisher\n",
    "ORDER BY book_count DESC\n",
    "LIMIT 1\n",
    "\"\"\"\n",
    "\n",
    "q3 = pd.io.sql.read_sql(query, con = engine)\n",
    "print('Издательство:', q3['publisher'][0])\n",
    "print('Количество книг:', q3['book_count'][0])"
   ]
  },
  {
   "cell_type": "markdown",
   "id": "728575d9",
   "metadata": {},
   "source": [
    "**Вывод**: Penguin Books выпустило больше других книг толщиной 50+ страниц. Это больше чем в 2 раза превышает количество книг издателя, который закрывает топ-5 данного рейтинга. Стоит отметить, что это британская компания, которая публикует книги на английском языке."
   ]
  },
  {
   "cell_type": "markdown",
   "id": "3e15c6b2",
   "metadata": {},
   "source": [
    "**Определим автора с самой высокой средней оценкой книг — будем учитывать только книги с 50 и более оценками.**"
   ]
  },
  {
   "cell_type": "code",
   "execution_count": 24,
   "id": "8efb02ee",
   "metadata": {
    "scrolled": true
   },
   "outputs": [
    {
     "name": "stdout",
     "output_type": "stream",
     "text": [
      "Имя автора: J.K. Rowling/Mary GrandPré\n",
      "Средний рейтинг: 4.29\n"
     ]
    }
   ],
   "source": [
    "query = \"\"\"\n",
    "WITH\n",
    "i AS (SELECT a.author_id, \n",
    "             a.author, \n",
    "             ROUND(AVG(r.rating), 2) AS mean_rating\n",
    "      FROM books b\n",
    "      LEFT JOIN ratings AS r ON r.book_id=b.book_id\n",
    "      LEFT JOIN authors AS a ON b.author_id=a.author_id\n",
    "      GROUP BY a.author_id, b.book_id\n",
    "      HAVING COUNT(r.rating_id) >= 50)\n",
    "SELECT author,\n",
    "       ROUND(AVG(mean_rating), 2) AS total_rating\n",
    "FROM i\n",
    "GROUP BY author\n",
    "ORDER BY total_rating DESC\n",
    "\"\"\"\n",
    "\n",
    "q4 = pd.io.sql.read_sql(query, con = engine)\n",
    "\n",
    "print('Имя автора:', q4['author'][0])\n",
    "print('Средний рейтинг:', q4['total_rating'][0])"
   ]
  },
  {
   "cell_type": "markdown",
   "id": "27f09587",
   "metadata": {},
   "source": [
    "**Вывод**: Здесь мы видим гордость британской литературы, которая на протяжении многих лет пользуется популярностью у читателей."
   ]
  },
  {
   "cell_type": "markdown",
   "id": "9b647cc8",
   "metadata": {},
   "source": [
    "**Посчитаем среднее количество обзоров от пользователей, которые поставили больше 50 оценок.**"
   ]
  },
  {
   "cell_type": "code",
   "execution_count": 63,
   "id": "b84c6e63",
   "metadata": {},
   "outputs": [
    {
     "name": "stdout",
     "output_type": "stream",
     "text": [
      "Среднее количество обзоров от пользователей, \n",
      "которые поставили больше 50 оценок: 24.33\n"
     ]
    }
   ],
   "source": [
    "query = \"\"\"\n",
    "WITH\n",
    "i AS (SELECT r.username\n",
    "      FROM ratings AS r\n",
    "      LEFT JOIN books AS b ON r.book_id=b.book_id\n",
    "      GROUP BY r.username\n",
    "      HAVING COUNT(r.rating_id) > 50\n",
    "),\n",
    "k AS (SELECT r.username,\n",
    "             COUNT(DISTINCT r.review_id) AS reviews_count\n",
    "      FROM reviews AS r\n",
    "      LEFT JOIN books AS b ON r.book_id=b.book_id\n",
    "      GROUP BY r.username)\n",
    "      \n",
    "SELECT ROUND(AVG(k.reviews_count), 2) AS reviews_count_mean\n",
    "FROM i LEFT JOIN k ON i.username=k.username\n",
    "\"\"\"\n",
    "\n",
    "q5 = pd.io.sql.read_sql(query, con = engine)\n",
    "\n",
    "print('Среднее количество обзоров от пользователей, \\nкоторые поставили больше 50 оценок:', q5['reviews_count_mean'][0])"
   ]
  },
  {
   "cell_type": "markdown",
   "id": "bc6ba121",
   "metadata": {},
   "source": [
    "## Вывод"
   ]
  },
  {
   "cell_type": "markdown",
   "id": "90f95170",
   "metadata": {},
   "source": [
    "Мы произвели анализ баз данных нашего сервиса. Посчитали количество обзоров и среднюю оценку для всех книг. Выяснилось следующее:\n",
    "\n",
    "* 82% от общего числа книг вышло после 1 января 2000 года. Это говорит о том, что большинство книг содержит актуальную информацию;\n",
    "* Penguin Books - лидер среди издательств по количеству выпущенных книг;\n",
    "* J.K. Rowling совместно с иллюстратором Mary GrandPré - лидеры по средней оценке популярных книг, т.е. книг с 50+ оценками;\n",
    "* Среднее количество обзоров от пользователей, которые поставили 50+ оценок: 24.33"
   ]
  }
 ],
 "metadata": {
  "ExecuteTimeLog": [
   {
    "duration": 8909,
    "start_time": "2023-02-21T23:28:24.882Z"
   },
   {
    "duration": 54,
    "start_time": "2023-02-21T23:28:33.793Z"
   },
   {
    "duration": 16,
    "start_time": "2023-02-21T23:28:33.848Z"
   },
   {
    "duration": 9,
    "start_time": "2023-02-21T23:28:33.865Z"
   },
   {
    "duration": 9,
    "start_time": "2023-02-21T23:28:33.876Z"
   },
   {
    "duration": 10,
    "start_time": "2023-02-21T23:28:33.887Z"
   },
   {
    "duration": 7,
    "start_time": "2023-02-21T23:28:33.898Z"
   },
   {
    "duration": 19,
    "start_time": "2023-02-21T23:28:33.907Z"
   },
   {
    "duration": 10,
    "start_time": "2023-02-21T23:28:33.927Z"
   },
   {
    "duration": 11,
    "start_time": "2023-02-21T23:28:33.939Z"
   },
   {
    "duration": 24,
    "start_time": "2023-02-21T23:28:33.951Z"
   },
   {
    "duration": 21,
    "start_time": "2023-02-21T23:29:20.414Z"
   },
   {
    "duration": 19,
    "start_time": "2023-02-21T23:29:34.534Z"
   },
   {
    "duration": 20,
    "start_time": "2023-02-21T23:29:38.051Z"
   },
   {
    "duration": 23,
    "start_time": "2023-02-21T23:29:42.732Z"
   },
   {
    "duration": 45,
    "start_time": "2023-02-22T08:17:13.700Z"
   },
   {
    "duration": 5665,
    "start_time": "2023-02-22T08:17:18.040Z"
   },
   {
    "duration": 59,
    "start_time": "2023-02-22T08:17:23.707Z"
   },
   {
    "duration": 11,
    "start_time": "2023-02-22T08:17:23.767Z"
   },
   {
    "duration": 10,
    "start_time": "2023-02-22T08:17:23.779Z"
   },
   {
    "duration": 12,
    "start_time": "2023-02-22T08:17:23.791Z"
   },
   {
    "duration": 11,
    "start_time": "2023-02-22T08:17:23.805Z"
   },
   {
    "duration": 12,
    "start_time": "2023-02-22T08:17:23.818Z"
   },
   {
    "duration": 24,
    "start_time": "2023-02-22T08:17:23.831Z"
   },
   {
    "duration": 10,
    "start_time": "2023-02-22T08:17:23.857Z"
   },
   {
    "duration": 12,
    "start_time": "2023-02-22T08:17:23.869Z"
   },
   {
    "duration": 32,
    "start_time": "2023-02-22T08:17:23.883Z"
   },
   {
    "duration": 144,
    "start_time": "2023-02-22T08:20:57.635Z"
   },
   {
    "duration": 17,
    "start_time": "2023-02-22T08:21:00.555Z"
   },
   {
    "duration": 18,
    "start_time": "2023-02-22T08:21:12.496Z"
   },
   {
    "duration": 63,
    "start_time": "2023-02-22T08:23:22.001Z"
   },
   {
    "duration": 80,
    "start_time": "2023-02-22T08:23:36.705Z"
   },
   {
    "duration": 17,
    "start_time": "2023-02-22T08:23:44.254Z"
   },
   {
    "duration": 19,
    "start_time": "2023-02-22T08:23:58.853Z"
   },
   {
    "duration": 13,
    "start_time": "2023-02-22T08:24:20.138Z"
   },
   {
    "duration": 53,
    "start_time": "2023-02-22T08:24:30.960Z"
   },
   {
    "duration": 13,
    "start_time": "2023-02-22T08:24:41.894Z"
   },
   {
    "duration": 680,
    "start_time": "2023-02-22T08:28:51.037Z"
   },
   {
    "duration": 781,
    "start_time": "2023-02-22T08:29:06.308Z"
   },
   {
    "duration": 17,
    "start_time": "2023-02-22T08:29:25.629Z"
   },
   {
    "duration": 63,
    "start_time": "2023-02-22T08:39:19.919Z"
   },
   {
    "duration": 68,
    "start_time": "2023-02-22T08:39:28.307Z"
   },
   {
    "duration": 86,
    "start_time": "2023-02-22T08:39:45.867Z"
   },
   {
    "duration": 64,
    "start_time": "2023-02-22T08:39:53.686Z"
   },
   {
    "duration": 71,
    "start_time": "2023-02-22T08:40:22.333Z"
   },
   {
    "duration": 68,
    "start_time": "2023-02-22T08:40:39.744Z"
   },
   {
    "duration": 60,
    "start_time": "2023-02-22T08:40:45.267Z"
   },
   {
    "duration": 67,
    "start_time": "2023-02-22T08:41:18.057Z"
   },
   {
    "duration": 90,
    "start_time": "2023-02-22T08:41:31.132Z"
   },
   {
    "duration": 61,
    "start_time": "2023-02-22T08:41:55.087Z"
   },
   {
    "duration": 62,
    "start_time": "2023-02-22T08:42:06.192Z"
   },
   {
    "duration": 74,
    "start_time": "2023-02-22T08:42:31.222Z"
   },
   {
    "duration": 70,
    "start_time": "2023-02-22T08:42:45.730Z"
   },
   {
    "duration": 69,
    "start_time": "2023-02-22T08:43:24.167Z"
   },
   {
    "duration": 74,
    "start_time": "2023-02-22T08:44:51.965Z"
   },
   {
    "duration": 68,
    "start_time": "2023-02-22T08:44:54.371Z"
   },
   {
    "duration": 68,
    "start_time": "2023-02-22T08:45:39.454Z"
   },
   {
    "duration": 86,
    "start_time": "2023-02-22T08:47:08.655Z"
   },
   {
    "duration": 75,
    "start_time": "2023-02-22T08:47:40.453Z"
   },
   {
    "duration": 69,
    "start_time": "2023-02-22T08:47:52.029Z"
   },
   {
    "duration": 70,
    "start_time": "2023-02-22T08:48:22.255Z"
   },
   {
    "duration": 13,
    "start_time": "2023-02-22T08:48:25.851Z"
   },
   {
    "duration": 13,
    "start_time": "2023-02-22T08:48:37.722Z"
   },
   {
    "duration": 72,
    "start_time": "2023-02-22T08:49:20.434Z"
   },
   {
    "duration": 17,
    "start_time": "2023-02-22T08:49:35.343Z"
   },
   {
    "duration": 74,
    "start_time": "2023-02-22T08:50:48.398Z"
   },
   {
    "duration": 65,
    "start_time": "2023-02-22T08:51:22.835Z"
   },
   {
    "duration": 17,
    "start_time": "2023-02-22T08:51:28.237Z"
   },
   {
    "duration": 68,
    "start_time": "2023-02-22T08:51:42.589Z"
   },
   {
    "duration": 100,
    "start_time": "2023-02-22T08:51:45.008Z"
   },
   {
    "duration": 16,
    "start_time": "2023-02-22T08:51:54.051Z"
   },
   {
    "duration": 14,
    "start_time": "2023-02-22T08:54:57.063Z"
   },
   {
    "duration": 14,
    "start_time": "2023-02-22T08:55:09.907Z"
   },
   {
    "duration": 15,
    "start_time": "2023-02-22T08:55:13.380Z"
   },
   {
    "duration": 14,
    "start_time": "2023-02-22T08:55:20.604Z"
   },
   {
    "duration": 12,
    "start_time": "2023-02-22T08:56:57.702Z"
   },
   {
    "duration": 12,
    "start_time": "2023-02-22T08:57:27.855Z"
   },
   {
    "duration": 13,
    "start_time": "2023-02-22T08:57:46.665Z"
   },
   {
    "duration": 12,
    "start_time": "2023-02-22T08:57:55.655Z"
   },
   {
    "duration": 17,
    "start_time": "2023-02-22T09:05:15.023Z"
   },
   {
    "duration": 21,
    "start_time": "2023-02-22T09:05:43.315Z"
   }
  ],
  "kernelspec": {
   "display_name": "Python 3 (ipykernel)",
   "language": "python",
   "name": "python3"
  },
  "language_info": {
   "codemirror_mode": {
    "name": "ipython",
    "version": 3
   },
   "file_extension": ".py",
   "mimetype": "text/x-python",
   "name": "python",
   "nbconvert_exporter": "python",
   "pygments_lexer": "ipython3",
   "version": "3.9.5"
  },
  "toc": {
   "base_numbering": 1,
   "nav_menu": {},
   "number_sections": true,
   "sideBar": true,
   "skip_h1_title": true,
   "title_cell": "Table of Contents",
   "title_sidebar": "Contents",
   "toc_cell": false,
   "toc_position": {},
   "toc_section_display": true,
   "toc_window_display": true
  }
 },
 "nbformat": 4,
 "nbformat_minor": 5
}
