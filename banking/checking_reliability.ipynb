{
 "cells": [
  {
   "cell_type": "markdown",
   "id": "c81daeeb",
   "metadata": {
    "deletable": false,
    "id": "c81daeeb"
   },
   "source": [
    "# Исследование надежности заемщиков\n"
   ]
  },
  {
   "cell_type": "markdown",
   "id": "e7b0770d",
   "metadata": {},
   "source": [
    "## Описание проекта"
   ]
  },
  {
   "cell_type": "markdown",
   "id": "827c20bf",
   "metadata": {
    "id": "827c20bf"
   },
   "source": [
    "Наш заказчик — кредитный отдел банка. \n",
    "\n",
    "**Цель проекта** - разобраться, влияет ли семейное положение и количество детей клиента на факт погашения кредита в срок.\n",
    "\n",
    "Результаты исследования будут учтены при построении модели кредитного скоринга — специальной системы, которая оценивает способность потенциального заёмщика вернуть кредит банку.\n",
    "\n",
    "**Описание данных**\n",
    "\n",
    "children — количество детей в семье\n",
    "\n",
    "days_employed — общий трудовой стаж в днях\n",
    "\n",
    "dob_years — возраст клиента в годах\n",
    "\n",
    "education — уровень образования клиента\n",
    "\n",
    "education_id — идентификатор уровня образования\n",
    "\n",
    "family_status — семейное положение\n",
    "\n",
    "family_status_id — идентификатор семейного положения\n",
    "\n",
    "gender — пол клиента\n",
    "\n",
    "income_type — тип занятости\n",
    "\n",
    "debt — имел ли задолженность по возврату кредитов\n",
    "\n",
    "total_income — ежемесячный доход\n",
    "    \n",
    "purpose — цель получения кредита"
   ]
  },
  {
   "cell_type": "markdown",
   "id": "744d7639",
   "metadata": {
    "deletable": false,
    "id": "744d7639"
   },
   "source": [
    "## Откройте таблицу и изучите общую информацию о данных"
   ]
  },
  {
   "cell_type": "markdown",
   "id": "e7a14c31",
   "metadata": {
    "deletable": false,
    "id": "e7a14c31"
   },
   "source": [
    "**Задание 1. Импортируйте библиотеку pandas. Считайте данные из csv-файла в датафрейм и сохраните в переменную `data`. Путь к файлу:**\n",
    "\n",
    "`/datasets/data.csv`"
   ]
  },
  {
   "cell_type": "code",
   "execution_count": 1,
   "id": "7bcf75c9",
   "metadata": {
    "deletable": false,
    "id": "7bcf75c9"
   },
   "outputs": [],
   "source": [
    "import pandas as pd\n",
    "\n",
    "try:\n",
    "    data = pd.read_csv('/datasets/data.csv')\n",
    "except:\n",
    "    data = pd.read_csv('https://code.s3.yandex.net/datasets/data.csv')"
   ]
  },
  {
   "cell_type": "markdown",
   "id": "b8038fe3",
   "metadata": {
    "deletable": false,
    "id": "b8038fe3"
   },
   "source": [
    "**Задание 2. Выведите первые 20 строчек датафрейма `data` на экран.**"
   ]
  },
  {
   "cell_type": "code",
   "execution_count": 2,
   "id": "2a7cab99",
   "metadata": {
    "deletable": false,
    "id": "2a7cab99",
    "outputId": "1a8f3ef2-d323-4ec2-ddf7-89670b5944c4"
   },
   "outputs": [
    {
     "data": {
      "text/html": [
       "<div>\n",
       "<style scoped>\n",
       "    .dataframe tbody tr th:only-of-type {\n",
       "        vertical-align: middle;\n",
       "    }\n",
       "\n",
       "    .dataframe tbody tr th {\n",
       "        vertical-align: top;\n",
       "    }\n",
       "\n",
       "    .dataframe thead th {\n",
       "        text-align: right;\n",
       "    }\n",
       "</style>\n",
       "<table border=\"1\" class=\"dataframe\">\n",
       "  <thead>\n",
       "    <tr style=\"text-align: right;\">\n",
       "      <th></th>\n",
       "      <th>children</th>\n",
       "      <th>days_employed</th>\n",
       "      <th>dob_years</th>\n",
       "      <th>education</th>\n",
       "      <th>education_id</th>\n",
       "      <th>family_status</th>\n",
       "      <th>family_status_id</th>\n",
       "      <th>gender</th>\n",
       "      <th>income_type</th>\n",
       "      <th>debt</th>\n",
       "      <th>total_income</th>\n",
       "      <th>purpose</th>\n",
       "    </tr>\n",
       "  </thead>\n",
       "  <tbody>\n",
       "    <tr>\n",
       "      <th>0</th>\n",
       "      <td>1</td>\n",
       "      <td>-8437.673028</td>\n",
       "      <td>42</td>\n",
       "      <td>высшее</td>\n",
       "      <td>0</td>\n",
       "      <td>женат / замужем</td>\n",
       "      <td>0</td>\n",
       "      <td>F</td>\n",
       "      <td>сотрудник</td>\n",
       "      <td>0</td>\n",
       "      <td>253875.639453</td>\n",
       "      <td>покупка жилья</td>\n",
       "    </tr>\n",
       "    <tr>\n",
       "      <th>1</th>\n",
       "      <td>1</td>\n",
       "      <td>-4024.803754</td>\n",
       "      <td>36</td>\n",
       "      <td>среднее</td>\n",
       "      <td>1</td>\n",
       "      <td>женат / замужем</td>\n",
       "      <td>0</td>\n",
       "      <td>F</td>\n",
       "      <td>сотрудник</td>\n",
       "      <td>0</td>\n",
       "      <td>112080.014102</td>\n",
       "      <td>приобретение автомобиля</td>\n",
       "    </tr>\n",
       "    <tr>\n",
       "      <th>2</th>\n",
       "      <td>0</td>\n",
       "      <td>-5623.422610</td>\n",
       "      <td>33</td>\n",
       "      <td>Среднее</td>\n",
       "      <td>1</td>\n",
       "      <td>женат / замужем</td>\n",
       "      <td>0</td>\n",
       "      <td>M</td>\n",
       "      <td>сотрудник</td>\n",
       "      <td>0</td>\n",
       "      <td>145885.952297</td>\n",
       "      <td>покупка жилья</td>\n",
       "    </tr>\n",
       "    <tr>\n",
       "      <th>3</th>\n",
       "      <td>3</td>\n",
       "      <td>-4124.747207</td>\n",
       "      <td>32</td>\n",
       "      <td>среднее</td>\n",
       "      <td>1</td>\n",
       "      <td>женат / замужем</td>\n",
       "      <td>0</td>\n",
       "      <td>M</td>\n",
       "      <td>сотрудник</td>\n",
       "      <td>0</td>\n",
       "      <td>267628.550329</td>\n",
       "      <td>дополнительное образование</td>\n",
       "    </tr>\n",
       "    <tr>\n",
       "      <th>4</th>\n",
       "      <td>0</td>\n",
       "      <td>340266.072047</td>\n",
       "      <td>53</td>\n",
       "      <td>среднее</td>\n",
       "      <td>1</td>\n",
       "      <td>гражданский брак</td>\n",
       "      <td>1</td>\n",
       "      <td>F</td>\n",
       "      <td>пенсионер</td>\n",
       "      <td>0</td>\n",
       "      <td>158616.077870</td>\n",
       "      <td>сыграть свадьбу</td>\n",
       "    </tr>\n",
       "    <tr>\n",
       "      <th>5</th>\n",
       "      <td>0</td>\n",
       "      <td>-926.185831</td>\n",
       "      <td>27</td>\n",
       "      <td>высшее</td>\n",
       "      <td>0</td>\n",
       "      <td>гражданский брак</td>\n",
       "      <td>1</td>\n",
       "      <td>M</td>\n",
       "      <td>компаньон</td>\n",
       "      <td>0</td>\n",
       "      <td>255763.565419</td>\n",
       "      <td>покупка жилья</td>\n",
       "    </tr>\n",
       "    <tr>\n",
       "      <th>6</th>\n",
       "      <td>0</td>\n",
       "      <td>-2879.202052</td>\n",
       "      <td>43</td>\n",
       "      <td>высшее</td>\n",
       "      <td>0</td>\n",
       "      <td>женат / замужем</td>\n",
       "      <td>0</td>\n",
       "      <td>F</td>\n",
       "      <td>компаньон</td>\n",
       "      <td>0</td>\n",
       "      <td>240525.971920</td>\n",
       "      <td>операции с жильем</td>\n",
       "    </tr>\n",
       "    <tr>\n",
       "      <th>7</th>\n",
       "      <td>0</td>\n",
       "      <td>-152.779569</td>\n",
       "      <td>50</td>\n",
       "      <td>СРЕДНЕЕ</td>\n",
       "      <td>1</td>\n",
       "      <td>женат / замужем</td>\n",
       "      <td>0</td>\n",
       "      <td>M</td>\n",
       "      <td>сотрудник</td>\n",
       "      <td>0</td>\n",
       "      <td>135823.934197</td>\n",
       "      <td>образование</td>\n",
       "    </tr>\n",
       "    <tr>\n",
       "      <th>8</th>\n",
       "      <td>2</td>\n",
       "      <td>-6929.865299</td>\n",
       "      <td>35</td>\n",
       "      <td>ВЫСШЕЕ</td>\n",
       "      <td>0</td>\n",
       "      <td>гражданский брак</td>\n",
       "      <td>1</td>\n",
       "      <td>F</td>\n",
       "      <td>сотрудник</td>\n",
       "      <td>0</td>\n",
       "      <td>95856.832424</td>\n",
       "      <td>на проведение свадьбы</td>\n",
       "    </tr>\n",
       "    <tr>\n",
       "      <th>9</th>\n",
       "      <td>0</td>\n",
       "      <td>-2188.756445</td>\n",
       "      <td>41</td>\n",
       "      <td>среднее</td>\n",
       "      <td>1</td>\n",
       "      <td>женат / замужем</td>\n",
       "      <td>0</td>\n",
       "      <td>M</td>\n",
       "      <td>сотрудник</td>\n",
       "      <td>0</td>\n",
       "      <td>144425.938277</td>\n",
       "      <td>покупка жилья для семьи</td>\n",
       "    </tr>\n",
       "    <tr>\n",
       "      <th>10</th>\n",
       "      <td>2</td>\n",
       "      <td>-4171.483647</td>\n",
       "      <td>36</td>\n",
       "      <td>высшее</td>\n",
       "      <td>0</td>\n",
       "      <td>женат / замужем</td>\n",
       "      <td>0</td>\n",
       "      <td>M</td>\n",
       "      <td>компаньон</td>\n",
       "      <td>0</td>\n",
       "      <td>113943.491460</td>\n",
       "      <td>покупка недвижимости</td>\n",
       "    </tr>\n",
       "    <tr>\n",
       "      <th>11</th>\n",
       "      <td>0</td>\n",
       "      <td>-792.701887</td>\n",
       "      <td>40</td>\n",
       "      <td>среднее</td>\n",
       "      <td>1</td>\n",
       "      <td>женат / замужем</td>\n",
       "      <td>0</td>\n",
       "      <td>F</td>\n",
       "      <td>сотрудник</td>\n",
       "      <td>0</td>\n",
       "      <td>77069.234271</td>\n",
       "      <td>покупка коммерческой недвижимости</td>\n",
       "    </tr>\n",
       "    <tr>\n",
       "      <th>12</th>\n",
       "      <td>0</td>\n",
       "      <td>NaN</td>\n",
       "      <td>65</td>\n",
       "      <td>среднее</td>\n",
       "      <td>1</td>\n",
       "      <td>гражданский брак</td>\n",
       "      <td>1</td>\n",
       "      <td>M</td>\n",
       "      <td>пенсионер</td>\n",
       "      <td>0</td>\n",
       "      <td>NaN</td>\n",
       "      <td>сыграть свадьбу</td>\n",
       "    </tr>\n",
       "    <tr>\n",
       "      <th>13</th>\n",
       "      <td>0</td>\n",
       "      <td>-1846.641941</td>\n",
       "      <td>54</td>\n",
       "      <td>неоконченное высшее</td>\n",
       "      <td>2</td>\n",
       "      <td>женат / замужем</td>\n",
       "      <td>0</td>\n",
       "      <td>F</td>\n",
       "      <td>сотрудник</td>\n",
       "      <td>0</td>\n",
       "      <td>130458.228857</td>\n",
       "      <td>приобретение автомобиля</td>\n",
       "    </tr>\n",
       "    <tr>\n",
       "      <th>14</th>\n",
       "      <td>0</td>\n",
       "      <td>-1844.956182</td>\n",
       "      <td>56</td>\n",
       "      <td>высшее</td>\n",
       "      <td>0</td>\n",
       "      <td>гражданский брак</td>\n",
       "      <td>1</td>\n",
       "      <td>F</td>\n",
       "      <td>компаньон</td>\n",
       "      <td>1</td>\n",
       "      <td>165127.911772</td>\n",
       "      <td>покупка жилой недвижимости</td>\n",
       "    </tr>\n",
       "    <tr>\n",
       "      <th>15</th>\n",
       "      <td>1</td>\n",
       "      <td>-972.364419</td>\n",
       "      <td>26</td>\n",
       "      <td>среднее</td>\n",
       "      <td>1</td>\n",
       "      <td>женат / замужем</td>\n",
       "      <td>0</td>\n",
       "      <td>F</td>\n",
       "      <td>сотрудник</td>\n",
       "      <td>0</td>\n",
       "      <td>116820.904450</td>\n",
       "      <td>строительство собственной недвижимости</td>\n",
       "    </tr>\n",
       "    <tr>\n",
       "      <th>16</th>\n",
       "      <td>0</td>\n",
       "      <td>-1719.934226</td>\n",
       "      <td>35</td>\n",
       "      <td>среднее</td>\n",
       "      <td>1</td>\n",
       "      <td>женат / замужем</td>\n",
       "      <td>0</td>\n",
       "      <td>F</td>\n",
       "      <td>сотрудник</td>\n",
       "      <td>0</td>\n",
       "      <td>289202.704229</td>\n",
       "      <td>недвижимость</td>\n",
       "    </tr>\n",
       "    <tr>\n",
       "      <th>17</th>\n",
       "      <td>0</td>\n",
       "      <td>-2369.999720</td>\n",
       "      <td>33</td>\n",
       "      <td>высшее</td>\n",
       "      <td>0</td>\n",
       "      <td>гражданский брак</td>\n",
       "      <td>1</td>\n",
       "      <td>M</td>\n",
       "      <td>сотрудник</td>\n",
       "      <td>0</td>\n",
       "      <td>90410.586745</td>\n",
       "      <td>строительство недвижимости</td>\n",
       "    </tr>\n",
       "    <tr>\n",
       "      <th>18</th>\n",
       "      <td>0</td>\n",
       "      <td>400281.136913</td>\n",
       "      <td>53</td>\n",
       "      <td>среднее</td>\n",
       "      <td>1</td>\n",
       "      <td>вдовец / вдова</td>\n",
       "      <td>2</td>\n",
       "      <td>F</td>\n",
       "      <td>пенсионер</td>\n",
       "      <td>0</td>\n",
       "      <td>56823.777243</td>\n",
       "      <td>на покупку подержанного автомобиля</td>\n",
       "    </tr>\n",
       "    <tr>\n",
       "      <th>19</th>\n",
       "      <td>0</td>\n",
       "      <td>-10038.818549</td>\n",
       "      <td>48</td>\n",
       "      <td>СРЕДНЕЕ</td>\n",
       "      <td>1</td>\n",
       "      <td>в разводе</td>\n",
       "      <td>3</td>\n",
       "      <td>F</td>\n",
       "      <td>сотрудник</td>\n",
       "      <td>0</td>\n",
       "      <td>242831.107982</td>\n",
       "      <td>на покупку своего автомобиля</td>\n",
       "    </tr>\n",
       "  </tbody>\n",
       "</table>\n",
       "</div>"
      ],
      "text/plain": [
       "    children  days_employed  dob_years            education  education_id  \\\n",
       "0          1   -8437.673028         42               высшее             0   \n",
       "1          1   -4024.803754         36              среднее             1   \n",
       "2          0   -5623.422610         33              Среднее             1   \n",
       "3          3   -4124.747207         32              среднее             1   \n",
       "4          0  340266.072047         53              среднее             1   \n",
       "5          0    -926.185831         27               высшее             0   \n",
       "6          0   -2879.202052         43               высшее             0   \n",
       "7          0    -152.779569         50              СРЕДНЕЕ             1   \n",
       "8          2   -6929.865299         35               ВЫСШЕЕ             0   \n",
       "9          0   -2188.756445         41              среднее             1   \n",
       "10         2   -4171.483647         36               высшее             0   \n",
       "11         0    -792.701887         40              среднее             1   \n",
       "12         0            NaN         65              среднее             1   \n",
       "13         0   -1846.641941         54  неоконченное высшее             2   \n",
       "14         0   -1844.956182         56               высшее             0   \n",
       "15         1    -972.364419         26              среднее             1   \n",
       "16         0   -1719.934226         35              среднее             1   \n",
       "17         0   -2369.999720         33               высшее             0   \n",
       "18         0  400281.136913         53              среднее             1   \n",
       "19         0  -10038.818549         48              СРЕДНЕЕ             1   \n",
       "\n",
       "       family_status  family_status_id gender income_type  debt  \\\n",
       "0    женат / замужем                 0      F   сотрудник     0   \n",
       "1    женат / замужем                 0      F   сотрудник     0   \n",
       "2    женат / замужем                 0      M   сотрудник     0   \n",
       "3    женат / замужем                 0      M   сотрудник     0   \n",
       "4   гражданский брак                 1      F   пенсионер     0   \n",
       "5   гражданский брак                 1      M   компаньон     0   \n",
       "6    женат / замужем                 0      F   компаньон     0   \n",
       "7    женат / замужем                 0      M   сотрудник     0   \n",
       "8   гражданский брак                 1      F   сотрудник     0   \n",
       "9    женат / замужем                 0      M   сотрудник     0   \n",
       "10   женат / замужем                 0      M   компаньон     0   \n",
       "11   женат / замужем                 0      F   сотрудник     0   \n",
       "12  гражданский брак                 1      M   пенсионер     0   \n",
       "13   женат / замужем                 0      F   сотрудник     0   \n",
       "14  гражданский брак                 1      F   компаньон     1   \n",
       "15   женат / замужем                 0      F   сотрудник     0   \n",
       "16   женат / замужем                 0      F   сотрудник     0   \n",
       "17  гражданский брак                 1      M   сотрудник     0   \n",
       "18    вдовец / вдова                 2      F   пенсионер     0   \n",
       "19         в разводе                 3      F   сотрудник     0   \n",
       "\n",
       "     total_income                                 purpose  \n",
       "0   253875.639453                           покупка жилья  \n",
       "1   112080.014102                 приобретение автомобиля  \n",
       "2   145885.952297                           покупка жилья  \n",
       "3   267628.550329              дополнительное образование  \n",
       "4   158616.077870                         сыграть свадьбу  \n",
       "5   255763.565419                           покупка жилья  \n",
       "6   240525.971920                       операции с жильем  \n",
       "7   135823.934197                             образование  \n",
       "8    95856.832424                   на проведение свадьбы  \n",
       "9   144425.938277                 покупка жилья для семьи  \n",
       "10  113943.491460                    покупка недвижимости  \n",
       "11   77069.234271       покупка коммерческой недвижимости  \n",
       "12            NaN                         сыграть свадьбу  \n",
       "13  130458.228857                 приобретение автомобиля  \n",
       "14  165127.911772              покупка жилой недвижимости  \n",
       "15  116820.904450  строительство собственной недвижимости  \n",
       "16  289202.704229                            недвижимость  \n",
       "17   90410.586745              строительство недвижимости  \n",
       "18   56823.777243      на покупку подержанного автомобиля  \n",
       "19  242831.107982            на покупку своего автомобиля  "
      ]
     },
     "execution_count": 2,
     "metadata": {},
     "output_type": "execute_result"
    }
   ],
   "source": [
    "data.head(20)"
   ]
  },
  {
   "cell_type": "markdown",
   "id": "1c12e233",
   "metadata": {
    "deletable": false,
    "id": "1c12e233"
   },
   "source": [
    "**Задание 3. Выведите основную информацию о датафрейме с помощью метода `info()`.**"
   ]
  },
  {
   "cell_type": "code",
   "execution_count": 3,
   "id": "2b757bca",
   "metadata": {
    "deletable": false,
    "id": "2b757bca",
    "outputId": "15376089-8dad-46c9-b520-c05248d43158"
   },
   "outputs": [
    {
     "name": "stdout",
     "output_type": "stream",
     "text": [
      "<class 'pandas.core.frame.DataFrame'>\n",
      "RangeIndex: 21525 entries, 0 to 21524\n",
      "Data columns (total 12 columns):\n",
      " #   Column            Non-Null Count  Dtype  \n",
      "---  ------            --------------  -----  \n",
      " 0   children          21525 non-null  int64  \n",
      " 1   days_employed     19351 non-null  float64\n",
      " 2   dob_years         21525 non-null  int64  \n",
      " 3   education         21525 non-null  object \n",
      " 4   education_id      21525 non-null  int64  \n",
      " 5   family_status     21525 non-null  object \n",
      " 6   family_status_id  21525 non-null  int64  \n",
      " 7   gender            21525 non-null  object \n",
      " 8   income_type       21525 non-null  object \n",
      " 9   debt              21525 non-null  int64  \n",
      " 10  total_income      19351 non-null  float64\n",
      " 11  purpose           21525 non-null  object \n",
      "dtypes: float64(2), int64(5), object(5)\n",
      "memory usage: 2.0+ MB\n"
     ]
    }
   ],
   "source": [
    "data.info()"
   ]
  },
  {
   "cell_type": "markdown",
   "id": "333ec665",
   "metadata": {
    "deletable": false,
    "id": "333ec665"
   },
   "source": [
    "## Предобработка данных"
   ]
  },
  {
   "cell_type": "markdown",
   "id": "02d92d53",
   "metadata": {
    "deletable": false,
    "id": "02d92d53"
   },
   "source": [
    "### Удаление пропусков"
   ]
  },
  {
   "cell_type": "markdown",
   "id": "cd84967c",
   "metadata": {
    "deletable": false,
    "id": "cd84967c"
   },
   "source": [
    "**Задание 4. Выведите количество пропущенных значений для каждого столбца. Используйте комбинацию двух методов.**"
   ]
  },
  {
   "cell_type": "code",
   "execution_count": 4,
   "id": "7f9b2309",
   "metadata": {
    "deletable": false,
    "id": "7f9b2309",
    "outputId": "81f4d817-781c-465c-ed15-91ce4446810d"
   },
   "outputs": [
    {
     "data": {
      "text/plain": [
       "children               0\n",
       "days_employed       2174\n",
       "dob_years              0\n",
       "education              0\n",
       "education_id           0\n",
       "family_status          0\n",
       "family_status_id       0\n",
       "gender                 0\n",
       "income_type            0\n",
       "debt                   0\n",
       "total_income        2174\n",
       "purpose                0\n",
       "dtype: int64"
      ]
     },
     "execution_count": 4,
     "metadata": {},
     "output_type": "execute_result"
    }
   ],
   "source": [
    "data.isna().sum()"
   ]
  },
  {
   "cell_type": "markdown",
   "id": "db86e27b",
   "metadata": {
    "deletable": false,
    "id": "db86e27b"
   },
   "source": [
    "**Задание 5. В двух столбцах есть пропущенные значения. Один из них — `days_employed`. Пропуски в этом столбце вы обработаете на следующем этапе. Другой столбец с пропущенными значениями — `total_income` — хранит данные о доходах. На сумму дохода сильнее всего влияет тип занятости, поэтому заполнить пропуски в этом столбце нужно медианным значением по каждому типу из столбца `income_type`. Например, у человека с типом занятости `сотрудник` пропуск в столбце `total_income` должен быть заполнен медианным доходом среди всех записей с тем же типом.**"
   ]
  },
  {
   "cell_type": "code",
   "execution_count": 5,
   "id": "42006a93",
   "metadata": {
    "deletable": false,
    "id": "42006a93"
   },
   "outputs": [],
   "source": [
    "for t in data['income_type'].unique():\n",
    "    data.loc[(data['income_type'] == t) & (data['total_income'].isna()), 'total_income'] = \\\n",
    "    data.loc[(data['income_type'] == t), 'total_income'].median()"
   ]
  },
  {
   "cell_type": "markdown",
   "id": "89da5ece",
   "metadata": {
    "deletable": false,
    "id": "89da5ece"
   },
   "source": [
    "### Обработка аномальных значений"
   ]
  },
  {
   "cell_type": "markdown",
   "id": "57964554",
   "metadata": {
    "deletable": false,
    "id": "57964554"
   },
   "source": [
    "**Задание 6. В данных могут встречаться артефакты (аномалии) — значения, которые не отражают действительность и появились по какой-то ошибке. таким артефактом будет отрицательное количество дней трудового стажа в столбце `days_employed`. Для реальных данных это нормально. Обработайте значения в этом столбце: замените все отрицательные значения положительными с помощью метода `abs()`.**"
   ]
  },
  {
   "cell_type": "code",
   "execution_count": 6,
   "id": "f6f055bf",
   "metadata": {
    "deletable": false,
    "id": "f6f055bf"
   },
   "outputs": [],
   "source": [
    "data['days_employed'] = data['days_employed'].abs()"
   ]
  },
  {
   "cell_type": "markdown",
   "id": "6107dd2f",
   "metadata": {
    "deletable": false,
    "id": "6107dd2f"
   },
   "source": [
    "**Задание 7. Для каждого типа занятости выведите медианное значение трудового стажа `days_employed` в днях.**"
   ]
  },
  {
   "cell_type": "code",
   "execution_count": 7,
   "id": "85a5faf6",
   "metadata": {
    "deletable": false,
    "id": "85a5faf6",
    "outputId": "801ef80e-522b-4668-f34e-565af7432bcf"
   },
   "outputs": [
    {
     "data": {
      "text/plain": [
       "income_type\n",
       "безработный        366413.652744\n",
       "в декрете            3296.759962\n",
       "госслужащий          2689.368353\n",
       "компаньон            1547.382223\n",
       "пенсионер          365213.306266\n",
       "предприниматель       520.848083\n",
       "сотрудник            1574.202821\n",
       "студент               578.751554\n",
       "Name: days_employed, dtype: float64"
      ]
     },
     "execution_count": 7,
     "metadata": {},
     "output_type": "execute_result"
    }
   ],
   "source": [
    "data.groupby('income_type')['days_employed'].agg('median')"
   ]
  },
  {
   "cell_type": "markdown",
   "id": "38d1a030",
   "metadata": {
    "deletable": false,
    "id": "38d1a030"
   },
   "source": [
    "У двух типов (безработные и пенсионеры) получатся аномально большие значения. Исправить такие значения сложно, поэтому оставьте их как есть. Тем более этот столбец не понадобится вам для исследования."
   ]
  },
  {
   "cell_type": "markdown",
   "id": "d8a9f147",
   "metadata": {
    "deletable": false,
    "id": "d8a9f147"
   },
   "source": [
    "**Задание 8. Выведите перечень уникальных значений столбца `children`.**"
   ]
  },
  {
   "cell_type": "code",
   "execution_count": 8,
   "id": "ef5056eb",
   "metadata": {
    "deletable": false,
    "id": "ef5056eb",
    "outputId": "6975b15c-7f95-4697-d16d-a0c79b657b03"
   },
   "outputs": [
    {
     "data": {
      "text/plain": [
       "array([ 1,  0,  3,  2, -1,  4, 20,  5])"
      ]
     },
     "execution_count": 8,
     "metadata": {},
     "output_type": "execute_result"
    }
   ],
   "source": [
    "data['children'].unique()"
   ]
  },
  {
   "cell_type": "markdown",
   "id": "40b9ebf2",
   "metadata": {
    "deletable": false,
    "id": "40b9ebf2"
   },
   "source": [
    "**Задание 9. В столбце `children` есть два аномальных значения. Удалите строки, в которых встречаются такие аномальные значения из датафрейма `data`.**"
   ]
  },
  {
   "cell_type": "code",
   "execution_count": 9,
   "id": "3ff9801d",
   "metadata": {
    "deletable": false,
    "id": "3ff9801d"
   },
   "outputs": [],
   "source": [
    "data = data[(data['children'] != -1) & (data['children'] != 20)]"
   ]
  },
  {
   "cell_type": "markdown",
   "id": "bbc4d0ce",
   "metadata": {
    "deletable": false,
    "id": "bbc4d0ce"
   },
   "source": [
    "**Задание 10. Ещё раз выведите перечень уникальных значений столбца `children`, чтобы убедиться, что артефакты удалены.**"
   ]
  },
  {
   "cell_type": "code",
   "execution_count": 10,
   "id": "ad4fa8b7",
   "metadata": {
    "deletable": false,
    "id": "ad4fa8b7",
    "outputId": "b2097101-d49d-44d9-901b-32a65c9463d1"
   },
   "outputs": [
    {
     "data": {
      "text/plain": [
       "array([1, 0, 3, 2, 4, 5])"
      ]
     },
     "execution_count": 10,
     "metadata": {},
     "output_type": "execute_result"
    }
   ],
   "source": [
    "data['children'].unique()"
   ]
  },
  {
   "cell_type": "markdown",
   "id": "75440b63",
   "metadata": {
    "deletable": false,
    "id": "75440b63"
   },
   "source": [
    "### Удаление пропусков (продолжение)"
   ]
  },
  {
   "cell_type": "markdown",
   "id": "f4ea573f",
   "metadata": {
    "deletable": false,
    "id": "f4ea573f"
   },
   "source": [
    "**Задание 11. Заполните пропуски в столбце `days_employed` медианными значениями по каждого типа занятости `income_type`.**"
   ]
  },
  {
   "cell_type": "code",
   "execution_count": 11,
   "id": "af6b1a7e",
   "metadata": {
    "deletable": false,
    "id": "af6b1a7e"
   },
   "outputs": [],
   "source": [
    "for t in data['income_type'].unique():\n",
    "    data.loc[(data['income_type'] == t) & (data['days_employed'].isna()), 'days_employed'] = \\\n",
    "    data.loc[(data['income_type'] == t), 'days_employed'].median()"
   ]
  },
  {
   "cell_type": "markdown",
   "id": "2753f40d",
   "metadata": {
    "deletable": false,
    "id": "2753f40d"
   },
   "source": [
    "**Задание 12. Убедитесь, что все пропуски заполнены. Проверьте себя и ещё раз выведите количество пропущенных значений для каждого столбца с помощью двух методов.**"
   ]
  },
  {
   "cell_type": "code",
   "execution_count": 12,
   "id": "55f78bc2",
   "metadata": {
    "deletable": false,
    "id": "55f78bc2",
    "outputId": "8da1e4e1-358e-4e87-98c9-f261bce0a7b2"
   },
   "outputs": [
    {
     "data": {
      "text/plain": [
       "children            0\n",
       "days_employed       0\n",
       "dob_years           0\n",
       "education           0\n",
       "education_id        0\n",
       "family_status       0\n",
       "family_status_id    0\n",
       "gender              0\n",
       "income_type         0\n",
       "debt                0\n",
       "total_income        0\n",
       "purpose             0\n",
       "dtype: int64"
      ]
     },
     "execution_count": 12,
     "metadata": {},
     "output_type": "execute_result"
    }
   ],
   "source": [
    "data.isna().sum()"
   ]
  },
  {
   "cell_type": "markdown",
   "id": "ddc81e43",
   "metadata": {
    "deletable": false,
    "id": "ddc81e43"
   },
   "source": [
    "### Изменение типов данных"
   ]
  },
  {
   "cell_type": "markdown",
   "id": "42d19d24",
   "metadata": {
    "deletable": false,
    "id": "42d19d24"
   },
   "source": [
    "**Задание 13. Замените вещественный тип данных в столбце `total_income` на целочисленный с помощью метода `astype()`.**"
   ]
  },
  {
   "cell_type": "code",
   "execution_count": 13,
   "id": "920b65ad",
   "metadata": {
    "deletable": false,
    "id": "920b65ad"
   },
   "outputs": [],
   "source": [
    "data['total_income'] = data['total_income'].astype(int)"
   ]
  },
  {
   "cell_type": "markdown",
   "id": "80c420ba",
   "metadata": {
    "deletable": false,
    "id": "80c420ba"
   },
   "source": [
    "### Обработка дубликатов"
   ]
  },
  {
   "cell_type": "markdown",
   "id": "dc587695",
   "metadata": {
    "deletable": false,
    "id": "dc587695"
   },
   "source": [
    "**Задание 14. Выведите на экран количество строк-дубликатов в данных. Если такие строки присутствуют, удалите их.**"
   ]
  },
  {
   "cell_type": "code",
   "execution_count": 14,
   "id": "3ee445e4",
   "metadata": {
    "deletable": false,
    "id": "3ee445e4",
    "outputId": "9684deba-1934-42d1-99e1-cda61740f822"
   },
   "outputs": [
    {
     "data": {
      "text/plain": [
       "54"
      ]
     },
     "execution_count": 14,
     "metadata": {},
     "output_type": "execute_result"
    }
   ],
   "source": [
    "data.duplicated().sum()"
   ]
  },
  {
   "cell_type": "code",
   "execution_count": 15,
   "id": "8575fe05",
   "metadata": {
    "deletable": false,
    "id": "8575fe05"
   },
   "outputs": [],
   "source": [
    "data = data.drop_duplicates()"
   ]
  },
  {
   "cell_type": "markdown",
   "id": "9771a76c",
   "metadata": {
    "deletable": false,
    "id": "9771a76c"
   },
   "source": [
    "**Задание 15. Обработайте неявные дубликаты в столбце `education`. В этом столбце есть одни и те же значения, но записанные по-разному: с использованием заглавных и строчных букв. Приведите их к нижнему регистру. Проверьте остальные столбцы.**"
   ]
  },
  {
   "cell_type": "code",
   "execution_count": 16,
   "id": "a9f8e2bf",
   "metadata": {
    "deletable": false,
    "id": "a9f8e2bf"
   },
   "outputs": [],
   "source": [
    "data['education'] = data['education'].str.lower()"
   ]
  },
  {
   "cell_type": "markdown",
   "id": "9904cf55",
   "metadata": {
    "deletable": false,
    "id": "9904cf55"
   },
   "source": [
    "### Категоризация данных"
   ]
  },
  {
   "cell_type": "markdown",
   "id": "72fcc8a2",
   "metadata": {
    "deletable": false,
    "id": "72fcc8a2"
   },
   "source": [
    "**Задание 16. На основании диапазонов, указанных ниже, создайте в датафрейме `data` столбец `total_income_category` с категориями:**\n",
    "\n",
    "- 0–30000 — `'E'`;\n",
    "- 30001–50000 — `'D'`;\n",
    "- 50001–200000 — `'C'`;\n",
    "- 200001–1000000 — `'B'`;\n",
    "- 1000001 и выше — `'A'`.\n",
    "\n",
    "\n",
    "**Например, кредитополучателю с доходом 25000 нужно назначить категорию `'E'`, а клиенту, получающему 235000, — `'B'`. Используйте собственную функцию с именем `categorize_income()` и метод `apply()`.**"
   ]
  },
  {
   "cell_type": "code",
   "execution_count": 17,
   "id": "e1771346",
   "metadata": {
    "deletable": false,
    "id": "e1771346"
   },
   "outputs": [],
   "source": [
    "def categorize_income(income):\n",
    "    try:\n",
    "        if 0 <= income <= 30000:\n",
    "            return 'E'\n",
    "        elif 30001 <= income <= 50000:\n",
    "            return 'D'\n",
    "        elif 50001 <= income <= 200000:\n",
    "            return 'C'\n",
    "        elif 200001 <= income <= 1000000:\n",
    "            return 'B'\n",
    "        elif income >= 1000001:\n",
    "            return 'A'\n",
    "    except:\n",
    "        pass"
   ]
  },
  {
   "cell_type": "code",
   "execution_count": 18,
   "id": "d5f3586d",
   "metadata": {
    "deletable": false,
    "id": "d5f3586d"
   },
   "outputs": [],
   "source": [
    "data['total_income_category'] = data['total_income'].apply(categorize_income)"
   ]
  },
  {
   "cell_type": "markdown",
   "id": "dde49b5c",
   "metadata": {
    "deletable": false,
    "id": "dde49b5c"
   },
   "source": [
    "**Задание 17. Выведите на экран перечень уникальных целей взятия кредита из столбца `purpose`.**"
   ]
  },
  {
   "cell_type": "code",
   "execution_count": 19,
   "id": "f67ce9b3",
   "metadata": {
    "deletable": false,
    "id": "f67ce9b3",
    "outputId": "673c12d9-7d7e-4ae0-9812-c622c89dd244"
   },
   "outputs": [
    {
     "data": {
      "text/plain": [
       "array(['покупка жилья', 'приобретение автомобиля',\n",
       "       'дополнительное образование', 'сыграть свадьбу',\n",
       "       'операции с жильем', 'образование', 'на проведение свадьбы',\n",
       "       'покупка жилья для семьи', 'покупка недвижимости',\n",
       "       'покупка коммерческой недвижимости', 'покупка жилой недвижимости',\n",
       "       'строительство собственной недвижимости', 'недвижимость',\n",
       "       'строительство недвижимости', 'на покупку подержанного автомобиля',\n",
       "       'на покупку своего автомобиля',\n",
       "       'операции с коммерческой недвижимостью',\n",
       "       'строительство жилой недвижимости', 'жилье',\n",
       "       'операции со своей недвижимостью', 'автомобили',\n",
       "       'заняться образованием', 'сделка с подержанным автомобилем',\n",
       "       'получение образования', 'автомобиль', 'свадьба',\n",
       "       'получение дополнительного образования', 'покупка своего жилья',\n",
       "       'операции с недвижимостью', 'получение высшего образования',\n",
       "       'свой автомобиль', 'сделка с автомобилем',\n",
       "       'профильное образование', 'высшее образование',\n",
       "       'покупка жилья для сдачи', 'на покупку автомобиля', 'ремонт жилью',\n",
       "       'заняться высшим образованием'], dtype=object)"
      ]
     },
     "execution_count": 19,
     "metadata": {},
     "output_type": "execute_result"
    }
   ],
   "source": [
    "data['purpose'].unique()"
   ]
  },
  {
   "cell_type": "markdown",
   "id": "85d0aef0",
   "metadata": {
    "deletable": false,
    "id": "85d0aef0"
   },
   "source": [
    "**Задание 18. Создайте функцию, которая на основании данных из столбца `purpose` сформирует новый столбец `purpose_category`, в который войдут следующие категории:**\n",
    "\n",
    "- `'операции с автомобилем'`,\n",
    "- `'операции с недвижимостью'`,\n",
    "- `'проведение свадьбы'`,\n",
    "- `'получение образования'`.\n",
    "\n",
    "**Например, если в столбце `purpose` находится подстрока `'на покупку автомобиля'`, то в столбце `purpose_category` должна появиться строка `'операции с автомобилем'`.**\n",
    "\n",
    "**Используйте собственную функцию с именем `categorize_purpose()` и метод `apply()`. Изучите данные в столбце `purpose` и определите, какие подстроки помогут вам правильно определить категорию.**"
   ]
  },
  {
   "cell_type": "code",
   "execution_count": 20,
   "id": "e149fab4",
   "metadata": {
    "deletable": false,
    "id": "e149fab4"
   },
   "outputs": [],
   "source": [
    "def categorize_purpose(row):\n",
    "    try:\n",
    "        if 'автом' in row:\n",
    "            return 'операции с автомобилем'\n",
    "        elif 'жил' in row or 'недвиж' in row:\n",
    "            return 'операции с недвижимостью'\n",
    "        elif 'свад' in row:\n",
    "            return 'проведение свадьбы'\n",
    "        elif 'образов' in row:\n",
    "            return 'получение образования'\n",
    "    except:\n",
    "        return 'нет категории'"
   ]
  },
  {
   "cell_type": "code",
   "execution_count": 21,
   "id": "bf36e69b",
   "metadata": {
    "deletable": false,
    "id": "bf36e69b"
   },
   "outputs": [],
   "source": [
    "data['purpose_category'] = data['purpose'].apply(categorize_purpose)"
   ]
  },
  {
   "cell_type": "markdown",
   "id": "09b242bf",
   "metadata": {
    "deletable": false,
    "editable": false,
    "id": "09b242bf"
   },
   "source": [
    "## Исследуйте данные и ответьте на вопросы"
   ]
  },
  {
   "cell_type": "markdown",
   "id": "c5d66278",
   "metadata": {
    "deletable": false,
    "editable": false,
    "id": "c5d66278"
   },
   "source": [
    "**Задание 19. Есть ли зависимость между количеством детей и возвратом кредита в срок?**"
   ]
  },
  {
   "cell_type": "code",
   "execution_count": 22,
   "id": "86555ec2",
   "metadata": {
    "scrolled": true
   },
   "outputs": [
    {
     "data": {
      "text/html": [
       "<div>\n",
       "<style scoped>\n",
       "    .dataframe tbody tr th:only-of-type {\n",
       "        vertical-align: middle;\n",
       "    }\n",
       "\n",
       "    .dataframe tbody tr th {\n",
       "        vertical-align: top;\n",
       "    }\n",
       "\n",
       "    .dataframe thead th {\n",
       "        text-align: right;\n",
       "    }\n",
       "</style>\n",
       "<table border=\"1\" class=\"dataframe\">\n",
       "  <thead>\n",
       "    <tr style=\"text-align: right;\">\n",
       "      <th></th>\n",
       "      <th>debt</th>\n",
       "      <th>total_children</th>\n",
       "      <th>debt_chance_percetage</th>\n",
       "    </tr>\n",
       "    <tr>\n",
       "      <th>children</th>\n",
       "      <th></th>\n",
       "      <th></th>\n",
       "      <th></th>\n",
       "    </tr>\n",
       "  </thead>\n",
       "  <tbody>\n",
       "    <tr>\n",
       "      <th>0</th>\n",
       "      <td>1063</td>\n",
       "      <td>14107</td>\n",
       "      <td>7.535266</td>\n",
       "    </tr>\n",
       "    <tr>\n",
       "      <th>1</th>\n",
       "      <td>444</td>\n",
       "      <td>4809</td>\n",
       "      <td>9.232689</td>\n",
       "    </tr>\n",
       "    <tr>\n",
       "      <th>2</th>\n",
       "      <td>194</td>\n",
       "      <td>2052</td>\n",
       "      <td>9.454191</td>\n",
       "    </tr>\n",
       "    <tr>\n",
       "      <th>3</th>\n",
       "      <td>27</td>\n",
       "      <td>330</td>\n",
       "      <td>8.181818</td>\n",
       "    </tr>\n",
       "    <tr>\n",
       "      <th>4</th>\n",
       "      <td>4</td>\n",
       "      <td>41</td>\n",
       "      <td>9.756098</td>\n",
       "    </tr>\n",
       "    <tr>\n",
       "      <th>5</th>\n",
       "      <td>0</td>\n",
       "      <td>9</td>\n",
       "      <td>0.000000</td>\n",
       "    </tr>\n",
       "  </tbody>\n",
       "</table>\n",
       "</div>"
      ],
      "text/plain": [
       "          debt  total_children  debt_chance_percetage\n",
       "children                                             \n",
       "0         1063           14107               7.535266\n",
       "1          444            4809               9.232689\n",
       "2          194            2052               9.454191\n",
       "3           27             330               8.181818\n",
       "4            4              41               9.756098\n",
       "5            0               9               0.000000"
      ]
     },
     "execution_count": 22,
     "metadata": {},
     "output_type": "execute_result"
    }
   ],
   "source": [
    "data_pivot_children = data.pivot_table(values = ['debt'], index=['children'], aggfunc='sum')\n",
    "data_pivot_children['total_children'] = data['children'].value_counts()\n",
    "data_pivot_children['debt_chance_percetage'] = data_pivot_children['debt'] / data_pivot_children['total_children'] * 100\n",
    "data_pivot_children\n"
   ]
  },
  {
   "cell_type": "markdown",
   "id": "3a6b99ec",
   "metadata": {
    "deletable": false,
    "id": "3a6b99ec"
   },
   "source": [
    "**Вывод:** \n",
    "\n",
    "Зависимость между количеством детей и возвратом кредита в срок есть. С увеличением количества детей вероятность задержки по кредиту увеличивается примерно на 1-2%.\n",
    "\n",
    "Данные не совсем однозначные, потому что семьи с тремя детьми выбиваются из общего тренда, хотя и в них вероятность задержки выше."
   ]
  },
  {
   "cell_type": "markdown",
   "id": "d26c1db4",
   "metadata": {},
   "source": [
    "<div class=\"alert alert-success\">\n",
    "<b>✔️ Комментарий ревьюера v1:</b> \n",
    "<br>Верно! Отлично, что ты используешь сводную таблицу\n",
    "</div>"
   ]
  },
  {
   "cell_type": "markdown",
   "id": "97be82ca",
   "metadata": {
    "deletable": false,
    "editable": false,
    "id": "97be82ca"
   },
   "source": [
    "**Задание 20. Есть ли зависимость между семейным положением и возвратом кредита в срок?**"
   ]
  },
  {
   "cell_type": "code",
   "execution_count": 23,
   "id": "dc3f7ee8",
   "metadata": {
    "id": "dc3f7ee8"
   },
   "outputs": [
    {
     "data": {
      "text/html": [
       "<div>\n",
       "<style scoped>\n",
       "    .dataframe tbody tr th:only-of-type {\n",
       "        vertical-align: middle;\n",
       "    }\n",
       "\n",
       "    .dataframe tbody tr th {\n",
       "        vertical-align: top;\n",
       "    }\n",
       "\n",
       "    .dataframe thead th {\n",
       "        text-align: right;\n",
       "    }\n",
       "</style>\n",
       "<table border=\"1\" class=\"dataframe\">\n",
       "  <thead>\n",
       "    <tr style=\"text-align: right;\">\n",
       "      <th></th>\n",
       "      <th>debt</th>\n",
       "      <th>total</th>\n",
       "      <th>debt_chance</th>\n",
       "    </tr>\n",
       "    <tr>\n",
       "      <th>family_status</th>\n",
       "      <th></th>\n",
       "      <th></th>\n",
       "      <th></th>\n",
       "    </tr>\n",
       "  </thead>\n",
       "  <tbody>\n",
       "    <tr>\n",
       "      <th>Не женат / не замужем</th>\n",
       "      <td>273</td>\n",
       "      <td>2796</td>\n",
       "      <td>9.763948</td>\n",
       "    </tr>\n",
       "    <tr>\n",
       "      <th>в разводе</th>\n",
       "      <td>84</td>\n",
       "      <td>1189</td>\n",
       "      <td>7.064760</td>\n",
       "    </tr>\n",
       "    <tr>\n",
       "      <th>вдовец / вдова</th>\n",
       "      <td>63</td>\n",
       "      <td>951</td>\n",
       "      <td>6.624606</td>\n",
       "    </tr>\n",
       "    <tr>\n",
       "      <th>гражданский брак</th>\n",
       "      <td>385</td>\n",
       "      <td>4146</td>\n",
       "      <td>9.286059</td>\n",
       "    </tr>\n",
       "    <tr>\n",
       "      <th>женат / замужем</th>\n",
       "      <td>927</td>\n",
       "      <td>12266</td>\n",
       "      <td>7.557476</td>\n",
       "    </tr>\n",
       "  </tbody>\n",
       "</table>\n",
       "</div>"
      ],
      "text/plain": [
       "                       debt  total  debt_chance\n",
       "family_status                                  \n",
       "Не женат / не замужем   273   2796     9.763948\n",
       "в разводе                84   1189     7.064760\n",
       "вдовец / вдова           63    951     6.624606\n",
       "гражданский брак        385   4146     9.286059\n",
       "женат / замужем         927  12266     7.557476"
      ]
     },
     "execution_count": 23,
     "metadata": {},
     "output_type": "execute_result"
    }
   ],
   "source": [
    "data_pivot_family = data.pivot_table(values=['debt'], index='family_status', aggfunc = 'sum')\n",
    "data_pivot_family['total'] = data['family_status'].value_counts()\n",
    "data_pivot_family['debt_chance'] = data_pivot_family['debt'] / data_pivot_family['total'] * 100\n",
    "data_pivot_family\n"
   ]
  },
  {
   "cell_type": "markdown",
   "id": "1cef7837",
   "metadata": {
    "deletable": false,
    "id": "1cef7837"
   },
   "source": [
    "**Вывод:**\n",
    "\n",
    "Данные говорят в пользу наличия зависимости между семейным положением и возвратом кредита в срок. \n",
    "\n",
    "Люди не в браке представляют собой группу риска с вероятностью задержки в примерно 11%. Зарегистрированный брак повышает вероятность возврата кредита в срок примерно на 3%. При этом, гражданский брак имеет менее выраженный эффект (вероятность возврата повышается на <1%). Люди в трудном семейном положении (развод/лишение супруга) с наибольшей вероятностью выплатят кредит в срок."
   ]
  },
  {
   "cell_type": "markdown",
   "id": "b909ef47",
   "metadata": {},
   "source": [
    "<div class=\"alert alert-success\">\n",
    "<b>✔️ Комментарий ревьюера v1:</b> \n",
    "<br>Тут всё правильно\n",
    "</div>"
   ]
  },
  {
   "cell_type": "markdown",
   "id": "1e8b2fca",
   "metadata": {
    "deletable": false,
    "editable": false,
    "id": "1e8b2fca"
   },
   "source": [
    "**Задание 21. Есть ли зависимость между уровнем дохода и возвратом кредита в срок?**"
   ]
  },
  {
   "cell_type": "code",
   "execution_count": 24,
   "id": "cd7e3720",
   "metadata": {
    "id": "cd7e3720",
    "scrolled": true
   },
   "outputs": [
    {
     "data": {
      "text/html": [
       "<div>\n",
       "<style scoped>\n",
       "    .dataframe tbody tr th:only-of-type {\n",
       "        vertical-align: middle;\n",
       "    }\n",
       "\n",
       "    .dataframe tbody tr th {\n",
       "        vertical-align: top;\n",
       "    }\n",
       "\n",
       "    .dataframe thead th {\n",
       "        text-align: right;\n",
       "    }\n",
       "</style>\n",
       "<table border=\"1\" class=\"dataframe\">\n",
       "  <thead>\n",
       "    <tr style=\"text-align: right;\">\n",
       "      <th>debt</th>\n",
       "      <th>0</th>\n",
       "      <th>1</th>\n",
       "      <th>debt_chance</th>\n",
       "    </tr>\n",
       "    <tr>\n",
       "      <th>total_income_category</th>\n",
       "      <th></th>\n",
       "      <th></th>\n",
       "      <th></th>\n",
       "    </tr>\n",
       "  </thead>\n",
       "  <tbody>\n",
       "    <tr>\n",
       "      <th>A</th>\n",
       "      <td>23</td>\n",
       "      <td>2</td>\n",
       "      <td>8.695652</td>\n",
       "    </tr>\n",
       "    <tr>\n",
       "      <th>B</th>\n",
       "      <td>4660</td>\n",
       "      <td>354</td>\n",
       "      <td>7.596567</td>\n",
       "    </tr>\n",
       "    <tr>\n",
       "      <th>C</th>\n",
       "      <td>14585</td>\n",
       "      <td>1353</td>\n",
       "      <td>9.276654</td>\n",
       "    </tr>\n",
       "    <tr>\n",
       "      <th>D</th>\n",
       "      <td>328</td>\n",
       "      <td>21</td>\n",
       "      <td>6.402439</td>\n",
       "    </tr>\n",
       "    <tr>\n",
       "      <th>E</th>\n",
       "      <td>20</td>\n",
       "      <td>2</td>\n",
       "      <td>10.000000</td>\n",
       "    </tr>\n",
       "  </tbody>\n",
       "</table>\n",
       "</div>"
      ],
      "text/plain": [
       "debt                       0     1  debt_chance\n",
       "total_income_category                          \n",
       "A                         23     2     8.695652\n",
       "B                       4660   354     7.596567\n",
       "C                      14585  1353     9.276654\n",
       "D                        328    21     6.402439\n",
       "E                         20     2    10.000000"
      ]
     },
     "execution_count": 24,
     "metadata": {},
     "output_type": "execute_result"
    }
   ],
   "source": [
    "data_pivot_income = data.pivot_table(index=['total_income_category'], columns='debt', values = 'total_income', aggfunc = 'count')\n",
    "data_pivot_income = data_pivot_income.fillna(0)\n",
    "data_pivot_income['debt_chance'] = data_pivot_income[1] / data_pivot_income[0] * 100\n",
    "data_pivot_income\n"
   ]
  },
  {
   "cell_type": "markdown",
   "id": "13ec46a8",
   "metadata": {},
   "source": [
    "Посмотрим на визуализацию таблицы, чтобы подчеркнуть различия между группами. Как мы видим, категория С (доходы от 50001 до 20000 у.е.) представлена значительно лучше других, а значит наиболее показательна."
   ]
  },
  {
   "cell_type": "code",
   "execution_count": 25,
   "id": "0ff54a28",
   "metadata": {
    "scrolled": false
   },
   "outputs": [
    {
     "data": {
      "text/plain": [
       "<AxesSubplot:title={'center':'debt vs total'}, xlabel='total_income_category'>"
      ]
     },
     "execution_count": 25,
     "metadata": {},
     "output_type": "execute_result"
    },
    {
     "data": {
      "image/png": "[encoded data removed]",
      "text/plain": [
       "<Figure size 432x288 with 1 Axes>"
      ]
     },
     "metadata": {
      "needs_background": "light"
     },
     "output_type": "display_data"
    }
   ],
   "source": [
    "graph = data_pivot_income.plot(kind='bar', title='debt vs total')\n",
    "graph"
   ]
  },
  {
   "cell_type": "markdown",
   "id": "08388b92",
   "metadata": {},
   "source": [
    "Следующая визуализация показывает, что процент должников между группами отличается не равномерно. \n",
    "Максимальный шанс не вернуть кредит в срок — у группы E, а минимальный — у группы D, хотя они находятся рядом с точки зрения уровня дохода."
   ]
  },
  {
   "cell_type": "code",
   "execution_count": 26,
   "id": "c4bdc301",
   "metadata": {},
   "outputs": [
    {
     "data": {
      "text/plain": [
       "<AxesSubplot:title={'center':'debt chance'}, xlabel='total_income_category'>"
      ]
     },
     "execution_count": 26,
     "metadata": {},
     "output_type": "execute_result"
    },
    {
     "data": {
      "image/png": "[encoded data removed]",
      "text/plain": [
       "<Figure size 432x288 with 1 Axes>"
      ]
     },
     "metadata": {
      "needs_background": "light"
     },
     "output_type": "display_data"
    }
   ],
   "source": [
    "p = data_pivot_income['debt_chance'] = data_pivot_income[1] / data_pivot_income[0] * 100\n",
    "p.plot(title='debt chance')"
   ]
  },
  {
   "cell_type": "markdown",
   "id": "e8593def",
   "metadata": {
    "deletable": false,
    "id": "e8593def"
   },
   "source": [
    "**Вывод:** \n",
    "\n",
    "На основе имеющихся данных нельзя сделать вывод о существовании зависимости между уровнем дохода и возвратом кредита в срок."
   ]
  },
  {
   "cell_type": "markdown",
   "id": "99ecbd1f",
   "metadata": {
    "deletable": false,
    "editable": false,
    "id": "99ecbd1f"
   },
   "source": [
    "**Задание 22. Как разные цели кредита влияют на его возврат в срок?**"
   ]
  },
  {
   "cell_type": "code",
   "execution_count": 27,
   "id": "2b687290",
   "metadata": {
    "id": "2b687290"
   },
   "outputs": [
    {
     "data": {
      "text/html": [
       "<div>\n",
       "<style scoped>\n",
       "    .dataframe tbody tr th:only-of-type {\n",
       "        vertical-align: middle;\n",
       "    }\n",
       "\n",
       "    .dataframe tbody tr th {\n",
       "        vertical-align: top;\n",
       "    }\n",
       "\n",
       "    .dataframe thead th {\n",
       "        text-align: right;\n",
       "    }\n",
       "</style>\n",
       "<table border=\"1\" class=\"dataframe\">\n",
       "  <thead>\n",
       "    <tr style=\"text-align: right;\">\n",
       "      <th>debt</th>\n",
       "      <th>0</th>\n",
       "      <th>1</th>\n",
       "      <th>debt_chance</th>\n",
       "    </tr>\n",
       "    <tr>\n",
       "      <th>purpose_category</th>\n",
       "      <th></th>\n",
       "      <th></th>\n",
       "      <th></th>\n",
       "    </tr>\n",
       "  </thead>\n",
       "  <tbody>\n",
       "    <tr>\n",
       "      <th>операции с автомобилем</th>\n",
       "      <td>3881</td>\n",
       "      <td>400</td>\n",
       "      <td>10.306622</td>\n",
       "    </tr>\n",
       "    <tr>\n",
       "      <th>операции с недвижимостью</th>\n",
       "      <td>9974</td>\n",
       "      <td>780</td>\n",
       "      <td>7.820333</td>\n",
       "    </tr>\n",
       "    <tr>\n",
       "      <th>получение образования</th>\n",
       "      <td>3620</td>\n",
       "      <td>369</td>\n",
       "      <td>10.193370</td>\n",
       "    </tr>\n",
       "    <tr>\n",
       "      <th>проведение свадьбы</th>\n",
       "      <td>2141</td>\n",
       "      <td>183</td>\n",
       "      <td>8.547408</td>\n",
       "    </tr>\n",
       "  </tbody>\n",
       "</table>\n",
       "</div>"
      ],
      "text/plain": [
       "debt                         0    1  debt_chance\n",
       "purpose_category                                \n",
       "операции с автомобилем    3881  400    10.306622\n",
       "операции с недвижимостью  9974  780     7.820333\n",
       "получение образования     3620  369    10.193370\n",
       "проведение свадьбы        2141  183     8.547408"
      ]
     },
     "execution_count": 27,
     "metadata": {},
     "output_type": "execute_result"
    }
   ],
   "source": [
    "data_pivot_purpose = data.pivot_table(index=['purpose_category'], columns='debt', values = 'total_income', aggfunc = 'count')\n",
    "data_pivot_purpose = data_pivot_purpose.fillna(0)\n",
    "data_pivot_purpose['debt_chance'] = data_pivot_purpose[1] / data_pivot_purpose[0] * 100\n",
    "data_pivot_purpose\n"
   ]
  },
  {
   "cell_type": "markdown",
   "id": "b4bb2ce6",
   "metadata": {
    "deletable": false,
    "id": "b4bb2ce6"
   },
   "source": [
    "**Вывод:** \n",
    "\n",
    "Согласно имеющимся данным, операции с недвижимостью наименее рискованные с точки зрения возврата денег (шанс возврата 92%), тогда как операции с автомобилями и образованием, наоборот, наиболее рискованные (шанс возврата 90%). Свадьбы занимают промежуточное положение между названными категориями (шанс возврата 91%)."
   ]
  },
  {
   "cell_type": "markdown",
   "id": "09c3ac4c",
   "metadata": {
    "deletable": false,
    "editable": false,
    "id": "09c3ac4c"
   },
   "source": [
    "**Задание 23. Приведите возможные причины появления пропусков в исходных данных.**"
   ]
  },
  {
   "cell_type": "markdown",
   "id": "9da2ceda",
   "metadata": {
    "deletable": false,
    "id": "9da2ceda"
   },
   "source": [
    "Данные могут отсутствовать из-за ошибки ввода данных, некорректного форматирования и многих других причин. \n",
    "\n",
    "В данном случае каким-то образом связаны столбцы days_employed и total_income, поскольку они содержат одинаковое количество пропусков. Могу отметить, что столбец days_employed отражает информацию о днях в формате float64, что не соответствует здравому смыслу."
   ]
  },
  {
   "cell_type": "markdown",
   "id": "7b0487d6",
   "metadata": {
    "deletable": false,
    "editable": false,
    "id": "7b0487d6"
   },
   "source": [
    "**Задание 24. Объясните, почему заполнить пропуски медианным значением — лучшее решение для количественных переменных.**"
   ]
  },
  {
   "cell_type": "markdown",
   "id": "7ecf2b8e",
   "metadata": {
    "deletable": false,
    "id": "7ecf2b8e"
   },
   "source": [
    "Это делается для того, чтобы не изменить основные характеристики массива данных. Если, допустим, подставлять произвольные значения, то возможны искажения в распределении значений группы данных в последующем. Пропуски в количественных переменных заполняют характерными значениями для данной выборки, а для этого лучше всего подходят медианные значения. Они не изменяют характер распределения.\n",
    "\n",
    "Мы выбираем медиану, а не среднее арифметическое, потому что она сохраняет пропорции в выборке (середину упорядоченного набора данных). Среднее значение может быть смещено в ту или иную сторону, если наша выборка не симметричная. Плюс, среднее значение плохо работает с числами, которые сильно выделяются на общем фоне (как в примере с зарплатами из данного модуля). Всё это может создасть дисбаланс и повлиять на результаты исследования."
   ]
  },
  {
   "cell_type": "markdown",
   "id": "6db5255a",
   "metadata": {
    "deletable": false,
    "editable": false,
    "id": "6db5255a"
   },
   "source": [
    "## Общий вывод."
   ]
  },
  {
   "cell_type": "markdown",
   "id": "bad65432",
   "metadata": {
    "id": "bad65432"
   },
   "source": [
    "Вернемся к вопросу, поставленному в начале исследования: влияет ли семейное положение и количество детей клиента на факт погашения кредита в срок? \n",
    "\n",
    "Наш ответ: влияние есть. \n",
    "\n",
    "С одной стороны, чем больше в семье детей, тем в целом выше вероятность задержки по кредиту. Это можно объяснить ухудшением финансового положения семьи (траты возрастают, а доходы семьи не всегда могут их компенсировать). С другой стороны, семейное положение также играет важную роль. Состояние вне брака выступает как наиболее рискованное с точки зрения возврата кредита в срок. Свободное положение человека, не связанного узами ответственности и взаимопомощи с партнером, может привести к нарушению обязательств.\n",
    "\n",
    "Таким образом, мы получаем портрет человека, с наиболее высокими шансами оказаться в должниках:\n",
    "\n",
    "1. Не женат / не замужем;\n",
    "2. 2-е детей;\n",
    "3. Уровень дохода: 0–30000 у.е.;\n",
    "4. Цель кредита: операции с автомобилем.\n"
   ]
  }
 ],
 "metadata": {
  "ExecuteTimeLog": [
   {
    "duration": 62,
    "start_time": "2022-06-19T18:16:20.291Z"
   },
   {
    "duration": 842,
    "start_time": "2022-06-19T18:16:31.121Z"
   },
   {
    "duration": 34,
    "start_time": "2022-06-19T18:16:31.966Z"
   },
   {
    "duration": 22,
    "start_time": "2022-06-19T18:16:32.002Z"
   },
   {
    "duration": 27,
    "start_time": "2022-06-19T18:16:32.026Z"
   },
   {
    "duration": 69,
    "start_time": "2022-06-19T18:16:32.055Z"
   },
   {
    "duration": 5,
    "start_time": "2022-06-19T18:16:32.126Z"
   },
   {
    "duration": 13,
    "start_time": "2022-06-19T18:16:32.133Z"
   },
   {
    "duration": 6,
    "start_time": "2022-06-19T18:16:32.148Z"
   },
   {
    "duration": 15,
    "start_time": "2022-06-19T18:16:32.156Z"
   },
   {
    "duration": 25,
    "start_time": "2022-06-19T18:16:32.174Z"
   },
   {
    "duration": 44,
    "start_time": "2022-06-19T18:16:32.201Z"
   },
   {
    "duration": 12,
    "start_time": "2022-06-19T18:16:32.246Z"
   },
   {
    "duration": 5,
    "start_time": "2022-06-19T18:16:32.260Z"
   },
   {
    "duration": 28,
    "start_time": "2022-06-19T18:16:32.295Z"
   },
   {
    "duration": 21,
    "start_time": "2022-06-19T18:16:32.325Z"
   },
   {
    "duration": 13,
    "start_time": "2022-06-19T18:16:32.347Z"
   },
   {
    "duration": 33,
    "start_time": "2022-06-19T18:16:32.363Z"
   },
   {
    "duration": 22,
    "start_time": "2022-06-19T18:16:32.398Z"
   },
   {
    "duration": 9,
    "start_time": "2022-06-19T18:16:32.422Z"
   },
   {
    "duration": 19,
    "start_time": "2022-06-19T18:16:32.434Z"
   },
   {
    "duration": 37,
    "start_time": "2022-06-19T18:16:32.455Z"
   },
   {
    "duration": 27,
    "start_time": "2022-06-19T18:16:32.745Z"
   },
   {
    "duration": 22,
    "start_time": "2022-06-19T18:16:49.800Z"
   },
   {
    "duration": 48,
    "start_time": "2022-06-19T18:17:33.691Z"
   },
   {
    "duration": 7,
    "start_time": "2022-06-19T18:17:54.434Z"
   },
   {
    "duration": 9,
    "start_time": "2022-06-19T18:18:01.315Z"
   },
   {
    "duration": 8,
    "start_time": "2022-06-19T18:18:05.085Z"
   },
   {
    "duration": 7,
    "start_time": "2022-06-19T18:18:55.373Z"
   },
   {
    "duration": 8,
    "start_time": "2022-06-19T18:19:01.580Z"
   },
   {
    "duration": 7,
    "start_time": "2022-06-19T18:19:09.950Z"
   },
   {
    "duration": 200,
    "start_time": "2022-06-19T18:20:05.969Z"
   },
   {
    "duration": 18,
    "start_time": "2022-06-19T18:20:10.871Z"
   },
   {
    "duration": 8,
    "start_time": "2022-06-19T18:20:54.276Z"
   },
   {
    "duration": 9,
    "start_time": "2022-06-19T18:21:03.491Z"
   },
   {
    "duration": 11,
    "start_time": "2022-06-19T18:21:09.158Z"
   },
   {
    "duration": 9,
    "start_time": "2022-06-19T18:21:31.293Z"
   },
   {
    "duration": 9,
    "start_time": "2022-06-19T18:21:42.059Z"
   },
   {
    "duration": 8,
    "start_time": "2022-06-19T18:21:48.663Z"
   },
   {
    "duration": 9,
    "start_time": "2022-06-19T18:21:51.580Z"
   },
   {
    "duration": 11,
    "start_time": "2022-06-19T18:22:25.989Z"
   },
   {
    "duration": 12,
    "start_time": "2022-06-19T18:22:50.179Z"
   },
   {
    "duration": 14,
    "start_time": "2022-06-19T18:24:09.093Z"
   },
   {
    "duration": 6,
    "start_time": "2022-06-19T18:24:47.138Z"
   },
   {
    "duration": 11,
    "start_time": "2022-06-19T18:24:54.151Z"
   },
   {
    "duration": 5,
    "start_time": "2022-06-19T18:24:57.057Z"
   },
   {
    "duration": 4,
    "start_time": "2022-06-19T18:25:02.147Z"
   },
   {
    "duration": 9,
    "start_time": "2022-06-19T18:25:07.653Z"
   },
   {
    "duration": 10,
    "start_time": "2022-06-19T18:25:24.579Z"
   },
   {
    "duration": 7,
    "start_time": "2022-06-19T18:25:42.278Z"
   },
   {
    "duration": 16,
    "start_time": "2022-06-19T18:29:01.647Z"
   },
   {
    "duration": 15,
    "start_time": "2022-06-19T18:29:37.653Z"
   },
   {
    "duration": 8,
    "start_time": "2022-06-19T18:29:47.851Z"
   },
   {
    "duration": 13,
    "start_time": "2022-06-19T18:36:22.948Z"
   },
   {
    "duration": 31,
    "start_time": "2022-06-19T18:36:24.010Z"
   },
   {
    "duration": 19,
    "start_time": "2022-06-19T18:36:33.655Z"
   },
   {
    "duration": 31,
    "start_time": "2022-06-19T18:36:36.313Z"
   },
   {
    "duration": 13,
    "start_time": "2022-06-19T18:36:38.567Z"
   },
   {
    "duration": 14,
    "start_time": "2022-06-19T18:36:45.092Z"
   },
   {
    "duration": 19,
    "start_time": "2022-06-19T18:40:29.647Z"
   },
   {
    "duration": 12,
    "start_time": "2022-06-19T18:40:31.124Z"
   },
   {
    "duration": 7,
    "start_time": "2022-06-19T18:41:55.712Z"
   },
   {
    "duration": 4,
    "start_time": "2022-06-19T18:42:27.687Z"
   },
   {
    "duration": 9,
    "start_time": "2022-06-19T18:42:34.969Z"
   },
   {
    "duration": 12,
    "start_time": "2022-06-19T18:42:56.691Z"
   },
   {
    "duration": 12,
    "start_time": "2022-06-19T18:42:58.276Z"
   },
   {
    "duration": 10,
    "start_time": "2022-06-19T18:44:08.671Z"
   },
   {
    "duration": 15,
    "start_time": "2022-06-19T18:46:15.532Z"
   },
   {
    "duration": 19,
    "start_time": "2022-06-19T18:46:28.820Z"
   },
   {
    "duration": 18,
    "start_time": "2022-06-19T18:46:41.143Z"
   },
   {
    "duration": 381,
    "start_time": "2022-06-19T18:46:59.375Z"
   },
   {
    "duration": 17,
    "start_time": "2022-06-19T18:47:09.524Z"
   },
   {
    "duration": 12,
    "start_time": "2022-06-19T18:47:18.824Z"
   },
   {
    "duration": 10,
    "start_time": "2022-06-19T18:47:36.244Z"
   },
   {
    "duration": 10,
    "start_time": "2022-06-19T18:47:42.324Z"
   },
   {
    "duration": 8,
    "start_time": "2022-06-19T18:47:47.748Z"
   },
   {
    "duration": 16,
    "start_time": "2022-06-19T18:47:51.885Z"
   },
   {
    "duration": 16,
    "start_time": "2022-06-19T18:48:01.673Z"
   },
   {
    "duration": 20,
    "start_time": "2022-06-19T18:48:13.458Z"
   },
   {
    "duration": 22,
    "start_time": "2022-06-19T18:48:30.492Z"
   },
   {
    "duration": 21,
    "start_time": "2022-06-19T18:48:35.618Z"
   },
   {
    "duration": 20,
    "start_time": "2022-06-19T18:48:50.689Z"
   },
   {
    "duration": 13,
    "start_time": "2022-06-19T18:49:19.138Z"
   },
   {
    "duration": 11,
    "start_time": "2022-06-19T18:49:28.776Z"
   },
   {
    "duration": 22,
    "start_time": "2022-06-19T18:49:31.395Z"
   },
   {
    "duration": 515,
    "start_time": "2022-06-19T18:49:59.513Z"
   },
   {
    "duration": 41,
    "start_time": "2022-06-19T18:50:09.512Z"
   },
   {
    "duration": 10,
    "start_time": "2022-06-19T18:50:18.280Z"
   },
   {
    "duration": 10,
    "start_time": "2022-06-19T18:50:30.357Z"
   },
   {
    "duration": 14,
    "start_time": "2022-06-19T18:50:35.941Z"
   },
   {
    "duration": 23,
    "start_time": "2022-06-19T18:50:46.622Z"
   },
   {
    "duration": 9,
    "start_time": "2022-06-19T18:50:47.409Z"
   },
   {
    "duration": 5,
    "start_time": "2022-06-19T18:50:55.969Z"
   },
   {
    "duration": 11,
    "start_time": "2022-06-19T18:51:01.348Z"
   },
   {
    "duration": 9,
    "start_time": "2022-06-19T18:51:06.867Z"
   },
   {
    "duration": 11,
    "start_time": "2022-06-19T18:51:20.953Z"
   },
   {
    "duration": 3,
    "start_time": "2022-06-19T18:51:25.359Z"
   },
   {
    "duration": 10,
    "start_time": "2022-06-19T18:51:27.352Z"
   },
   {
    "duration": 17,
    "start_time": "2022-06-19T18:51:29.089Z"
   },
   {
    "duration": 15,
    "start_time": "2022-06-19T18:51:31.328Z"
   },
   {
    "duration": 21,
    "start_time": "2022-06-19T18:51:32.684Z"
   },
   {
    "duration": 18,
    "start_time": "2022-06-19T18:51:39.063Z"
   },
   {
    "duration": 17,
    "start_time": "2022-06-19T18:51:49.820Z"
   },
   {
    "duration": 12,
    "start_time": "2022-06-19T18:51:55.038Z"
   },
   {
    "duration": 11,
    "start_time": "2022-06-19T18:52:08.283Z"
   },
   {
    "duration": 34,
    "start_time": "2022-06-19T18:52:15.288Z"
   },
   {
    "duration": 18,
    "start_time": "2022-06-19T18:52:33.767Z"
   },
   {
    "duration": 8,
    "start_time": "2022-06-19T18:52:39.169Z"
   },
   {
    "duration": 14,
    "start_time": "2022-06-19T18:52:42.638Z"
   },
   {
    "duration": 12,
    "start_time": "2022-06-19T18:52:44.869Z"
   },
   {
    "duration": 13,
    "start_time": "2022-06-19T18:52:52.784Z"
   },
   {
    "duration": 29,
    "start_time": "2022-06-19T18:53:30.177Z"
   },
   {
    "duration": 8,
    "start_time": "2022-06-19T18:53:44.566Z"
   },
   {
    "duration": 10,
    "start_time": "2022-06-19T18:53:55.159Z"
   },
   {
    "duration": 15,
    "start_time": "2022-06-19T18:54:07.070Z"
   },
   {
    "duration": 9,
    "start_time": "2022-06-19T18:54:07.774Z"
   },
   {
    "duration": 12,
    "start_time": "2022-06-19T18:54:19.767Z"
   },
   {
    "duration": 14,
    "start_time": "2022-06-19T18:54:21.669Z"
   },
   {
    "duration": 9,
    "start_time": "2022-06-19T18:54:22.370Z"
   },
   {
    "duration": 10,
    "start_time": "2022-06-19T18:56:05.264Z"
   },
   {
    "duration": 9,
    "start_time": "2022-06-19T18:56:09.850Z"
   },
   {
    "duration": 22,
    "start_time": "2022-06-19T18:56:23.364Z"
   },
   {
    "duration": 10,
    "start_time": "2022-06-19T18:56:24.220Z"
   },
   {
    "duration": 7,
    "start_time": "2022-06-19T18:56:39.770Z"
   },
   {
    "duration": 13,
    "start_time": "2022-06-19T18:56:41.341Z"
   },
   {
    "duration": 8,
    "start_time": "2022-06-19T18:56:42.674Z"
   },
   {
    "duration": 39,
    "start_time": "2022-06-19T18:56:48.973Z"
   },
   {
    "duration": 16,
    "start_time": "2022-06-19T18:56:52.410Z"
   },
   {
    "duration": 8,
    "start_time": "2022-06-19T18:56:54.371Z"
   },
   {
    "duration": 7,
    "start_time": "2022-06-19T18:57:09.858Z"
   },
   {
    "duration": 13,
    "start_time": "2022-06-19T18:57:12.018Z"
   },
   {
    "duration": 9,
    "start_time": "2022-06-19T18:57:13.941Z"
   },
   {
    "duration": 9,
    "start_time": "2022-06-19T18:57:18.364Z"
   },
   {
    "duration": 10,
    "start_time": "2022-06-19T18:59:56.047Z"
   },
   {
    "duration": 20,
    "start_time": "2022-06-19T19:00:47.022Z"
   },
   {
    "duration": 10,
    "start_time": "2022-06-19T19:00:52.140Z"
   },
   {
    "duration": 25,
    "start_time": "2022-06-19T19:01:00.757Z"
   },
   {
    "duration": 14,
    "start_time": "2022-06-19T19:01:05.614Z"
   },
   {
    "duration": 8,
    "start_time": "2022-06-19T20:41:17.227Z"
   },
   {
    "duration": 39,
    "start_time": "2022-06-20T07:58:35.252Z"
   },
   {
    "duration": 468,
    "start_time": "2022-06-20T07:58:44.151Z"
   },
   {
    "duration": 23,
    "start_time": "2022-06-20T07:58:44.621Z"
   },
   {
    "duration": 13,
    "start_time": "2022-06-20T07:58:44.645Z"
   },
   {
    "duration": 8,
    "start_time": "2022-06-20T07:58:44.659Z"
   },
   {
    "duration": 29,
    "start_time": "2022-06-20T07:58:44.668Z"
   },
   {
    "duration": 3,
    "start_time": "2022-06-20T07:58:44.698Z"
   },
   {
    "duration": 33,
    "start_time": "2022-06-20T07:58:44.702Z"
   },
   {
    "duration": 11,
    "start_time": "2022-06-20T07:58:44.736Z"
   },
   {
    "duration": 8,
    "start_time": "2022-06-20T07:58:44.748Z"
   },
   {
    "duration": 4,
    "start_time": "2022-06-20T07:58:44.757Z"
   },
   {
    "duration": 27,
    "start_time": "2022-06-20T07:58:44.762Z"
   },
   {
    "duration": 9,
    "start_time": "2022-06-20T07:58:44.790Z"
   },
   {
    "duration": 3,
    "start_time": "2022-06-20T07:58:44.800Z"
   },
   {
    "duration": 41,
    "start_time": "2022-06-20T07:58:44.804Z"
   },
   {
    "duration": 16,
    "start_time": "2022-06-20T07:58:44.846Z"
   },
   {
    "duration": 10,
    "start_time": "2022-06-20T07:58:44.863Z"
   },
   {
    "duration": 3,
    "start_time": "2022-06-20T07:58:44.875Z"
   },
   {
    "duration": 9,
    "start_time": "2022-06-20T07:58:44.880Z"
   },
   {
    "duration": 8,
    "start_time": "2022-06-20T07:58:44.890Z"
   },
   {
    "duration": 29,
    "start_time": "2022-06-20T07:58:44.900Z"
   },
   {
    "duration": 11,
    "start_time": "2022-06-20T07:58:44.935Z"
   },
   {
    "duration": 19,
    "start_time": "2022-06-20T07:58:44.948Z"
   },
   {
    "duration": 5,
    "start_time": "2022-06-20T07:58:44.968Z"
   },
   {
    "duration": 9,
    "start_time": "2022-06-20T07:58:44.975Z"
   },
   {
    "duration": 9,
    "start_time": "2022-06-20T07:58:54.545Z"
   },
   {
    "duration": 6,
    "start_time": "2022-06-20T07:59:36.622Z"
   },
   {
    "duration": 10,
    "start_time": "2022-06-20T07:59:40.051Z"
   },
   {
    "duration": 6,
    "start_time": "2022-06-20T08:01:11.163Z"
   },
   {
    "duration": 5,
    "start_time": "2022-06-20T08:01:12.576Z"
   },
   {
    "duration": 498,
    "start_time": "2022-06-20T08:02:16.000Z"
   },
   {
    "duration": 26,
    "start_time": "2022-06-20T08:02:41.104Z"
   },
   {
    "duration": 22,
    "start_time": "2022-06-20T08:03:29.761Z"
   },
   {
    "duration": 26,
    "start_time": "2022-06-20T08:04:06.798Z"
   },
   {
    "duration": 19,
    "start_time": "2022-06-20T08:04:16.153Z"
   },
   {
    "duration": 15,
    "start_time": "2022-06-20T08:04:25.464Z"
   },
   {
    "duration": 27,
    "start_time": "2022-06-20T08:04:28.757Z"
   },
   {
    "duration": 17,
    "start_time": "2022-06-20T08:05:51.967Z"
   },
   {
    "duration": 14,
    "start_time": "2022-06-20T08:06:01.567Z"
   },
   {
    "duration": 23,
    "start_time": "2022-06-20T08:06:09.027Z"
   },
   {
    "duration": 18,
    "start_time": "2022-06-20T08:07:40.405Z"
   },
   {
    "duration": 28,
    "start_time": "2022-06-20T08:07:47.412Z"
   },
   {
    "duration": 32,
    "start_time": "2022-06-20T08:07:52.312Z"
   },
   {
    "duration": 21,
    "start_time": "2022-06-20T08:08:01.959Z"
   },
   {
    "duration": 19,
    "start_time": "2022-06-20T08:08:08.302Z"
   },
   {
    "duration": 20,
    "start_time": "2022-06-20T08:08:10.991Z"
   },
   {
    "duration": 30,
    "start_time": "2022-06-20T08:08:20.560Z"
   },
   {
    "duration": 25,
    "start_time": "2022-06-20T08:08:23.425Z"
   },
   {
    "duration": 13,
    "start_time": "2022-06-20T08:17:25.252Z"
   },
   {
    "duration": 19,
    "start_time": "2022-06-20T08:17:39.516Z"
   },
   {
    "duration": 532,
    "start_time": "2022-06-20T08:18:01.016Z"
   },
   {
    "duration": 21,
    "start_time": "2022-06-20T08:18:01.550Z"
   },
   {
    "duration": 12,
    "start_time": "2022-06-20T08:18:01.573Z"
   },
   {
    "duration": 24,
    "start_time": "2022-06-20T08:18:01.586Z"
   },
   {
    "duration": 53,
    "start_time": "2022-06-20T08:18:01.613Z"
   },
   {
    "duration": 5,
    "start_time": "2022-06-20T08:18:01.671Z"
   },
   {
    "duration": 11,
    "start_time": "2022-06-20T08:18:01.677Z"
   },
   {
    "duration": 19,
    "start_time": "2022-06-20T08:18:01.689Z"
   },
   {
    "duration": 18,
    "start_time": "2022-06-20T08:18:01.709Z"
   },
   {
    "duration": 40,
    "start_time": "2022-06-20T08:18:01.731Z"
   },
   {
    "duration": 41,
    "start_time": "2022-06-20T08:18:01.772Z"
   },
   {
    "duration": 12,
    "start_time": "2022-06-20T08:18:01.815Z"
   },
   {
    "duration": 35,
    "start_time": "2022-06-20T08:18:01.829Z"
   },
   {
    "duration": 21,
    "start_time": "2022-06-20T08:18:01.867Z"
   },
   {
    "duration": 22,
    "start_time": "2022-06-20T08:18:01.890Z"
   },
   {
    "duration": 15,
    "start_time": "2022-06-20T08:18:01.914Z"
   },
   {
    "duration": 47,
    "start_time": "2022-06-20T08:18:01.930Z"
   },
   {
    "duration": 22,
    "start_time": "2022-06-20T08:18:01.980Z"
   },
   {
    "duration": 23,
    "start_time": "2022-06-20T08:18:02.004Z"
   },
   {
    "duration": 50,
    "start_time": "2022-06-20T08:18:02.028Z"
   },
   {
    "duration": 15,
    "start_time": "2022-06-20T08:18:02.080Z"
   },
   {
    "duration": 26,
    "start_time": "2022-06-20T08:18:02.097Z"
   },
   {
    "duration": 3,
    "start_time": "2022-06-20T08:18:02.124Z"
   },
   {
    "duration": 36,
    "start_time": "2022-06-20T08:18:02.129Z"
   },
   {
    "duration": 7,
    "start_time": "2022-06-20T08:18:02.167Z"
   },
   {
    "duration": 11,
    "start_time": "2022-06-20T08:18:02.175Z"
   },
   {
    "duration": 26,
    "start_time": "2022-06-20T08:18:02.188Z"
   },
   {
    "duration": 19,
    "start_time": "2022-06-20T08:18:02.215Z"
   },
   {
    "duration": 3,
    "start_time": "2022-06-20T08:18:02.236Z"
   },
   {
    "duration": 27,
    "start_time": "2022-06-20T08:18:02.240Z"
   },
   {
    "duration": 487,
    "start_time": "2022-06-20T08:18:21.821Z"
   },
   {
    "duration": 23,
    "start_time": "2022-06-20T08:18:22.310Z"
   },
   {
    "duration": 17,
    "start_time": "2022-06-20T08:18:22.335Z"
   },
   {
    "duration": 28,
    "start_time": "2022-06-20T08:18:22.353Z"
   },
   {
    "duration": 32,
    "start_time": "2022-06-20T08:18:22.383Z"
   },
   {
    "duration": 3,
    "start_time": "2022-06-20T08:18:22.416Z"
   },
   {
    "duration": 12,
    "start_time": "2022-06-20T08:18:22.421Z"
   },
   {
    "duration": 28,
    "start_time": "2022-06-20T08:18:22.435Z"
   },
   {
    "duration": 10,
    "start_time": "2022-06-20T08:18:22.465Z"
   },
   {
    "duration": 4,
    "start_time": "2022-06-20T08:18:22.476Z"
   },
   {
    "duration": 34,
    "start_time": "2022-06-20T08:18:22.482Z"
   },
   {
    "duration": 8,
    "start_time": "2022-06-20T08:18:22.518Z"
   },
   {
    "duration": 36,
    "start_time": "2022-06-20T08:18:22.527Z"
   },
   {
    "duration": 26,
    "start_time": "2022-06-20T08:18:22.566Z"
   },
   {
    "duration": 21,
    "start_time": "2022-06-20T08:18:22.594Z"
   },
   {
    "duration": 18,
    "start_time": "2022-06-20T08:18:22.617Z"
   },
   {
    "duration": 7,
    "start_time": "2022-06-20T08:18:22.636Z"
   },
   {
    "duration": 24,
    "start_time": "2022-06-20T08:18:22.644Z"
   },
   {
    "duration": 4,
    "start_time": "2022-06-20T08:18:22.670Z"
   },
   {
    "duration": 3,
    "start_time": "2022-06-20T08:18:22.676Z"
   },
   {
    "duration": 16,
    "start_time": "2022-06-20T08:18:22.680Z"
   },
   {
    "duration": 16,
    "start_time": "2022-06-20T08:18:24.694Z"
   },
   {
    "duration": 20,
    "start_time": "2022-06-20T08:18:42.950Z"
   },
   {
    "duration": 10,
    "start_time": "2022-06-20T08:18:47.563Z"
   },
   {
    "duration": 450,
    "start_time": "2022-06-20T08:21:25.163Z"
   },
   {
    "duration": 21,
    "start_time": "2022-06-20T08:21:26.364Z"
   },
   {
    "duration": 15,
    "start_time": "2022-06-20T08:21:30.086Z"
   },
   {
    "duration": 15,
    "start_time": "2022-06-20T08:21:31.663Z"
   },
   {
    "duration": 438,
    "start_time": "2022-06-20T08:23:05.480Z"
   },
   {
    "duration": 26,
    "start_time": "2022-06-20T08:23:05.920Z"
   },
   {
    "duration": 33,
    "start_time": "2022-06-20T08:23:05.948Z"
   },
   {
    "duration": 9,
    "start_time": "2022-06-20T08:23:05.983Z"
   },
   {
    "duration": 33,
    "start_time": "2022-06-20T08:23:05.993Z"
   },
   {
    "duration": 5,
    "start_time": "2022-06-20T08:23:06.027Z"
   },
   {
    "duration": 52,
    "start_time": "2022-06-20T08:23:06.033Z"
   },
   {
    "duration": 5,
    "start_time": "2022-06-20T08:23:06.087Z"
   },
   {
    "duration": 14,
    "start_time": "2022-06-20T08:23:06.094Z"
   },
   {
    "duration": 24,
    "start_time": "2022-06-20T08:23:06.111Z"
   },
   {
    "duration": 79,
    "start_time": "2022-06-20T08:23:06.136Z"
   },
   {
    "duration": 9,
    "start_time": "2022-06-20T08:23:06.217Z"
   },
   {
    "duration": 38,
    "start_time": "2022-06-20T08:23:06.228Z"
   },
   {
    "duration": 44,
    "start_time": "2022-06-20T08:23:06.268Z"
   },
   {
    "duration": 33,
    "start_time": "2022-06-20T08:23:06.314Z"
   },
   {
    "duration": 33,
    "start_time": "2022-06-20T08:23:06.349Z"
   },
   {
    "duration": 16,
    "start_time": "2022-06-20T08:23:06.384Z"
   },
   {
    "duration": 44,
    "start_time": "2022-06-20T08:23:06.402Z"
   },
   {
    "duration": 29,
    "start_time": "2022-06-20T08:23:06.448Z"
   },
   {
    "duration": 3,
    "start_time": "2022-06-20T08:23:06.479Z"
   },
   {
    "duration": 12,
    "start_time": "2022-06-20T08:23:06.484Z"
   },
   {
    "duration": 21,
    "start_time": "2022-06-20T08:23:06.499Z"
   },
   {
    "duration": 14,
    "start_time": "2022-06-20T08:23:06.522Z"
   },
   {
    "duration": 44,
    "start_time": "2022-06-20T08:23:06.538Z"
   },
   {
    "duration": 9,
    "start_time": "2022-06-20T08:23:06.583Z"
   },
   {
    "duration": 6,
    "start_time": "2022-06-20T08:23:06.594Z"
   },
   {
    "duration": 9,
    "start_time": "2022-06-20T08:23:06.601Z"
   },
   {
    "duration": 20,
    "start_time": "2022-06-20T08:23:06.612Z"
   },
   {
    "duration": 29,
    "start_time": "2022-06-20T08:23:06.634Z"
   },
   {
    "duration": 6,
    "start_time": "2022-06-20T08:23:06.665Z"
   },
   {
    "duration": 5,
    "start_time": "2022-06-20T08:23:06.673Z"
   },
   {
    "duration": 75,
    "start_time": "2022-06-20T08:25:08.595Z"
   },
   {
    "duration": 28,
    "start_time": "2022-06-20T08:25:25.423Z"
   },
   {
    "duration": 21,
    "start_time": "2022-06-20T08:25:39.220Z"
   },
   {
    "duration": 19,
    "start_time": "2022-06-20T08:25:50.064Z"
   },
   {
    "duration": 436,
    "start_time": "2022-06-20T08:36:07.970Z"
   },
   {
    "duration": 0,
    "start_time": "2022-06-20T08:36:47.600Z"
   },
   {
    "duration": 0,
    "start_time": "2022-06-20T08:37:36.656Z"
   },
   {
    "duration": 1609,
    "start_time": "2022-06-20T08:37:37.885Z"
   },
   {
    "duration": 1643,
    "start_time": "2022-06-20T08:37:44.065Z"
   },
   {
    "duration": 1560,
    "start_time": "2022-06-20T08:37:53.161Z"
   },
   {
    "duration": 1564,
    "start_time": "2022-06-20T08:38:09.508Z"
   },
   {
    "duration": 206,
    "start_time": "2022-06-20T08:38:14.895Z"
   },
   {
    "duration": 283,
    "start_time": "2022-06-20T08:39:33.555Z"
   },
   {
    "duration": 172,
    "start_time": "2022-06-20T08:41:11.407Z"
   },
   {
    "duration": 19,
    "start_time": "2022-06-20T08:42:19.960Z"
   },
   {
    "duration": 18,
    "start_time": "2022-06-20T08:42:28.702Z"
   },
   {
    "duration": 29,
    "start_time": "2022-06-20T08:48:27.295Z"
   },
   {
    "duration": 22,
    "start_time": "2022-06-20T08:48:53.361Z"
   },
   {
    "duration": 32,
    "start_time": "2022-06-20T08:49:40.353Z"
   },
   {
    "duration": 33,
    "start_time": "2022-06-20T08:50:43.671Z"
   },
   {
    "duration": 41,
    "start_time": "2022-06-20T08:50:53.607Z"
   },
   {
    "duration": 41,
    "start_time": "2022-06-20T08:50:56.321Z"
   },
   {
    "duration": 28,
    "start_time": "2022-06-20T08:51:10.574Z"
   },
   {
    "duration": 30,
    "start_time": "2022-06-20T08:51:14.558Z"
   },
   {
    "duration": 30,
    "start_time": "2022-06-20T08:52:05.603Z"
   },
   {
    "duration": 33,
    "start_time": "2022-06-20T08:52:12.945Z"
   },
   {
    "duration": 34,
    "start_time": "2022-06-20T08:52:17.454Z"
   },
   {
    "duration": 32,
    "start_time": "2022-06-20T08:52:37.562Z"
   },
   {
    "duration": 41,
    "start_time": "2022-06-20T08:52:40.780Z"
   },
   {
    "duration": 30,
    "start_time": "2022-06-20T08:52:50.294Z"
   },
   {
    "duration": 18,
    "start_time": "2022-06-20T08:53:28.307Z"
   },
   {
    "duration": 13,
    "start_time": "2022-06-20T08:53:37.709Z"
   },
   {
    "duration": 18,
    "start_time": "2022-06-20T08:54:21.490Z"
   },
   {
    "duration": 7,
    "start_time": "2022-06-20T08:54:29.683Z"
   },
   {
    "duration": 14,
    "start_time": "2022-06-20T08:55:01.765Z"
   },
   {
    "duration": 23,
    "start_time": "2022-06-20T08:55:14.902Z"
   },
   {
    "duration": 5,
    "start_time": "2022-06-20T08:56:03.573Z"
   },
   {
    "duration": 24,
    "start_time": "2022-06-20T08:56:03.822Z"
   },
   {
    "duration": 3,
    "start_time": "2022-06-20T08:56:18.285Z"
   },
   {
    "duration": 5,
    "start_time": "2022-06-20T08:56:21.450Z"
   },
   {
    "duration": 3,
    "start_time": "2022-06-20T08:56:25.254Z"
   },
   {
    "duration": 9,
    "start_time": "2022-06-20T08:56:47.871Z"
   },
   {
    "duration": 5,
    "start_time": "2022-06-20T08:56:49.280Z"
   },
   {
    "duration": 6,
    "start_time": "2022-06-20T08:57:21.617Z"
   },
   {
    "duration": 4,
    "start_time": "2022-06-20T08:57:22.963Z"
   },
   {
    "duration": 8,
    "start_time": "2022-06-20T08:57:30.212Z"
   },
   {
    "duration": 7,
    "start_time": "2022-06-20T08:57:39.514Z"
   },
   {
    "duration": 7,
    "start_time": "2022-06-20T08:57:48.868Z"
   },
   {
    "duration": 7,
    "start_time": "2022-06-20T08:57:59.186Z"
   },
   {
    "duration": 6,
    "start_time": "2022-06-20T08:58:00.398Z"
   },
   {
    "duration": 8,
    "start_time": "2022-06-20T08:58:09.044Z"
   },
   {
    "duration": 5,
    "start_time": "2022-06-20T08:58:10.003Z"
   },
   {
    "duration": 22,
    "start_time": "2022-06-20T08:58:10.093Z"
   },
   {
    "duration": 117,
    "start_time": "2022-06-20T08:58:36.378Z"
   },
   {
    "duration": 904,
    "start_time": "2022-06-20T08:58:53.755Z"
   },
   {
    "duration": 21,
    "start_time": "2022-06-20T08:58:58.701Z"
   },
   {
    "duration": 113,
    "start_time": "2022-06-20T08:59:01.550Z"
   },
   {
    "duration": 6,
    "start_time": "2022-06-20T08:59:59.605Z"
   },
   {
    "duration": 118,
    "start_time": "2022-06-20T09:00:00.720Z"
   },
   {
    "duration": 4,
    "start_time": "2022-06-20T09:00:05.004Z"
   },
   {
    "duration": 4,
    "start_time": "2022-06-20T09:00:15.364Z"
   },
   {
    "duration": 6,
    "start_time": "2022-06-20T09:00:16.867Z"
   },
   {
    "duration": 8,
    "start_time": "2022-06-20T09:00:22.845Z"
   },
   {
    "duration": 5,
    "start_time": "2022-06-20T09:00:25.514Z"
   },
   {
    "duration": 5,
    "start_time": "2022-06-20T09:00:26.807Z"
   },
   {
    "duration": 20,
    "start_time": "2022-06-20T09:00:44.282Z"
   },
   {
    "duration": 18,
    "start_time": "2022-06-20T09:08:23.493Z"
   },
   {
    "duration": 18,
    "start_time": "2022-06-20T09:08:43.159Z"
   },
   {
    "duration": 21,
    "start_time": "2022-06-20T09:08:46.726Z"
   },
   {
    "duration": 17,
    "start_time": "2022-06-20T09:08:54.294Z"
   },
   {
    "duration": 18,
    "start_time": "2022-06-20T09:08:56.977Z"
   },
   {
    "duration": 18,
    "start_time": "2022-06-20T09:09:40.962Z"
   },
   {
    "duration": 9,
    "start_time": "2022-06-20T09:10:21.295Z"
   },
   {
    "duration": 13,
    "start_time": "2022-06-20T09:11:00.015Z"
   },
   {
    "duration": 17,
    "start_time": "2022-06-20T09:15:09.682Z"
   },
   {
    "duration": 47,
    "start_time": "2022-08-27T18:54:19.928Z"
   },
   {
    "duration": 734,
    "start_time": "2022-08-27T18:54:23.795Z"
   },
   {
    "duration": 20,
    "start_time": "2022-08-27T18:54:25.225Z"
   },
   {
    "duration": 15,
    "start_time": "2022-08-27T18:54:59.412Z"
   },
   {
    "duration": 498,
    "start_time": "2022-08-27T19:34:12.136Z"
   },
   {
    "duration": 23,
    "start_time": "2022-08-27T19:34:12.635Z"
   },
   {
    "duration": 40,
    "start_time": "2022-08-27T19:34:12.660Z"
   },
   {
    "duration": 9,
    "start_time": "2022-08-27T19:34:12.703Z"
   },
   {
    "duration": 34,
    "start_time": "2022-08-27T19:34:12.714Z"
   },
   {
    "duration": 3,
    "start_time": "2022-08-27T19:34:12.750Z"
   },
   {
    "duration": 12,
    "start_time": "2022-08-27T19:34:12.755Z"
   },
   {
    "duration": 22,
    "start_time": "2022-08-27T19:34:12.769Z"
   },
   {
    "duration": 17,
    "start_time": "2022-08-27T19:34:12.793Z"
   },
   {
    "duration": 5,
    "start_time": "2022-08-27T19:34:12.813Z"
   },
   {
    "duration": 45,
    "start_time": "2022-08-27T19:34:12.820Z"
   },
   {
    "duration": 38,
    "start_time": "2022-08-27T19:34:12.866Z"
   },
   {
    "duration": 5,
    "start_time": "2022-08-27T19:34:12.906Z"
   },
   {
    "duration": 21,
    "start_time": "2022-08-27T19:34:12.912Z"
   },
   {
    "duration": 16,
    "start_time": "2022-08-27T19:34:12.935Z"
   },
   {
    "duration": 11,
    "start_time": "2022-08-27T19:34:12.953Z"
   },
   {
    "duration": 24,
    "start_time": "2022-08-27T19:34:12.966Z"
   },
   {
    "duration": 27,
    "start_time": "2022-08-27T19:34:12.993Z"
   },
   {
    "duration": 8,
    "start_time": "2022-08-27T19:34:13.022Z"
   },
   {
    "duration": 4,
    "start_time": "2022-08-27T19:34:13.032Z"
   },
   {
    "duration": 37,
    "start_time": "2022-08-27T19:34:13.037Z"
   },
   {
    "duration": 81,
    "start_time": "2022-08-27T19:34:13.075Z"
   },
   {
    "duration": 0,
    "start_time": "2022-08-27T19:34:13.158Z"
   },
   {
    "duration": 0,
    "start_time": "2022-08-27T19:34:13.159Z"
   },
   {
    "duration": 0,
    "start_time": "2022-08-27T19:34:13.161Z"
   },
   {
    "duration": 474,
    "start_time": "2022-08-27T20:55:30.853Z"
   },
   {
    "duration": 22,
    "start_time": "2022-08-27T20:55:31.329Z"
   },
   {
    "duration": 14,
    "start_time": "2022-08-27T20:55:31.353Z"
   },
   {
    "duration": 20,
    "start_time": "2022-08-27T20:55:31.369Z"
   },
   {
    "duration": 69,
    "start_time": "2022-08-27T20:55:31.391Z"
   },
   {
    "duration": 3,
    "start_time": "2022-08-27T20:55:31.462Z"
   },
   {
    "duration": 19,
    "start_time": "2022-08-27T20:55:31.466Z"
   },
   {
    "duration": 13,
    "start_time": "2022-08-27T20:55:31.487Z"
   },
   {
    "duration": 29,
    "start_time": "2022-08-27T20:55:31.502Z"
   },
   {
    "duration": 10,
    "start_time": "2022-08-27T20:55:31.533Z"
   },
   {
    "duration": 42,
    "start_time": "2022-08-27T20:55:31.545Z"
   },
   {
    "duration": 9,
    "start_time": "2022-08-27T20:55:31.588Z"
   },
   {
    "duration": 11,
    "start_time": "2022-08-27T20:55:31.598Z"
   },
   {
    "duration": 36,
    "start_time": "2022-08-27T20:55:31.611Z"
   },
   {
    "duration": 17,
    "start_time": "2022-08-27T20:55:31.648Z"
   },
   {
    "duration": 10,
    "start_time": "2022-08-27T20:55:31.667Z"
   },
   {
    "duration": 8,
    "start_time": "2022-08-27T20:55:31.679Z"
   },
   {
    "duration": 16,
    "start_time": "2022-08-27T20:55:31.688Z"
   },
   {
    "duration": 19,
    "start_time": "2022-08-27T20:55:31.706Z"
   },
   {
    "duration": 4,
    "start_time": "2022-08-27T20:55:31.727Z"
   },
   {
    "duration": 18,
    "start_time": "2022-08-27T20:55:31.733Z"
   },
   {
    "duration": 77,
    "start_time": "2022-08-27T20:55:31.752Z"
   },
   {
    "duration": 0,
    "start_time": "2022-08-27T20:55:31.831Z"
   },
   {
    "duration": 1,
    "start_time": "2022-08-27T20:55:31.832Z"
   },
   {
    "duration": 0,
    "start_time": "2022-08-27T20:55:31.834Z"
   },
   {
    "duration": 874,
    "start_time": "2022-08-28T08:44:34.291Z"
   },
   {
    "duration": 22,
    "start_time": "2022-08-28T08:44:35.167Z"
   },
   {
    "duration": 14,
    "start_time": "2022-08-28T08:44:35.191Z"
   },
   {
    "duration": 20,
    "start_time": "2022-08-28T08:44:35.207Z"
   },
   {
    "duration": 44,
    "start_time": "2022-08-28T08:44:35.229Z"
   },
   {
    "duration": 3,
    "start_time": "2022-08-28T08:44:35.275Z"
   },
   {
    "duration": 14,
    "start_time": "2022-08-28T08:44:35.279Z"
   },
   {
    "duration": 7,
    "start_time": "2022-08-28T08:44:35.295Z"
   },
   {
    "duration": 44,
    "start_time": "2022-08-28T08:44:35.303Z"
   },
   {
    "duration": 6,
    "start_time": "2022-08-28T08:44:35.349Z"
   },
   {
    "duration": 41,
    "start_time": "2022-08-28T08:44:35.357Z"
   },
   {
    "duration": 11,
    "start_time": "2022-08-28T08:44:35.400Z"
   },
   {
    "duration": 33,
    "start_time": "2022-08-28T08:44:35.413Z"
   },
   {
    "duration": 28,
    "start_time": "2022-08-28T08:44:35.448Z"
   },
   {
    "duration": 17,
    "start_time": "2022-08-28T08:44:35.478Z"
   },
   {
    "duration": 13,
    "start_time": "2022-08-28T08:44:35.497Z"
   },
   {
    "duration": 32,
    "start_time": "2022-08-28T08:44:35.511Z"
   },
   {
    "duration": 11,
    "start_time": "2022-08-28T08:44:35.545Z"
   },
   {
    "duration": 5,
    "start_time": "2022-08-28T08:44:35.558Z"
   },
   {
    "duration": 5,
    "start_time": "2022-08-28T08:44:35.565Z"
   },
   {
    "duration": 26,
    "start_time": "2022-08-28T08:44:35.572Z"
   },
   {
    "duration": 80,
    "start_time": "2022-08-28T08:44:35.600Z"
   },
   {
    "duration": 0,
    "start_time": "2022-08-28T08:44:35.682Z"
   },
   {
    "duration": 0,
    "start_time": "2022-08-28T08:44:35.683Z"
   },
   {
    "duration": 0,
    "start_time": "2022-08-28T08:44:35.684Z"
   },
   {
    "duration": 8,
    "start_time": "2022-08-28T08:48:42.894Z"
   },
   {
    "duration": 13,
    "start_time": "2022-08-28T08:48:55.633Z"
   },
   {
    "duration": 19,
    "start_time": "2022-08-28T08:49:21.266Z"
   },
   {
    "duration": 12,
    "start_time": "2022-08-28T08:51:02.700Z"
   },
   {
    "duration": 21,
    "start_time": "2022-08-28T08:51:12.274Z"
   },
   {
    "duration": 16,
    "start_time": "2022-08-28T08:51:44.915Z"
   },
   {
    "duration": 17,
    "start_time": "2022-08-28T08:51:47.519Z"
   },
   {
    "duration": 3,
    "start_time": "2022-08-28T08:57:00.386Z"
   },
   {
    "duration": 3,
    "start_time": "2022-08-28T08:57:59.328Z"
   },
   {
    "duration": 866,
    "start_time": "2022-08-28T08:58:17.697Z"
   },
   {
    "duration": 8,
    "start_time": "2022-08-28T09:02:18.444Z"
   },
   {
    "duration": 9,
    "start_time": "2022-08-28T09:02:27.554Z"
   },
   {
    "duration": 13,
    "start_time": "2022-08-28T09:02:29.905Z"
   },
   {
    "duration": 14,
    "start_time": "2022-08-28T09:02:41.254Z"
   },
   {
    "duration": 31,
    "start_time": "2022-08-28T09:08:09.243Z"
   },
   {
    "duration": 41,
    "start_time": "2022-08-28T09:11:01.256Z"
   },
   {
    "duration": 26,
    "start_time": "2022-08-28T09:11:11.405Z"
   },
   {
    "duration": 40,
    "start_time": "2022-08-28T09:11:13.031Z"
   },
   {
    "duration": 18,
    "start_time": "2022-08-28T09:12:52.494Z"
   },
   {
    "duration": 38,
    "start_time": "2022-08-28T09:14:08.738Z"
   },
   {
    "duration": 1193,
    "start_time": "2022-08-28T09:14:19.067Z"
   },
   {
    "duration": 35,
    "start_time": "2022-08-28T09:14:48.785Z"
   },
   {
    "duration": 14,
    "start_time": "2022-08-28T09:19:43.375Z"
   },
   {
    "duration": 13,
    "start_time": "2022-08-28T09:21:30.159Z"
   },
   {
    "duration": 2228,
    "start_time": "2022-08-28T09:23:43.734Z"
   },
   {
    "duration": 14,
    "start_time": "2022-08-28T09:23:51.177Z"
   },
   {
    "duration": 18,
    "start_time": "2022-08-28T09:28:28.800Z"
   },
   {
    "duration": 14,
    "start_time": "2022-08-28T09:30:25.765Z"
   },
   {
    "duration": 9,
    "start_time": "2022-08-28T09:32:07.294Z"
   },
   {
    "duration": 37,
    "start_time": "2022-08-28T09:32:15.646Z"
   },
   {
    "duration": 30,
    "start_time": "2022-08-28T09:33:33.874Z"
   },
   {
    "duration": 16,
    "start_time": "2022-08-28T09:34:36.169Z"
   },
   {
    "duration": 15,
    "start_time": "2022-08-28T09:34:43.172Z"
   },
   {
    "duration": 14,
    "start_time": "2022-08-28T09:34:48.410Z"
   },
   {
    "duration": 41,
    "start_time": "2022-08-28T09:34:50.093Z"
   },
   {
    "duration": 17,
    "start_time": "2022-08-28T09:37:16.452Z"
   },
   {
    "duration": 18,
    "start_time": "2022-08-28T09:37:22.330Z"
   },
   {
    "duration": 17,
    "start_time": "2022-08-28T09:44:40.657Z"
   },
   {
    "duration": 23,
    "start_time": "2022-08-28T09:44:44.903Z"
   },
   {
    "duration": 15,
    "start_time": "2022-08-28T09:44:56.770Z"
   },
   {
    "duration": 15,
    "start_time": "2022-08-28T09:45:02.558Z"
   },
   {
    "duration": 14,
    "start_time": "2022-08-28T09:45:24.528Z"
   },
   {
    "duration": 16,
    "start_time": "2022-08-28T09:49:29.715Z"
   },
   {
    "duration": 14,
    "start_time": "2022-08-28T09:49:33.779Z"
   },
   {
    "duration": 18,
    "start_time": "2022-08-28T09:50:19.345Z"
   },
   {
    "duration": 20,
    "start_time": "2022-08-28T09:50:21.616Z"
   },
   {
    "duration": 15,
    "start_time": "2022-08-28T09:50:26.596Z"
   },
   {
    "duration": 763,
    "start_time": "2022-08-28T09:50:46.162Z"
   },
   {
    "duration": 885,
    "start_time": "2022-08-28T09:50:56.261Z"
   },
   {
    "duration": 792,
    "start_time": "2022-08-28T09:51:08.239Z"
   },
   {
    "duration": 21,
    "start_time": "2022-08-28T09:51:15.184Z"
   },
   {
    "duration": 16,
    "start_time": "2022-08-28T09:51:51.589Z"
   },
   {
    "duration": 17,
    "start_time": "2022-08-28T09:52:02.773Z"
   },
   {
    "duration": 23,
    "start_time": "2022-08-28T09:52:11.538Z"
   },
   {
    "duration": 17,
    "start_time": "2022-08-28T10:02:59.406Z"
   },
   {
    "duration": 29,
    "start_time": "2022-08-28T10:03:15.823Z"
   },
   {
    "duration": 22,
    "start_time": "2022-08-28T10:03:45.535Z"
   },
   {
    "duration": 20,
    "start_time": "2022-08-28T10:03:56.324Z"
   },
   {
    "duration": 25,
    "start_time": "2022-08-28T10:03:59.327Z"
   },
   {
    "duration": 23,
    "start_time": "2022-08-28T10:04:04.266Z"
   },
   {
    "duration": 25,
    "start_time": "2022-08-28T10:05:03.306Z"
   },
   {
    "duration": 22,
    "start_time": "2022-08-28T10:05:22.127Z"
   },
   {
    "duration": 507,
    "start_time": "2022-08-28T10:09:44.394Z"
   },
   {
    "duration": 28,
    "start_time": "2022-08-28T10:09:44.903Z"
   },
   {
    "duration": 22,
    "start_time": "2022-08-28T10:09:44.933Z"
   },
   {
    "duration": 10,
    "start_time": "2022-08-28T10:09:44.958Z"
   },
   {
    "duration": 60,
    "start_time": "2022-08-28T10:09:44.970Z"
   },
   {
    "duration": 5,
    "start_time": "2022-08-28T10:09:45.032Z"
   },
   {
    "duration": 24,
    "start_time": "2022-08-28T10:09:45.040Z"
   },
   {
    "duration": 4,
    "start_time": "2022-08-28T10:09:45.066Z"
   },
   {
    "duration": 9,
    "start_time": "2022-08-28T10:09:45.072Z"
   },
   {
    "duration": 5,
    "start_time": "2022-08-28T10:09:45.083Z"
   },
   {
    "duration": 63,
    "start_time": "2022-08-28T10:09:45.089Z"
   },
   {
    "duration": 11,
    "start_time": "2022-08-28T10:09:45.154Z"
   },
   {
    "duration": 5,
    "start_time": "2022-08-28T10:09:45.167Z"
   },
   {
    "duration": 20,
    "start_time": "2022-08-28T10:09:45.174Z"
   },
   {
    "duration": 25,
    "start_time": "2022-08-28T10:09:45.212Z"
   },
   {
    "duration": 14,
    "start_time": "2022-08-28T10:09:45.239Z"
   },
   {
    "duration": 10,
    "start_time": "2022-08-28T10:09:45.254Z"
   },
   {
    "duration": 16,
    "start_time": "2022-08-28T10:09:45.266Z"
   },
   {
    "duration": 6,
    "start_time": "2022-08-28T10:09:45.284Z"
   },
   {
    "duration": 20,
    "start_time": "2022-08-28T10:09:45.292Z"
   },
   {
    "duration": 31,
    "start_time": "2022-08-28T10:09:45.315Z"
   },
   {
    "duration": 33,
    "start_time": "2022-08-28T10:09:45.348Z"
   },
   {
    "duration": 17,
    "start_time": "2022-08-28T10:09:45.383Z"
   },
   {
    "duration": 23,
    "start_time": "2022-08-28T10:09:45.402Z"
   },
   {
    "duration": 37,
    "start_time": "2022-08-28T10:09:45.427Z"
   },
   {
    "duration": 585,
    "start_time": "2022-08-29T09:09:22.935Z"
   },
   {
    "duration": 41,
    "start_time": "2022-08-29T09:09:23.525Z"
   },
   {
    "duration": 30,
    "start_time": "2022-08-29T09:09:23.570Z"
   },
   {
    "duration": 25,
    "start_time": "2022-08-29T09:09:23.603Z"
   },
   {
    "duration": 53,
    "start_time": "2022-08-29T09:09:23.632Z"
   },
   {
    "duration": 18,
    "start_time": "2022-08-29T09:09:23.688Z"
   },
   {
    "duration": 36,
    "start_time": "2022-08-29T09:09:23.715Z"
   },
   {
    "duration": 4,
    "start_time": "2022-08-29T09:09:23.753Z"
   },
   {
    "duration": 12,
    "start_time": "2022-08-29T09:09:23.758Z"
   },
   {
    "duration": 6,
    "start_time": "2022-08-29T09:09:23.772Z"
   },
   {
    "duration": 54,
    "start_time": "2022-08-29T09:09:23.779Z"
   },
   {
    "duration": 25,
    "start_time": "2022-08-29T09:09:23.834Z"
   },
   {
    "duration": 5,
    "start_time": "2022-08-29T09:09:23.862Z"
   },
   {
    "duration": 35,
    "start_time": "2022-08-29T09:09:23.870Z"
   },
   {
    "duration": 27,
    "start_time": "2022-08-29T09:09:23.906Z"
   },
   {
    "duration": 23,
    "start_time": "2022-08-29T09:09:23.935Z"
   },
   {
    "duration": 16,
    "start_time": "2022-08-29T09:09:23.960Z"
   },
   {
    "duration": 22,
    "start_time": "2022-08-29T09:09:23.977Z"
   },
   {
    "duration": 39,
    "start_time": "2022-08-29T09:09:24.010Z"
   },
   {
    "duration": 14,
    "start_time": "2022-08-29T09:09:24.051Z"
   },
   {
    "duration": 36,
    "start_time": "2022-08-29T09:09:24.067Z"
   },
   {
    "duration": 63,
    "start_time": "2022-08-29T09:09:24.109Z"
   },
   {
    "duration": 35,
    "start_time": "2022-08-29T09:09:24.174Z"
   },
   {
    "duration": 71,
    "start_time": "2022-08-29T09:09:24.211Z"
   },
   {
    "duration": 38,
    "start_time": "2022-08-29T09:09:24.283Z"
   },
   {
    "duration": 486,
    "start_time": "2022-08-29T09:09:38.165Z"
   },
   {
    "duration": 25,
    "start_time": "2022-08-29T09:09:38.653Z"
   },
   {
    "duration": 42,
    "start_time": "2022-08-29T09:09:38.679Z"
   },
   {
    "duration": 21,
    "start_time": "2022-08-29T09:09:38.729Z"
   },
   {
    "duration": 46,
    "start_time": "2022-08-29T09:09:38.752Z"
   },
   {
    "duration": 15,
    "start_time": "2022-08-29T09:09:38.807Z"
   },
   {
    "duration": 19,
    "start_time": "2022-08-29T09:09:38.829Z"
   },
   {
    "duration": 6,
    "start_time": "2022-08-29T09:09:38.850Z"
   },
   {
    "duration": 8,
    "start_time": "2022-08-29T09:09:38.858Z"
   },
   {
    "duration": 4,
    "start_time": "2022-08-29T09:09:38.869Z"
   },
   {
    "duration": 61,
    "start_time": "2022-08-29T09:09:38.875Z"
   },
   {
    "duration": 13,
    "start_time": "2022-08-29T09:09:38.938Z"
   },
   {
    "duration": 5,
    "start_time": "2022-08-29T09:09:38.953Z"
   },
   {
    "duration": 24,
    "start_time": "2022-08-29T09:09:38.960Z"
   },
   {
    "duration": 42,
    "start_time": "2022-08-29T09:09:38.986Z"
   },
   {
    "duration": 19,
    "start_time": "2022-08-29T09:09:39.034Z"
   },
   {
    "duration": 4,
    "start_time": "2022-08-29T09:09:39.055Z"
   },
   {
    "duration": 17,
    "start_time": "2022-08-29T09:09:39.060Z"
   },
   {
    "duration": 10,
    "start_time": "2022-08-29T09:09:39.079Z"
   },
   {
    "duration": 29,
    "start_time": "2022-08-29T09:09:39.091Z"
   },
   {
    "duration": 31,
    "start_time": "2022-08-29T09:09:39.122Z"
   },
   {
    "duration": 22,
    "start_time": "2022-08-29T09:09:39.154Z"
   },
   {
    "duration": 32,
    "start_time": "2022-08-29T09:09:39.178Z"
   },
   {
    "duration": 26,
    "start_time": "2022-08-29T09:09:39.211Z"
   },
   {
    "duration": 22,
    "start_time": "2022-08-29T09:09:39.239Z"
   },
   {
    "duration": 49,
    "start_time": "2022-08-29T12:57:37.669Z"
   },
   {
    "duration": 722,
    "start_time": "2022-08-29T12:57:41.766Z"
   },
   {
    "duration": 21,
    "start_time": "2022-08-29T12:57:42.490Z"
   },
   {
    "duration": 13,
    "start_time": "2022-08-29T12:57:42.513Z"
   },
   {
    "duration": 9,
    "start_time": "2022-08-29T12:57:42.528Z"
   },
   {
    "duration": 46,
    "start_time": "2022-08-29T12:57:42.539Z"
   },
   {
    "duration": 4,
    "start_time": "2022-08-29T12:57:42.586Z"
   },
   {
    "duration": 13,
    "start_time": "2022-08-29T12:57:42.591Z"
   },
   {
    "duration": 19,
    "start_time": "2022-08-29T12:57:42.606Z"
   },
   {
    "duration": 10,
    "start_time": "2022-08-29T12:57:42.627Z"
   },
   {
    "duration": 6,
    "start_time": "2022-08-29T12:57:42.638Z"
   },
   {
    "duration": 39,
    "start_time": "2022-08-29T12:57:42.646Z"
   },
   {
    "duration": 9,
    "start_time": "2022-08-29T12:57:42.686Z"
   },
   {
    "duration": 9,
    "start_time": "2022-08-29T12:57:42.696Z"
   },
   {
    "duration": 17,
    "start_time": "2022-08-29T12:57:42.707Z"
   },
   {
    "duration": 14,
    "start_time": "2022-08-29T12:57:42.725Z"
   },
   {
    "duration": 10,
    "start_time": "2022-08-29T12:57:42.741Z"
   },
   {
    "duration": 4,
    "start_time": "2022-08-29T12:57:42.752Z"
   },
   {
    "duration": 32,
    "start_time": "2022-08-29T12:57:42.758Z"
   },
   {
    "duration": 8,
    "start_time": "2022-08-29T12:57:42.792Z"
   },
   {
    "duration": 4,
    "start_time": "2022-08-29T12:57:42.802Z"
   },
   {
    "duration": 18,
    "start_time": "2022-08-29T12:57:42.808Z"
   },
   {
    "duration": 24,
    "start_time": "2022-08-29T12:57:42.828Z"
   },
   {
    "duration": 43,
    "start_time": "2022-08-29T12:57:42.853Z"
   },
   {
    "duration": 22,
    "start_time": "2022-08-29T12:57:44.518Z"
   },
   {
    "duration": 533,
    "start_time": "2022-08-29T12:58:09.480Z"
   },
   {
    "duration": 6,
    "start_time": "2022-08-29T13:04:05.063Z"
   },
   {
    "duration": 150,
    "start_time": "2022-08-29T13:05:14.138Z"
   },
   {
    "duration": 175,
    "start_time": "2022-08-29T13:05:22.340Z"
   },
   {
    "duration": 171,
    "start_time": "2022-08-29T13:05:26.548Z"
   },
   {
    "duration": 209,
    "start_time": "2022-08-29T13:05:28.472Z"
   },
   {
    "duration": 173,
    "start_time": "2022-08-29T13:05:30.988Z"
   },
   {
    "duration": 162,
    "start_time": "2022-08-29T13:06:17.054Z"
   },
   {
    "duration": 155,
    "start_time": "2022-08-29T13:07:59.348Z"
   },
   {
    "duration": 164,
    "start_time": "2022-08-29T13:08:04.000Z"
   },
   {
    "duration": 158,
    "start_time": "2022-08-29T13:08:05.874Z"
   },
   {
    "duration": 171,
    "start_time": "2022-08-29T13:08:10.285Z"
   },
   {
    "duration": 174,
    "start_time": "2022-08-29T13:08:13.125Z"
   },
   {
    "duration": 165,
    "start_time": "2022-08-29T13:08:17.891Z"
   },
   {
    "duration": 156,
    "start_time": "2022-08-29T13:09:01.173Z"
   },
   {
    "duration": 163,
    "start_time": "2022-08-29T13:09:04.008Z"
   },
   {
    "duration": 237,
    "start_time": "2022-08-29T13:09:06.543Z"
   },
   {
    "duration": 173,
    "start_time": "2022-08-29T13:10:35.777Z"
   },
   {
    "duration": 161,
    "start_time": "2022-08-29T13:11:30.787Z"
   },
   {
    "duration": 149,
    "start_time": "2022-08-29T13:48:03.937Z"
   },
   {
    "duration": 116,
    "start_time": "2022-08-29T13:48:04.088Z"
   },
   {
    "duration": 20,
    "start_time": "2022-08-29T13:51:01.614Z"
   },
   {
    "duration": 161,
    "start_time": "2022-08-29T13:51:03.925Z"
   },
   {
    "duration": 139,
    "start_time": "2022-08-29T13:53:00.786Z"
   },
   {
    "duration": 110,
    "start_time": "2022-08-29T13:56:23.440Z"
   },
   {
    "duration": 126,
    "start_time": "2022-08-29T13:56:30.137Z"
   },
   {
    "duration": 70,
    "start_time": "2022-08-29T13:57:20.086Z"
   },
   {
    "duration": 49,
    "start_time": "2022-08-29T13:57:23.023Z"
   },
   {
    "duration": 107,
    "start_time": "2022-08-29T13:58:27.334Z"
   },
   {
    "duration": 87,
    "start_time": "2022-08-29T13:58:30.388Z"
   },
   {
    "duration": 53,
    "start_time": "2022-08-29T13:58:36.718Z"
   },
   {
    "duration": 47,
    "start_time": "2022-08-29T13:58:42.724Z"
   },
   {
    "duration": 72,
    "start_time": "2022-08-29T13:59:23.888Z"
   },
   {
    "duration": 53,
    "start_time": "2022-08-29T13:59:27.324Z"
   },
   {
    "duration": 68,
    "start_time": "2022-08-29T13:59:34.269Z"
   },
   {
    "duration": 230,
    "start_time": "2022-08-29T13:59:38.301Z"
   },
   {
    "duration": 76,
    "start_time": "2022-08-29T14:00:01.468Z"
   },
   {
    "duration": 396,
    "start_time": "2022-08-29T15:30:39.838Z"
   },
   {
    "duration": 22,
    "start_time": "2022-08-29T15:30:40.236Z"
   },
   {
    "duration": 14,
    "start_time": "2022-08-29T15:30:40.260Z"
   },
   {
    "duration": 11,
    "start_time": "2022-08-29T15:30:40.276Z"
   },
   {
    "duration": 36,
    "start_time": "2022-08-29T15:30:40.289Z"
   },
   {
    "duration": 4,
    "start_time": "2022-08-29T15:30:40.326Z"
   },
   {
    "duration": 25,
    "start_time": "2022-08-29T15:30:40.332Z"
   },
   {
    "duration": 8,
    "start_time": "2022-08-29T15:30:40.359Z"
   },
   {
    "duration": 12,
    "start_time": "2022-08-29T15:30:40.368Z"
   },
   {
    "duration": 15,
    "start_time": "2022-08-29T15:30:40.385Z"
   },
   {
    "duration": 38,
    "start_time": "2022-08-29T15:30:40.402Z"
   },
   {
    "duration": 10,
    "start_time": "2022-08-29T15:30:40.442Z"
   },
   {
    "duration": 7,
    "start_time": "2022-08-29T15:30:40.453Z"
   },
   {
    "duration": 26,
    "start_time": "2022-08-29T15:30:40.463Z"
   },
   {
    "duration": 17,
    "start_time": "2022-08-29T15:30:40.490Z"
   },
   {
    "duration": 11,
    "start_time": "2022-08-29T15:30:40.509Z"
   },
   {
    "duration": 7,
    "start_time": "2022-08-29T15:30:40.521Z"
   },
   {
    "duration": 21,
    "start_time": "2022-08-29T15:30:40.530Z"
   },
   {
    "duration": 38,
    "start_time": "2022-08-29T15:30:40.553Z"
   },
   {
    "duration": 9,
    "start_time": "2022-08-29T15:30:40.593Z"
   },
   {
    "duration": 15,
    "start_time": "2022-08-29T15:30:40.604Z"
   },
   {
    "duration": 26,
    "start_time": "2022-08-29T15:30:40.620Z"
   },
   {
    "duration": 17,
    "start_time": "2022-08-29T15:30:40.647Z"
   },
   {
    "duration": 23,
    "start_time": "2022-08-29T15:30:40.665Z"
   },
   {
    "duration": 376,
    "start_time": "2022-08-29T15:30:40.690Z"
   },
   {
    "duration": 129,
    "start_time": "2022-08-29T15:30:41.068Z"
   },
   {
    "duration": 18,
    "start_time": "2022-08-29T15:30:41.198Z"
   },
   {
    "duration": 391,
    "start_time": "2022-08-29T16:53:59.208Z"
   },
   {
    "duration": 19,
    "start_time": "2022-08-29T16:53:59.603Z"
   },
   {
    "duration": 13,
    "start_time": "2022-08-29T16:53:59.624Z"
   },
   {
    "duration": 17,
    "start_time": "2022-08-29T16:53:59.638Z"
   },
   {
    "duration": 29,
    "start_time": "2022-08-29T16:53:59.658Z"
   },
   {
    "duration": 3,
    "start_time": "2022-08-29T16:53:59.688Z"
   },
   {
    "duration": 10,
    "start_time": "2022-08-29T16:53:59.693Z"
   },
   {
    "duration": 5,
    "start_time": "2022-08-29T16:53:59.705Z"
   },
   {
    "duration": 7,
    "start_time": "2022-08-29T16:53:59.712Z"
   },
   {
    "duration": 5,
    "start_time": "2022-08-29T16:53:59.720Z"
   },
   {
    "duration": 32,
    "start_time": "2022-08-29T16:53:59.755Z"
   },
   {
    "duration": 11,
    "start_time": "2022-08-29T16:53:59.788Z"
   },
   {
    "duration": 4,
    "start_time": "2022-08-29T16:53:59.800Z"
   },
   {
    "duration": 20,
    "start_time": "2022-08-29T16:53:59.807Z"
   },
   {
    "duration": 40,
    "start_time": "2022-08-29T16:53:59.828Z"
   },
   {
    "duration": 9,
    "start_time": "2022-08-29T16:53:59.870Z"
   },
   {
    "duration": 6,
    "start_time": "2022-08-29T16:53:59.881Z"
   },
   {
    "duration": 13,
    "start_time": "2022-08-29T16:53:59.888Z"
   },
   {
    "duration": 5,
    "start_time": "2022-08-29T16:53:59.902Z"
   },
   {
    "duration": 4,
    "start_time": "2022-08-29T16:53:59.908Z"
   },
   {
    "duration": 10,
    "start_time": "2022-08-29T16:53:59.913Z"
   },
   {
    "duration": 47,
    "start_time": "2022-08-29T16:53:59.924Z"
   },
   {
    "duration": 16,
    "start_time": "2022-08-29T16:53:59.973Z"
   },
   {
    "duration": 17,
    "start_time": "2022-08-29T16:53:59.990Z"
   },
   {
    "duration": 422,
    "start_time": "2022-08-29T16:54:00.008Z"
   },
   {
    "duration": 131,
    "start_time": "2022-08-29T16:54:00.432Z"
   },
   {
    "duration": 19,
    "start_time": "2022-08-29T16:54:00.564Z"
   }
  ],
  "colab": {
   "name": "dpp_template_part2.ipynb",
   "provenance": []
  },
  "kernelspec": {
   "display_name": "Python 3 (ipykernel)",
   "language": "python",
   "name": "python3"
  },
  "language_info": {
   "codemirror_mode": {
    "name": "ipython",
    "version": 3
   },
   "file_extension": ".py",
   "mimetype": "text/x-python",
   "name": "python",
   "nbconvert_exporter": "python",
   "pygments_lexer": "ipython3",
   "version": "3.9.13"
  },
  "toc": {
   "base_numbering": 1,
   "nav_menu": {},
   "number_sections": true,
   "sideBar": true,
   "skip_h1_title": true,
   "title_cell": "Table of Contents",
   "title_sidebar": "Contents",
   "toc_cell": false,
   "toc_position": {},
   "toc_section_display": true,
   "toc_window_display": false
  }
 },
 "nbformat": 4,
 "nbformat_minor": 5
}
