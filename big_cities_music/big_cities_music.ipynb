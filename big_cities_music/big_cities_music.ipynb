{
 "cells": [
  {
   "cell_type": "code",
   "execution_count": 2,
   "metadata": {},
   "outputs": [],
   "source": [
    "import pandas as pd\n",
    "data = pd.read_csv('/datasets/yandex_music_project.csv')\n",
    "data.to_csv('yandex_music_project.csv', index=False)"
   ]
  },
  {
   "cell_type": "markdown",
   "metadata": {
    "deletable": false,
    "editable": false,
    "id": "E0vqbgi9ay0H"
   },
   "source": [
    "# Яндекс.Музыка"
   ]
  },
  {
   "cell_type": "markdown",
   "metadata": {
    "deletable": false,
    "editable": false,
    "id": "VUC88oWjTJw2"
   },
   "source": [
    "Сравнение Москвы и Петербурга окружено мифами. Например:\n",
    " * Москва — мегаполис, подчинённый жёсткому ритму рабочей недели;\n",
    " * Петербург — культурная столица, со своими вкусами.\n",
    "\n",
    "На данных Яндекс.Музыки вы сравните поведение пользователей двух столиц.\n",
    "\n",
    "**Цель исследования** — проверьте три гипотезы:\n",
    "1. Активность пользователей зависит от дня недели. Причём в Москве и Петербурге это проявляется по-разному.\n",
    "2. В понедельник утром в Москве преобладают одни жанры, а в Петербурге — другие. Так же и вечером пятницы преобладают разные жанры — в зависимости от города. \n",
    "3. Москва и Петербург предпочитают разные жанры музыки. В Москве чаще слушают поп-музыку, в Петербурге — русский рэп.\n",
    "\n",
    "**Ход исследования**\n",
    "\n",
    "Данные о поведении пользователей вы получите из файла `yandex_music_project.csv`. О качестве данных ничего не известно. Поэтому перед проверкой гипотез понадобится обзор данных. \n",
    "\n",
    "Вы проверите данные на ошибки и оцените их влияние на исследование. Затем, на этапе предобработки вы поищете возможность исправить самые критичные ошибки данных.\n",
    " \n",
    "Таким образом, исследование пройдёт в три этапа:\n",
    " 1. Обзор данных.\n",
    " 2. Предобработка данных.\n",
    " 3. Проверка гипотез.\n",
    "\n"
   ]
  },
  {
   "cell_type": "markdown",
   "metadata": {
    "deletable": false,
    "editable": false,
    "id": "Ml1hmfXC_Zcs"
   },
   "source": [
    "## Обзор данных\n",
    "\n",
    "Составьте первое представление о данных Яндекс.Музыки.\n",
    "\n",
    "\n"
   ]
  },
  {
   "cell_type": "markdown",
   "metadata": {
    "deletable": false,
    "editable": false,
    "id": "57eAOGIz_Zcs",
    "tags": [
     "start_task"
    ]
   },
   "source": [
    "**Задание 1**\n",
    "\n",
    "Основной инструмент аналитика — `pandas`. Импортируйте эту библиотеку."
   ]
  },
  {
   "cell_type": "code",
   "execution_count": 1,
   "metadata": {
    "deletable": false,
    "id": "AXN7PHPN_Zcs"
   },
   "outputs": [],
   "source": [
    "# импорт библиотеки \n",
    "import pandas as pd"
   ]
  },
  {
   "cell_type": "markdown",
   "metadata": {
    "deletable": false,
    "editable": false,
    "id": "SG23P8tt_Zcs",
    "tags": [
     "start_task"
    ]
   },
   "source": [
    "**Задание 2**\n",
    "\n",
    "Прочитайте файл `yandex_music_project.csv` из папки `/datasets` и сохраните его в переменной `df`:"
   ]
  },
  {
   "cell_type": "code",
   "execution_count": 2,
   "metadata": {
    "deletable": false,
    "id": "fFVu7vqh_Zct"
   },
   "outputs": [],
   "source": [
    "# получение файла и сохранение в переменную\n",
    "df = pd.read_csv('/datasets/yandex_music_project.csv')"
   ]
  },
  {
   "cell_type": "markdown",
   "metadata": {
    "deletable": false,
    "editable": false,
    "id": "rDoOMd3uTqnZ",
    "tags": [
     "start_task"
    ]
   },
   "source": [
    "**Задание 3**\n",
    "\n",
    "\n",
    "Выведите на экран первые десять строк таблицы:"
   ]
  },
  {
   "cell_type": "code",
   "execution_count": 3,
   "metadata": {
    "deletable": false,
    "id": "oWTVX3gW_Zct"
   },
   "outputs": [
    {
     "data": {
      "text/html": [
       "<div>\n",
       "<style scoped>\n",
       "    .dataframe tbody tr th:only-of-type {\n",
       "        vertical-align: middle;\n",
       "    }\n",
       "\n",
       "    .dataframe tbody tr th {\n",
       "        vertical-align: top;\n",
       "    }\n",
       "\n",
       "    .dataframe thead th {\n",
       "        text-align: right;\n",
       "    }\n",
       "</style>\n",
       "<table border=\"1\" class=\"dataframe\">\n",
       "  <thead>\n",
       "    <tr style=\"text-align: right;\">\n",
       "      <th></th>\n",
       "      <th>userID</th>\n",
       "      <th>Track</th>\n",
       "      <th>artist</th>\n",
       "      <th>genre</th>\n",
       "      <th>City</th>\n",
       "      <th>time</th>\n",
       "      <th>Day</th>\n",
       "    </tr>\n",
       "  </thead>\n",
       "  <tbody>\n",
       "    <tr>\n",
       "      <th>0</th>\n",
       "      <td>FFB692EC</td>\n",
       "      <td>Kamigata To Boots</td>\n",
       "      <td>The Mass Missile</td>\n",
       "      <td>rock</td>\n",
       "      <td>Saint-Petersburg</td>\n",
       "      <td>20:28:33</td>\n",
       "      <td>Wednesday</td>\n",
       "    </tr>\n",
       "    <tr>\n",
       "      <th>1</th>\n",
       "      <td>55204538</td>\n",
       "      <td>Delayed Because of Accident</td>\n",
       "      <td>Andreas Rönnberg</td>\n",
       "      <td>rock</td>\n",
       "      <td>Moscow</td>\n",
       "      <td>14:07:09</td>\n",
       "      <td>Friday</td>\n",
       "    </tr>\n",
       "    <tr>\n",
       "      <th>2</th>\n",
       "      <td>20EC38</td>\n",
       "      <td>Funiculì funiculà</td>\n",
       "      <td>Mario Lanza</td>\n",
       "      <td>pop</td>\n",
       "      <td>Saint-Petersburg</td>\n",
       "      <td>20:58:07</td>\n",
       "      <td>Wednesday</td>\n",
       "    </tr>\n",
       "    <tr>\n",
       "      <th>3</th>\n",
       "      <td>A3DD03C9</td>\n",
       "      <td>Dragons in the Sunset</td>\n",
       "      <td>Fire + Ice</td>\n",
       "      <td>folk</td>\n",
       "      <td>Saint-Petersburg</td>\n",
       "      <td>08:37:09</td>\n",
       "      <td>Monday</td>\n",
       "    </tr>\n",
       "    <tr>\n",
       "      <th>4</th>\n",
       "      <td>E2DC1FAE</td>\n",
       "      <td>Soul People</td>\n",
       "      <td>Space Echo</td>\n",
       "      <td>dance</td>\n",
       "      <td>Moscow</td>\n",
       "      <td>08:34:34</td>\n",
       "      <td>Monday</td>\n",
       "    </tr>\n",
       "    <tr>\n",
       "      <th>5</th>\n",
       "      <td>842029A1</td>\n",
       "      <td>Преданная</td>\n",
       "      <td>IMPERVTOR</td>\n",
       "      <td>rusrap</td>\n",
       "      <td>Saint-Petersburg</td>\n",
       "      <td>13:09:41</td>\n",
       "      <td>Friday</td>\n",
       "    </tr>\n",
       "    <tr>\n",
       "      <th>6</th>\n",
       "      <td>4CB90AA5</td>\n",
       "      <td>True</td>\n",
       "      <td>Roman Messer</td>\n",
       "      <td>dance</td>\n",
       "      <td>Moscow</td>\n",
       "      <td>13:00:07</td>\n",
       "      <td>Wednesday</td>\n",
       "    </tr>\n",
       "    <tr>\n",
       "      <th>7</th>\n",
       "      <td>F03E1C1F</td>\n",
       "      <td>Feeling This Way</td>\n",
       "      <td>Polina Griffith</td>\n",
       "      <td>dance</td>\n",
       "      <td>Moscow</td>\n",
       "      <td>20:47:49</td>\n",
       "      <td>Wednesday</td>\n",
       "    </tr>\n",
       "    <tr>\n",
       "      <th>8</th>\n",
       "      <td>8FA1D3BE</td>\n",
       "      <td>И вновь продолжается бой</td>\n",
       "      <td>NaN</td>\n",
       "      <td>ruspop</td>\n",
       "      <td>Moscow</td>\n",
       "      <td>09:17:40</td>\n",
       "      <td>Friday</td>\n",
       "    </tr>\n",
       "    <tr>\n",
       "      <th>9</th>\n",
       "      <td>E772D5C0</td>\n",
       "      <td>Pessimist</td>\n",
       "      <td>NaN</td>\n",
       "      <td>dance</td>\n",
       "      <td>Saint-Petersburg</td>\n",
       "      <td>21:20:49</td>\n",
       "      <td>Wednesday</td>\n",
       "    </tr>\n",
       "  </tbody>\n",
       "</table>\n",
       "</div>"
      ],
      "text/plain": [
       "     userID                        Track            artist   genre  \\\n",
       "0  FFB692EC            Kamigata To Boots  The Mass Missile    rock   \n",
       "1  55204538  Delayed Because of Accident  Andreas Rönnberg    rock   \n",
       "2    20EC38            Funiculì funiculà       Mario Lanza     pop   \n",
       "3  A3DD03C9        Dragons in the Sunset        Fire + Ice    folk   \n",
       "4  E2DC1FAE                  Soul People        Space Echo   dance   \n",
       "5  842029A1                    Преданная         IMPERVTOR  rusrap   \n",
       "6  4CB90AA5                         True      Roman Messer   dance   \n",
       "7  F03E1C1F             Feeling This Way   Polina Griffith   dance   \n",
       "8  8FA1D3BE     И вновь продолжается бой               NaN  ruspop   \n",
       "9  E772D5C0                    Pessimist               NaN   dance   \n",
       "\n",
       "             City        time        Day  \n",
       "0  Saint-Petersburg  20:28:33  Wednesday  \n",
       "1            Moscow  14:07:09     Friday  \n",
       "2  Saint-Petersburg  20:58:07  Wednesday  \n",
       "3  Saint-Petersburg  08:37:09     Monday  \n",
       "4            Moscow  08:34:34     Monday  \n",
       "5  Saint-Petersburg  13:09:41     Friday  \n",
       "6            Moscow  13:00:07  Wednesday  \n",
       "7            Moscow  20:47:49  Wednesday  \n",
       "8            Moscow  09:17:40     Friday  \n",
       "9  Saint-Petersburg  21:20:49  Wednesday  "
      ]
     },
     "execution_count": 3,
     "metadata": {},
     "output_type": "execute_result"
    }
   ],
   "source": [
    "# получение первых десяти строк таблицы\n",
    "df.head(10)"
   ]
  },
  {
   "cell_type": "markdown",
   "metadata": {
    "deletable": false,
    "editable": false,
    "id": "EO73Kwic_Zct",
    "tags": [
     "start_task"
    ]
   },
   "source": [
    "**Задание 4**\n",
    "\n",
    "\n",
    "Одной командой получить общую информацию о таблице c помощью метода `info()`:"
   ]
  },
  {
   "cell_type": "code",
   "execution_count": 4,
   "metadata": {
    "deletable": false,
    "id": "DSf2kIb-_Zct"
   },
   "outputs": [
    {
     "name": "stdout",
     "output_type": "stream",
     "text": [
      "<class 'pandas.core.frame.DataFrame'>\n",
      "RangeIndex: 65079 entries, 0 to 65078\n",
      "Data columns (total 7 columns):\n",
      " #   Column    Non-Null Count  Dtype \n",
      "---  ------    --------------  ----- \n",
      " 0     userID  65079 non-null  object\n",
      " 1   Track     63848 non-null  object\n",
      " 2   artist    57876 non-null  object\n",
      " 3   genre     63881 non-null  object\n",
      " 4     City    65079 non-null  object\n",
      " 5   time      65079 non-null  object\n",
      " 6   Day       65079 non-null  object\n",
      "dtypes: object(7)\n",
      "memory usage: 3.5+ MB\n"
     ]
    }
   ],
   "source": [
    "# получение общей информации о таблице\n",
    "df.info()"
   ]
  },
  {
   "cell_type": "markdown",
   "metadata": {
    "deletable": false,
    "editable": false,
    "id": "TaQ2Iwbr_Zct"
   },
   "source": [
    "Итак, в таблице семь столбцов. Тип данных во всех столбцах — `object`.\n",
    "\n",
    "Согласно документации к данным:\n",
    "* `userID` — идентификатор пользователя;\n",
    "* `Track` — название трека;  \n",
    "* `artist` — имя исполнителя;\n",
    "* `genre` — название жанра;\n",
    "* `City` — город пользователя;\n",
    "* `time` — время начала прослушивания;\n",
    "* `Day` — день недели.\n",
    "\n",
    "Количество значений в столбцах различается. Значит, в данных есть пропущенные значения."
   ]
  },
  {
   "cell_type": "markdown",
   "metadata": {
    "deletable": false,
    "editable": false,
    "tags": [
     "start_task"
    ]
   },
   "source": [
    "**Задание 5**\n",
    "\n",
    "**Вопрос со свободной формой ответа**\n",
    "\n",
    "В названиях колонок видны три нарушения стиля:\n",
    "1. Строчные буквы сочетаются с прописными.\n",
    "2. Встречаются пробелы."
   ]
  },
  {
   "cell_type": "code",
   "execution_count": 5,
   "metadata": {},
   "outputs": [],
   "source": [
    "# 3. Названия колонок не раскрывают свое содержание в полной мере (например, колонка time). Плюс, можно добавить нижние подчеркивания"
   ]
  },
  {
   "cell_type": "markdown",
   "metadata": {
    "deletable": false,
    "editable": false,
    "id": "MCB6-dXG_Zct"
   },
   "source": [
    "**Выводы**\n",
    "\n",
    "В каждой строке таблицы — данные о прослушанном треке. Часть колонок описывает саму композицию: название, исполнителя и жанр. Остальные данные рассказывают о пользователе: из какого он города, когда он слушал музыку. \n",
    "\n",
    "Предварительно можно утверждать, что, данных достаточно для проверки гипотез. Но встречаются пропуски в данных, а в названиях колонок — расхождения с хорошим стилем.\n",
    "\n",
    "Чтобы двигаться дальше, нужно устранить проблемы в данных."
   ]
  },
  {
   "cell_type": "markdown",
   "metadata": {
    "deletable": false,
    "editable": false,
    "id": "SjYF6Ub9_Zct"
   },
   "source": [
    "## Предобработка данных\n",
    "Исправьте стиль в заголовках столбцов, исключите пропуски. Затем проверьте данные на дубликаты."
   ]
  },
  {
   "cell_type": "markdown",
   "metadata": {
    "deletable": false,
    "editable": false,
    "id": "dIaKXr29_Zct",
    "tags": [
     "start_task"
    ]
   },
   "source": [
    "### Стиль заголовков\n",
    "\n",
    "**Задание 6**\n",
    "\n",
    "Выведите на экран названия столбцов:"
   ]
  },
  {
   "cell_type": "code",
   "execution_count": 6,
   "metadata": {
    "deletable": false,
    "id": "oKOTdF_Q_Zct"
   },
   "outputs": [
    {
     "data": {
      "text/plain": [
       "Index(['  userID', 'Track', 'artist', 'genre', '  City  ', 'time', 'Day'], dtype='object')"
      ]
     },
     "execution_count": 6,
     "metadata": {},
     "output_type": "execute_result"
    }
   ],
   "source": [
    "# выведение на экран названия столбцов\n",
    "df.columns"
   ]
  },
  {
   "cell_type": "markdown",
   "metadata": {
    "deletable": false,
    "editable": false,
    "id": "zj5534cv_Zct",
    "tags": [
     "start_task"
    ]
   },
   "source": [
    "**Задание 7**\n",
    "\n",
    "\n",
    "Приведите названия в соответствие с хорошим стилем:\n",
    "* несколько слов в названии запишите в «змеином_регистре»,\n",
    "* все символы сделайте строчными,\n",
    "* устраните пробелы.\n",
    "\n",
    "Для этого переименуйте колонки так:\n",
    "* `'  userID'` → `'user_id'`;\n",
    "* `'Track'` → `'track'`;\n",
    "* `'  City  '` → `'city'`;\n",
    "* `'Day'` → `'day'`."
   ]
  },
  {
   "cell_type": "code",
   "execution_count": 7,
   "metadata": {
    "deletable": false,
    "id": "ISlFqs5y_Zct",
    "scrolled": true
   },
   "outputs": [],
   "source": [
    "# исправление названий колонок в таблице\n",
    "df = df.rename(columns = {'  userID' : 'user_id', 'Track' : 'track', '  City  ' : 'city', 'Day' : 'day'})"
   ]
  },
  {
   "cell_type": "markdown",
   "metadata": {
    "deletable": false,
    "editable": false,
    "id": "1dqbh00J_Zct",
    "tags": [
     "start_task"
    ]
   },
   "source": [
    "**Задание 8**\n",
    "\n",
    "\n",
    "Проверьте результат. Для этого ещё раз выведите на экран названия столбцов:"
   ]
  },
  {
   "cell_type": "code",
   "execution_count": 8,
   "metadata": {
    "deletable": false,
    "id": "d4NOAmTW_Zct"
   },
   "outputs": [
    {
     "data": {
      "text/plain": [
       "Index(['user_id', 'track', 'artist', 'genre', 'city', 'time', 'day'], dtype='object')"
      ]
     },
     "execution_count": 8,
     "metadata": {},
     "output_type": "execute_result"
    }
   ],
   "source": [
    "# проверка результата\n",
    "df.columns"
   ]
  },
  {
   "cell_type": "markdown",
   "metadata": {
    "deletable": false,
    "editable": false,
    "id": "5ISfbcfY_Zct",
    "tags": [
     "start_task"
    ]
   },
   "source": [
    "### Пропуски значений\n",
    "\n",
    "**Задание 9**\n",
    "\n",
    "Сначала посчитайте, сколько в таблице пропущенных значений. Для этого достаточно двух методов `pandas`:"
   ]
  },
  {
   "cell_type": "code",
   "execution_count": 9,
   "metadata": {
    "deletable": false,
    "id": "RskX29qr_Zct"
   },
   "outputs": [
    {
     "data": {
      "text/plain": [
       "user_id       0\n",
       "track      1231\n",
       "artist     7203\n",
       "genre      1198\n",
       "city          0\n",
       "time          0\n",
       "day           0\n",
       "dtype: int64"
      ]
     },
     "execution_count": 9,
     "metadata": {},
     "output_type": "execute_result"
    }
   ],
   "source": [
    "# подсчет количества пропущенных значений в таблице\n",
    "df.isna().sum()"
   ]
  },
  {
   "cell_type": "markdown",
   "metadata": {
    "deletable": false,
    "editable": false,
    "id": "qubhgnlO_Zct"
   },
   "source": [
    "Не все пропущенные значения влияют на исследование. Так в `track` и `artist` пропуски не важны для вашей работы. Достаточно заменить их явными обозначениями.\n",
    "\n",
    "Но пропуски в `genre` могут помешать сравнению музыкальных вкусов в Москве и Санкт-Петербурге. На практике было бы правильно установить причину пропусков и восстановить данные. Такой возможности нет в учебном проекте. Придётся:\n",
    "* заполнить и эти пропуски явными обозначениями,\n",
    "* оценить, насколько они повредят расчётам. "
   ]
  },
  {
   "cell_type": "markdown",
   "metadata": {
    "deletable": false,
    "editable": false,
    "id": "fSv2laPA_Zct",
    "tags": [
     "start_task"
    ]
   },
   "source": [
    "**Задание 10**\n",
    "\n",
    "Замените пропущенные значения в столбцах `track`, `artist` и `genre` на строку `'unknown'`. Для этого создайте список `columns_to_replace`, переберите его элементы циклом `for` и для каждого столбца выполните замену пропущенных значений:"
   ]
  },
  {
   "cell_type": "code",
   "execution_count": 10,
   "metadata": {
    "deletable": false,
    "id": "KplB5qWs_Zct"
   },
   "outputs": [],
   "source": [
    "# перебор названий столбцов в цикле и замена пропущенных значений на 'unknown'\n",
    "columns_to_replace = ['track', 'artist', 'genre']\n",
    "\n",
    "for column in columns_to_replace:\n",
    "    df[column] = df[column].fillna('unknown')"
   ]
  },
  {
   "cell_type": "markdown",
   "metadata": {
    "deletable": false,
    "editable": false,
    "id": "Ilsm-MZo_Zct",
    "tags": [
     "start_task"
    ]
   },
   "source": [
    "**Задание 11**\n",
    "\n",
    "Убедитесь, что в таблице не осталось пропусков. Для этого ещё раз посчитайте пропущенные значения."
   ]
  },
  {
   "cell_type": "code",
   "execution_count": 11,
   "metadata": {
    "deletable": false,
    "id": "Tq4nYRX4_Zct"
   },
   "outputs": [
    {
     "data": {
      "text/plain": [
       "user_id    0\n",
       "track      0\n",
       "artist     0\n",
       "genre      0\n",
       "city       0\n",
       "time       0\n",
       "day        0\n",
       "dtype: int64"
      ]
     },
     "execution_count": 11,
     "metadata": {},
     "output_type": "execute_result"
    }
   ],
   "source": [
    "# подсчёт пропусков\n",
    "df.isna().sum()"
   ]
  },
  {
   "cell_type": "markdown",
   "metadata": {
    "deletable": false,
    "editable": false,
    "id": "BWKRtBJ3_Zct",
    "tags": [
     "start_task"
    ]
   },
   "source": [
    "### Дубликаты\n",
    "\n",
    "**Задание 12**\n",
    "\n",
    "Посчитайте явные дубликаты в таблице одной командой:"
   ]
  },
  {
   "cell_type": "code",
   "execution_count": 12,
   "metadata": {
    "deletable": false,
    "id": "36eES_S0_Zct"
   },
   "outputs": [
    {
     "data": {
      "text/plain": [
       "3826"
      ]
     },
     "execution_count": 12,
     "metadata": {},
     "output_type": "execute_result"
    }
   ],
   "source": [
    "# подсчёт явных дубликатов\n",
    "df.duplicated().sum()"
   ]
  },
  {
   "cell_type": "markdown",
   "metadata": {
    "deletable": false,
    "editable": false,
    "id": "Ot25h6XR_Zct",
    "tags": [
     "start_task"
    ]
   },
   "source": [
    "**Задание 13**\n",
    "\n",
    "Вызовите специальный метод `pandas`, чтобы удалить явные дубликаты:"
   ]
  },
  {
   "cell_type": "code",
   "execution_count": 13,
   "metadata": {
    "deletable": false,
    "id": "exFHq6tt_Zct"
   },
   "outputs": [],
   "source": [
    "# удаление явных дубликатов\n",
    "df = df.drop_duplicates()"
   ]
  },
  {
   "cell_type": "markdown",
   "metadata": {
    "deletable": false,
    "editable": false,
    "id": "Im2YwBEG_Zct",
    "tags": [
     "start_task"
    ]
   },
   "source": [
    "**Задание 14**\n",
    "\n",
    "Ещё раз посчитайте явные дубликаты в таблице — убедитесь, что полностью от них избавились:"
   ]
  },
  {
   "cell_type": "code",
   "execution_count": 14,
   "metadata": {
    "deletable": false,
    "id": "-8PuNWQ0_Zct"
   },
   "outputs": [
    {
     "data": {
      "text/plain": [
       "0"
      ]
     },
     "execution_count": 14,
     "metadata": {},
     "output_type": "execute_result"
    }
   ],
   "source": [
    "# проверка на отсутствие дубликатов\n",
    "df.duplicated().sum()"
   ]
  },
  {
   "cell_type": "markdown",
   "metadata": {
    "deletable": false,
    "editable": false,
    "id": "QlFBsxAr_Zct"
   },
   "source": [
    "Теперь избавьтесь от неявных дубликатов в колонке `genre`. Например, название одного и того же жанра может быть записано немного по-разному. Такие ошибки тоже повлияют на результат исследования."
   ]
  },
  {
   "cell_type": "markdown",
   "metadata": {
    "deletable": false,
    "editable": false,
    "id": "eSjWwsOh_Zct",
    "tags": [
     "start_task"
    ]
   },
   "source": [
    "**Задание 15**\n",
    "\n",
    "Выведите на экран список уникальных названий жанров, отсортированный в алфавитном порядке. Для этого:\n",
    "* извлеките нужный столбец датафрейма, \n",
    "* примените к нему метод сортировки,\n",
    "* для отсортированного столбца вызовите метод, который вернёт уникальные значения из столбца."
   ]
  },
  {
   "cell_type": "code",
   "execution_count": 15,
   "metadata": {
    "deletable": false,
    "id": "JIUcqzZN_Zct"
   },
   "outputs": [
    {
     "data": {
      "text/plain": [
       "array(['acid', 'acoustic', 'action', 'adult', 'africa', 'afrikaans',\n",
       "       'alternative', 'alternativepunk', 'ambient', 'americana',\n",
       "       'animated', 'anime', 'arabesk', 'arabic', 'arena',\n",
       "       'argentinetango', 'art', 'audiobook', 'author', 'avantgarde',\n",
       "       'axé', 'baile', 'balkan', 'beats', 'bigroom', 'black', 'bluegrass',\n",
       "       'blues', 'bollywood', 'bossa', 'brazilian', 'breakbeat', 'breaks',\n",
       "       'broadway', 'cantautori', 'cantopop', 'canzone', 'caribbean',\n",
       "       'caucasian', 'celtic', 'chamber', 'chanson', 'children', 'chill',\n",
       "       'chinese', 'choral', 'christian', 'christmas', 'classical',\n",
       "       'classicmetal', 'club', 'colombian', 'comedy', 'conjazz',\n",
       "       'contemporary', 'country', 'cuban', 'dance', 'dancehall',\n",
       "       'dancepop', 'dark', 'death', 'deep', 'deutschrock', 'deutschspr',\n",
       "       'dirty', 'disco', 'dnb', 'documentary', 'downbeat', 'downtempo',\n",
       "       'drum', 'dub', 'dubstep', 'eastern', 'easy', 'electronic',\n",
       "       'electropop', 'emo', 'entehno', 'epicmetal', 'estrada', 'ethnic',\n",
       "       'eurofolk', 'european', 'experimental', 'extrememetal', 'fado',\n",
       "       'fairytail', 'film', 'fitness', 'flamenco', 'folk', 'folklore',\n",
       "       'folkmetal', 'folkrock', 'folktronica', 'forró', 'frankreich',\n",
       "       'französisch', 'french', 'funk', 'future', 'gangsta', 'garage',\n",
       "       'german', 'ghazal', 'gitarre', 'glitch', 'gospel', 'gothic',\n",
       "       'grime', 'grunge', 'gypsy', 'handsup', \"hard'n'heavy\", 'hardcore',\n",
       "       'hardstyle', 'hardtechno', 'hip', 'hip-hop', 'hiphop',\n",
       "       'historisch', 'holiday', 'hop', 'horror', 'house', 'hymn', 'idm',\n",
       "       'independent', 'indian', 'indie', 'indipop', 'industrial',\n",
       "       'inspirational', 'instrumental', 'international', 'irish', 'jam',\n",
       "       'japanese', 'jazz', 'jewish', 'jpop', 'jungle', 'k-pop',\n",
       "       'karadeniz', 'karaoke', 'kayokyoku', 'korean', 'laiko', 'latin',\n",
       "       'latino', 'leftfield', 'local', 'lounge', 'loungeelectronic',\n",
       "       'lovers', 'malaysian', 'mandopop', 'marschmusik', 'meditative',\n",
       "       'mediterranean', 'melodic', 'metal', 'metalcore', 'mexican',\n",
       "       'middle', 'minimal', 'miscellaneous', 'modern', 'mood', 'mpb',\n",
       "       'muslim', 'native', 'neoklassik', 'neue', 'new', 'newage',\n",
       "       'newwave', 'nu', 'nujazz', 'numetal', 'oceania', 'old', 'opera',\n",
       "       'orchestral', 'other', 'piano', 'podcasts', 'pop', 'popdance',\n",
       "       'popelectronic', 'popeurodance', 'poprussian', 'post',\n",
       "       'posthardcore', 'postrock', 'power', 'progmetal', 'progressive',\n",
       "       'psychedelic', 'punjabi', 'punk', 'quebecois', 'ragga', 'ram',\n",
       "       'rancheras', 'rap', 'rave', 'reggae', 'reggaeton', 'regional',\n",
       "       'relax', 'religious', 'retro', 'rhythm', 'rnb', 'rnr', 'rock',\n",
       "       'rockabilly', 'rockalternative', 'rockindie', 'rockother',\n",
       "       'romance', 'roots', 'ruspop', 'rusrap', 'rusrock', 'russian',\n",
       "       'salsa', 'samba', 'scenic', 'schlager', 'self', 'sertanejo',\n",
       "       'shanson', 'shoegazing', 'showtunes', 'singer', 'ska', 'skarock',\n",
       "       'slow', 'smooth', 'soft', 'soul', 'soulful', 'sound', 'soundtrack',\n",
       "       'southern', 'specialty', 'speech', 'spiritual', 'sport',\n",
       "       'stonerrock', 'surf', 'swing', 'synthpop', 'synthrock',\n",
       "       'sängerportrait', 'tango', 'tanzorchester', 'taraftar', 'tatar',\n",
       "       'tech', 'techno', 'teen', 'thrash', 'top', 'traditional',\n",
       "       'tradjazz', 'trance', 'tribal', 'trip', 'triphop', 'tropical',\n",
       "       'türk', 'türkçe', 'ukrrock', 'unknown', 'urban', 'uzbek',\n",
       "       'variété', 'vi', 'videogame', 'vocal', 'western', 'world',\n",
       "       'worldbeat', 'ïîï', 'электроника'], dtype=object)"
      ]
     },
     "execution_count": 15,
     "metadata": {},
     "output_type": "execute_result"
    }
   ],
   "source": [
    "# Просмотр уникальных названий жанров\n",
    "genre_list_sorted = df.loc[:, 'genre']\n",
    "genre_list_sorted = genre_list_sorted.sort_values()\n",
    "genre_list_sorted.unique()"
   ]
  },
  {
   "cell_type": "markdown",
   "metadata": {
    "deletable": false,
    "editable": false,
    "id": "qej-Qmuo_Zct",
    "tags": [
     "start_task"
    ]
   },
   "source": [
    "**Задание 16**\n",
    "\n",
    "Просмотрите список и найдите неявные дубликаты названия `hiphop`. Это могут быть названия с ошибками или альтернативные названия того же жанра.\n",
    "\n",
    "Вы увидите следующие неявные дубликаты:\n",
    "* *hip*,\n",
    "* *hop*,\n",
    "* *hip-hop*.\n",
    "\n",
    "Чтобы очистить от них таблицу используйте метод `replace()` с двумя аргументами: списком строк-дубликатов (включащий *hip*, *hop* и *hip-hop*) и строкой с правильным значением. Вам нужно исправить колонку `genre` в таблице `df`: заменить каждое значение из списка дубликатов на верное. Вместо `hip`, `hop` и `hip-hop` в таблице должно быть значение `hiphop`:"
   ]
  },
  {
   "cell_type": "code",
   "execution_count": 16,
   "metadata": {
    "deletable": false,
    "id": "ErNDkmns_Zct"
   },
   "outputs": [],
   "source": [
    "# Устранение неявных дубликатов\n",
    "df['genre']= df['genre'].replace(['hip', 'hop', 'hip-hop'], 'hiphop')"
   ]
  },
  {
   "cell_type": "markdown",
   "metadata": {
    "deletable": false,
    "editable": false,
    "id": "zQKF16_RG15m",
    "tags": [
     "start_task"
    ]
   },
   "source": [
    "**Задание 17**\n",
    "\n",
    "Проверьте, что заменили неправильные названия:\n",
    "\n",
    "*   hip\n",
    "*   hop\n",
    "*   hip-hop\n",
    "\n",
    "Выведите отсортированный список уникальных значений столбца `genre`:"
   ]
  },
  {
   "cell_type": "code",
   "execution_count": 17,
   "metadata": {
    "deletable": false,
    "id": "wvixALnFG15m"
   },
   "outputs": [
    {
     "data": {
      "text/plain": [
       "array(['acid', 'acoustic', 'action', 'adult', 'africa', 'afrikaans',\n",
       "       'alternative', 'alternativepunk', 'ambient', 'americana',\n",
       "       'animated', 'anime', 'arabesk', 'arabic', 'arena',\n",
       "       'argentinetango', 'art', 'audiobook', 'author', 'avantgarde',\n",
       "       'axé', 'baile', 'balkan', 'beats', 'bigroom', 'black', 'bluegrass',\n",
       "       'blues', 'bollywood', 'bossa', 'brazilian', 'breakbeat', 'breaks',\n",
       "       'broadway', 'cantautori', 'cantopop', 'canzone', 'caribbean',\n",
       "       'caucasian', 'celtic', 'chamber', 'chanson', 'children', 'chill',\n",
       "       'chinese', 'choral', 'christian', 'christmas', 'classical',\n",
       "       'classicmetal', 'club', 'colombian', 'comedy', 'conjazz',\n",
       "       'contemporary', 'country', 'cuban', 'dance', 'dancehall',\n",
       "       'dancepop', 'dark', 'death', 'deep', 'deutschrock', 'deutschspr',\n",
       "       'dirty', 'disco', 'dnb', 'documentary', 'downbeat', 'downtempo',\n",
       "       'drum', 'dub', 'dubstep', 'eastern', 'easy', 'electronic',\n",
       "       'electropop', 'emo', 'entehno', 'epicmetal', 'estrada', 'ethnic',\n",
       "       'eurofolk', 'european', 'experimental', 'extrememetal', 'fado',\n",
       "       'fairytail', 'film', 'fitness', 'flamenco', 'folk', 'folklore',\n",
       "       'folkmetal', 'folkrock', 'folktronica', 'forró', 'frankreich',\n",
       "       'französisch', 'french', 'funk', 'future', 'gangsta', 'garage',\n",
       "       'german', 'ghazal', 'gitarre', 'glitch', 'gospel', 'gothic',\n",
       "       'grime', 'grunge', 'gypsy', 'handsup', \"hard'n'heavy\", 'hardcore',\n",
       "       'hardstyle', 'hardtechno', 'hiphop', 'historisch', 'holiday',\n",
       "       'horror', 'house', 'hymn', 'idm', 'independent', 'indian', 'indie',\n",
       "       'indipop', 'industrial', 'inspirational', 'instrumental',\n",
       "       'international', 'irish', 'jam', 'japanese', 'jazz', 'jewish',\n",
       "       'jpop', 'jungle', 'k-pop', 'karadeniz', 'karaoke', 'kayokyoku',\n",
       "       'korean', 'laiko', 'latin', 'latino', 'leftfield', 'local',\n",
       "       'lounge', 'loungeelectronic', 'lovers', 'malaysian', 'mandopop',\n",
       "       'marschmusik', 'meditative', 'mediterranean', 'melodic', 'metal',\n",
       "       'metalcore', 'mexican', 'middle', 'minimal', 'miscellaneous',\n",
       "       'modern', 'mood', 'mpb', 'muslim', 'native', 'neoklassik', 'neue',\n",
       "       'new', 'newage', 'newwave', 'nu', 'nujazz', 'numetal', 'oceania',\n",
       "       'old', 'opera', 'orchestral', 'other', 'piano', 'podcasts', 'pop',\n",
       "       'popdance', 'popelectronic', 'popeurodance', 'poprussian', 'post',\n",
       "       'posthardcore', 'postrock', 'power', 'progmetal', 'progressive',\n",
       "       'psychedelic', 'punjabi', 'punk', 'quebecois', 'ragga', 'ram',\n",
       "       'rancheras', 'rap', 'rave', 'reggae', 'reggaeton', 'regional',\n",
       "       'relax', 'religious', 'retro', 'rhythm', 'rnb', 'rnr', 'rock',\n",
       "       'rockabilly', 'rockalternative', 'rockindie', 'rockother',\n",
       "       'romance', 'roots', 'ruspop', 'rusrap', 'rusrock', 'russian',\n",
       "       'salsa', 'samba', 'scenic', 'schlager', 'self', 'sertanejo',\n",
       "       'shanson', 'shoegazing', 'showtunes', 'singer', 'ska', 'skarock',\n",
       "       'slow', 'smooth', 'soft', 'soul', 'soulful', 'sound', 'soundtrack',\n",
       "       'southern', 'specialty', 'speech', 'spiritual', 'sport',\n",
       "       'stonerrock', 'surf', 'swing', 'synthpop', 'synthrock',\n",
       "       'sängerportrait', 'tango', 'tanzorchester', 'taraftar', 'tatar',\n",
       "       'tech', 'techno', 'teen', 'thrash', 'top', 'traditional',\n",
       "       'tradjazz', 'trance', 'tribal', 'trip', 'triphop', 'tropical',\n",
       "       'türk', 'türkçe', 'ukrrock', 'unknown', 'urban', 'uzbek',\n",
       "       'variété', 'vi', 'videogame', 'vocal', 'western', 'world',\n",
       "       'worldbeat', 'ïîï', 'электроника'], dtype=object)"
      ]
     },
     "execution_count": 17,
     "metadata": {},
     "output_type": "execute_result"
    }
   ],
   "source": [
    "# Проверка на неявные дубликаты\n",
    "genre_list_sorted = df.loc[:, 'genre']\n",
    "genre_list_sorted = genre_list_sorted.sort_values()\n",
    "genre_list_sorted.unique()"
   ]
  },
  {
   "cell_type": "markdown",
   "metadata": {
    "deletable": false,
    "editable": false,
    "id": "jz6a9-7HQUDd"
   },
   "source": [
    "**Выводы**\n",
    "\n",
    "Предобработка обнаружила три проблемы в данных:\n",
    "\n",
    "- нарушения в стиле заголовков,\n",
    "- пропущенные значения,\n",
    "- дубликаты — явные и неявные.\n",
    "\n",
    "Вы исправили заголовки, чтобы упростить работу с таблицей. Без дубликатов исследование станет более точным.\n",
    "\n",
    "Пропущенные значения вы заменили на `'unknown'`. Ещё предстоит увидеть, не повредят ли исследованию пропуски в колонке `genre`.\n",
    "\n",
    "Теперь можно перейти к проверке гипотез. "
   ]
  },
  {
   "cell_type": "markdown",
   "metadata": {
    "deletable": false,
    "editable": false,
    "id": "WttZHXH0SqKk"
   },
   "source": [
    "## Проверка гипотез"
   ]
  },
  {
   "cell_type": "markdown",
   "metadata": {
    "deletable": false,
    "editable": false,
    "id": "Im936VVi_Zcu"
   },
   "source": [
    "### Сравнение поведения пользователей двух столиц"
   ]
  },
  {
   "cell_type": "markdown",
   "metadata": {
    "deletable": false,
    "editable": false,
    "id": "nwt_MuaL_Zcu"
   },
   "source": [
    "Первая гипотеза утверждает, что пользователи по-разному слушают музыку в Москве и Санкт-Петербурге. Проверьте это предположение по данным о трёх днях недели — понедельнике, среде и пятнице. Для этого:\n",
    "\n",
    "* Разделите пользователей Москвы и Санкт-Петербурга\n",
    "* Сравните, сколько треков послушала каждая группа пользователей в понедельник, среду и пятницу.\n"
   ]
  },
  {
   "cell_type": "markdown",
   "metadata": {
    "deletable": false,
    "editable": false,
    "id": "8Dw_YMmT_Zcu",
    "tags": [
     "start_task"
    ]
   },
   "source": [
    "**Задание 18**\n",
    "\n",
    "Для тренировки сначала выполните каждый из расчётов по отдельности. \n",
    "\n",
    "Оцените активность пользователей в каждом городе. Сгруппируйте данные по городу и посчитайте прослушивания в каждой группе.\n",
    "\n"
   ]
  },
  {
   "cell_type": "code",
   "execution_count": 18,
   "metadata": {
    "deletable": false,
    "id": "0_Qs96oh_Zcu"
   },
   "outputs": [
    {
     "data": {
      "text/plain": [
       "city\n",
       "Moscow              42741\n",
       "Saint-Petersburg    18512\n",
       "Name: genre, dtype: int64"
      ]
     },
     "execution_count": 18,
     "metadata": {},
     "output_type": "execute_result"
    }
   ],
   "source": [
    "# Подсчёт прослушиваний в каждом городе\n",
    "track_list_city = df.groupby('city')['genre'].count()\n",
    "track_list_city"
   ]
  },
  {
   "cell_type": "markdown",
   "metadata": {
    "deletable": false,
    "editable": false,
    "id": "dzli3w8o_Zcu",
    "tags": [
     "start_task"
    ]
   },
   "source": [
    "В Москве прослушиваний больше, чем в Петербурге. Из этого не следует, что московские пользователи чаще слушают музыку. Просто самих пользователей в Москве больше.\n",
    "\n",
    "**Задание 19**\n",
    "\n",
    "Теперь сгруппируйте данные по дню недели и подсчитайте прослушивания в понедельник, среду и пятницу. Учтите, что в данных есть информация только о прослушиваниях только за эти дни.\n"
   ]
  },
  {
   "cell_type": "code",
   "execution_count": 19,
   "metadata": {
    "deletable": false,
    "id": "uZMKjiJz_Zcu"
   },
   "outputs": [
    {
     "data": {
      "text/plain": [
       "day\n",
       "Friday       21840\n",
       "Monday       21354\n",
       "Wednesday    18059\n",
       "Name: city, dtype: int64"
      ]
     },
     "execution_count": 19,
     "metadata": {},
     "output_type": "execute_result"
    }
   ],
   "source": [
    "# Подсчёт прослушиваний в каждый из трёх дней\n",
    "track_list_grouped_by_day = df.groupby('day')['city'].count()\n",
    "track_list_grouped_by_day"
   ]
  },
  {
   "cell_type": "markdown",
   "metadata": {
    "deletable": false,
    "editable": false,
    "id": "cC2tNrlL_Zcu"
   },
   "source": [
    "В среднем пользователи из двух городов менее активны по средам. Но картина может измениться, если рассмотреть каждый город в отдельности."
   ]
  },
  {
   "cell_type": "markdown",
   "metadata": {
    "deletable": false,
    "editable": false,
    "id": "POzs8bGa_Zcu",
    "tags": [
     "start_task"
    ]
   },
   "source": [
    "**Задание 20**\n",
    "\n",
    "\n",
    "Вы видели, как работает группировка по городу и по дням недели. Теперь напишите функцию, которая объединит два эти расчёта.\n",
    "\n",
    "Создайте функцию `number_tracks()`, которая посчитает прослушивания для заданного дня и города. Ей понадобятся два параметра:\n",
    "* день недели,\n",
    "* название города.\n",
    "\n",
    "В функции сохраните в переменную строки исходной таблицы, у которых значение:\n",
    "  * в колонке `day` равно параметру `day`,\n",
    "  * в колонке `city` равно параметру `city`.\n",
    "\n",
    "Для этого примените последовательную фильтрацию с логической индексацией (или сложные логические выражения в одну строку, если вы уже знакомы с ними).\n",
    "\n",
    "Затем посчитайте значения в столбце `user_id` получившейся таблицы. Результат сохраните в новую переменную. Верните эту переменную из функции."
   ]
  },
  {
   "cell_type": "code",
   "execution_count": 20,
   "metadata": {
    "deletable": false,
    "id": "Nz3GdQB1_Zcu"
   },
   "outputs": [],
   "source": [
    "# <создание функции number_tracks()>\n",
    "# Объявляется функция с двумя параметрами: day, city.\n",
    "# В переменной track_list сохраняются те строки таблицы df, для которых \n",
    "# значение в столбце 'day' равно параметру day и одновременно значение\n",
    "# в столбце 'city' равно параметру city (используйте последовательную фильтрацию\n",
    "# с помощью логической индексации или сложные логические выражения в одну строку, если вы уже знакомы с ними).\n",
    "# В переменной track_list_count сохраняется число значений столбца 'user_id',\n",
    "# рассчитанное методом count() для таблицы track_list.\n",
    "# Функция возвращает число - значение track_list_count.\n",
    "\n",
    "# Функция для подсчёта прослушиваний для конкретного города и дня.\n",
    "# С помощью последовательной фильтрации с логической индексацией она \n",
    "# сначала получит из исходной таблицы строки с нужным днём,\n",
    "# затем из результата отфильтрует строки с нужным городом,\n",
    "# методом count() посчитает количество значений в колонке user_id. \n",
    "# Это количество функция вернёт в качестве результата\n",
    "\n",
    "def number_tracks(day, city):\n",
    "        track_list = df[df['day'] == day] \n",
    "        track_list = track_list[track_list['city'] == city]\n",
    "        track_list_count = track_list['user_id'].count()\n",
    "        return track_list_count\n",
    "    "
   ]
  },
  {
   "cell_type": "markdown",
   "metadata": {
    "deletable": false,
    "editable": false,
    "id": "ytf7xFrFJQ2r",
    "tags": [
     "start_task"
    ]
   },
   "source": [
    "**Задание 21**\n",
    "\n",
    "Вызовите `number_tracks()` шесть раз, меняя значение параметров — так, чтобы получить данные для каждого города в каждый из трёх дней."
   ]
  },
  {
   "cell_type": "code",
   "execution_count": 21,
   "metadata": {
    "deletable": false,
    "id": "rJcRATNQ_Zcu"
   },
   "outputs": [
    {
     "data": {
      "text/plain": [
       "15740"
      ]
     },
     "execution_count": 21,
     "metadata": {},
     "output_type": "execute_result"
    }
   ],
   "source": [
    "# количество прослушиваний в Москве по понедельникам\n",
    "number_tracks_per_city_per_day = number_tracks('Monday', 'Moscow')\n",
    "number_tracks_per_city_per_day"
   ]
  },
  {
   "cell_type": "code",
   "execution_count": 22,
   "metadata": {
    "deletable": false,
    "id": "hq_ncZ5T_Zcu"
   },
   "outputs": [
    {
     "data": {
      "text/plain": [
       "5614"
      ]
     },
     "execution_count": 22,
     "metadata": {},
     "output_type": "execute_result"
    }
   ],
   "source": [
    "# количество прослушиваний в Санкт-Петербурге по понедельникам\n",
    "number_tracks_per_city_per_day = number_tracks('Monday', 'Saint-Petersburg')\n",
    "number_tracks_per_city_per_day"
   ]
  },
  {
   "cell_type": "code",
   "execution_count": 23,
   "metadata": {
    "deletable": false,
    "id": "_NTy2VPU_Zcu"
   },
   "outputs": [
    {
     "data": {
      "text/plain": [
       "11056"
      ]
     },
     "execution_count": 23,
     "metadata": {},
     "output_type": "execute_result"
    }
   ],
   "source": [
    "# количество прослушиваний в Москве по средам\n",
    "number_tracks_per_city_per_day = number_tracks('Wednesday', 'Moscow')\n",
    "number_tracks_per_city_per_day"
   ]
  },
  {
   "cell_type": "code",
   "execution_count": 24,
   "metadata": {
    "deletable": false,
    "id": "j2y3TAwo_Zcu"
   },
   "outputs": [
    {
     "data": {
      "text/plain": [
       "7003"
      ]
     },
     "execution_count": 24,
     "metadata": {},
     "output_type": "execute_result"
    }
   ],
   "source": [
    "# количество прослушиваний в Санкт-Петербурге по средам\n",
    "number_tracks_per_city_per_day = number_tracks('Wednesday', 'Saint-Petersburg')\n",
    "number_tracks_per_city_per_day"
   ]
  },
  {
   "cell_type": "code",
   "execution_count": 25,
   "metadata": {
    "deletable": false,
    "id": "vYDw5u_K_Zcu"
   },
   "outputs": [
    {
     "data": {
      "text/plain": [
       "15945"
      ]
     },
     "execution_count": 25,
     "metadata": {},
     "output_type": "execute_result"
    }
   ],
   "source": [
    "# количество прослушиваний в Москве по пятницам\n",
    "number_tracks_per_city_per_day = number_tracks('Friday', 'Moscow')\n",
    "number_tracks_per_city_per_day"
   ]
  },
  {
   "cell_type": "code",
   "execution_count": 26,
   "metadata": {
    "deletable": false,
    "id": "8_yzFtW3_Zcu"
   },
   "outputs": [
    {
     "data": {
      "text/plain": [
       "5895"
      ]
     },
     "execution_count": 26,
     "metadata": {},
     "output_type": "execute_result"
    }
   ],
   "source": [
    "# количество прослушиваний в Санкт-Петербурге по пятницамnumber_tracks_per_city_per_day = number_tracks('Monday', 'Moscow')\n",
    "number_tracks_per_city_per_day = number_tracks('Friday', 'Saint-Petersburg')\n",
    "number_tracks_per_city_per_day"
   ]
  },
  {
   "cell_type": "markdown",
   "metadata": {
    "deletable": false,
    "editable": false,
    "id": "7QXffbO-_Zcu",
    "tags": [
     "start_task"
    ]
   },
   "source": [
    "**Задание 22**\n",
    "\n",
    "Создайте c помощью конструктора `pd.DataFrame` таблицу, где\n",
    "* названия колонок — `['city', 'monday', 'wednesday', 'friday']`;\n",
    "* данные — результаты, которые вы получили с помощью `number_tracks`."
   ]
  },
  {
   "cell_type": "code",
   "execution_count": 27,
   "metadata": {
    "deletable": false,
    "id": "APAcLpOr_Zcu"
   },
   "outputs": [
    {
     "data": {
      "text/html": [
       "<div>\n",
       "<style scoped>\n",
       "    .dataframe tbody tr th:only-of-type {\n",
       "        vertical-align: middle;\n",
       "    }\n",
       "\n",
       "    .dataframe tbody tr th {\n",
       "        vertical-align: top;\n",
       "    }\n",
       "\n",
       "    .dataframe thead th {\n",
       "        text-align: right;\n",
       "    }\n",
       "</style>\n",
       "<table border=\"1\" class=\"dataframe\">\n",
       "  <thead>\n",
       "    <tr style=\"text-align: right;\">\n",
       "      <th></th>\n",
       "      <th>city</th>\n",
       "      <th>monday</th>\n",
       "      <th>wednesday</th>\n",
       "      <th>friday</th>\n",
       "    </tr>\n",
       "  </thead>\n",
       "  <tbody>\n",
       "    <tr>\n",
       "      <th>0</th>\n",
       "      <td>Moscow</td>\n",
       "      <td>15740</td>\n",
       "      <td>11056</td>\n",
       "      <td>15945</td>\n",
       "    </tr>\n",
       "    <tr>\n",
       "      <th>1</th>\n",
       "      <td>Saint-Petersburg</td>\n",
       "      <td>5614</td>\n",
       "      <td>7003</td>\n",
       "      <td>5895</td>\n",
       "    </tr>\n",
       "  </tbody>\n",
       "</table>\n",
       "</div>"
      ],
      "text/plain": [
       "               city  monday  wednesday  friday\n",
       "0            Moscow   15740      11056   15945\n",
       "1  Saint-Petersburg    5614       7003    5895"
      ]
     },
     "execution_count": 27,
     "metadata": {},
     "output_type": "execute_result"
    }
   ],
   "source": [
    "# Таблица с результатами\n",
    "info = pd.DataFrame(data=[['Moscow', 15740, 11056, 15945], ['Saint-Petersburg', 5614, 7003, 5895]], columns=['city', 'monday', 'wednesday', 'friday'])\n",
    "info"
   ]
  },
  {
   "cell_type": "markdown",
   "metadata": {
    "deletable": false,
    "editable": false,
    "id": "-EgPIHYu_Zcu"
   },
   "source": [
    "**Выводы**\n",
    "\n",
    "Данные показывают разницу поведения пользователей:\n",
    "\n",
    "- В Москве пик прослушиваний приходится на понедельник и пятницу, а в среду заметен спад.\n",
    "- В Петербурге, наоборот, больше слушают музыку по средам. Активность в понедельник и пятницу здесь почти в равной мере уступает среде.\n",
    "\n",
    "Значит, данные говорят в пользу первой гипотезы."
   ]
  },
  {
   "cell_type": "markdown",
   "metadata": {
    "deletable": false,
    "editable": false,
    "id": "atZAxtq4_Zcu"
   },
   "source": [
    "### Музыка в начале и в конце недели"
   ]
  },
  {
   "cell_type": "markdown",
   "metadata": {
    "deletable": false,
    "editable": false,
    "id": "eXrQqXFH_Zcu"
   },
   "source": [
    "Согласно второй гипотезе, утром в понедельник в Москве преобладают одни жанры, а в Петербурге — другие. Так же и вечером пятницы преобладают разные жанры — в зависимости от города."
   ]
  },
  {
   "cell_type": "markdown",
   "metadata": {
    "deletable": false,
    "editable": false,
    "id": "S8UcW6Hw_Zcu",
    "tags": [
     "start_task"
    ]
   },
   "source": [
    "**Задание 23**\n",
    "\n",
    "Сохраните таблицы с данными в две переменные:\n",
    "* по Москве — в `moscow_general`;\n",
    "* по Санкт-Петербургу — в `spb_general`."
   ]
  },
  {
   "cell_type": "code",
   "execution_count": 28,
   "metadata": {
    "deletable": false,
    "id": "qeaFfM_P_Zcu"
   },
   "outputs": [],
   "source": [
    "# получение таблицы moscow_general из тех строк таблицы df, \n",
    "# для которых значение в столбце 'city' равно 'Moscow'\n",
    "moscow_general = df[df['city'] == 'Moscow']\n"
   ]
  },
  {
   "cell_type": "code",
   "execution_count": 29,
   "metadata": {
    "deletable": false,
    "id": "ORaVRKto_Zcu"
   },
   "outputs": [],
   "source": [
    "# получение таблицы spb_general из тех строк таблицы df,\n",
    "# для которых значение в столбце 'city' равно 'Saint-Petersburg'\n",
    "spb_general = df[df['city'] == 'Saint-Petersburg']"
   ]
  },
  {
   "cell_type": "markdown",
   "metadata": {
    "deletable": false,
    "id": "MEJV-CX2_Zcu",
    "tags": [
     "start_task"
    ]
   },
   "source": [
    "**Задание 24**\n",
    "\n",
    "Создайте функцию `genre_weekday()` с четырьмя параметрами:\n",
    "* таблица (датафрейм) с данными,\n",
    "* день недели,\n",
    "* начальная временная метка в формате 'hh:mm', \n",
    "* последняя временная метка в формате 'hh:mm'.\n",
    "\n",
    "Функция должна вернуть информацию о топ-10 жанров тех треков, которые прослушивали в указанный день, в промежутке между двумя отметками времени."
   ]
  },
  {
   "cell_type": "code",
   "execution_count": 30,
   "metadata": {
    "deletable": false,
    "id": "laJT9BYl_Zcu"
   },
   "outputs": [],
   "source": [
    "# Объявление функции genre_weekday() с параметрами table, day, time1, time2,\n",
    "# которая возвращает информацию о самых популярных жанрах в указанный день в\n",
    "# заданное время:\n",
    "# 1) в переменную genre_df сохраняются те строки переданного датафрейма table, для\n",
    "#    которых одновременно:\n",
    "#    - значение в столбце day равно значению аргумента day\n",
    "#    - значение в столбце time больше значения аргумента time1\n",
    "#    - значение в столбце time меньше значения аргумента time2\n",
    "#    Используйте последовательную фильтрацию с помощью логической индексации.\n",
    "# 2) сгруппировать датафрейм genre_df по столбцу genre, взять один из его\n",
    "#    столбцов и посчитать методом count() количество записей для каждого из\n",
    "#    присутствующих жанров, получившийся Series записать в переменную\n",
    "#    genre_df_count\n",
    "# 3) отсортировать genre_df_count по убыванию встречаемости и сохранить\n",
    "#    в переменную genre_df_sorted\n",
    "# 4) вернуть Series из 10 первых значений genre_df_sorted, это будут топ-10\n",
    "#    популярных жанров (в указанный день, в заданное время)\n",
    "\n",
    "def genre_weekday(df, day, time1, time2):\n",
    "    # последовательная фильтрация\n",
    "    # оставляем в genre_df только те строки df, у которых день равен day\n",
    "    genre_df = df[df['day'] == day]\n",
    "    # оставляем в genre_df только те строки genre_df, у которых время меньше time2\n",
    "    genre_df = genre_df[genre_df['time'] < time2]\n",
    "    # оставляем в genre_df только те строки genre_df, у которых время больше time1\n",
    "    genre_df = genre_df[genre_df['time'] > time1]\n",
    "    # сгруппируем отфильтрованный датафрейм по столбцу с названиями жанров, возьмём столбец genre_name и посчитаем кол-во строк для каждого жанра методом count()\n",
    "    genre_df_count = genre_df.groupby('genre')['genre'].count()\n",
    "    # отсортируем результат по убыванию (чтобы в начале Series оказались самые популярные жанры)\n",
    "    genre_df_sorted = genre_df_count.sort_values(ascending=False)\n",
    "    # вернём Series с 10 самыми популярными жанрами в указанный отрезок времени заданного дня\n",
    "    return genre_df_sorted[:10]\n"
   ]
  },
  {
   "cell_type": "markdown",
   "metadata": {
    "deletable": false,
    "editable": false,
    "id": "la2s2_PF_Zcu",
    "tags": [
     "start_task"
    ]
   },
   "source": [
    "**Задание 25**\n",
    "\n",
    "\n",
    "Cравните результаты функции `genre_weekday()` для Москвы и Санкт-Петербурга в понедельник утром (с 7:00 до 11:00) и в пятницу вечером (с 17:00 до 23:00):"
   ]
  },
  {
   "cell_type": "code",
   "execution_count": 31,
   "metadata": {
    "deletable": false,
    "id": "yz7itPUQ_Zcu"
   },
   "outputs": [
    {
     "data": {
      "text/plain": [
       "genre\n",
       "pop            781\n",
       "dance          549\n",
       "electronic     480\n",
       "rock           474\n",
       "hiphop         286\n",
       "ruspop         186\n",
       "world          181\n",
       "rusrap         175\n",
       "alternative    164\n",
       "unknown        161\n",
       "Name: genre, dtype: int64"
      ]
     },
     "execution_count": 31,
     "metadata": {},
     "output_type": "execute_result"
    }
   ],
   "source": [
    "# вызов функции для утра понедельника в Москве (вместо df — таблица moscow_general)\n",
    "# объекты, хранящие время, являются строками и сравниваются как строки\n",
    "# пример вызова: genre_weekday(moscow_general, 'Monday', '07:00', '11:00')\n",
    "top_10_tracks = genre_weekday(moscow_general, 'Monday', '07:00', '11:00')\n",
    "top_10_tracks\n"
   ]
  },
  {
   "cell_type": "code",
   "execution_count": 32,
   "metadata": {
    "deletable": false,
    "id": "kwUcHPdy_Zcu"
   },
   "outputs": [
    {
     "data": {
      "text/plain": [
       "genre\n",
       "pop            218\n",
       "dance          182\n",
       "rock           162\n",
       "electronic     147\n",
       "hiphop          80\n",
       "ruspop          64\n",
       "alternative     58\n",
       "rusrap          55\n",
       "jazz            44\n",
       "classical       40\n",
       "Name: genre, dtype: int64"
      ]
     },
     "execution_count": 32,
     "metadata": {},
     "output_type": "execute_result"
    }
   ],
   "source": [
    "# вызов функции для утра понедельника в Петербурге (вместо df — таблица spb_general)\n",
    "top_10_tracks = genre_weekday(spb_general, 'Monday', '07:00', '11:00')\n",
    "top_10_tracks\n"
   ]
  },
  {
   "cell_type": "code",
   "execution_count": 33,
   "metadata": {
    "deletable": false,
    "id": "EzXVRE1o_Zcu"
   },
   "outputs": [
    {
     "data": {
      "text/plain": [
       "genre\n",
       "pop            713\n",
       "rock           517\n",
       "dance          495\n",
       "electronic     482\n",
       "hiphop         273\n",
       "world          208\n",
       "ruspop         170\n",
       "alternative    163\n",
       "classical      163\n",
       "rusrap         142\n",
       "Name: genre, dtype: int64"
      ]
     },
     "execution_count": 33,
     "metadata": {},
     "output_type": "execute_result"
    }
   ],
   "source": [
    "# вызов функции для вечера пятницы в Москве\n",
    "top_10_tracks = genre_weekday(moscow_general, 'Friday', '17:00', '23:00')\n",
    "top_10_tracks\n"
   ]
  },
  {
   "cell_type": "code",
   "execution_count": 34,
   "metadata": {
    "deletable": false,
    "id": "JZaEKu5v_Zcu"
   },
   "outputs": [
    {
     "data": {
      "text/plain": [
       "genre\n",
       "pop            256\n",
       "electronic     216\n",
       "rock           216\n",
       "dance          210\n",
       "hiphop          97\n",
       "alternative     63\n",
       "jazz            61\n",
       "classical       60\n",
       "rusrap          59\n",
       "world           54\n",
       "Name: genre, dtype: int64"
      ]
     },
     "execution_count": 34,
     "metadata": {},
     "output_type": "execute_result"
    }
   ],
   "source": [
    "# вызов функции для вечера пятницы в Петербурге\n",
    "top_10_tracks = genre_weekday(spb_general, 'Friday', '17:00', '23:00')\n",
    "top_10_tracks\n"
   ]
  },
  {
   "cell_type": "markdown",
   "metadata": {
    "deletable": false,
    "editable": false,
    "id": "wrCe4MNX_Zcu"
   },
   "source": [
    "**Выводы**\n",
    "\n",
    "Если сравнить топ-10 жанров в понедельник утром, можно сделать такие выводы:\n",
    "\n",
    "1. В Москве и Петербурге слушают похожую музыку. Единственное отличие — в московский рейтинг вошёл жанр “world”, а в петербургский — джаз и классика.\n",
    "\n",
    "2. В Москве пропущенных значений оказалось так много, что значение `'unknown'` заняло десятое место среди самых популярных жанров. Значит, пропущенные значения занимают существенную долю в данных и угрожают достоверности исследования.\n",
    "\n",
    "Вечер пятницы не меняет эту картину. Некоторые жанры поднимаются немного выше, другие спускаются, но в целом топ-10 остаётся тем же самым.\n",
    "\n",
    "Таким образом, вторая гипотеза подтвердилась лишь частично:\n",
    "* Пользователи слушают похожую музыку в начале недели и в конце.\n",
    "* Разница между Москвой и Петербургом не слишком выражена. В Москве чаще слушают русскую популярную музыку, в Петербурге — джаз.\n",
    "\n",
    "Однако пропуски в данных ставят под сомнение этот результат. В Москве их так много, что рейтинг топ-10 мог бы выглядеть иначе, если бы не утерянные  данные о жанрах."
   ]
  },
  {
   "cell_type": "markdown",
   "metadata": {
    "deletable": false,
    "editable": false,
    "id": "JolODAqr_Zcu"
   },
   "source": [
    "### Жанровые предпочтения в Москве и Петербурге\n",
    "\n",
    "Гипотеза: Петербург — столица рэпа, музыку этого жанра там слушают чаще, чем в Москве.  А Москва — город контрастов, в котором, тем не менее, преобладает поп-музыка."
   ]
  },
  {
   "cell_type": "markdown",
   "metadata": {
    "deletable": false,
    "editable": false,
    "id": "DlegSvaT_Zcu",
    "tags": [
     "start_task"
    ]
   },
   "source": [
    "**Задание 26**\n",
    "\n",
    "Сгруппируйте таблицу `moscow_general` по жанру и посчитайте прослушивания треков каждого жанра методом `count()`. Затем отсортируйте результат в порядке убывания и сохраните его в таблице `moscow_genres`."
   ]
  },
  {
   "cell_type": "code",
   "execution_count": 41,
   "metadata": {
    "deletable": false,
    "id": "r19lIPke_Zcu"
   },
   "outputs": [],
   "source": [
    "# одной строкой: группировка таблицы moscow_general по столбцу 'genre', \n",
    "# подсчёт числа значений 'genre' в этой группировке методом count(), \n",
    "# сортировка получившегося Series в порядке убывания и сохранение в moscow_genres\n",
    "moscow_genres = moscow_general.groupby('genre')['genre'].count().sort_values(ascending=False)\n"
   ]
  },
  {
   "cell_type": "markdown",
   "metadata": {
    "deletable": false,
    "editable": false,
    "id": "6kMuomxTiIr8",
    "tags": [
     "start_task"
    ]
   },
   "source": [
    "**Задание 27**\n",
    "\n",
    "Выведите на экран первые десять строк `moscow_genres`:"
   ]
  },
  {
   "cell_type": "code",
   "execution_count": 42,
   "metadata": {
    "deletable": false,
    "id": "WhCSooF8_Zcv"
   },
   "outputs": [
    {
     "data": {
      "text/plain": [
       "genre\n",
       "pop            5892\n",
       "dance          4435\n",
       "rock           3965\n",
       "electronic     3786\n",
       "hiphop         2096\n",
       "classical      1616\n",
       "world          1432\n",
       "alternative    1379\n",
       "ruspop         1372\n",
       "rusrap         1161\n",
       "Name: genre, dtype: int64"
      ]
     },
     "execution_count": 42,
     "metadata": {},
     "output_type": "execute_result"
    }
   ],
   "source": [
    "# просмотр первых 10 строк moscow_genres\n",
    "moscow_genres.head(10)"
   ]
  },
  {
   "cell_type": "markdown",
   "metadata": {
    "deletable": false,
    "editable": false,
    "id": "cnPG2vnN_Zcv",
    "tags": [
     "start_task"
    ]
   },
   "source": [
    "**Задание 28**\n",
    "\n",
    "\n",
    "Теперь повторите то же и для Петербурга.\n",
    "\n",
    "Сгруппируйте таблицу `spb_general` по жанру. Посчитайте прослушивания треков каждого жанра. Результат отсортируйте в порядке убывания и сохраните в таблице `spb_genres`:\n"
   ]
  },
  {
   "cell_type": "code",
   "execution_count": 43,
   "metadata": {
    "deletable": false,
    "id": "gluLIpE7_Zcv"
   },
   "outputs": [],
   "source": [
    "# одной строкой: группировка таблицы spb_general по столбцу 'genre', \n",
    "# подсчёт числа значений 'genre' в этой группировке методом count(), \n",
    "# сортировка получившегося Series в порядке убывания и сохранение в spb_genres\n",
    "spb_genres = spb_general.groupby('genre')['genre'].count().sort_values(ascending=False)\n"
   ]
  },
  {
   "cell_type": "markdown",
   "metadata": {
    "deletable": false,
    "editable": false,
    "id": "5Doha_ODgyQ8",
    "tags": [
     "start_task"
    ]
   },
   "source": [
    "**Задание 29**\n",
    "\n",
    "Выведите на экран первые десять строк `spb_genres`:"
   ]
  },
  {
   "cell_type": "code",
   "execution_count": 44,
   "metadata": {
    "deletable": false,
    "id": "uaGJHjVU_Zcv"
   },
   "outputs": [
    {
     "data": {
      "text/plain": [
       "genre\n",
       "pop            2431\n",
       "dance          1932\n",
       "rock           1879\n",
       "electronic     1736\n",
       "hiphop          960\n",
       "alternative     649\n",
       "classical       646\n",
       "rusrap          564\n",
       "ruspop          538\n",
       "world           515\n",
       "Name: genre, dtype: int64"
      ]
     },
     "execution_count": 44,
     "metadata": {},
     "output_type": "execute_result"
    }
   ],
   "source": [
    "# просмотр первых 10 строк spb_genres\n",
    "spb_genres.head(10)\n"
   ]
  },
  {
   "cell_type": "markdown",
   "metadata": {
    "deletable": false,
    "editable": false,
    "id": "RY51YJYu_Zcv"
   },
   "source": [
    "**Выводы**"
   ]
  },
  {
   "cell_type": "markdown",
   "metadata": {
    "deletable": false,
    "editable": false,
    "id": "nVhnJEm__Zcv"
   },
   "source": [
    "Гипотеза частично подтвердилась:\n",
    "* Поп-музыка — самый популярный жанр в Москве, как и предполагала гипотеза. Более того, в топ-10 жанров встречается близкий жанр — русская популярная музыка.\n",
    "* Вопреки ожиданиям, рэп одинаково популярен в Москве и Петербурге. \n"
   ]
  },
  {
   "cell_type": "markdown",
   "metadata": {
    "deletable": false,
    "editable": false,
    "id": "ykKQ0N65_Zcv"
   },
   "source": [
    "## Итоги исследования"
   ]
  },
  {
   "cell_type": "markdown",
   "metadata": {
    "deletable": false,
    "editable": false,
    "id": "tjUwbHb3_Zcv"
   },
   "source": [
    "Вы проверили три гипотезы и установили:\n",
    "\n",
    "1. День недели по-разному влияет на активность пользователей в Москве и Петербурге. \n",
    "\n",
    "Первая гипотеза полностью подтвердилась.\n",
    "\n",
    "2. Музыкальные предпочтения не сильно меняются в течение недели — будь то Москва или Петербург. Небольшие различия заметны в начале недели, по понедельникам:\n",
    "* в Москве слушают музыку жанра “world”,\n",
    "* в Петербурге — джаз и классику.\n",
    "\n",
    "Таким образом, вторая гипотеза подтвердилась лишь отчасти. Этот результат мог оказаться иным, если бы не пропуски в данных.\n",
    "\n",
    "3. Во вкусах пользователей Москвы и Петербурга больше общего чем различий. Вопреки ожиданиям, предпочтения жанров в Петербурге напоминают московские.\n",
    "\n",
    "Третья гипотеза не подтвердилась. Если различия в предпочтениях и существуют, на основной массе пользователей они незаметны.\n",
    "\n",
    "**На практике исследования содержат проверки статистических гипотез.**\n",
    "Из данных одного сервиса не всегда можно сделать вывод о всех жителях города.\n",
    "Проверки статистических гипотез покажут, насколько они достоверны, исходя из имеющихся данных. \n",
    "С методами проверок гипотез вы ещё познакомитесь в следующих темах."
   ]
  }
 ],
 "metadata": {
  "ExecuteTimeLog": [
   {
    "duration": 64,
    "start_time": "2022-06-04T16:26:30.513Z"
   },
   {
    "duration": 7,
    "start_time": "2022-06-04T16:27:04.296Z"
   },
   {
    "duration": 460,
    "start_time": "2022-06-04T16:27:10.596Z"
   },
   {
    "duration": 3,
    "start_time": "2022-06-04T16:27:27.045Z"
   },
   {
    "duration": 488,
    "start_time": "2022-06-04T16:27:27.049Z"
   },
   {
    "duration": 3,
    "start_time": "2022-06-04T16:27:27.539Z"
   },
   {
    "duration": 5,
    "start_time": "2022-06-04T16:27:27.544Z"
   },
   {
    "duration": 5,
    "start_time": "2022-06-04T16:27:27.551Z"
   },
   {
    "duration": 25,
    "start_time": "2022-06-04T16:27:27.557Z"
   },
   {
    "duration": 7,
    "start_time": "2022-06-04T16:27:27.584Z"
   },
   {
    "duration": 5,
    "start_time": "2022-06-04T16:27:27.593Z"
   },
   {
    "duration": 9,
    "start_time": "2022-06-04T16:27:27.599Z"
   },
   {
    "duration": 12,
    "start_time": "2022-06-04T16:27:27.610Z"
   },
   {
    "duration": 20,
    "start_time": "2022-06-04T16:27:27.623Z"
   },
   {
    "duration": 7,
    "start_time": "2022-06-04T16:27:27.645Z"
   },
   {
    "duration": 13,
    "start_time": "2022-06-04T16:27:27.655Z"
   },
   {
    "duration": 9,
    "start_time": "2022-06-04T16:27:27.669Z"
   },
   {
    "duration": 17,
    "start_time": "2022-06-04T16:27:27.680Z"
   },
   {
    "duration": 4,
    "start_time": "2022-06-04T16:27:27.699Z"
   },
   {
    "duration": 6,
    "start_time": "2022-06-04T16:27:27.705Z"
   },
   {
    "duration": 4,
    "start_time": "2022-06-04T16:27:27.713Z"
   },
   {
    "duration": 4,
    "start_time": "2022-06-04T16:27:27.719Z"
   },
   {
    "duration": 20,
    "start_time": "2022-06-04T16:27:27.724Z"
   },
   {
    "duration": 5,
    "start_time": "2022-06-04T16:27:27.746Z"
   },
   {
    "duration": 9,
    "start_time": "2022-06-04T16:27:27.753Z"
   },
   {
    "duration": 11,
    "start_time": "2022-06-04T16:27:27.764Z"
   },
   {
    "duration": 8,
    "start_time": "2022-06-04T16:27:27.777Z"
   },
   {
    "duration": 6,
    "start_time": "2022-06-04T16:27:27.787Z"
   },
   {
    "duration": 8,
    "start_time": "2022-06-04T16:27:27.795Z"
   },
   {
    "duration": 7,
    "start_time": "2022-06-04T16:27:27.804Z"
   },
   {
    "duration": 4,
    "start_time": "2022-06-04T16:27:27.813Z"
   },
   {
    "duration": 4,
    "start_time": "2022-06-04T16:27:27.819Z"
   },
   {
    "duration": 18,
    "start_time": "2022-06-04T16:27:27.824Z"
   },
   {
    "duration": 0,
    "start_time": "2022-06-04T16:27:27.844Z"
   },
   {
    "duration": 0,
    "start_time": "2022-06-04T16:27:27.845Z"
   },
   {
    "duration": 0,
    "start_time": "2022-06-04T16:27:27.848Z"
   },
   {
    "duration": 0,
    "start_time": "2022-06-04T16:27:27.849Z"
   },
   {
    "duration": 0,
    "start_time": "2022-06-04T16:27:27.851Z"
   },
   {
    "duration": 0,
    "start_time": "2022-06-04T16:27:27.852Z"
   },
   {
    "duration": 0,
    "start_time": "2022-06-04T16:27:27.853Z"
   },
   {
    "duration": 0,
    "start_time": "2022-06-04T16:27:27.854Z"
   },
   {
    "duration": 5,
    "start_time": "2022-06-04T16:27:35.636Z"
   },
   {
    "duration": 3,
    "start_time": "2022-06-04T16:27:38.237Z"
   },
   {
    "duration": 64,
    "start_time": "2022-06-04T16:28:18.904Z"
   },
   {
    "duration": 7,
    "start_time": "2022-06-04T16:28:46.533Z"
   },
   {
    "duration": 606,
    "start_time": "2022-06-04T16:28:52.526Z"
   },
   {
    "duration": 186,
    "start_time": "2022-06-04T16:28:54.306Z"
   },
   {
    "duration": 26,
    "start_time": "2022-06-04T16:28:56.214Z"
   },
   {
    "duration": 31,
    "start_time": "2022-06-04T16:29:52.218Z"
   },
   {
    "duration": 3,
    "start_time": "2022-06-04T16:35:13.000Z"
   },
   {
    "duration": 42,
    "start_time": "2022-06-04T16:38:28.520Z"
   },
   {
    "duration": 8,
    "start_time": "2022-06-04T16:39:15.761Z"
   },
   {
    "duration": 3,
    "start_time": "2022-06-04T16:40:55.164Z"
   },
   {
    "duration": 196,
    "start_time": "2022-06-04T16:40:55.170Z"
   },
   {
    "duration": 12,
    "start_time": "2022-06-04T16:40:55.368Z"
   },
   {
    "duration": 64,
    "start_time": "2022-06-04T16:40:55.382Z"
   },
   {
    "duration": 2,
    "start_time": "2022-06-04T16:40:55.449Z"
   },
   {
    "duration": 8,
    "start_time": "2022-06-04T16:40:59.507Z"
   },
   {
    "duration": 401,
    "start_time": "2022-06-04T16:41:11.066Z"
   },
   {
    "duration": 186,
    "start_time": "2022-06-04T16:41:11.469Z"
   },
   {
    "duration": 25,
    "start_time": "2022-06-04T16:41:11.657Z"
   },
   {
    "duration": 49,
    "start_time": "2022-06-04T16:41:11.684Z"
   },
   {
    "duration": 2,
    "start_time": "2022-06-04T16:41:11.735Z"
   },
   {
    "duration": 93,
    "start_time": "2022-06-04T16:41:11.739Z"
   },
   {
    "duration": 0,
    "start_time": "2022-06-04T16:41:11.834Z"
   },
   {
    "duration": 0,
    "start_time": "2022-06-04T16:41:11.835Z"
   },
   {
    "duration": 0,
    "start_time": "2022-06-04T16:41:11.837Z"
   },
   {
    "duration": 0,
    "start_time": "2022-06-04T16:41:11.839Z"
   },
   {
    "duration": 0,
    "start_time": "2022-06-04T16:41:11.840Z"
   },
   {
    "duration": 0,
    "start_time": "2022-06-04T16:41:11.842Z"
   },
   {
    "duration": 0,
    "start_time": "2022-06-04T16:41:11.843Z"
   },
   {
    "duration": 0,
    "start_time": "2022-06-04T16:41:11.844Z"
   },
   {
    "duration": 0,
    "start_time": "2022-06-04T16:41:11.846Z"
   },
   {
    "duration": 0,
    "start_time": "2022-06-04T16:41:11.847Z"
   },
   {
    "duration": 0,
    "start_time": "2022-06-04T16:41:11.848Z"
   },
   {
    "duration": 0,
    "start_time": "2022-06-04T16:41:11.850Z"
   },
   {
    "duration": 0,
    "start_time": "2022-06-04T16:41:11.851Z"
   },
   {
    "duration": 0,
    "start_time": "2022-06-04T16:41:11.852Z"
   },
   {
    "duration": 0,
    "start_time": "2022-06-04T16:41:11.854Z"
   },
   {
    "duration": 0,
    "start_time": "2022-06-04T16:41:11.855Z"
   },
   {
    "duration": 0,
    "start_time": "2022-06-04T16:41:11.857Z"
   },
   {
    "duration": 0,
    "start_time": "2022-06-04T16:41:11.859Z"
   },
   {
    "duration": 0,
    "start_time": "2022-06-04T16:41:11.860Z"
   },
   {
    "duration": 0,
    "start_time": "2022-06-04T16:41:11.862Z"
   },
   {
    "duration": 0,
    "start_time": "2022-06-04T16:41:11.864Z"
   },
   {
    "duration": 1,
    "start_time": "2022-06-04T16:41:11.865Z"
   },
   {
    "duration": 0,
    "start_time": "2022-06-04T16:41:11.867Z"
   },
   {
    "duration": 0,
    "start_time": "2022-06-04T16:41:11.926Z"
   },
   {
    "duration": 0,
    "start_time": "2022-06-04T16:41:11.927Z"
   },
   {
    "duration": 0,
    "start_time": "2022-06-04T16:41:11.929Z"
   },
   {
    "duration": 0,
    "start_time": "2022-06-04T16:41:11.931Z"
   },
   {
    "duration": 0,
    "start_time": "2022-06-04T16:41:11.932Z"
   },
   {
    "duration": 0,
    "start_time": "2022-06-04T16:41:11.936Z"
   },
   {
    "duration": 0,
    "start_time": "2022-06-04T16:41:11.937Z"
   },
   {
    "duration": 0,
    "start_time": "2022-06-04T16:41:11.939Z"
   },
   {
    "duration": 0,
    "start_time": "2022-06-04T16:41:11.940Z"
   },
   {
    "duration": 2,
    "start_time": "2022-06-04T16:41:36.992Z"
   },
   {
    "duration": 2,
    "start_time": "2022-06-04T16:41:38.426Z"
   },
   {
    "duration": 446,
    "start_time": "2022-06-04T16:41:48.527Z"
   },
   {
    "duration": 195,
    "start_time": "2022-06-04T16:41:50.508Z"
   },
   {
    "duration": 19,
    "start_time": "2022-06-04T16:41:52.907Z"
   },
   {
    "duration": 52,
    "start_time": "2022-06-04T16:41:56.057Z"
   },
   {
    "duration": 2,
    "start_time": "2022-06-04T16:41:58.116Z"
   },
   {
    "duration": 73,
    "start_time": "2022-06-04T16:42:00.616Z"
   },
   {
    "duration": 9,
    "start_time": "2022-06-04T16:42:34.711Z"
   },
   {
    "duration": 4,
    "start_time": "2022-06-04T16:43:49.041Z"
   },
   {
    "duration": 35,
    "start_time": "2022-06-04T16:47:13.139Z"
   },
   {
    "duration": 46,
    "start_time": "2022-06-04T16:48:19.350Z"
   },
   {
    "duration": 22,
    "start_time": "2022-06-04T16:50:09.456Z"
   },
   {
    "duration": 22,
    "start_time": "2022-06-04T16:50:52.395Z"
   },
   {
    "duration": 22,
    "start_time": "2022-06-04T16:51:40.103Z"
   },
   {
    "duration": 4,
    "start_time": "2022-06-04T16:52:40.330Z"
   },
   {
    "duration": 11,
    "start_time": "2022-06-04T16:53:02.265Z"
   },
   {
    "duration": 12,
    "start_time": "2022-06-04T16:53:07.750Z"
   },
   {
    "duration": 14,
    "start_time": "2022-06-04T16:53:14.095Z"
   },
   {
    "duration": 14,
    "start_time": "2022-06-04T16:53:17.105Z"
   },
   {
    "duration": 4,
    "start_time": "2022-06-04T16:53:29.221Z"
   },
   {
    "duration": 4,
    "start_time": "2022-06-04T17:00:22.937Z"
   },
   {
    "duration": 25,
    "start_time": "2022-06-04T17:01:25.834Z"
   },
   {
    "duration": 15,
    "start_time": "2022-06-04T17:21:59.418Z"
   },
   {
    "duration": 28,
    "start_time": "2022-06-04T17:22:38.119Z"
   },
   {
    "duration": 3,
    "start_time": "2022-06-04T17:22:55.641Z"
   },
   {
    "duration": 24,
    "start_time": "2022-06-04T17:23:17.004Z"
   },
   {
    "duration": 69,
    "start_time": "2022-06-04T17:23:57.907Z"
   },
   {
    "duration": 73,
    "start_time": "2022-06-04T17:24:39.247Z"
   },
   {
    "duration": 74,
    "start_time": "2022-06-04T17:25:08.986Z"
   },
   {
    "duration": 8,
    "start_time": "2022-06-04T17:25:24.666Z"
   },
   {
    "duration": 60,
    "start_time": "2022-06-04T17:25:37.708Z"
   },
   {
    "duration": 6,
    "start_time": "2022-06-04T17:26:44.047Z"
   },
   {
    "duration": 45,
    "start_time": "2022-06-04T17:28:36.521Z"
   },
   {
    "duration": 41,
    "start_time": "2022-06-04T17:28:38.115Z"
   },
   {
    "duration": 63,
    "start_time": "2022-06-04T17:28:43.024Z"
   },
   {
    "duration": 45,
    "start_time": "2022-06-04T17:28:51.400Z"
   },
   {
    "duration": 9,
    "start_time": "2022-06-04T17:29:04.797Z"
   },
   {
    "duration": 33,
    "start_time": "2022-06-04T17:29:19.038Z"
   },
   {
    "duration": 38,
    "start_time": "2022-06-04T17:29:23.316Z"
   },
   {
    "duration": 45,
    "start_time": "2022-06-04T17:30:15.000Z"
   },
   {
    "duration": 8,
    "start_time": "2022-06-04T17:31:31.315Z"
   },
   {
    "duration": 42,
    "start_time": "2022-06-04T17:31:37.943Z"
   },
   {
    "duration": 44,
    "start_time": "2022-06-04T17:32:07.046Z"
   },
   {
    "duration": 42,
    "start_time": "2022-06-04T17:33:20.209Z"
   },
   {
    "duration": 8,
    "start_time": "2022-06-04T17:33:46.120Z"
   },
   {
    "duration": 8,
    "start_time": "2022-06-04T17:34:01.109Z"
   },
   {
    "duration": 10,
    "start_time": "2022-06-04T17:34:15.509Z"
   },
   {
    "duration": 8,
    "start_time": "2022-06-04T17:35:48.605Z"
   },
   {
    "duration": 8,
    "start_time": "2022-06-04T17:35:56.293Z"
   },
   {
    "duration": 9,
    "start_time": "2022-06-04T17:36:03.105Z"
   },
   {
    "duration": 7,
    "start_time": "2022-06-04T17:36:09.009Z"
   },
   {
    "duration": 8,
    "start_time": "2022-06-04T17:36:17.131Z"
   },
   {
    "duration": 6,
    "start_time": "2022-06-04T17:37:47.910Z"
   },
   {
    "duration": 8,
    "start_time": "2022-06-04T17:38:00.742Z"
   },
   {
    "duration": 8,
    "start_time": "2022-06-04T17:38:07.856Z"
   },
   {
    "duration": 70,
    "start_time": "2022-06-04T17:38:25.393Z"
   },
   {
    "duration": 449,
    "start_time": "2022-06-04T17:38:39.094Z"
   },
   {
    "duration": 168,
    "start_time": "2022-06-04T17:38:39.544Z"
   },
   {
    "duration": 17,
    "start_time": "2022-06-04T17:38:39.714Z"
   },
   {
    "duration": 31,
    "start_time": "2022-06-04T17:38:39.732Z"
   },
   {
    "duration": 2,
    "start_time": "2022-06-04T17:38:39.766Z"
   },
   {
    "duration": 7,
    "start_time": "2022-06-04T17:38:39.770Z"
   },
   {
    "duration": 14,
    "start_time": "2022-06-04T17:38:39.779Z"
   },
   {
    "duration": 31,
    "start_time": "2022-06-04T17:38:39.795Z"
   },
   {
    "duration": 27,
    "start_time": "2022-06-04T17:38:39.828Z"
   },
   {
    "duration": 25,
    "start_time": "2022-06-04T17:38:39.856Z"
   },
   {
    "duration": 43,
    "start_time": "2022-06-04T17:38:39.883Z"
   },
   {
    "duration": 65,
    "start_time": "2022-06-04T17:38:39.928Z"
   },
   {
    "duration": 89,
    "start_time": "2022-06-04T17:38:39.994Z"
   },
   {
    "duration": 66,
    "start_time": "2022-06-04T17:38:40.085Z"
   },
   {
    "duration": 100,
    "start_time": "2022-06-04T17:38:42.919Z"
   },
   {
    "duration": 74,
    "start_time": "2022-06-04T17:39:42.101Z"
   },
   {
    "duration": 36,
    "start_time": "2022-06-04T17:39:47.909Z"
   },
   {
    "duration": 64,
    "start_time": "2022-06-04T17:41:16.349Z"
   },
   {
    "duration": 67,
    "start_time": "2022-06-04T17:41:21.249Z"
   },
   {
    "duration": 37,
    "start_time": "2022-06-04T17:41:26.206Z"
   },
   {
    "duration": 525,
    "start_time": "2022-06-04T17:41:32.316Z"
   },
   {
    "duration": 38,
    "start_time": "2022-06-04T17:42:02.113Z"
   },
   {
    "duration": 79,
    "start_time": "2022-06-04T17:43:53.520Z"
   },
   {
    "duration": 73,
    "start_time": "2022-06-04T17:43:55.531Z"
   },
   {
    "duration": 68,
    "start_time": "2022-06-04T17:44:01.416Z"
   },
   {
    "duration": 61,
    "start_time": "2022-06-04T17:44:02.912Z"
   },
   {
    "duration": 55,
    "start_time": "2022-06-04T17:44:06.416Z"
   },
   {
    "duration": 59,
    "start_time": "2022-06-04T17:44:07.212Z"
   },
   {
    "duration": 3,
    "start_time": "2022-06-04T17:45:09.400Z"
   },
   {
    "duration": 6,
    "start_time": "2022-06-04T17:45:16.363Z"
   },
   {
    "duration": 59,
    "start_time": "2022-06-04T17:46:14.743Z"
   },
   {
    "duration": 55,
    "start_time": "2022-06-04T17:46:39.203Z"
   },
   {
    "duration": 3,
    "start_time": "2022-06-04T17:47:31.222Z"
   },
   {
    "duration": 5,
    "start_time": "2022-06-04T17:47:36.969Z"
   },
   {
    "duration": 58,
    "start_time": "2022-06-04T17:47:54.100Z"
   },
   {
    "duration": 8,
    "start_time": "2022-06-04T17:48:03.943Z"
   },
   {
    "duration": 55,
    "start_time": "2022-06-04T17:48:17.304Z"
   },
   {
    "duration": 42,
    "start_time": "2022-06-04T17:48:31.730Z"
   },
   {
    "duration": 41,
    "start_time": "2022-06-04T17:51:02.724Z"
   },
   {
    "duration": 362,
    "start_time": "2022-06-04T17:51:29.249Z"
   },
   {
    "duration": 43,
    "start_time": "2022-06-04T17:51:39.916Z"
   },
   {
    "duration": 10,
    "start_time": "2022-06-04T17:54:11.166Z"
   },
   {
    "duration": 14,
    "start_time": "2022-06-04T17:54:28.612Z"
   },
   {
    "duration": 92,
    "start_time": "2022-06-04T17:57:39.950Z"
   },
   {
    "duration": 96,
    "start_time": "2022-06-04T17:57:44.342Z"
   },
   {
    "duration": 90,
    "start_time": "2022-06-04T17:57:53.195Z"
   },
   {
    "duration": 92,
    "start_time": "2022-06-04T17:58:46.603Z"
   },
   {
    "duration": 56,
    "start_time": "2022-06-04T17:59:44.803Z"
   },
   {
    "duration": 112,
    "start_time": "2022-06-04T18:00:09.146Z"
   },
   {
    "duration": 105,
    "start_time": "2022-06-04T18:00:16.045Z"
   },
   {
    "duration": 87,
    "start_time": "2022-06-04T18:00:41.029Z"
   },
   {
    "duration": 13,
    "start_time": "2022-06-04T18:01:16.909Z"
   },
   {
    "duration": 15,
    "start_time": "2022-06-04T18:01:23.203Z"
   },
   {
    "duration": 85,
    "start_time": "2022-06-04T18:02:05.642Z"
   },
   {
    "duration": 92,
    "start_time": "2022-06-04T18:02:14.500Z"
   },
   {
    "duration": 94,
    "start_time": "2022-06-04T18:02:17.900Z"
   },
   {
    "duration": 105,
    "start_time": "2022-06-04T18:02:32.757Z"
   },
   {
    "duration": 185,
    "start_time": "2022-06-04T18:11:22.996Z"
   },
   {
    "duration": 182,
    "start_time": "2022-06-04T18:11:27.808Z"
   },
   {
    "duration": 138,
    "start_time": "2022-06-04T18:12:08.728Z"
   },
   {
    "duration": 23,
    "start_time": "2022-06-04T18:13:34.110Z"
   },
   {
    "duration": 23,
    "start_time": "2022-06-04T18:15:08.812Z"
   },
   {
    "duration": 23,
    "start_time": "2022-06-04T18:15:44.363Z"
   },
   {
    "duration": 1091,
    "start_time": "2022-06-04T18:18:02.952Z"
   },
   {
    "duration": 2,
    "start_time": "2022-06-04T18:19:43.897Z"
   },
   {
    "duration": 237,
    "start_time": "2022-06-04T18:19:43.902Z"
   },
   {
    "duration": 14,
    "start_time": "2022-06-04T18:19:44.141Z"
   },
   {
    "duration": 48,
    "start_time": "2022-06-04T18:19:44.157Z"
   },
   {
    "duration": 2,
    "start_time": "2022-06-04T18:19:44.227Z"
   },
   {
    "duration": 20,
    "start_time": "2022-06-04T18:19:44.231Z"
   },
   {
    "duration": 9,
    "start_time": "2022-06-04T18:19:44.253Z"
   },
   {
    "duration": 6,
    "start_time": "2022-06-04T18:19:44.266Z"
   },
   {
    "duration": 58,
    "start_time": "2022-06-04T18:19:44.274Z"
   },
   {
    "duration": 29,
    "start_time": "2022-06-04T18:19:44.334Z"
   },
   {
    "duration": 40,
    "start_time": "2022-06-04T18:19:44.366Z"
   },
   {
    "duration": 109,
    "start_time": "2022-06-04T18:19:44.408Z"
   },
   {
    "duration": 105,
    "start_time": "2022-06-04T18:19:44.526Z"
   },
   {
    "duration": 95,
    "start_time": "2022-06-04T18:19:44.634Z"
   },
   {
    "duration": 75,
    "start_time": "2022-06-04T18:19:44.730Z"
   },
   {
    "duration": 795,
    "start_time": "2022-06-04T18:19:53.703Z"
   },
   {
    "duration": 151,
    "start_time": "2022-06-04T18:21:12.913Z"
   },
   {
    "duration": 154,
    "start_time": "2022-06-04T18:21:44.746Z"
   },
   {
    "duration": 157,
    "start_time": "2022-06-04T18:21:49.604Z"
   },
   {
    "duration": 135,
    "start_time": "2022-06-04T18:23:08.896Z"
   },
   {
    "duration": 27,
    "start_time": "2022-06-04T18:25:11.657Z"
   },
   {
    "duration": 334,
    "start_time": "2022-06-04T18:32:12.921Z"
   },
   {
    "duration": 53,
    "start_time": "2022-06-04T18:35:47.050Z"
   },
   {
    "duration": 439,
    "start_time": "2022-06-04T18:36:31.293Z"
   },
   {
    "duration": 46,
    "start_time": "2022-06-04T18:37:15.005Z"
   },
   {
    "duration": 366,
    "start_time": "2022-06-04T18:37:21.296Z"
   },
   {
    "duration": 450,
    "start_time": "2022-06-04T18:37:25.200Z"
   },
   {
    "duration": 17,
    "start_time": "2022-06-04T18:39:20.519Z"
   },
   {
    "duration": 20,
    "start_time": "2022-06-04T18:39:23.150Z"
   },
   {
    "duration": 25,
    "start_time": "2022-06-04T18:39:40.488Z"
   },
   {
    "duration": 28,
    "start_time": "2022-06-04T18:41:52.243Z"
   },
   {
    "duration": 17,
    "start_time": "2022-06-04T18:41:59.489Z"
   },
   {
    "duration": 74,
    "start_time": "2022-06-04T18:42:44.212Z"
   },
   {
    "duration": 17,
    "start_time": "2022-06-04T18:42:48.397Z"
   },
   {
    "duration": 11,
    "start_time": "2022-06-04T18:43:38.830Z"
   },
   {
    "duration": 55,
    "start_time": "2022-06-04T18:44:01.215Z"
   },
   {
    "duration": 17,
    "start_time": "2022-06-04T18:44:06.764Z"
   },
   {
    "duration": 17,
    "start_time": "2022-06-04T18:47:35.535Z"
   },
   {
    "duration": 11,
    "start_time": "2022-06-04T18:48:05.699Z"
   },
   {
    "duration": 10,
    "start_time": "2022-06-04T18:48:22.387Z"
   },
   {
    "duration": 11,
    "start_time": "2022-06-04T18:49:38.412Z"
   },
   {
    "duration": 11,
    "start_time": "2022-06-04T18:49:41.098Z"
   },
   {
    "duration": 74,
    "start_time": "2022-06-04T18:50:12.932Z"
   },
   {
    "duration": 16,
    "start_time": "2022-06-04T18:50:15.188Z"
   },
   {
    "duration": 14,
    "start_time": "2022-06-04T18:50:20.823Z"
   },
   {
    "duration": 72,
    "start_time": "2022-06-04T18:50:50.145Z"
   },
   {
    "duration": 76,
    "start_time": "2022-06-05T09:07:40.237Z"
   },
   {
    "duration": 455,
    "start_time": "2022-06-05T09:07:49.053Z"
   },
   {
    "duration": 232,
    "start_time": "2022-06-05T09:07:49.510Z"
   },
   {
    "duration": 27,
    "start_time": "2022-06-05T09:07:49.743Z"
   },
   {
    "duration": 29,
    "start_time": "2022-06-05T09:07:49.779Z"
   },
   {
    "duration": 3,
    "start_time": "2022-06-05T09:07:49.810Z"
   },
   {
    "duration": 6,
    "start_time": "2022-06-05T09:07:49.815Z"
   },
   {
    "duration": 12,
    "start_time": "2022-06-05T09:07:49.823Z"
   },
   {
    "duration": 7,
    "start_time": "2022-06-05T09:07:49.837Z"
   },
   {
    "duration": 43,
    "start_time": "2022-06-05T09:07:49.846Z"
   },
   {
    "duration": 20,
    "start_time": "2022-06-05T09:07:49.891Z"
   },
   {
    "duration": 21,
    "start_time": "2022-06-05T09:07:49.913Z"
   },
   {
    "duration": 88,
    "start_time": "2022-06-05T09:07:49.935Z"
   },
   {
    "duration": 81,
    "start_time": "2022-06-05T09:07:50.025Z"
   },
   {
    "duration": 76,
    "start_time": "2022-06-05T09:07:50.109Z"
   },
   {
    "duration": 65,
    "start_time": "2022-06-05T09:07:50.186Z"
   },
   {
    "duration": 17,
    "start_time": "2022-06-05T09:07:50.268Z"
   },
   {
    "duration": 41,
    "start_time": "2022-06-05T09:07:50.287Z"
   },
   {
    "duration": 34,
    "start_time": "2022-06-05T09:07:52.115Z"
   },
   {
    "duration": 37,
    "start_time": "2022-06-05T09:08:16.038Z"
   },
   {
    "duration": 32,
    "start_time": "2022-06-05T09:08:19.702Z"
   },
   {
    "duration": 13,
    "start_time": "2022-06-05T09:09:00.682Z"
   },
   {
    "duration": 17,
    "start_time": "2022-06-05T09:10:13.723Z"
   },
   {
    "duration": 24,
    "start_time": "2022-06-05T09:18:33.415Z"
   },
   {
    "duration": 26,
    "start_time": "2022-06-05T09:18:47.779Z"
   },
   {
    "duration": 28,
    "start_time": "2022-06-05T09:18:56.679Z"
   },
   {
    "duration": 29,
    "start_time": "2022-06-05T09:19:28.015Z"
   },
   {
    "duration": 10,
    "start_time": "2022-06-05T09:19:38.376Z"
   },
   {
    "duration": 10,
    "start_time": "2022-06-05T09:19:44.580Z"
   },
   {
    "duration": 15,
    "start_time": "2022-06-05T09:20:15.478Z"
   },
   {
    "duration": 15,
    "start_time": "2022-06-05T09:20:31.379Z"
   },
   {
    "duration": 10,
    "start_time": "2022-06-05T09:20:34.541Z"
   },
   {
    "duration": 10,
    "start_time": "2022-06-05T09:20:48.226Z"
   },
   {
    "duration": 21,
    "start_time": "2022-06-05T09:20:53.286Z"
   },
   {
    "duration": 46,
    "start_time": "2022-06-05T09:21:41.636Z"
   },
   {
    "duration": 48,
    "start_time": "2022-06-05T09:21:51.723Z"
   },
   {
    "duration": 52,
    "start_time": "2022-06-05T09:21:53.076Z"
   },
   {
    "duration": 53,
    "start_time": "2022-06-05T09:21:54.974Z"
   },
   {
    "duration": 87,
    "start_time": "2022-06-05T09:22:20.479Z"
   },
   {
    "duration": 48,
    "start_time": "2022-06-05T09:22:27.499Z"
   },
   {
    "duration": 254,
    "start_time": "2022-06-05T09:22:40.974Z"
   },
   {
    "duration": 14,
    "start_time": "2022-06-05T09:22:44.727Z"
   },
   {
    "duration": 46,
    "start_time": "2022-06-05T09:23:04.009Z"
   },
   {
    "duration": 21,
    "start_time": "2022-06-05T09:23:55.095Z"
   },
   {
    "duration": 9,
    "start_time": "2022-06-05T09:23:57.016Z"
   },
   {
    "duration": 10,
    "start_time": "2022-06-05T09:24:09.795Z"
   },
   {
    "duration": 23,
    "start_time": "2022-06-05T09:24:38.439Z"
   },
   {
    "duration": 335,
    "start_time": "2022-06-05T09:24:47.491Z"
   },
   {
    "duration": 22,
    "start_time": "2022-06-05T09:25:37.625Z"
   },
   {
    "duration": 21,
    "start_time": "2022-06-05T09:25:46.974Z"
   },
   {
    "duration": 15,
    "start_time": "2022-06-05T09:26:13.473Z"
   },
   {
    "duration": 15,
    "start_time": "2022-06-05T09:26:21.596Z"
   },
   {
    "duration": 8,
    "start_time": "2022-06-05T09:27:35.376Z"
   },
   {
    "duration": 5,
    "start_time": "2022-06-05T09:27:44.983Z"
   },
   {
    "duration": 13,
    "start_time": "2022-06-05T09:30:19.966Z"
   },
   {
    "duration": 15,
    "start_time": "2022-06-05T09:30:27.411Z"
   },
   {
    "duration": 13,
    "start_time": "2022-06-05T09:30:58.571Z"
   },
   {
    "duration": 11,
    "start_time": "2022-06-05T09:31:04.462Z"
   },
   {
    "duration": 11,
    "start_time": "2022-06-05T09:31:06.508Z"
   },
   {
    "duration": 4,
    "start_time": "2022-06-05T09:31:40.135Z"
   },
   {
    "duration": 6,
    "start_time": "2022-06-05T09:31:52.873Z"
   },
   {
    "duration": 11,
    "start_time": "2022-06-05T09:32:07.138Z"
   },
   {
    "duration": 47,
    "start_time": "2022-06-05T09:35:38.482Z"
   },
   {
    "duration": 13,
    "start_time": "2022-06-05T09:35:59.437Z"
   },
   {
    "duration": 15,
    "start_time": "2022-06-05T09:36:43.064Z"
   },
   {
    "duration": 11,
    "start_time": "2022-06-05T09:37:16.534Z"
   },
   {
    "duration": 12,
    "start_time": "2022-06-05T09:37:29.613Z"
   },
   {
    "duration": 12,
    "start_time": "2022-06-05T09:54:56.520Z"
   },
   {
    "duration": 8,
    "start_time": "2022-06-05T09:55:07.540Z"
   },
   {
    "duration": 8,
    "start_time": "2022-06-05T09:57:05.767Z"
   },
   {
    "duration": 4,
    "start_time": "2022-06-05T09:57:37.814Z"
   },
   {
    "duration": 8,
    "start_time": "2022-06-05T09:58:29.732Z"
   },
   {
    "duration": 11,
    "start_time": "2022-06-05T09:58:42.083Z"
   },
   {
    "duration": 11,
    "start_time": "2022-06-05T09:58:56.169Z"
   },
   {
    "duration": 12,
    "start_time": "2022-06-05T09:58:59.123Z"
   },
   {
    "duration": 11,
    "start_time": "2022-06-05T09:59:58.635Z"
   },
   {
    "duration": 673,
    "start_time": "2022-06-05T10:00:01.469Z"
   },
   {
    "duration": 13,
    "start_time": "2022-06-05T10:00:21.377Z"
   },
   {
    "duration": 9,
    "start_time": "2022-06-05T10:02:36.734Z"
   },
   {
    "duration": 9,
    "start_time": "2022-06-05T10:02:50.470Z"
   },
   {
    "duration": 936,
    "start_time": "2022-06-05T10:02:56.709Z"
   },
   {
    "duration": 326,
    "start_time": "2022-06-05T10:03:35.471Z"
   },
   {
    "duration": 10,
    "start_time": "2022-06-05T10:04:04.650Z"
   },
   {
    "duration": 14,
    "start_time": "2022-06-05T10:04:15.573Z"
   },
   {
    "duration": 11,
    "start_time": "2022-06-05T10:04:41.244Z"
   },
   {
    "duration": 11,
    "start_time": "2022-06-05T10:09:14.155Z"
   },
   {
    "duration": 10,
    "start_time": "2022-06-05T10:09:27.889Z"
   },
   {
    "duration": 11,
    "start_time": "2022-06-05T10:09:40.252Z"
   },
   {
    "duration": 11,
    "start_time": "2022-06-05T10:10:11.413Z"
   },
   {
    "duration": 11,
    "start_time": "2022-06-05T10:10:24.556Z"
   },
   {
    "duration": 13,
    "start_time": "2022-06-05T10:10:35.953Z"
   },
   {
    "duration": 14,
    "start_time": "2022-06-05T10:11:03.303Z"
   },
   {
    "duration": 14,
    "start_time": "2022-06-05T10:11:51.938Z"
   },
   {
    "duration": 11,
    "start_time": "2022-06-05T10:12:31.753Z"
   },
   {
    "duration": 11,
    "start_time": "2022-06-05T10:12:54.716Z"
   },
   {
    "duration": 11,
    "start_time": "2022-06-05T10:13:18.322Z"
   },
   {
    "duration": 12,
    "start_time": "2022-06-05T10:14:05.906Z"
   },
   {
    "duration": 9,
    "start_time": "2022-06-05T10:14:33.206Z"
   },
   {
    "duration": 9,
    "start_time": "2022-06-05T10:15:11.728Z"
   },
   {
    "duration": 11,
    "start_time": "2022-06-05T10:15:14.844Z"
   },
   {
    "duration": 14,
    "start_time": "2022-06-05T10:15:19.046Z"
   },
   {
    "duration": 11,
    "start_time": "2022-06-05T10:15:22.533Z"
   },
   {
    "duration": 11,
    "start_time": "2022-06-05T10:15:29.890Z"
   },
   {
    "duration": 12,
    "start_time": "2022-06-05T10:15:36.040Z"
   },
   {
    "duration": 9,
    "start_time": "2022-06-05T10:16:08.774Z"
   },
   {
    "duration": 8,
    "start_time": "2022-06-05T10:16:19.532Z"
   },
   {
    "duration": 8,
    "start_time": "2022-06-05T10:16:25.384Z"
   },
   {
    "duration": 9,
    "start_time": "2022-06-05T10:16:32.518Z"
   },
   {
    "duration": 360,
    "start_time": "2022-06-05T10:18:43.650Z"
   },
   {
    "duration": 13,
    "start_time": "2022-06-05T10:19:10.260Z"
   },
   {
    "duration": 11,
    "start_time": "2022-06-05T10:22:22.055Z"
   },
   {
    "duration": 9,
    "start_time": "2022-06-05T10:22:47.709Z"
   },
   {
    "duration": 4,
    "start_time": "2022-06-05T10:22:53.579Z"
   },
   {
    "duration": 5,
    "start_time": "2022-06-05T10:22:55.875Z"
   },
   {
    "duration": 4,
    "start_time": "2022-06-05T10:24:28.058Z"
   },
   {
    "duration": 12,
    "start_time": "2022-06-05T10:25:47.761Z"
   },
   {
    "duration": 12,
    "start_time": "2022-06-05T10:25:58.882Z"
   },
   {
    "duration": 9,
    "start_time": "2022-06-05T10:26:33.608Z"
   },
   {
    "duration": 4,
    "start_time": "2022-06-05T11:00:04.211Z"
   },
   {
    "duration": 19,
    "start_time": "2022-06-05T11:01:38.660Z"
   },
   {
    "duration": 15,
    "start_time": "2022-06-05T11:01:45.735Z"
   },
   {
    "duration": 23,
    "start_time": "2022-06-05T11:02:22.791Z"
   },
   {
    "duration": 15,
    "start_time": "2022-06-05T11:02:56.409Z"
   },
   {
    "duration": 15,
    "start_time": "2022-06-05T11:05:27.919Z"
   },
   {
    "duration": 14,
    "start_time": "2022-06-05T11:06:24.604Z"
   },
   {
    "duration": 16,
    "start_time": "2022-06-05T11:07:53.689Z"
   },
   {
    "duration": 16,
    "start_time": "2022-06-05T11:08:10.085Z"
   },
   {
    "duration": 12,
    "start_time": "2022-06-05T11:08:45.466Z"
   },
   {
    "duration": 12,
    "start_time": "2022-06-05T11:09:03.799Z"
   },
   {
    "duration": 9,
    "start_time": "2022-06-05T11:09:50.157Z"
   },
   {
    "duration": 12,
    "start_time": "2022-06-05T11:10:00.152Z"
   },
   {
    "duration": 17,
    "start_time": "2022-06-05T11:10:15.011Z"
   },
   {
    "duration": 16,
    "start_time": "2022-06-05T11:10:58.464Z"
   },
   {
    "duration": 35,
    "start_time": "2022-06-05T11:11:29.688Z"
   },
   {
    "duration": 35,
    "start_time": "2022-06-05T11:12:22.290Z"
   },
   {
    "duration": 33,
    "start_time": "2022-06-05T11:13:37.631Z"
   },
   {
    "duration": 34,
    "start_time": "2022-06-05T11:14:15.230Z"
   },
   {
    "duration": 35,
    "start_time": "2022-06-05T11:15:10.588Z"
   },
   {
    "duration": 11,
    "start_time": "2022-06-05T11:15:43.849Z"
   },
   {
    "duration": 13,
    "start_time": "2022-06-05T11:16:07.407Z"
   },
   {
    "duration": 11,
    "start_time": "2022-06-05T11:16:33.063Z"
   },
   {
    "duration": 10,
    "start_time": "2022-06-05T11:20:54.495Z"
   },
   {
    "duration": 12,
    "start_time": "2022-06-05T11:22:46.679Z"
   },
   {
    "duration": 12,
    "start_time": "2022-06-05T11:22:48.793Z"
   },
   {
    "duration": 10,
    "start_time": "2022-06-05T11:26:26.893Z"
   },
   {
    "duration": 16,
    "start_time": "2022-06-05T11:29:53.000Z"
   },
   {
    "duration": 11,
    "start_time": "2022-06-05T11:30:12.645Z"
   },
   {
    "duration": 13,
    "start_time": "2022-06-05T11:30:19.490Z"
   },
   {
    "duration": 11,
    "start_time": "2022-06-05T11:30:32.348Z"
   },
   {
    "duration": 12,
    "start_time": "2022-06-05T11:31:18.739Z"
   },
   {
    "duration": 11,
    "start_time": "2022-06-05T11:31:33.118Z"
   },
   {
    "duration": 15,
    "start_time": "2022-06-05T11:32:04.796Z"
   },
   {
    "duration": 8,
    "start_time": "2022-06-05T11:32:45.891Z"
   },
   {
    "duration": 16,
    "start_time": "2022-06-05T11:33:23.047Z"
   },
   {
    "duration": 6,
    "start_time": "2022-06-05T11:33:41.355Z"
   },
   {
    "duration": 441,
    "start_time": "2022-06-05T11:36:17.255Z"
   },
   {
    "duration": 473,
    "start_time": "2022-06-05T11:36:54.256Z"
   },
   {
    "duration": 361,
    "start_time": "2022-06-05T11:38:27.491Z"
   },
   {
    "duration": 330,
    "start_time": "2022-06-05T11:38:55.889Z"
   },
   {
    "duration": 432,
    "start_time": "2022-06-05T11:39:13.846Z"
   },
   {
    "duration": 463,
    "start_time": "2022-06-05T11:39:50.186Z"
   },
   {
    "duration": 335,
    "start_time": "2022-06-05T11:40:20.708Z"
   },
   {
    "duration": 370,
    "start_time": "2022-06-05T11:41:00.282Z"
   },
   {
    "duration": 401,
    "start_time": "2022-06-05T11:44:07.286Z"
   },
   {
    "duration": 4,
    "start_time": "2022-06-05T11:44:32.220Z"
   },
   {
    "duration": 4,
    "start_time": "2022-06-05T11:45:32.139Z"
   },
   {
    "duration": 15,
    "start_time": "2022-06-05T11:45:53.441Z"
   },
   {
    "duration": 3,
    "start_time": "2022-06-05T11:45:57.118Z"
   },
   {
    "duration": 4,
    "start_time": "2022-06-05T11:46:01.181Z"
   },
   {
    "duration": 5,
    "start_time": "2022-06-05T11:46:27.442Z"
   },
   {
    "duration": 15,
    "start_time": "2022-06-05T11:47:04.992Z"
   },
   {
    "duration": 17,
    "start_time": "2022-06-05T11:48:15.092Z"
   },
   {
    "duration": 14,
    "start_time": "2022-06-05T11:49:29.592Z"
   },
   {
    "duration": 17,
    "start_time": "2022-06-05T11:53:01.291Z"
   },
   {
    "duration": 26,
    "start_time": "2022-06-05T11:56:57.093Z"
   },
   {
    "duration": 4,
    "start_time": "2022-06-05T11:57:04.650Z"
   },
   {
    "duration": 9,
    "start_time": "2022-06-05T14:12:22.810Z"
   },
   {
    "duration": 4,
    "start_time": "2022-06-05T14:12:33.257Z"
   },
   {
    "duration": 3,
    "start_time": "2022-06-05T14:12:49.221Z"
   },
   {
    "duration": 49,
    "start_time": "2022-06-05T14:12:55.548Z"
   },
   {
    "duration": 4,
    "start_time": "2022-06-05T14:13:04.604Z"
   },
   {
    "duration": 6,
    "start_time": "2022-06-05T14:13:06.455Z"
   },
   {
    "duration": 6,
    "start_time": "2022-06-05T14:13:07.548Z"
   },
   {
    "duration": 7,
    "start_time": "2022-06-05T14:13:13.454Z"
   },
   {
    "duration": 8,
    "start_time": "2022-06-05T14:13:22.451Z"
   },
   {
    "duration": 364,
    "start_time": "2022-06-05T14:13:29.387Z"
   },
   {
    "duration": 218,
    "start_time": "2022-06-05T14:13:29.753Z"
   },
   {
    "duration": 18,
    "start_time": "2022-06-05T14:13:29.973Z"
   },
   {
    "duration": 27,
    "start_time": "2022-06-05T14:13:29.992Z"
   },
   {
    "duration": 11,
    "start_time": "2022-06-05T14:13:30.020Z"
   },
   {
    "duration": 16,
    "start_time": "2022-06-05T14:13:30.033Z"
   },
   {
    "duration": 16,
    "start_time": "2022-06-05T14:13:30.051Z"
   },
   {
    "duration": 12,
    "start_time": "2022-06-05T14:13:30.068Z"
   },
   {
    "duration": 27,
    "start_time": "2022-06-05T14:13:30.082Z"
   },
   {
    "duration": 31,
    "start_time": "2022-06-05T14:13:30.111Z"
   },
   {
    "duration": 41,
    "start_time": "2022-06-05T14:13:30.143Z"
   },
   {
    "duration": 69,
    "start_time": "2022-06-05T14:13:30.185Z"
   },
   {
    "duration": 63,
    "start_time": "2022-06-05T14:13:30.256Z"
   },
   {
    "duration": 56,
    "start_time": "2022-06-05T14:13:30.323Z"
   },
   {
    "duration": 57,
    "start_time": "2022-06-05T14:13:30.380Z"
   },
   {
    "duration": 30,
    "start_time": "2022-06-05T14:13:30.439Z"
   },
   {
    "duration": 44,
    "start_time": "2022-06-05T14:13:30.471Z"
   },
   {
    "duration": 11,
    "start_time": "2022-06-05T14:13:30.517Z"
   },
   {
    "duration": 34,
    "start_time": "2022-06-05T14:13:30.529Z"
   },
   {
    "duration": 19,
    "start_time": "2022-06-05T14:13:30.564Z"
   },
   {
    "duration": 16,
    "start_time": "2022-06-05T14:13:33.011Z"
   },
   {
    "duration": 19,
    "start_time": "2022-06-05T14:14:19.991Z"
   },
   {
    "duration": 13,
    "start_time": "2022-06-05T14:14:43.293Z"
   },
   {
    "duration": 16,
    "start_time": "2022-06-05T14:14:47.607Z"
   },
   {
    "duration": 14,
    "start_time": "2022-06-05T14:14:54.193Z"
   },
   {
    "duration": 16,
    "start_time": "2022-06-05T14:15:11.690Z"
   },
   {
    "duration": 15,
    "start_time": "2022-06-05T14:16:04.548Z"
   },
   {
    "duration": 17,
    "start_time": "2022-06-05T14:16:07.092Z"
   },
   {
    "duration": 14,
    "start_time": "2022-06-05T14:16:08.648Z"
   },
   {
    "duration": 16,
    "start_time": "2022-06-05T14:16:09.127Z"
   },
   {
    "duration": 16,
    "start_time": "2022-06-05T14:16:09.408Z"
   },
   {
    "duration": 29,
    "start_time": "2022-06-05T14:19:54.686Z"
   },
   {
    "duration": 7,
    "start_time": "2022-06-05T14:20:21.445Z"
   },
   {
    "duration": 3,
    "start_time": "2022-06-05T14:23:05.316Z"
   },
   {
    "duration": 8,
    "start_time": "2022-06-05T14:23:22.260Z"
   },
   {
    "duration": 9,
    "start_time": "2022-06-05T14:23:54.927Z"
   },
   {
    "duration": 11,
    "start_time": "2022-06-05T14:25:18.315Z"
   },
   {
    "duration": 13,
    "start_time": "2022-06-05T14:25:35.992Z"
   },
   {
    "duration": 5,
    "start_time": "2022-06-05T14:30:09.520Z"
   },
   {
    "duration": 4,
    "start_time": "2022-06-05T14:31:09.163Z"
   },
   {
    "duration": 4,
    "start_time": "2022-06-05T14:31:16.192Z"
   },
   {
    "duration": 12,
    "start_time": "2022-06-05T14:33:35.190Z"
   },
   {
    "duration": 11,
    "start_time": "2022-06-05T14:34:40.663Z"
   },
   {
    "duration": 4,
    "start_time": "2022-06-05T14:35:57.490Z"
   },
   {
    "duration": 4,
    "start_time": "2022-06-05T14:36:36.723Z"
   },
   {
    "duration": 4,
    "start_time": "2022-06-05T14:39:53.444Z"
   },
   {
    "duration": 5,
    "start_time": "2022-06-05T14:42:16.697Z"
   },
   {
    "duration": 6,
    "start_time": "2022-06-05T14:45:15.007Z"
   },
   {
    "duration": 20,
    "start_time": "2022-06-05T14:47:31.815Z"
   },
   {
    "duration": 11,
    "start_time": "2022-06-05T14:47:54.435Z"
   },
   {
    "duration": 17,
    "start_time": "2022-06-05T14:48:25.797Z"
   },
   {
    "duration": 12,
    "start_time": "2022-06-05T14:48:43.092Z"
   },
   {
    "duration": 10,
    "start_time": "2022-06-05T14:53:22.721Z"
   },
   {
    "duration": 8,
    "start_time": "2022-06-05T14:53:51.396Z"
   },
   {
    "duration": 4,
    "start_time": "2022-06-05T14:54:19.456Z"
   },
   {
    "duration": 347,
    "start_time": "2022-06-05T14:57:23.603Z"
   },
   {
    "duration": 498,
    "start_time": "2022-06-05T14:58:14.796Z"
   },
   {
    "duration": 317,
    "start_time": "2022-06-05T14:58:27.096Z"
   },
   {
    "duration": 6,
    "start_time": "2022-06-05T14:59:23.747Z"
   },
   {
    "duration": 10,
    "start_time": "2022-06-05T15:00:20.448Z"
   },
   {
    "duration": 3,
    "start_time": "2022-06-05T15:00:50.351Z"
   },
   {
    "duration": 171,
    "start_time": "2022-06-05T15:00:50.356Z"
   },
   {
    "duration": 12,
    "start_time": "2022-06-05T15:00:50.529Z"
   },
   {
    "duration": 33,
    "start_time": "2022-06-05T15:00:50.542Z"
   },
   {
    "duration": 3,
    "start_time": "2022-06-05T15:00:50.577Z"
   },
   {
    "duration": 7,
    "start_time": "2022-06-05T15:00:50.582Z"
   },
   {
    "duration": 15,
    "start_time": "2022-06-05T15:00:50.591Z"
   },
   {
    "duration": 21,
    "start_time": "2022-06-05T15:00:50.607Z"
   },
   {
    "duration": 34,
    "start_time": "2022-06-05T15:00:50.629Z"
   },
   {
    "duration": 19,
    "start_time": "2022-06-05T15:00:50.664Z"
   },
   {
    "duration": 47,
    "start_time": "2022-06-05T15:00:50.687Z"
   },
   {
    "duration": 73,
    "start_time": "2022-06-05T15:00:50.736Z"
   },
   {
    "duration": 69,
    "start_time": "2022-06-05T15:00:50.810Z"
   },
   {
    "duration": 56,
    "start_time": "2022-06-05T15:00:50.881Z"
   },
   {
    "duration": 38,
    "start_time": "2022-06-05T15:00:50.939Z"
   },
   {
    "duration": 13,
    "start_time": "2022-06-05T15:00:50.979Z"
   },
   {
    "duration": 51,
    "start_time": "2022-06-05T15:00:50.993Z"
   },
   {
    "duration": 11,
    "start_time": "2022-06-05T15:00:51.045Z"
   },
   {
    "duration": 10,
    "start_time": "2022-06-05T15:00:51.057Z"
   },
   {
    "duration": 4,
    "start_time": "2022-06-05T15:00:51.068Z"
   },
   {
    "duration": 34,
    "start_time": "2022-06-05T15:00:51.074Z"
   },
   {
    "duration": 25,
    "start_time": "2022-06-05T15:00:51.110Z"
   },
   {
    "duration": 13,
    "start_time": "2022-06-05T15:00:51.137Z"
   },
   {
    "duration": 17,
    "start_time": "2022-06-05T15:00:51.151Z"
   },
   {
    "duration": 14,
    "start_time": "2022-06-05T15:00:51.170Z"
   },
   {
    "duration": 13,
    "start_time": "2022-06-05T15:00:51.186Z"
   },
   {
    "duration": 8,
    "start_time": "2022-06-05T15:00:51.226Z"
   },
   {
    "duration": 15,
    "start_time": "2022-06-05T15:00:51.236Z"
   },
   {
    "duration": 10,
    "start_time": "2022-06-05T15:00:51.254Z"
   },
   {
    "duration": 5,
    "start_time": "2022-06-05T15:00:51.265Z"
   },
   {
    "duration": 28,
    "start_time": "2022-06-05T15:00:51.272Z"
   },
   {
    "duration": 27,
    "start_time": "2022-06-05T15:00:51.301Z"
   },
   {
    "duration": 18,
    "start_time": "2022-06-05T15:00:51.330Z"
   },
   {
    "duration": 13,
    "start_time": "2022-06-05T15:00:51.350Z"
   },
   {
    "duration": 9,
    "start_time": "2022-06-05T15:00:51.940Z"
   },
   {
    "duration": 10,
    "start_time": "2022-06-05T15:00:56.204Z"
   },
   {
    "duration": 9,
    "start_time": "2022-06-05T15:01:13.342Z"
   },
   {
    "duration": 9,
    "start_time": "2022-06-05T15:01:15.705Z"
   },
   {
    "duration": 10,
    "start_time": "2022-06-05T15:02:37.240Z"
   },
   {
    "duration": 391,
    "start_time": "2022-06-05T15:02:57.066Z"
   },
   {
    "duration": 183,
    "start_time": "2022-06-05T15:02:57.459Z"
   },
   {
    "duration": 16,
    "start_time": "2022-06-05T15:02:57.643Z"
   },
   {
    "duration": 27,
    "start_time": "2022-06-05T15:02:57.662Z"
   },
   {
    "duration": 3,
    "start_time": "2022-06-05T15:02:57.690Z"
   },
   {
    "duration": 9,
    "start_time": "2022-06-05T15:02:57.694Z"
   },
   {
    "duration": 15,
    "start_time": "2022-06-05T15:02:57.704Z"
   },
   {
    "duration": 19,
    "start_time": "2022-06-05T15:02:57.720Z"
   },
   {
    "duration": 25,
    "start_time": "2022-06-05T15:02:57.740Z"
   },
   {
    "duration": 15,
    "start_time": "2022-06-05T15:02:57.768Z"
   },
   {
    "duration": 20,
    "start_time": "2022-06-05T15:02:57.785Z"
   },
   {
    "duration": 76,
    "start_time": "2022-06-05T15:02:57.806Z"
   },
   {
    "duration": 66,
    "start_time": "2022-06-05T15:02:57.884Z"
   },
   {
    "duration": 54,
    "start_time": "2022-06-05T15:02:57.951Z"
   },
   {
    "duration": 57,
    "start_time": "2022-06-05T15:02:58.006Z"
   },
   {
    "duration": 10,
    "start_time": "2022-06-05T15:02:58.065Z"
   },
   {
    "duration": 62,
    "start_time": "2022-06-05T15:02:58.076Z"
   },
   {
    "duration": 11,
    "start_time": "2022-06-05T15:02:58.140Z"
   },
   {
    "duration": 10,
    "start_time": "2022-06-05T15:02:58.153Z"
   },
   {
    "duration": 3,
    "start_time": "2022-06-05T15:02:58.165Z"
   },
   {
    "duration": 20,
    "start_time": "2022-06-05T15:02:58.169Z"
   },
   {
    "duration": 13,
    "start_time": "2022-06-05T15:02:58.190Z"
   },
   {
    "duration": 36,
    "start_time": "2022-06-05T15:02:58.205Z"
   },
   {
    "duration": 15,
    "start_time": "2022-06-05T15:02:58.242Z"
   },
   {
    "duration": 15,
    "start_time": "2022-06-05T15:02:58.258Z"
   },
   {
    "duration": 12,
    "start_time": "2022-06-05T15:02:58.274Z"
   },
   {
    "duration": 11,
    "start_time": "2022-06-05T15:02:58.287Z"
   },
   {
    "duration": 37,
    "start_time": "2022-06-05T15:02:58.301Z"
   },
   {
    "duration": 10,
    "start_time": "2022-06-05T15:02:58.340Z"
   },
   {
    "duration": 6,
    "start_time": "2022-06-05T15:02:58.352Z"
   },
   {
    "duration": 22,
    "start_time": "2022-06-05T15:02:58.360Z"
   },
   {
    "duration": 10,
    "start_time": "2022-06-05T15:02:58.383Z"
   },
   {
    "duration": 16,
    "start_time": "2022-06-05T15:02:58.395Z"
   },
   {
    "duration": 14,
    "start_time": "2022-06-05T15:02:58.427Z"
   },
   {
    "duration": 29,
    "start_time": "2022-06-05T15:02:58.443Z"
   },
   {
    "duration": 2,
    "start_time": "2022-06-05T15:02:58.473Z"
   },
   {
    "duration": 6,
    "start_time": "2022-06-05T15:02:58.476Z"
   },
   {
    "duration": 5,
    "start_time": "2022-06-05T15:02:58.483Z"
   },
   {
    "duration": 21,
    "start_time": "2022-06-05T15:03:02.963Z"
   },
   {
    "duration": 73,
    "start_time": "2022-06-05T15:03:43.624Z"
   },
   {
    "duration": 8,
    "start_time": "2022-06-05T15:03:53.202Z"
   },
   {
    "duration": 5,
    "start_time": "2022-06-05T15:05:12.614Z"
   },
   {
    "duration": 6,
    "start_time": "2022-06-05T15:06:08.364Z"
   },
   {
    "duration": 5,
    "start_time": "2022-06-05T15:06:33.245Z"
   },
   {
    "duration": 1052,
    "start_time": "2022-08-13T19:55:08.045Z"
   },
   {
    "duration": 549,
    "start_time": "2022-08-13T19:55:45.238Z"
   }
  ],
  "colab": {
   "collapsed_sections": [
    "E0vqbgi9ay0H",
    "VUC88oWjTJw2"
   ],
   "name": "yandex_music_project_2021.2.ipynb",
   "provenance": []
  },
  "kernelspec": {
   "display_name": "Python 3 (ipykernel)",
   "language": "python",
   "name": "python3"
  },
  "language_info": {
   "codemirror_mode": {
    "name": "ipython",
    "version": 3
   },
   "file_extension": ".py",
   "mimetype": "text/x-python",
   "name": "python",
   "nbconvert_exporter": "python",
   "pygments_lexer": "ipython3",
   "version": "3.9.5"
  },
  "toc": {
   "base_numbering": 1,
   "nav_menu": {
    "height": "215px",
    "width": "403px"
   },
   "number_sections": true,
   "sideBar": true,
   "skip_h1_title": true,
   "title_cell": "Table of Contents",
   "title_sidebar": "Contents",
   "toc_cell": false,
   "toc_position": {
    "height": "calc(100% - 180px)",
    "left": "10px",
    "top": "150px",
    "width": "285.825px"
   },
   "toc_section_display": true,
   "toc_window_display": false
  }
 },
 "nbformat": 4,
 "nbformat_minor": 1
}
